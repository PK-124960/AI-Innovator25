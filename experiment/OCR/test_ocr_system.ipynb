{
 "cells": [
  {
   "cell_type": "code",
   "execution_count": 1,
   "id": "3f6cc596",
   "metadata": {},
   "outputs": [],
   "source": [
    "import requests\n",
    "import time\n",
    "import io\n",
    "import os\n",
    "import re \n",
    "import pandas as pd\n",
    "import jiwer\n",
    "from pathlib import Path\n",
    "from PIL import Image\n",
    "from pdf2image import convert_from_bytes\n",
    "from IPython.display import display, Markdown, HTML\n",
    "from tqdm.notebook import tqdm\n",
    "\n",
    "PDF_LETTER_DIR = Path(\"input_pdfs-Letter\")\n",
    "PDF_BOARD_DIR = Path(\"input_pdfs-Board\")\n",
    "GROUND_TRUTH_DIR = Path(\"ground_truth\")\n",
    "# GROUND_TRUTH_DIR = Path(\"ground_truth-Letter\")\n",
    "# GROUND_TRUTH_DIR = Path(\"ground_truth-Board\")\n",
    "TYPHOON_OCR_ENDPOINT = \"http://typhoon-ocr:8000/process\""
   ]
  },
  {
   "cell_type": "code",
   "execution_count": 2,
   "id": "546b97d9",
   "metadata": {},
   "outputs": [],
   "source": [
    "OCR_CORRECTION_MAP = {\n",
    "    \"นศ.สรท.\":\"นศ.สธท.\", \"ศชบ\":\"ศซบ\", \"กวถ.ศชบ.ทหาร\": \"กวก.ศซบ.ทหาร\", \"กรก.ศชบ.ทหาร\": \"กรก.ศซบ.ทหาร\",\n",
    "    \"กธก.ศชบ.ทหาร\": \"กธก.ศซบ.ทหาร\", \"กวก.ศชบ.ทหาร\": \"กวก.ศซบ.ทหาร\", \"กหค.ศทท.สส.ทหาร\": \"กทค.ศทท.สส.ทหาร\",\n",
    "    \"กปภ.ศชบ.ทหาร\": \"กปก.ศซบ.ทหาร\", \"กก.กธก.ศชบ.ทหาร\": \"หก.กธก.ศซบ.ทหาร\", \"กวภ.ศชบ.ทหาร\": \"กวก.ศซบ.ทหาร\",\n",
    "    \"ศช.ทหาร. \": \"ศซบ.ทหาร \", \"คุณท.๖๗\": \"คกนท.๖๗\", \"สน.พน.วสท.สปท.\": \"สน.ผบ.วสท.สปท.\",\n",
    "    \"สน.พบ.สปท.\": \"สน.ผบ.สปท.\", \"กวต.ศชบ.ทหาร\": \"กวก.ศซบ.ทหาร\", \"นชต.ศชบ.ทหาร\": \"นขต.ศซบ.ทหาร\",\n",
    "    \"ผอ.ศชบ.ทหาร\": \"ผอ.ศซบ.ทหาร\", \"ศชย.สปท. \": \"ศศย.สปท. \", \"รอง ผอ.กพศ.ศชย.สปท.\": \"รอง ผอ.กภศ.ศศย.สปท.\",\n",
    "    \"สบ.บก.ทท. \": \"สน.บก.บก.ทท. \", \"ยน.ทหาร\": \"ยบ.ทหาร\", \"บก.ทหาร\": \"บก.ทท.\", \"สสค.บก.ทท.\": \"สลก.บก.ทท.\",\n",
    "    \"สสภ.ทหาร\": \"สสก.ทหาร\", \"ชว.ทหาร\": \"ขว.ทหาร\", \"นทฟ. \": \"นทพ.\", \"กวภ.ศช.น.ทหาร\": \"กวก.ศซบ.ทหาร\",\n",
    "    \"ศช.บ.ทหาร\": \"ศซบ.ทหาร\", \"กกล.นชช.ทหาร\": \"กกล.นซบ.ทหาร\", \"นชช.ทหาร\": \"นซบ.ทหาร\",\n",
    "    \"ศชล.นชช.ทหาร\": \"ศซล.นซบ.ทหาร\", \"กปช.ศชบ.สสท.ทร. \": \"กปซ.ศซบ.สสท.ทร.\",\"ถวก.ศชล.นซบ.ทหาร\": \"กวก.ศซล.นซบ.ทหาร\", \n",
    "    \"กศช.สศท.สปท.\": \"กศษ.สศท.สปท.\", \"เสร.สปท.\": \"เสธ.สปท.\", \"นชบ.ทหาร\": \"นซบ.ทหาร\",\n",
    "    \"รธ.ชน.ทหาร\": \"รร.ซบ.ทหาร\", \"สน.ทหาร\": \"สบ.ทหาร\", \"กสม.สน.ทหาร. \": \"กสบ.สบ.ทหาร. \",\n",
    "    \"นชต.ศช.ทหาร\": \"นขต.นซบ.ทหาร\", \"กวจ.ศชน.ทหาร\": \"กวก.ศซบ.ทหาร\", \"ผอ.ศช.ปทหาร\": \"ผอ.ศซบ.ทหาร\",\n",
    "    \"กน.ทหาร\": \"กบ.ทหาร\", \"ศตถ. \": \"ศตก. \", \"สคท.สปท.\": \"สศท.สปท.\", \"กรภ.ศชบ.ทหาร\": \"กธก.ศซบ.ทหาร\",\n",
    "    \"รร.รปภ.ศธ. \": \"รร.รปภ.ศรภ.\", \"นทท.\": \"นทพ.\", \"กรมทหาร\": \"กร.ทหาร\", \"คชช.ทหาร\": \"ศซบ.ทหาร\",\n",
    "    \"ถนนผจงพหาร\": \"กนผ.กร.ทหาร\", \"สวผ.ยก.ทหาร\": \"สวฝ.ยก.ทหาร\", \"กหศ.ศสภ.ยก.ทหาร\": \"กฝศ.ศสภ.ยก.ทหาร\",\n",
    "    \"กหม.นก.สปท.\": \"กทด.บก.สปท.\", \"เลขา.สปท.\": \"เสธ.สปท.\", \"ผอ.บทว.สปท.\": \"ผอ.บฑว.สปท.\",\n",
    "    \"กจก.สนส. กม.ทหาร\": \"กจก.สบส.กบ.ทหาร\", \"กสม.สน.ทหาร\": \"กสบ.สบ.ทหาร\", \"กพศ.ศสภ.ยก.ทหาร\": \"กฝศ.ศสภ.ยก.ทหาร\",\n",
    "    \"ถนนผ.กร.ทหาร\": \"กนผ.กร.ทหาร\", \"ศชบ.ทอ.\": \"ศซบ.ทอ.\", \"รร.รปภ.ศธ.\": \"รร.รปภ.ศรภ.\", \"กคช.บก.นทพ.\": \"กกช.บก.นทพ.\",\n",
    "    \"กบ.สคร.กร.ทหาร\": \"กบภ.สกร.กร.ทหาร\", \"กห.อต๊อด.๑๐.๑\":\"กห ๐๓๐๑.๑๐.๑\",\"จึงเสนอมามาเพื่อกรุณาพิจารณา\":\"จึงเสนอมาเพื่อกรุณาพิจารณา\",\n",
    "    \"๕๗๖๓๙(๔๗).\":\"๕๗๒๑๗๔๗).\",\"๐-๒๕๗๒.๑๗๔๗.\":\"๐ ๒๕๗๒ ๑๗๔๗\",\"กห.อต๊อก.๑๐.๑\":\"กห ๐๓๐๑.๑๐.๑\",\"กปภ.๓\":\"กปก.๓\",\"กธถ.ศชบ.ทหาร\":\"กธก.ศซบ.ทหาร\",\n",
    "    \"กรก.ศชบ.ทหาร\":\"กธก.ศซบ.ทหาร\",\"ผช.ผอ.กรก.ศชบ.ทหาร\":\"ผช.ผอ.กรภ.ศซบ.ทหาร\",\"กท.อต๊อก.๑\":\"กห ๐๓๐๑.๑๐.๑\",\"ผช.ผอ.กรก.ศชบ.ทหาร\":\"ผช.ผอ.กรภ.ศซบ.ทหาร\",\n",
    "    \"กก.กธก.ศซบ.ทหาร\":\"หก.กธก.ศซบ.ทหาร\",\"กกล.นชบ.ทหาร\":\"กกล.นซบ.ทหาร\",\"๐.๒๒๗๕.๕๗๑๖\":\"๐ ๒๒๗๕ ๕๗๑๖\",\"อิลล์\":\"ฮิลส์\",\"ไม่กำหนดชื่อ\":\"ไม่กำหนดชั้นยศ\",\n",
    "    \"ผอ.กพศ.ศคย.สปท.\":\"ผอ.กภศ.ศศย.สปท.\",\"ผอ.ศคย.สปท.\":\"ผอ.ศศย.สปท.\", \"..สสท.ทร.(ศซบ.โทร.๕๗๘๙)\":\"สสท.ทร. (ศซบ. โทร.๕๗๘๙๐)\",\n",
    "    \"คานฑ์.๖๗\":\"คกนท.๖๗\",\"สน.พ.วสท.สปท.\":\"สน.ผบ.วสท.สปท.\",\"สน.ผ.สปท.\":\"สน.ผบ.สปท.\",\"ผอ.กพ.วสท.สปท.\":\"ผอ.กพผ.วสท.สปท.\",\n",
    "    \"นายทหารอุบมิติข่าว\":\"นายทหารอนุมัติข่าว\",\"กระดาษเชิญข่าวร่วม (ทท.)\":\"กระดาษเขียนข่าวร่วม (ทท.)\",\n",
    "    \"จึงเสนอมาระบกวนโปรด\":\"จึงเสนอมาเพื่อโปรด\", \"ลาอฉก.\": \"ลาออก\", \"0\":\"๐\", \"1\":\"๑\", \"2\":\"๒\", \"3\":\"๓\", \"4\":\"๔\", \"5\":\"๕\", \"6\":\"๖\", \"7\":\"๗\", \"8\":\"๘\", \"9\":\"๙\"\n",
    "}\n",
    "\n",
    "def post_process_ocr(ocr_text: str) -> str:\n",
    "    if not ocr_text or not isinstance(ocr_text, str):\n",
    "        return \"\"\n",
    "    processed_text = ocr_text\n",
    "    sorted_correction_keys = sorted(OCR_CORRECTION_MAP.keys(), key=len, reverse=True)\n",
    "    for wrong_word_key in sorted_correction_keys:\n",
    "        correct_word_value = OCR_CORRECTION_MAP[wrong_word_key]\n",
    "        processed_text = processed_text.replace(wrong_word_key, correct_word_value)\n",
    "        processed_text = re.sub(r'\\s+', ' ', processed_text).strip()\n",
    "        processed_text = re.sub(r'\\s+\\.', '.', processed_text)\n",
    "        processed_text = processed_text.replace('\\n', ' ')\n",
    "        processed_text = processed_text.replace(\"“\", \"\\\"\").replace(\"”\", \"\\\"\")\n",
    "        processed_text = processed_text.replace(\"‘\", \"'\").replace(\"’\", \"'\")\n",
    "        processed_text = re.sub(r'\\-{3,}', '', processed_text)\n",
    "        processed_text = re.sub(r'\\*{2,}', '', processed_text)\n",
    "        processed_text = re.sub(r'\\s- ', '', processed_text)\n",
    "        processed_text = processed_text.replace('#', '')\n",
    "        processed_text = processed_text.replace('|', '')\n",
    "    return processed_text\n",
    "\n",
    "def pdf_to_images(pdf_bytes, dpi=300):\n",
    "    try:\n",
    "        return convert_from_bytes(pdf_bytes, dpi=dpi)\n",
    "    except Exception as e:\n",
    "        print(f\"เกิดข้อผิดพลาดในการแปลง PDF: {e}\")\n",
    "        return []\n",
    "\n",
    "def run_typhoon_ocr(pdf_path: Path):\n",
    "    try:\n",
    "        with open(pdf_path, \"rb\") as f:\n",
    "            pdf_bytes = f.read()\n",
    "    except FileNotFoundError:\n",
    "        return {\"error\": f\"ไม่พบไฟล์: {pdf_path}\"}, 0\n",
    "\n",
    "    images = pdf_to_images(pdf_bytes)\n",
    "    if not images:\n",
    "        return {\"error\": \"การแปลง PDF เป็นรูปภาพล้มเหลว\"}, 0\n",
    "\n",
    "    full_text = []\n",
    "    start_time = time.time()\n",
    "    for i, img in enumerate(images):\n",
    "        img_byte_arr = io.BytesIO()\n",
    "        img.save(img_byte_arr, format='PNG')\n",
    "        files = {'file': (f'page_{i+1}.png', img_byte_arr.getvalue(), 'image/png')}\n",
    "        try:\n",
    "            response = requests.post(TYPHOON_OCR_ENDPOINT, files=files, timeout=180)\n",
    "            response.raise_for_status()\n",
    "            ocr_result = response.json()\n",
    "            \n",
    "            result_text = ocr_result.get(\"result\")\n",
    "            if result_text and isinstance(result_text, str) and result_text.strip():\n",
    "                full_text.append(result_text.strip())\n",
    "            else:\n",
    "                error_msg = f\"[ERROR on Page {i+1}: API did not return valid text in 'result' key. Response: {ocr_result}]\"\n",
    "                print(f\"     - {error_msg}\")\n",
    "                full_text.append(error_msg) \n",
    "\n",
    "        except requests.exceptions.RequestException as e:\n",
    "            return {\"error\": f\"API Connection Error: {e}\"}, 0\n",
    "        except ValueError:\n",
    "            return {\"error\": f\"API did not return valid JSON. Response: {response.text}\"}, 0\n",
    "            \n",
    "    exec_time = time.time() - start_time\n",
    "    separator = \"\\n\\n\" + \"=\"*20 + \" END OF PAGE \" + \"=\"*20 + \"\\n\\n\"\n",
    "    final_text = separator.join(full_text)\n",
    "    \n",
    "    return {\"text\": final_text, \"page_count\": len(images)}, exec_time\n",
    "\n",
    "\n",
    "def calculate_metrics(hypothesis: str, reference: str):\n",
    "    if not reference or not reference.strip():\n",
    "        return {\"wer\": None, \"cer\": None}\n",
    "    \n",
    "    transformation = jiwer.Compose([\n",
    "        jiwer.ToLowerCase(),\n",
    "        jiwer.RemoveMultipleSpaces(),\n",
    "        jiwer.Strip(),\n",
    "        jiwer.RemovePunctuation(),\n",
    "    ])\n",
    "    \n",
    "    try:\n",
    "        reference_clean = transformation(reference)\n",
    "        hypothesis_clean = transformation(hypothesis)\n",
    "        \n",
    "        wer = jiwer.wer(reference_clean, hypothesis_clean)\n",
    "        cer = jiwer.cer(reference_clean, hypothesis_clean)\n",
    "        return {\"wer\": wer, \"cer\": cer}\n",
    "        \n",
    "    except Exception as e:\n",
    "        return {\"wer\": None, \"cer\": None}\n",
    "\n",
    "def safe_percent_format(val):\n",
    "    if isinstance(val, (int, float)) and pd.notna(val):\n",
    "        return f\"{val:.2%}\"\n",
    "    return \"N/A\""
   ]
  },
  {
   "cell_type": "markdown",
   "id": "727a51c1",
   "metadata": {},
   "source": [
    "## Internal Letter"
   ]
  },
  {
   "cell_type": "code",
   "execution_count": 3,
   "id": "288f9112",
   "metadata": {},
   "outputs": [
    {
     "data": {
      "text/markdown": [
       "### 🚀 เริ่มการทดสอบระบบ OCR กับไฟล์ทั้งหมด 10 ไฟล์"
      ],
      "text/plain": [
       "<IPython.core.display.Markdown object>"
      ]
     },
     "metadata": {},
     "output_type": "display_data"
    },
    {
     "data": {
      "application/vnd.jupyter.widget-view+json": {
       "model_id": "cf3643596ed1415aa8b286fc2606b31e",
       "version_major": 2,
       "version_minor": 0
      },
      "text/plain": [
       "กำลังประมวลผลไฟล์:   0%|          | 0/10 [00:00<?, ?it/s]"
      ]
     },
     "metadata": {},
     "output_type": "display_data"
    },
    {
     "name": "stdout",
     "output_type": "stream",
     "text": [
      "   - PDF Stem: '000-2'\n",
      "   - กำลังมองหา Ground Truth ที่: 'ground_truth/000-2.txt'\n",
      "   - ✅ พบไฟล์ Ground Truth!\n",
      "     - SUCCESS: อ่านเนื้อหาสำเร็จ มี 869 ตัวอักษร\n",
      "   - PDF Stem: '001-2'\n",
      "   - กำลังมองหา Ground Truth ที่: 'ground_truth/001-2.txt'\n",
      "   - ✅ พบไฟล์ Ground Truth!\n",
      "     - SUCCESS: อ่านเนื้อหาสำเร็จ มี 773 ตัวอักษร\n",
      "   - PDF Stem: '003-2'\n",
      "   - กำลังมองหา Ground Truth ที่: 'ground_truth/003-2.txt'\n",
      "   - ✅ พบไฟล์ Ground Truth!\n",
      "     - SUCCESS: อ่านเนื้อหาสำเร็จ มี 1127 ตัวอักษร\n",
      "   - PDF Stem: '005-2'\n",
      "   - กำลังมองหา Ground Truth ที่: 'ground_truth/005-2.txt'\n",
      "   - ✅ พบไฟล์ Ground Truth!\n",
      "     - SUCCESS: อ่านเนื้อหาสำเร็จ มี 1338 ตัวอักษร\n",
      "   - PDF Stem: '008-2'\n",
      "   - กำลังมองหา Ground Truth ที่: 'ground_truth/008-2.txt'\n",
      "   - ✅ พบไฟล์ Ground Truth!\n",
      "     - SUCCESS: อ่านเนื้อหาสำเร็จ มี 846 ตัวอักษร\n",
      "   - PDF Stem: '009-2'\n",
      "   - กำลังมองหา Ground Truth ที่: 'ground_truth/009-2.txt'\n",
      "   - ✅ พบไฟล์ Ground Truth!\n",
      "     - SUCCESS: อ่านเนื้อหาสำเร็จ มี 1836 ตัวอักษร\n",
      "   - PDF Stem: '010-2'\n",
      "   - กำลังมองหา Ground Truth ที่: 'ground_truth/010-2.txt'\n",
      "   - ✅ พบไฟล์ Ground Truth!\n",
      "     - SUCCESS: อ่านเนื้อหาสำเร็จ มี 726 ตัวอักษร\n",
      "   - PDF Stem: '012-2'\n",
      "   - กำลังมองหา Ground Truth ที่: 'ground_truth/012-2.txt'\n",
      "   - ✅ พบไฟล์ Ground Truth!\n",
      "     - SUCCESS: อ่านเนื้อหาสำเร็จ มี 895 ตัวอักษร\n",
      "   - PDF Stem: '013-2'\n",
      "   - กำลังมองหา Ground Truth ที่: 'ground_truth/013-2.txt'\n",
      "   - ✅ พบไฟล์ Ground Truth!\n",
      "     - SUCCESS: อ่านเนื้อหาสำเร็จ มี 761 ตัวอักษร\n",
      "   - PDF Stem: '015-2'\n",
      "   - กำลังมองหา Ground Truth ที่: 'ground_truth/015-2.txt'\n",
      "   - ✅ พบไฟล์ Ground Truth!\n",
      "     - SUCCESS: อ่านเนื้อหาสำเร็จ มี 1136 ตัวอักษร\n"
     ]
    },
    {
     "data": {
      "text/markdown": [
       "<hr>"
      ],
      "text/plain": [
       "<IPython.core.display.Markdown object>"
      ]
     },
     "metadata": {},
     "output_type": "display_data"
    },
    {
     "data": {
      "text/markdown": [
       "### 📊 ตารางสรุปผลการทดสอบ (Raw OCR Accuracy)"
      ],
      "text/plain": [
       "<IPython.core.display.Markdown object>"
      ]
     },
     "metadata": {},
     "output_type": "display_data"
    },
    {
     "data": {
      "text/html": [
       "<style type=\"text/css\">\n",
       "#T_60b42 th {\n",
       "  text-align: left;\n",
       "}\n",
       "#T_60b42_row0_col0, #T_60b42_row0_col1, #T_60b42_row1_col0, #T_60b42_row1_col1, #T_60b42_row2_col0, #T_60b42_row2_col1, #T_60b42_row3_col0, #T_60b42_row3_col1, #T_60b42_row4_col0, #T_60b42_row4_col1, #T_60b42_row5_col0, #T_60b42_row5_col1, #T_60b42_row6_col0, #T_60b42_row6_col1, #T_60b42_row7_col0, #T_60b42_row7_col1, #T_60b42_row8_col0, #T_60b42_row8_col1, #T_60b42_row9_col0, #T_60b42_row9_col1 {\n",
       "  text-align: left;\n",
       "}\n",
       "#T_60b42_row0_col2 {\n",
       "  text-align: left;\n",
       "  background-color: #54b45f;\n",
       "  color: #f1f1f1;\n",
       "}\n",
       "#T_60b42_row0_col3 {\n",
       "  text-align: left;\n",
       "  background-color: #016a38;\n",
       "  color: #f1f1f1;\n",
       "}\n",
       "#T_60b42_row0_col4 {\n",
       "  text-align: left;\n",
       "  background-color: #0e743c;\n",
       "  color: #f1f1f1;\n",
       "}\n",
       "#T_60b42_row0_col5 {\n",
       "  text-align: left;\n",
       "  background-color: #004629;\n",
       "  color: #f1f1f1;\n",
       "}\n",
       "#T_60b42_row1_col2 {\n",
       "  text-align: left;\n",
       "  background-color: #e8f59f;\n",
       "  color: #000000;\n",
       "}\n",
       "#T_60b42_row1_col3 {\n",
       "  text-align: left;\n",
       "  background-color: #fede89;\n",
       "  color: #000000;\n",
       "}\n",
       "#T_60b42_row1_col4 {\n",
       "  text-align: left;\n",
       "  background-color: #5db96b;\n",
       "  color: #f1f1f1;\n",
       "}\n",
       "#T_60b42_row1_col5 {\n",
       "  text-align: left;\n",
       "  background-color: #a4d98a;\n",
       "  color: #000000;\n",
       "}\n",
       "#T_60b42_row2_col2 {\n",
       "  text-align: left;\n",
       "  background-color: #c01a27;\n",
       "  color: #f1f1f1;\n",
       "}\n",
       "#T_60b42_row2_col3 {\n",
       "  text-align: left;\n",
       "  background-color: #b5df74;\n",
       "  color: #000000;\n",
       "}\n",
       "#T_60b42_row2_col4 {\n",
       "  text-align: left;\n",
       "  background-color: #fbfed2;\n",
       "  color: #000000;\n",
       "}\n",
       "#T_60b42_row2_col5 {\n",
       "  text-align: left;\n",
       "  background-color: #369d54;\n",
       "  color: #f1f1f1;\n",
       "}\n",
       "#T_60b42_row3_col2, #T_60b42_row5_col3 {\n",
       "  text-align: left;\n",
       "  background-color: #006837;\n",
       "  color: #f1f1f1;\n",
       "}\n",
       "#T_60b42_row3_col3 {\n",
       "  text-align: left;\n",
       "  background-color: #fffab6;\n",
       "  color: #000000;\n",
       "}\n",
       "#T_60b42_row3_col4, #T_60b42_row5_col5 {\n",
       "  text-align: left;\n",
       "  background-color: #004529;\n",
       "  color: #f1f1f1;\n",
       "}\n",
       "#T_60b42_row3_col5 {\n",
       "  text-align: left;\n",
       "  background-color: #7fc97c;\n",
       "  color: #000000;\n",
       "}\n",
       "#T_60b42_row4_col2 {\n",
       "  text-align: left;\n",
       "  background-color: #70c164;\n",
       "  color: #000000;\n",
       "}\n",
       "#T_60b42_row4_col3 {\n",
       "  text-align: left;\n",
       "  background-color: #60ba62;\n",
       "  color: #f1f1f1;\n",
       "}\n",
       "#T_60b42_row4_col4 {\n",
       "  text-align: left;\n",
       "  background-color: #197c40;\n",
       "  color: #f1f1f1;\n",
       "}\n",
       "#T_60b42_row4_col5 {\n",
       "  text-align: left;\n",
       "  background-color: #13773d;\n",
       "  color: #f1f1f1;\n",
       "}\n",
       "#T_60b42_row5_col2 {\n",
       "  text-align: left;\n",
       "  background-color: #eef8a8;\n",
       "  color: #000000;\n",
       "}\n",
       "#T_60b42_row5_col4 {\n",
       "  text-align: left;\n",
       "  background-color: #64bc6f;\n",
       "  color: #f1f1f1;\n",
       "}\n",
       "#T_60b42_row6_col2 {\n",
       "  text-align: left;\n",
       "  background-color: #199750;\n",
       "  color: #f1f1f1;\n",
       "}\n",
       "#T_60b42_row6_col3 {\n",
       "  text-align: left;\n",
       "  background-color: #05713c;\n",
       "  color: #f1f1f1;\n",
       "}\n",
       "#T_60b42_row6_col4 {\n",
       "  text-align: left;\n",
       "  background-color: #006034;\n",
       "  color: #f1f1f1;\n",
       "}\n",
       "#T_60b42_row6_col5 {\n",
       "  text-align: left;\n",
       "  background-color: #004a2b;\n",
       "  color: #f1f1f1;\n",
       "}\n",
       "#T_60b42_row7_col2, #T_60b42_row7_col3 {\n",
       "  text-align: left;\n",
       "  background-color: #a50026;\n",
       "  color: #f1f1f1;\n",
       "}\n",
       "#T_60b42_row7_col4, #T_60b42_row7_col5 {\n",
       "  text-align: left;\n",
       "  background-color: #ffffe5;\n",
       "  color: #000000;\n",
       "}\n",
       "#T_60b42_row8_col2 {\n",
       "  text-align: left;\n",
       "  background-color: #a2d76a;\n",
       "  color: #000000;\n",
       "}\n",
       "#T_60b42_row8_col3 {\n",
       "  text-align: left;\n",
       "  background-color: #b3df72;\n",
       "  color: #000000;\n",
       "}\n",
       "#T_60b42_row8_col4 {\n",
       "  text-align: left;\n",
       "  background-color: #2e924c;\n",
       "  color: #f1f1f1;\n",
       "}\n",
       "#T_60b42_row8_col5 {\n",
       "  text-align: left;\n",
       "  background-color: #359c53;\n",
       "  color: #f1f1f1;\n",
       "}\n",
       "#T_60b42_row9_col2 {\n",
       "  text-align: left;\n",
       "  background-color: #c9e881;\n",
       "  color: #000000;\n",
       "}\n",
       "#T_60b42_row9_col3 {\n",
       "  text-align: left;\n",
       "  background-color: #feeb9d;\n",
       "  color: #000000;\n",
       "}\n",
       "#T_60b42_row9_col4 {\n",
       "  text-align: left;\n",
       "  background-color: #3fa95c;\n",
       "  color: #f1f1f1;\n",
       "}\n",
       "#T_60b42_row9_col5 {\n",
       "  text-align: left;\n",
       "  background-color: #93d284;\n",
       "  color: #000000;\n",
       "}\n",
       "</style>\n",
       "<table id=\"T_60b42\">\n",
       "  <thead>\n",
       "    <tr>\n",
       "      <th class=\"blank level0\" >&nbsp;</th>\n",
       "      <th id=\"T_60b42_level0_col0\" class=\"col_heading level0 col0\" >File</th>\n",
       "      <th id=\"T_60b42_level0_col1\" class=\"col_heading level0 col1\" >Time (s)</th>\n",
       "      <th id=\"T_60b42_level0_col2\" class=\"col_heading level0 col2\" >CER</th>\n",
       "      <th id=\"T_60b42_level0_col3\" class=\"col_heading level0 col3\" >WER</th>\n",
       "      <th id=\"T_60b42_level0_col4\" class=\"col_heading level0 col4\" >CAcc</th>\n",
       "      <th id=\"T_60b42_level0_col5\" class=\"col_heading level0 col5\" >WAcc</th>\n",
       "    </tr>\n",
       "  </thead>\n",
       "  <tbody>\n",
       "    <tr>\n",
       "      <th id=\"T_60b42_level0_row0\" class=\"row_heading level0 row0\" >0</th>\n",
       "      <td id=\"T_60b42_row0_col0\" class=\"data row0 col0\" >000-2.pdf</td>\n",
       "      <td id=\"T_60b42_row0_col1\" class=\"data row0 col1\" >7.64</td>\n",
       "      <td id=\"T_60b42_row0_col2\" class=\"data row0 col2\" >4.26%</td>\n",
       "      <td id=\"T_60b42_row0_col3\" class=\"data row0 col3\" >24.59%</td>\n",
       "      <td id=\"T_60b42_row0_col4\" class=\"data row0 col4\" >95.74%</td>\n",
       "      <td id=\"T_60b42_row0_col5\" class=\"data row0 col5\" >75.41%</td>\n",
       "    </tr>\n",
       "    <tr>\n",
       "      <th id=\"T_60b42_level0_row1\" class=\"row_heading level0 row1\" >1</th>\n",
       "      <td id=\"T_60b42_row1_col0\" class=\"data row1 col0\" >001-2.pdf</td>\n",
       "      <td id=\"T_60b42_row1_col1\" class=\"data row1 col1\" >7.16</td>\n",
       "      <td id=\"T_60b42_row1_col2\" class=\"data row1 col2\" >6.77%</td>\n",
       "      <td id=\"T_60b42_row1_col3\" class=\"data row1 col3\" >42.00%</td>\n",
       "      <td id=\"T_60b42_row1_col4\" class=\"data row1 col4\" >93.23%</td>\n",
       "      <td id=\"T_60b42_row1_col5\" class=\"data row1 col5\" >58.00%</td>\n",
       "    </tr>\n",
       "    <tr>\n",
       "      <th id=\"T_60b42_level0_row2\" class=\"row_heading level0 row2\" >2</th>\n",
       "      <td id=\"T_60b42_row2_col0\" class=\"data row2 col0\" >003-2.pdf</td>\n",
       "      <td id=\"T_60b42_row2_col1\" class=\"data row2 col1\" >10.16</td>\n",
       "      <td id=\"T_60b42_row2_col2\" class=\"data row2 col2\" >11.57%</td>\n",
       "      <td id=\"T_60b42_row2_col3\" class=\"data row2 col3\" >34.07%</td>\n",
       "      <td id=\"T_60b42_row2_col4\" class=\"data row2 col4\" >88.43%</td>\n",
       "      <td id=\"T_60b42_row2_col5\" class=\"data row2 col5\" >65.93%</td>\n",
       "    </tr>\n",
       "    <tr>\n",
       "      <th id=\"T_60b42_level0_row3\" class=\"row_heading level0 row3\" >3</th>\n",
       "      <td id=\"T_60b42_row3_col0\" class=\"data row3 col0\" >005-2.pdf</td>\n",
       "      <td id=\"T_60b42_row3_col1\" class=\"data row3 col1\" >11.62</td>\n",
       "      <td id=\"T_60b42_row3_col2\" class=\"data row3 col2\" >2.59%</td>\n",
       "      <td id=\"T_60b42_row3_col3\" class=\"data row3 col3\" >39.51%</td>\n",
       "      <td id=\"T_60b42_row3_col4\" class=\"data row3 col4\" >97.41%</td>\n",
       "      <td id=\"T_60b42_row3_col5\" class=\"data row3 col5\" >60.49%</td>\n",
       "    </tr>\n",
       "    <tr>\n",
       "      <th id=\"T_60b42_level0_row4\" class=\"row_heading level0 row4\" >4</th>\n",
       "      <td id=\"T_60b42_row4_col0\" class=\"data row4 col0\" >008-2.pdf</td>\n",
       "      <td id=\"T_60b42_row4_col1\" class=\"data row4 col1\" >6.18</td>\n",
       "      <td id=\"T_60b42_row4_col2\" class=\"data row4 col2\" >4.63%</td>\n",
       "      <td id=\"T_60b42_row4_col3\" class=\"data row4 col3\" >30.00%</td>\n",
       "      <td id=\"T_60b42_row4_col4\" class=\"data row4 col4\" >95.37%</td>\n",
       "      <td id=\"T_60b42_row4_col5\" class=\"data row4 col5\" >70.00%</td>\n",
       "    </tr>\n",
       "    <tr>\n",
       "      <th id=\"T_60b42_level0_row5\" class=\"row_heading level0 row5\" >5</th>\n",
       "      <td id=\"T_60b42_row5_col0\" class=\"data row5 col0\" >009-2.pdf</td>\n",
       "      <td id=\"T_60b42_row5_col1\" class=\"data row5 col1\" >14.45</td>\n",
       "      <td id=\"T_60b42_row5_col2\" class=\"data row5 col2\" >6.93%</td>\n",
       "      <td id=\"T_60b42_row5_col3\" class=\"data row5 col3\" >24.40%</td>\n",
       "      <td id=\"T_60b42_row5_col4\" class=\"data row5 col4\" >93.07%</td>\n",
       "      <td id=\"T_60b42_row5_col5\" class=\"data row5 col5\" >75.60%</td>\n",
       "    </tr>\n",
       "    <tr>\n",
       "      <th id=\"T_60b42_level0_row6\" class=\"row_heading level0 row6\" >6</th>\n",
       "      <td id=\"T_60b42_row6_col0\" class=\"data row6 col0\" >010-2.pdf</td>\n",
       "      <td id=\"T_60b42_row6_col1\" class=\"data row6 col1\" >5.40</td>\n",
       "      <td id=\"T_60b42_row6_col2\" class=\"data row6 col2\" >3.52%</td>\n",
       "      <td id=\"T_60b42_row6_col3\" class=\"data row6 col3\" >25.00%</td>\n",
       "      <td id=\"T_60b42_row6_col4\" class=\"data row6 col4\" >96.48%</td>\n",
       "      <td id=\"T_60b42_row6_col5\" class=\"data row6 col5\" >75.00%</td>\n",
       "    </tr>\n",
       "    <tr>\n",
       "      <th id=\"T_60b42_level0_row7\" class=\"row_heading level0 row7\" >7</th>\n",
       "      <td id=\"T_60b42_row7_col0\" class=\"data row7 col0\" >012-2.pdf</td>\n",
       "      <td id=\"T_60b42_row7_col1\" class=\"data row7 col1\" >6.75</td>\n",
       "      <td id=\"T_60b42_row7_col2\" class=\"data row7 col2\" >12.10%</td>\n",
       "      <td id=\"T_60b42_row7_col3\" class=\"data row7 col3\" >53.62%</td>\n",
       "      <td id=\"T_60b42_row7_col4\" class=\"data row7 col4\" >87.90%</td>\n",
       "      <td id=\"T_60b42_row7_col5\" class=\"data row7 col5\" >46.38%</td>\n",
       "    </tr>\n",
       "    <tr>\n",
       "      <th id=\"T_60b42_level0_row8\" class=\"row_heading level0 row8\" >8</th>\n",
       "      <td id=\"T_60b42_row8_col0\" class=\"data row8 col0\" >013-2.pdf</td>\n",
       "      <td id=\"T_60b42_row8_col1\" class=\"data row8 col1\" >7.21</td>\n",
       "      <td id=\"T_60b42_row8_col2\" class=\"data row8 col2\" >5.37%</td>\n",
       "      <td id=\"T_60b42_row8_col3\" class=\"data row8 col3\" >33.93%</td>\n",
       "      <td id=\"T_60b42_row8_col4\" class=\"data row8 col4\" >94.63%</td>\n",
       "      <td id=\"T_60b42_row8_col5\" class=\"data row8 col5\" >66.07%</td>\n",
       "    </tr>\n",
       "    <tr>\n",
       "      <th id=\"T_60b42_level0_row9\" class=\"row_heading level0 row9\" >9</th>\n",
       "      <td id=\"T_60b42_row9_col0\" class=\"data row9 col0\" >015-2.pdf</td>\n",
       "      <td id=\"T_60b42_row9_col1\" class=\"data row9 col1\" >8.47</td>\n",
       "      <td id=\"T_60b42_row9_col2\" class=\"data row9 col2\" >6.09%</td>\n",
       "      <td id=\"T_60b42_row9_col3\" class=\"data row9 col3\" >40.91%</td>\n",
       "      <td id=\"T_60b42_row9_col4\" class=\"data row9 col4\" >93.91%</td>\n",
       "      <td id=\"T_60b42_row9_col5\" class=\"data row9 col5\" >59.09%</td>\n",
       "    </tr>\n",
       "  </tbody>\n",
       "</table>\n"
      ],
      "text/plain": [
       "<pandas.io.formats.style.Styler at 0x7fb631d39b20>"
      ]
     },
     "metadata": {},
     "output_type": "display_data"
    },
    {
     "data": {
      "text/markdown": [
       "### 📈 ค่าเฉลี่ยรวม"
      ],
      "text/plain": [
       "<IPython.core.display.Markdown object>"
      ]
     },
     "metadata": {},
     "output_type": "display_data"
    },
    {
     "data": {
      "text/markdown": [
       "- **เวลาประมวลผลเฉลี่ย:** `8.50` วินาที/ไฟล์"
      ],
      "text/plain": [
       "<IPython.core.display.Markdown object>"
      ]
     },
     "metadata": {},
     "output_type": "display_data"
    },
    {
     "data": {
      "text/markdown": [
       "- **Character Accuracy (CAcc) เฉลี่ย:** `93.62%`"
      ],
      "text/plain": [
       "<IPython.core.display.Markdown object>"
      ]
     },
     "metadata": {},
     "output_type": "display_data"
    },
    {
     "data": {
      "text/markdown": [
       "- **Word Accuracy (WAcc) เฉลี่ย:** `65.20%`"
      ],
      "text/plain": [
       "<IPython.core.display.Markdown object>"
      ]
     },
     "metadata": {},
     "output_type": "display_data"
    },
    {
     "data": {
      "text/markdown": [
       "<hr>"
      ],
      "text/plain": [
       "<IPython.core.display.Markdown object>"
      ]
     },
     "metadata": {},
     "output_type": "display_data"
    },
    {
     "data": {
      "text/markdown": [
       "### 📝 ผลลัพธ์เปรียบเทียบ (Raw OCR vs Ground Truth)"
      ],
      "text/plain": [
       "<IPython.core.display.Markdown object>"
      ]
     },
     "metadata": {},
     "output_type": "display_data"
    },
    {
     "data": {
      "text/markdown": [
       "---"
      ],
      "text/plain": [
       "<IPython.core.display.Markdown object>"
      ]
     },
     "metadata": {},
     "output_type": "display_data"
    },
    {
     "data": {
      "text/markdown": [
       "#### 📄 **ไฟล์:** `000-2.pdf`"
      ],
      "text/plain": [
       "<IPython.core.display.Markdown object>"
      ]
     },
     "metadata": {},
     "output_type": "display_data"
    },
    {
     "data": {
      "text/html": [
       "\n",
       "        <details>\n",
       "            <summary>คลิกเพื่อดูผลลัพธ์ Raw OCR</summary>\n",
       "            <div style=\"background-color:#f7f7f7; border:1px solid #ddd; padding:10px; margin-top:10px; white-space: pre-wrap; word-wrap: break-word;\"># ด่วนมาก บันทึกข้อความ\n",
       "\n",
       "ส่วนราชการ... กธถ.ศชบ.ทหาร (แผนกธุรการกำลังพลฯ.โทร.ทหาร ๕๗๒๑๗๔๗)\n",
       "\n",
       "ที่... กท.อต๊อก.๑/๒๖๐ วันที่... ๓ พ.ค. ๖๗\n",
       "เรื่อง... ขอความเห็นชอบแต่งตั้ง ลชท.รอง...\n",
       "\n",
       "เสนอ กวก.ศชบ.ทหาร\n",
       "\n",
       "สิ่งที่ส่งมาด้วย ๑. เอกสารประกอบการขอ ลชท.รอง จำนวน ๖ ชุด\n",
       "๒. ประวัติย่อข้าราชการ จำนวน ๖ ชุด\n",
       "\n",
       "๑. ด้วย กรก.ศชบ.ทหาร มีความประสงค์ขอแต่งตั้ง ลชท.รอง ให้กับข้าราชการ จำนวน ๖ นาย เนื่องจากได้สำเร็จการฝึกอบรมหลักสูตรตามแนวทางรับราชการของสายวิทยาการความมั่นคงปลอดภัยทางไซเบอร์ เป็นที่เรียบร้อย รายละเอียดตามสิ่งที่ส่งมาด้วย ๑ และ ๒\n",
       "\n",
       "๒. เพื่อให้การดำเนินการแต่งตั้ง ลชท.รอง ตามข้อ ๑ เป็นไปด้วยความเรียบร้อย จึงขอให้ กวก.ศชบ.ทหาร ในฐานะผู้ดูแลสายวิทยาการความมั่นคงปลอดภัยทางไซเบอร์ กรุณาพิจารณาให้ความเห็นชอบ หากได้ผลประการใดกรุณาแจ้งให้ กรก.ศชบ.ทหารทราบ เพื่อดำเนินการในส่วนที่เกี่ยวข้องต่อไป\n",
       "\n",
       "จึงเสนอมามาเพื่อพิจารณา\n",
       "\n",
       "พ.อ.\n",
       "\n",
       "(พรเทพ ไวยปุระ)\n",
       "ผช.ผอ.กรก.ศชบ.ทหาร ปฏิบัติหน้าที่\n",
       "กก.กรก.ศชบ.ทหาร</div>\n",
       "        </details>\n",
       "        <details>\n",
       "            <summary>คลิกเพื่อดู Ground Truth</summary>\n",
       "            <div style=\"background-color:#e6f7ff; border:1px solid #b3e0ff; padding:10px; margin-top:5px; white-space: pre-wrap; word-wrap: break-word;\">ด่วนมาก\n",
       "\n",
       "บันทึกข้อความ\n",
       "\n",
       "ส่วนราชการ กธก.ศซบ.ทหาร (แผนกธุรการกำลังพลฯ.โทร.ทหาร ๕๗๒๑๗๔๗)\n",
       "ที่ กห ๐๓๐๑.๑๐.๑/๒๖๐\n",
       "วันที่ ๓ พ.ค. ๖๗\n",
       "เรื่อง ขอความเห็นชอบแต่งตั้ง ลชท.รอง\n",
       "\n",
       "เสนอ กวก.ศซบ.ทหาร\n",
       "\n",
       "สิ่งที่ส่งมาด้วย ๑. เอกสารประกอบการขอ ลชท.รอง จำนวน ๖ ชุด \n",
       "๒. ประวัติย่อข้าราชการ จำนวน ๖ ชุด\n",
       "\n",
       "๑. ด้วย กธก.ศซบ.ทหาร มีความประสงค์ขอแต่งตั้ง ลชท.รอง ให้กับข้าราชการ จำนวน ๖ นาย เนื่องจากได้สำเร็จการฝึกอบรมหลักสูตรตามแนวทางรับราชการของสายวิทยาการความมั่นคงปลอดภัยทางไซเบอร์ เป็นที่เรียบร้อย รายละเอียดตามสิ่งที่ส่งมาด้วย ๑ และ ๒\n",
       "\n",
       "๒. เพื่อให้การดำเนินการแต่งตั้ง ลชท.รอง ตามข้อ ๑ เป็นไปด้วยความเรียบร้อย จึงขอให้ กวก.ศซบ.ทหาร ในฐานะผู้ดูแลสายวิทยาการความมั่นคงปลอดภัยทางไซเบอร์ กรุณาพิจารณาให้ความเห็นชอบ หากได้ผลประการใดกรุณาแจ้งให้ กธก.ศซบ.ทหาร ทราบ เพื่อดำเนินการในส่วนที่เกี่ยวข้องต่อไป\n",
       "\n",
       "จึงเสนอมาเพื่อกรุณาพิจารณา\n",
       "\n",
       "พ.อ.\n",
       "\n",
       "(พรเทพ ไวยบูรี)\n",
       "ผช.ผอ.กรภ.ศซบ.ทหาร ปฏิบัติหน้าที่\n",
       "หก.กธก.ศซบ.ทหาร</div>\n",
       "        </details>\n",
       "        "
      ],
      "text/plain": [
       "<IPython.core.display.HTML object>"
      ]
     },
     "metadata": {},
     "output_type": "display_data"
    },
    {
     "data": {
      "text/markdown": [
       "---"
      ],
      "text/plain": [
       "<IPython.core.display.Markdown object>"
      ]
     },
     "metadata": {},
     "output_type": "display_data"
    },
    {
     "data": {
      "text/markdown": [
       "#### 📄 **ไฟล์:** `001-2.pdf`"
      ],
      "text/plain": [
       "<IPython.core.display.Markdown object>"
      ]
     },
     "metadata": {},
     "output_type": "display_data"
    },
    {
     "data": {
      "text/html": [
       "\n",
       "        <details>\n",
       "            <summary>คลิกเพื่อดูผลลัพธ์ Raw OCR</summary>\n",
       "            <div style=\"background-color:#f7f7f7; border:1px solid #ddd; padding:10px; margin-top:10px; white-space: pre-wrap; word-wrap: break-word;\"># บันทึกข้อความ\n",
       "\n",
       "ส่วนราชการ... กตถ.ชชน.ทหาร (แผนกธุรการกำลังพลฯ โทร.ทหาร ๕๗๒๑๗(๔))\n",
       "\n",
       "ที่ ... กท.อตถ.๑๐.๑/ ๒๖๘\n",
       "วันที่ ... พ.ศ. ๖๗\n",
       "เรื่อง ... ขอความเห็นชอบการลาออกจากราชการของนายทหารประทานในสังกัด ชชน.ทหาร\n",
       "\n",
       "เสนอ กวก.ศช.ทหาร\n",
       "\n",
       "สิ่งที่ส่งมาด้วย สำเนาใบลาออกจากราชการ จำนวน ๑ ฉบับ\n",
       "\n",
       "๑. ด้วย จ.ส.อ. บุรวทย์ เรือศรีจันทร์ จนท.ปฏิบัติการ แผนกประเมินมาตรฐาน กปภ.ศช.ทหาร มีความประสงค์ขอลาออกจากราชการเพื่อไปปฏิบัติงานบริษัทเอกชน ตั้งแต่ ๑ ก.ค. ๖๗ เป็นต้นไป รายละเอียดตามสิ่งที่ส่งมาด้วย\n",
       "\n",
       "๒. กรก.ศช.ทหาร จึงขอรับความเห็นชอบจาก กวท.ศช.ทหาร ในฐานะหัวหน้าสายวิทยาการได้กรุณาพิจารณาการขอลาออกของนายทหารประทาน ตามข้อ ๑ และกรุณาแจ้งผลการพิจารณาให้ กรก.ศช.ทหารทราบ เพื่อดำเนินการในส่วนที่เกี่ยวข้องต่อไป\n",
       "\n",
       "จึงเสนอมามาเพื่อกรุณาพิจารณา\n",
       "\n",
       "พ.อ.\n",
       "\n",
       "(พรเทพ ไวยบุรี)\n",
       "ผช.ผอ.กรภ.ศช.ทหาร ปฏิบัติหน้าที่\n",
       "กก.กรก.ศช.ทหาร</div>\n",
       "        </details>\n",
       "        <details>\n",
       "            <summary>คลิกเพื่อดู Ground Truth</summary>\n",
       "            <div style=\"background-color:#e6f7ff; border:1px solid #b3e0ff; padding:10px; margin-top:5px; white-space: pre-wrap; word-wrap: break-word;\">บันทึกข้อความ\n",
       "\n",
       "ส่วนราชการ กธก.ศซบ.ทหาร (แผนกธุรการกำลังพลฯ.โทร.ทหาร ๕๗๒๑๗๔๗)\n",
       "ที่ กห ๐๓๐๑.๑๐.๑/๒๖๘\n",
       "วันที่ ๙ พ.ค. ๖๗\n",
       "เรื่อง ขอความเห็นชอบการลาออกจากราชการของนายทหารประทวนในสังกัด ศซบ.ทหาร\n",
       "\n",
       "เสนอ กวก.ศซบ.ทหาร\n",
       "\n",
       "สิ่งที่ส่งมาด้วย สำเนาใบลาออกจากราชการ จำนวน ๑ ฉบับ\n",
       "\n",
       "๑. ด้วย จ.ส.อ. บุรวทย์ เรื่อศรีจันทร์ จนท.ปฏิบัติการ แผนกประเมินมาตรฐาน กปก.ศซบ.ทหาร มีความประสงค์ขอลาออกจากราชการเพื่อไปปฏิบัติงานบริษัทเอกชน ตั้งแต่ ๑ ก.ค. ๖๗ เป็นต้นไป รายละเอียดตามสิ่งที่ส่งมาด้วย\n",
       "\n",
       "๒. กธก.ศซบ.ทหาร จึงขอรับความเห็นชอบจาก กวก.ศซบ.ทหาร ในฐานะหัวหน้าสายวิทยาการได้กรุณาพิจารณาการขอลาออกของนายทหารประทวน ตามข้อ ๑ และกรุณาแจ้งผลการพิจารณาให้ กธก.ศซบ.ทหาร ทราบ เพื่อดำเนินการในส่วนที่เกี่ยวข้องต่อไป\n",
       "\n",
       "จึงเสนอมาเพื่อกรุณาพิจารณา\n",
       "\n",
       "พ.อ.\n",
       "\n",
       "(พรเทพ ไวยบูรี)\n",
       "ผช.ผอ.กรภ.ศซบ.ทหาร ปฏิบัติหน้าที่\n",
       "หก.กธก.ศซบ.ทหาร</div>\n",
       "        </details>\n",
       "        "
      ],
      "text/plain": [
       "<IPython.core.display.HTML object>"
      ]
     },
     "metadata": {},
     "output_type": "display_data"
    },
    {
     "data": {
      "text/markdown": [
       "---"
      ],
      "text/plain": [
       "<IPython.core.display.Markdown object>"
      ]
     },
     "metadata": {},
     "output_type": "display_data"
    },
    {
     "data": {
      "text/markdown": [
       "#### 📄 **ไฟล์:** `003-2.pdf`"
      ],
      "text/plain": [
       "<IPython.core.display.Markdown object>"
      ]
     },
     "metadata": {},
     "output_type": "display_data"
    },
    {
     "data": {
      "text/html": [
       "\n",
       "        <details>\n",
       "            <summary>คลิกเพื่อดูผลลัพธ์ Raw OCR</summary>\n",
       "            <div style=\"background-color:#f7f7f7; border:1px solid #ddd; padding:10px; margin-top:10px; white-space: pre-wrap; word-wrap: break-word;\"># บันทึกข้อความ\n",
       "\n",
       "ส่วนราชการ...ศชย.สปท. (โทร./โทรสาร ๐.๒๒๗๕.๕๗๑๖)\n",
       "\n",
       "วันที่\n",
       "เรื่อง...ขอเชิญเข้าร่วมการประชุมเชิงสัมมนาทางวิชาการศูนย์อาเซียนศึกษา ครั้งที่ ๒/๒๕๖๓\n",
       "\n",
       "เรียน ผอ.ศชบ.ทหาร/ผู้แทน\n",
       "\n",
       "สิ่งที่ส่งมาด้วย ๑. กำหนดการการประชุมฯ\n",
       "๒. แผนที่การเดินทาง\n",
       "๓. แบบตอบรับ\n",
       "\n",
       "๑. ศคย.สปท. มีกำหนดจัดการประชุมเชิงสัมมนาทางวิชาการศูนย์อาเซียนศึกษา ครั้งที่ ๒/๒๕๖๓ เรื่อง “สนับเสียงและความมั่นคงในภูมิภาคเอเชียตะวันออกเฉียงใต้” ระหว่างวันที่ ๒๗-๒๙ มี.ค. ๖๗ ณ ห้องประชุมศูนย์วัฒนธรรมการศึกษาทางทหาร สปท. และ รร. รอยัล อิลล์ กอล์ฟ รีสอร์ท แอนด์ สปา จว.น.ย. โดยมี ผบ.สปท. เป็นประธาน รายละเอียดตามสิ่งที่ส่งมาด้วย ๑-๒\n",
       "\n",
       "๒. ศคย.สปท. ขอเรียนเชิญท่านหรือบุคลากรในหน่วยงานของท่าน จำนวน ๑-๒ ท่าน (ไม่กำหนดชื่อ) เข้าร่วมการประชุมเชิงสัมมนาทางวิชาการฯ ในวัน เวลา ดังกล่าว และกรุณาแจ้งผลการตอบรับโดยกรอกข้อมูลตามแบบตอบรับเข้าร่วมการประชุมฯ ผ่าน QR Code ด้านล่าง รายละเอียดตามสิ่งที่ส่งมาด้วย ๓ ภายในวันที่ ๒๐ มี.ค. ๖๗ ในการนี้ พ.อ.หญิง ทัศรินทร์ โสธรบุญ รอง ผอ.กพศ.ศคย.สปท. หมายเลขโทรศัพท์ ๐๖ ๑๔๑๗ ๕๙๑๙ จะเป็นผู้ประสานในรายละเอียดต่อไป\n",
       "\n",
       "จึงเรียนมาเพื่อกรุณาพิจารณา\n",
       "\n",
       "น.อ.\n",
       "\n",
       "(วัชระพันธ์ เมืองวิชัยพันธ์)\n",
       "รอง ผอ.ศคย.สปท. ทำการแทน\n",
       "ผอ.ศคย.สปท.\n",
       "\n",
       "แบบตอบรับเข้าร่วมการประชุมฯ\n",
       "\n",
       "กลุ่มติดต่อประสานงาน</div>\n",
       "        </details>\n",
       "        <details>\n",
       "            <summary>คลิกเพื่อดู Ground Truth</summary>\n",
       "            <div style=\"background-color:#e6f7ff; border:1px solid #b3e0ff; padding:10px; margin-top:5px; white-space: pre-wrap; word-wrap: break-word;\">บันทึกข้อความ\n",
       "\n",
       "ส่วนราชการ ศศย.สปท. (โทร./โทรสาร ๐ ๒๒๗๕ ๕๗๑๖)\n",
       "ที่ กห ๐๓๑๗.๕/๑๗๖\n",
       "วันที่ ๕ มี.ค. ๖๗\n",
       "เรื่อง ขอเชิญเข้าร่วมการประชุมเชิงสัมมนาทางวิชาการศูนย์อาเซียนศึกษา ครั้งที่ ๒/๒๕๖๗\n",
       "\n",
       "เรียน ผอ.ศซบ.ทหาร/ผู้แทน \n",
       "\n",
       "สิ่งที่ส่งมาด้วย ๑. กำหนดการการประชุมฯ \n",
       "๒. แผนที่การเดินทาง \n",
       "๓. แบบตอบรับ \n",
       "\n",
       "๑. ศศย.สปท. มีกำหนดจัดการประชุมเชิงสัมมนาทางวิชาการศูนย์อาเซียนศึกษา ครั้งที่ ๒/๒๕๖๗ เรื่อง “สถานภาพและความมั่นคงในภูมิภาคเอเชียตะวันออกเฉียงใต้” ระหว่างวันที่ ๒๗-๒๙ มี.ค. ๖๗ ณ ห้องประชุมศูนย์วัฒกรรมการศึกษาทางทหาร สปท. และ รร. รอยัล ฮิลส์ กอล์ฟ รีสอร์ท แอนด์ สปา จว.น.ย. โดยมี ผบ.สปท. เป็นประธาน รายละเอียดตามสิ่งที่ส่งมาด้วย ๑-๒ \n",
       "\n",
       "๒. ศศย.สปท. ขอเรียนเชิญท่านหรือบุคลากรในหน่วยงานของท่าน จำนวน ๑-๒ ท่าน (ไม่กำหนดชั้นยศ) เข้าร่วมการประชุมเชิงสัมมนาทางวิชาการฯ ในวัน เวลา ดังกล่าว และกรุณาแจ้งผลการตอบรับโดยกรอกข้อมูลตามแบบตอบรับเข้าร่วมการประชุมฯ ผ่าน QR Code ด้านล่าง รายละเอียดตามสิ่งที่ส่งมาด้วย ๓ ภายในวันที่ ๒๐ มี.ค. ๖๗ ในการนี้ พ.อ.หญิง ทัศรินทร์ โสธรบุญ รอง ผอ.กภศ.ศศย.สปท. หมายเลขโทรศัพท์ ๐๖ ๑๔๑๗ ๕๙๑๙ จะเป็นผู้ประสานในรายละเอียดต่อไป \n",
       "\n",
       "จึงเรียนมาเพื่อกรุณาพิจารณา \n",
       "\n",
       "น.อ.\n",
       "\n",
       "(รัฐนินท์ เมธีวัชรพัฒน์)\n",
       "รอง ผอ.ศศย.สปท. ทำการแทน\n",
       "ผอ.ศศย.สปท.</div>\n",
       "        </details>\n",
       "        "
      ],
      "text/plain": [
       "<IPython.core.display.HTML object>"
      ]
     },
     "metadata": {},
     "output_type": "display_data"
    },
    {
     "data": {
      "text/markdown": [
       "---"
      ],
      "text/plain": [
       "<IPython.core.display.Markdown object>"
      ]
     },
     "metadata": {},
     "output_type": "display_data"
    },
    {
     "data": {
      "text/markdown": [
       "#### 📄 **ไฟล์:** `005-2.pdf`"
      ],
      "text/plain": [
       "<IPython.core.display.Markdown object>"
      ]
     },
     "metadata": {},
     "output_type": "display_data"
    },
    {
     "data": {
      "text/html": [
       "\n",
       "        <details>\n",
       "            <summary>คลิกเพื่อดูผลลัพธ์ Raw OCR</summary>\n",
       "            <div style=\"background-color:#f7f7f7; border:1px solid #ddd; padding:10px; margin-top:10px; white-space: pre-wrap; word-wrap: break-word;\"># บันทึกข้อความ\n",
       "\n",
       "ส่วนราชการ... กพ.ทหาร (กพบท.) โทร.. ๐.๒๕๗๕. ๖๐๗๑. โทร.ทหาร ๕๗๒๑๑๒๑)\n",
       "\n",
       "ที่... กห.๐๓๐๒/๖๔ วันที่ ๓ ม.ค. ๖๗\n",
       "เรื่อง... ขอให้สายวิทยาการรวบรวมปัญหาข้อขัดข้องของการบริหารจัดการกำลังพลด้วยสายวิทยาการและ...\n",
       "เลขหมายความชำนาญการทหาร\n",
       "\n",
       "เรียน หัวหน้าสายวิทยาการความมั่นคงปลอดภัยทางไซเบอร์\n",
       "\n",
       "อ้างถึง คำสั่ง บก.ทท. (เฉพาะ) ที่ ๑๑๓๙/๖๖ ลง ๑๔ ธ.ค. ๖๖\n",
       "สิ่งที่ส่งมาด้วย แบบฟอร์มปัญหาและผลกระทบจากการบริหารจัดการกำลังพลด้วยสายวิทยาการ และ...\n",
       "เลขหมายความชำนาญการทหารของ บก.ทท.\n",
       "\n",
       "๑. ตามอ้างถึง ผบ.ทสส. ได้กรุณาอนุมัติตั้งคณะกรรมการพิจารณาผลการบริหารจัดการ...\n",
       "กำลังพลด้วยสายวิทยาการและเลขหมายความชำนาญการทหารของ บก.ทท. เพื่อดำเนินการแก้ไขปัญหา...\n",
       "ในภาพรวมที่มีความซับซ้อนและให้การบริหารจัดการกำลังพลด้วยสายวิทยาการ และเลขหมายความชำนาญการทหาร...\n",
       "ของ บก.ทท. เป็นไปอย่างมีประสิทธิภาพ\n",
       "\n",
       "๒. เพื่อให้การดำเนินการตามข้อ ๑ เป็นไปด้วยความเรียบร้อย ขอให้หัวหน้าสายวิทยาการ...\n",
       "ดำเนินการรวบรวม วิเคราะห์ปัญหาและผลกระทบจากการบริหารจัดการกำลังพลด้วยสายวิทยาการ...\n",
       "และเลขหมายความชำนาญการทหารของ บก.ทท. ส่งให้ กพ.ทหาร ภายในวันที่ ๑๙ ม.ค. ๖๗ โดยจัดทำ...\n",
       "รายละเอียดข้อมูลข้อเสนอในการแก้ไขปัญหาฯ ตามแบบฟอร์มที่ส่งมาด้วย หากไม่มีข้อเสนอ ขอให้ระบุ...\n",
       "ในแบบฟอร์มดังกล่าวด้วย รายละเอียดเพิ่มเติมประสานได้ที่ ร.อ.หญิง เบญจวรรณ แสงจันทร์...\n",
       "น.ประเมินผลกระทบการบริหารทรัพยากรบุคคล กพบท. กพ.ทหาร โทร.ทหาร ๕๗๒๑๑๒๐\n",
       "\n",
       "จึงเรียนมาเพื่อกรุณาดำเนินการต่อไป\n",
       "\n",
       "(สัมพันธ์ รงค์จำเริญ)\n",
       "รอง จก.กพ.ทหาร ทำการแทน\n",
       "จก.กพ.ทหาร</div>\n",
       "        </details>\n",
       "        <details>\n",
       "            <summary>คลิกเพื่อดู Ground Truth</summary>\n",
       "            <div style=\"background-color:#e6f7ff; border:1px solid #b3e0ff; padding:10px; margin-top:5px; white-space: pre-wrap; word-wrap: break-word;\">บันทึกข้อความ\n",
       "\n",
       "ส่วนราชการ กพ.ทหาร (กพบท.ฯ โทร. ๐ ๒๕๗๕ ๖๐๗๑ โทร.ทหาร ๕๗๒๑๑๒๐) \n",
       "ที่ กห ๐๓๐๒/๖๔\n",
       "วันที่ ๓ มี.ค. ๖๘ \n",
       "เรื่อง ขอให้สายวิทยาการรวมปัญหาข้อขัดข้อง ของการบริหารจัดการกำลังพลด้วยสายวิทยาการและเลขหมายความชำนาญการทหาร\n",
       "\n",
       "เรียน หัวหน้าสายวิทยาการความมั่นคงปลอดภัยทางไซเบอร์ \n",
       "\n",
       "อ้างถึง คำสั่ง บก.ทท. (เฉพาะ) ที่ ๑๑๓๙/๖๖ ลง ๑๔ ธ.ค. ๖๖ \n",
       "\n",
       "สิ่งที่ส่งมาด้วย แบบฟอร์มปัญหาและผลกระทบจากการบริหารจัดการกำลังพลด้วยสายวิทยาการ และเลขหมายความชำนาญการทหารของ บก.ทท.\n",
       "\n",
       "๑. ตามอ้างถึง ผบ.ทสส. ได้กรุณาอนุมัติแต่งตั้งคณะกรรมการพิจารณาผลการบริหารจัดการ กำลังพลด้วยสายวิทยาการและเลขหมายความชำนาญการทหารของ บก.ทท. เพื่อดำเนินการแก้ไขปัญหา ในภาพรวมที่มีความซับซ้อนและให้การบริหารจัดการกำลังพลด้วยสายวิทยาการ และเลขหมายความชำนาญการทหารของ บก.ทท. เป็นไปอย่างมีประสิทธิภาพ \n",
       "\n",
       "๒. เพื่อให้การดำเนินการตามข้อ ๑ เป็นไปด้วยความเรียบร้อย ขอให้หัวหน้าสายวิทยาการดำเนินการรวบรวม วิเคราะห์ปัญหาและผลกระทบจากการบริหารจัดการกำลังพลด้วยสายวิทยาการ และเลขหมายความชำนาญการทหารของ บก.ทท. ส่งให้ กพ.ทหาร ภายในวันที่ ๑๙ ม.ค. ๖๗ โดยจัดทำ รายละเอียดข้อมูลข้อเสนอในการแก้ไขปัญหาฯ ตามแบบฟอร์มที่ส่งมาด้วย หากไม่มีข้อเสนอ ขอให้ระบุในแบบฟอร์มดังกล่าวด้วย รายละเอียดเพิ่มเติมประสานได้ที่ ร.อ.หญิง เบญจวรรณ แสงจันทร์ น.ประเมินผลกระทบการบริหารทรัพยากรบุคคล กพบท. กพ.ทหาร โทร.ทหาร ๕๗๒๑๑๒๐ \n",
       "\n",
       "จึงเรียนมาเพื่อกรุณาดำเนินการต่อไป \n",
       "\n",
       "พล.ต.\n",
       "(สัมพันธ์ รงค์จำเริญ) \n",
       "รอง จก.กพ.ทหาร ทำการแทน \n",
       "จก.กพ.ทหาร</div>\n",
       "        </details>\n",
       "        "
      ],
      "text/plain": [
       "<IPython.core.display.HTML object>"
      ]
     },
     "metadata": {},
     "output_type": "display_data"
    },
    {
     "data": {
      "text/markdown": [
       "---"
      ],
      "text/plain": [
       "<IPython.core.display.Markdown object>"
      ]
     },
     "metadata": {},
     "output_type": "display_data"
    },
    {
     "data": {
      "text/markdown": [
       "#### 📄 **ไฟล์:** `008-2.pdf`"
      ],
      "text/plain": [
       "<IPython.core.display.Markdown object>"
      ]
     },
     "metadata": {},
     "output_type": "display_data"
    },
    {
     "data": {
      "text/html": [
       "\n",
       "        <details>\n",
       "            <summary>คลิกเพื่อดูผลลัพธ์ Raw OCR</summary>\n",
       "            <div style=\"background-color:#f7f7f7; border:1px solid #ddd; padding:10px; margin-top:10px; white-space: pre-wrap; word-wrap: break-word;\"># ด่วนมาก\n",
       "\n",
       "## บันทึกข้อความ\n",
       "\n",
       "ส่วนราชการ กกล.นชช.ทหาร (แผนกธุรการและกำลังพลฯ) โทร. ๐-๒๕๗๒.๑๗๔๗. โทร.ทหาร ๕๗๒๑๙(๔๗).\n",
       "ที่ กห.อต๊อด.๑๐.๑/ว\n",
       "วันที่ 17 พ.ค. 68\n",
       "เรื่อง ขอความเห็นชอบการลาออกจากราชการของนายทหารประทานในสังกัด นชช.ทหาร\n",
       "\n",
       "เสนอ ศชล.นชช.ทหาร\n",
       "\n",
       "สิ่งที่ส่งมาด้วย สำเนาใบลาออกจากราชการ จำนวน ๑ ฉบับ\n",
       "\n",
       "๑. ส.อ.หญิง พรรณวลัย เลียมเพ็ชร์รัตน์ เจ้าหน้าที่ปฏิบัติการ แผนกปฏิบัติการที่ ๑ กปภ.๓ สปก.นชช.ทหาร มีความประสงค์ขอลาออกจากราชการเพื่อบรรจุเป็นนายทหารสัญญาบัตร สังกัด กองบัญชาการกองทัพไทย ตั้งแต่ ๑๖ เม.ย. ๖๘ เป็นต้นไป รายละเอียดตามสิ่งที่ส่งมาด้วย\n",
       "\n",
       "๒. กกล.นชช.ทหาร จึงขอรับความเห็นชอบจาก ศชล.นชช.ทหาร ในฐานะหัวหน้า สายวิทยาการความมั่นคงปลอดภัยทางไซเบอร์ ได้กรุณาพิจารณาการขอลาออกของนายทหารประทาน ตามข้อ ๑ และกรุณาแจ้งผลการพิจารณาให้ กกล.นชช.ทหาร ทราบ เพื่อดำเนินการในส่วนที่เกี่ยวข้องต่อไป\n",
       "\n",
       "จึงเสนอมามาเพื่อกรุณาพิจารณา\n",
       "\n",
       "พ.อ.\n",
       "\n",
       "(สมชาย อูปเช่ม)\n",
       "ผอ.กกล.นชช.ทหาร</div>\n",
       "        </details>\n",
       "        <details>\n",
       "            <summary>คลิกเพื่อดู Ground Truth</summary>\n",
       "            <div style=\"background-color:#e6f7ff; border:1px solid #b3e0ff; padding:10px; margin-top:5px; white-space: pre-wrap; word-wrap: break-word;\">ด่วนมาก\n",
       "\n",
       "บันทึกข้อความ\n",
       "\n",
       "ส่วนราชการ กกล.นซบ.ทหาร (แผนกธุรการและกำลังพลฯ) โทร. ๐ ๒๕๗๒ ๑๗๔๗ โทร.ทหาร ๕๗๒๑๗๔๗).\n",
       "ที่ กห ๐๓๐๑.๑๐.๑/๓๑๓\n",
       "วันที่ ๑๗ พ.ค. ๖๘\n",
       "เรื่อง ขอความเห็นชอบการลาออกจากราชการของนายทหารประทานในสังกัด นซบ.ทหาร\n",
       "\n",
       "เสนอ ศซล.นซบ.ทหาร\n",
       "\n",
       "สิ่งที่ส่งมาด้วย สำเนาใบลาออกจากราชการ จำนวน ๑ ฉบับ\n",
       "\n",
       "๑. ส.อ.หญิง พรรณวลัย เลียมเพ็ชร์รัตน์ เจ้าหน้าที่ปฏิบัติการ แผนกปฏิบัติการที่ ๑ กปก.๓ สปก.นซบ.ทหาร มีความประสงค์ขอลาออกจากราชการเพื่อบรรจุเป็นนายทหารสัญญาบัตร สังกัด กองบัญชาการกองทัพไทย ตั้งแต่ ๑๖ เม.ย. ๖๘ เป็นต้นไป รายละเอียดตามสิ่งที่ส่งมาด้วย\n",
       "\n",
       "๒. กกล.นซบ.ทหาร จึงขอรับความเห็นชอบจาก ศซล.นซบ.ทหาร ในฐานะหัวหน้า สายวิทยาการความมั่นคงปลอดภัยทางไซเบอร์ ได้กรุณาพิจารณาการขอลาออกของนายทหารประทาน ตามข้อ ๑ และกรุณาแจ้งผลการพิจารณาให้ กกล.นซบ.ทหาร ทราบ เพื่อดำเนินการในส่วนที่เกี่ยวข้องต่อไป\n",
       "\n",
       "จึงเสนอมาเพื่อกรุณาพิจารณา\n",
       "\n",
       "พ.อ.\n",
       "\n",
       "(สมชาย อูปเช่ม)\n",
       "ผอ.กกล.นซบ.ทหาร</div>\n",
       "        </details>\n",
       "        "
      ],
      "text/plain": [
       "<IPython.core.display.HTML object>"
      ]
     },
     "metadata": {},
     "output_type": "display_data"
    },
    {
     "data": {
      "text/markdown": [
       "---"
      ],
      "text/plain": [
       "<IPython.core.display.Markdown object>"
      ]
     },
     "metadata": {},
     "output_type": "display_data"
    },
    {
     "data": {
      "text/markdown": [
       "#### 📄 **ไฟล์:** `009-2.pdf`"
      ],
      "text/plain": [
       "<IPython.core.display.Markdown object>"
      ]
     },
     "metadata": {},
     "output_type": "display_data"
    },
    {
     "data": {
      "text/html": [
       "\n",
       "        <details>\n",
       "            <summary>คลิกเพื่อดูผลลัพธ์ Raw OCR</summary>\n",
       "            <div style=\"background-color:#f7f7f7; border:1px solid #ddd; padding:10px; margin-top:10px; white-space: pre-wrap; word-wrap: break-word;\"># ด่วนมาก\n",
       "\n",
       "## บันทึกข้อความ\n",
       "ส่วนราชการ ศชล.นช.ทหาร (รธ.ชน.ทหาร ศชล.นช.ทหาร โทร.ทหาร ๕๗๒๒๕๑)\n",
       "\n",
       "วันที่ 16 ธ.ค. 67\n",
       "เรื่อง ขออนุมัติแก้ไขรายชื่อผู้เข้ารับการศึกษาหลักสูตรปรับพื้นฐานบุคลากรด้านไซเบอร์\n",
       "\n",
       "เรียน ผบ.นช.ทหาร\n",
       "\n",
       "อ้างถึง คำสั่ง ทท. (เฉพาะ) ที่ ๔๑๒/๖๗ ลง ๒๒ พ.ย. ๖๗\n",
       "\n",
       "สิ่งที่ส่งมาด้วย แผนวก ก แก้ไขรายชื่อผู้เข้ารับการศึกษาหลักสูตรปรับพื้นฐานบุคลากรด้านไซเบอร์ ประจำปีงบประมาณ พ.ศ. ๒๕๖๘\n",
       "\n",
       "๑. ศชล.นช.ทหาร ขออนุมัติแก้ไขแผนวก ก ประกอบคำสั่ง ทท. (เฉพาะ) ที่ ๔๑๒/๖๗ ลง ๒๒ พ.ย. ๖๗ เรื่อง เปิดการศึกษาหลักสูตรปรับพื้นฐานบุคลากรด้านไซเบอร์ ประจำปีงบประมาณ พ.ศ. ๒๕๖๘ เนื่องจาก ข้าราชการสละสิทธิ์ จำนวน ๑ นาย รายละเอียดตามสิ่งที่ส่งมาด้วย\n",
       "\n",
       "๒. ข้อเท็จจริง ผบ.ทสส. (ผบ.นช.ทหาร รับคำสั่งฯ) ได้กรุณาอนุมัติตัวบุคคลเข้ารับการศึกษา หลักสูตรฯ ตามข้อ ๑ จำนวน ๔๕ นาย รายละเอียดตามอ้างถึง มีข้าราชการสละสิทธิ์ไม่สามารถเข้ารับการศึกษาได้ ตามที่แนบ จึงให้แก้ไขคำสั่งฯ เปลี่ยนตัวผู้เข้ารับการศึกษาฯ ลำดับ ๕ จากเดิม ร.อ. ฐณกฤษ วงศ์ดิษยบุตร สังกัด นช.ทหาร เป็น ส.อ. ภานุพรรณ วรรณทอง สังกัด นช.ทหาร\n",
       "\n",
       "๓. ข้อพิจารณา\n",
       "\n",
       "- เพื่อให้การศึกษาฯ เป็นไปด้วยความเรียบร้อย จึงเห็นควรแก้ไขแผนวก ก ประกอบคำสั่ง ทท. (เฉพาะ) ที่ ๔๑๒/๖๗ ลง ๒๒ พ.ย. ๖๗ เรื่อง เปิดการศึกษาหลักสูตรปรับพื้นฐานบุคลากรด้านไซเบอร์ ประจำปีงบประมาณ พ.ศ. ๒๕๖๘ ตามข้อ ๒\n",
       "\n",
       "- คำสั่ง ทท. (เฉพาะ) ที่ ๔๑๒/๖๗ ลง ๒๒ พ.ย. ๖๗ ข้อ ๑๑ หากมีความจำเป็นต้อง เปลี่ยนแปลงห้วงระยะเวลาในการศึกษา จำนวนผู้เข้ารับการศึกษา ตัวบุคคลที่เข้ารับการศึกษา รวมทั้งรายละเอียด ในการปฏิบัติต่าง ๆ โดยคำใช้จ่ายไม่เพิ่มขึ้นจากที่ได้รับอนุมัติไว้แล้ว ให้ นช.ทหาร ดำเนินการได้ตามความเหมาะสม\n",
       "\n",
       "- ข้อเสนอ เห็นควรอนุมัติให้ ศชล.นช.ทหาร แก้ไขแผนวก ก ประกอบคำสั่ง ทท. (เฉพาะ) ที่ ๔๑๒/๖๗ ลง ๒๒ พ.ย. ๖๗ เรื่อง เปิดการศึกษาหลักสูตรปรับพื้นฐานบุคลากรด้านไซเบอร์ ประจำปีงบประมาณ พ.ศ. ๒๕๖๘\n",
       "\n",
       "จึงเรียนมาเพื่อพิจารณา หากเห็นสมควรกรุณาอนุมัติตามข้อ ๔\n",
       "\n",
       "### อนุมัติตามข้อ ๔\n",
       "\n",
       "พล.ท.\n",
       "\n",
       "ผบ.นช.ทหาร\n",
       "\n",
       "วันที่ 16 ธ.ค. 67\n",
       "\n",
       "น.อ.\n",
       "\n",
       "(นาย ปิ่นทอง)\n",
       "รอง ผอ.ศชล.นช.ทหาร ทำการแทน\n",
       "ผอ.ศชล.นช.ทหาร</div>\n",
       "        </details>\n",
       "        <details>\n",
       "            <summary>คลิกเพื่อดู Ground Truth</summary>\n",
       "            <div style=\"background-color:#e6f7ff; border:1px solid #b3e0ff; padding:10px; margin-top:5px; white-space: pre-wrap; word-wrap: break-word;\">ด่วนมาก \n",
       "\n",
       "บันทึกข้อความ \n",
       "\n",
       "ส่วนราชการ ศซล.นซบ.ทหาร (รร.ซบ.ทหาร ศซล.นซบ.ทหาร โทร.ทหาร ๕๗๒๒๒๕๑) \n",
       "ที่ กห ๐๓๐๑.๑๐.๖/ ๓๔ \n",
       "วันที่ ๔ ธ.ค. ๖๗ \n",
       "เรื่อง ขออนุมัติแก้ไขรายชื่อผู้เข้ารับการศึกษาหลักสูตรปรับพื้นฐานบุคลากรด้านไซเบอร์ \n",
       "\n",
       "เรียน ผบ.นซบ.ทหาร \n",
       "\n",
       "อ้างถึง คำสั่ง ทท. (เฉพาะ) ที่ ๔๑๒/๖๗ ลง ๒๒ พ.ย. ๖๗ \n",
       "\n",
       "สิ่งที่ส่งมาด้วย ผนวก ก แก้ไขรายชื่อผู้เข้ารับการศึกษาหลักสูตรปรับพื้นฐานบุคลากรด้านไซเบอร์ ประจำปีงบประมาณ พ.ศ. ๒๕๖๘ \n",
       "\n",
       "๑. ศซล.นซบ.ทหาร ขออนุมัติแก้ไขผนวก ก ประกอบคำสั่ง ทท. (เฉพาะ) ที่ ๔๑๒/๖๗ ลง ๒๒ พ.ย. ๖๗ เรื่อง เปิดการศึกษาหลักสูตรปรับพื้นฐานบุคลากรด้านไซเบอร์ ประจำปีงบประมาณ พ.ศ. ๒๕๖๘ เนื่องจาก ข้าราชการสละสิทธิ์ จำนวน ๑ นาย รายละเอียดตามสิ่งที่ส่งมาด้วย \n",
       "\n",
       "๒. ข้อเท็จจริง ผบ.ทสส. (ผบ.นซบ.ทหาร รับคำสั่งฯ) ได้กรุณาอนุมัติตัวบุคคลเข้ารับการศึกษา หลักสูตรฯ ตามข้อ ๑ จำนวน ๔๕ นาย รายละเอียดตามอ้างถึง มีข้าราชการสละสิทธิ์ไม่สามารถเข้ารับการศึกษาได้ ตามที่แนบ จึงให้แก้ไขคำสั่งฯ เปลี่ยนตัวผู้เข้ารับการศึกษาฯ ลำดับ ๕ จากเดิม ร.อ. ฐณกฤษ วงศ์ดิษยบุตร สังกัด นซบ.ทหาร เป็น ส.อ. ภานุพรรณ วรรณทอง สังกัด นซบ.ทหาร \n",
       "\n",
       "๓. ข้อพิจารณา \n",
       "๓.๑ เพื่อให้การศึกษาฯ เป็นไปด้วยความเรียบร้อย จึงเห็นควรแก้ไขผนวก ก ประกอบคำสั่ง ทท. (เฉพาะ) ที่ ๔๑๒/๖๗ ลง ๒๒ พ.ย. ๖๗ เรื่อง เปิดการศึกษาหลักสูตรปรับพื้นฐานบุคลากรด้านไซเบอร์ ประจำปีงบประมาณ พ.ศ. ๒๕๖๘ ตามข้อ ๒ \n",
       "๓.๒ คำสั่ง ทท. (เฉพาะ) ที่ ๔๑๒/๖๗ ลง ๒๒ พ.ย. ๖๗ ข้อ ๑๑ หากมีความจำเป็นต้อง เปลี่ยนแปลงห้วงระยะเวลาในการศึกษา จำนวนผู้เข้ารับการศึกษา ตัวบุคคลที่เข้ารับการศึกษา รวมทั้งรายละเอียด ในการปฏิบัติต่าง ๆ โดยค่าใช้จ่ายไม่เพิ่มขึ้นจากหี่ได้รับอนุมัติไว้แล้ว ให้ นซบ.ทหาร ดำเนินการได้ตามความเหมาะสม \n",
       "\n",
       "๔. ข้อเสนอ เห็นควรอนุมัติให้ ศซล.นซบ.ทหาร แก้ไขผนวก ก ประกอบคำสั่ง ทท. (เฉพาะ) ที่ ๔๑๒/๖๗ ลง ๒๒ พ.ย. ๖๗ เรื่อง เปิดการศึกษาหลักสูตรปรับพื้นฐานบุคลากรด้านไซเบอร์ ประจำปีงบประมาณ พ.ศ. ๒๕๖๘ \n",
       "\n",
       "จึงเรียนมาเพื่อพิจารณา หากเห็นสมควรกรุณาอนุมัติตามข้อ ๔ \n",
       "\n",
       "น.อ.\n",
       "\n",
       "(นที  ปั้นทอง) \n",
       "รอง ผอ.ศซล.นซบ.ทหาร ทำการแทน \n",
       "ผอ.ศซล.นซบ.ทหาร</div>\n",
       "        </details>\n",
       "        "
      ],
      "text/plain": [
       "<IPython.core.display.HTML object>"
      ]
     },
     "metadata": {},
     "output_type": "display_data"
    },
    {
     "data": {
      "text/markdown": [
       "---"
      ],
      "text/plain": [
       "<IPython.core.display.Markdown object>"
      ]
     },
     "metadata": {},
     "output_type": "display_data"
    },
    {
     "data": {
      "text/markdown": [
       "#### 📄 **ไฟล์:** `010-2.pdf`"
      ],
      "text/plain": [
       "<IPython.core.display.Markdown object>"
      ]
     },
     "metadata": {},
     "output_type": "display_data"
    },
    {
     "data": {
      "text/html": [
       "\n",
       "        <details>\n",
       "            <summary>คลิกเพื่อดูผลลัพธ์ Raw OCR</summary>\n",
       "            <div style=\"background-color:#f7f7f7; border:1px solid #ddd; padding:10px; margin-top:10px; white-space: pre-wrap; word-wrap: break-word;\"># ด่วนมาก บันทึกข้อความ\n",
       "\n",
       "ส่วนราชการ กกล.นชช.ทหาร (แผนกรธุรการและกำลังพลฯ โทร.ทหาร ๕๗๒๑๗๔)\n",
       "\n",
       "วันที่ 2 มี.ค. 68\n",
       "\n",
       "เรื่อง ขอความเห็นชอบการลาออกจากราชการของนายทหารสัญญาบัตรในสังกัด นชช.ทหาร\n",
       "\n",
       "เสนอ ศชล.นชช.ทหาร\n",
       "\n",
       "สิ่งที่ส่งมาด้วย สำเนาใบลาออกจากราชการ จำนวน ๑ ฉบับ\n",
       "\n",
       "๑. ด้วย ร.อ. รณกร ชำเพชร ประจำแผนกปฏิบัติการที่ ๑ กปภ.๓ สปก.นชช.ทหาร มีความประสงค์ขอลาออกจากราชการเพื่อไปปฏิบัติงานบริษัทเอกชน ตั้งแต่ ๑ เม.ย. ๖๘ เป็นต้นไป รายละเอียดตามสิ่งที่ส่งมาด้วย\n",
       "\n",
       "๒. กกล.นชช.ทหาร จึงขอรับความเห็นชอบจาก กวก.ศชบ.ทหาร ในฐานะหัวหน้าสายวิทยาการได้กรุณาพิจารณาการขอลาออกของนายทหารสัญญาบัตร ตามข้อ ๑ และกรุณาแจ้งผลการพิจารณาให้ กกล.นชช.ทหารทราบ เพื่อดำเนินการในส่วนที่เกี่ยวข้องต่อไป\n",
       "\n",
       "จึงเสนอมามาเพื่อกรุณาพิจารณา\n",
       "\n",
       "พ.อ.\n",
       "\n",
       "(สมชาย ธูปแช่ม)\n",
       "ผอ.กกล.นชช.ทหาร</div>\n",
       "        </details>\n",
       "        <details>\n",
       "            <summary>คลิกเพื่อดู Ground Truth</summary>\n",
       "            <div style=\"background-color:#e6f7ff; border:1px solid #b3e0ff; padding:10px; margin-top:5px; white-space: pre-wrap; word-wrap: break-word;\">ด่วนมาก \n",
       "\n",
       "บันทึกข้อความ\n",
       "\n",
       "ส่วนราชการ กกล.นซบ.ทหาร (แผนกรธุรการและกำลังพลฯ โทร.ทหาร ๕๗๒๑๗๔)\n",
       "\n",
       "วันที่ ๑๘ มี.ค. ๖๘\n",
       "\n",
       "เรื่อง ขอความเห็นชอบการลาออกจากราชการของนายทหารสัญญาบัตรในสังกัด นซบ.ทหาร\n",
       "\n",
       "เสนอ ศซล.นซบ.ทหาร\n",
       "\n",
       "สิ่งที่ส่งมาด้วย สำเนาใบลาออกจากราชการ จำนวน ๑ ฉบับ\n",
       "\n",
       "๑. ด้วย ร.อ. รณกร ชำเพชร ประจำแผนกปฏิบัติการที่ ๑ กปก.๓ สปก.นซบ.ทหาร มีความประสงค์ขอลาออกจากราชการเพื่อไปปฏิบัติงานบริษัทเอกชน ตั้งแต่ ๑ เม.ย. ๖๘ เป็นต้นไป รายละเอียดตามสิ่งที่ส่งมาด้วย\n",
       "\n",
       "๒. กกล.นซบ.ทหาร จึงขอรับความเห็นชอบจาก กวก.ศซบ.ทหาร ในฐานะหัวหน้าสายวิทยาการได้กรุณาพิจารณาการขอลาออกของนายทหารสัญญาบัตร ตามข้อ ๑ และกรุณาแจ้งผลการพิจารณาให้ กกล.นซบ.ทหาร ทราบ เพื่อดำเนินการในส่วนที่เกี่ยวข้องต่อไป\n",
       "\n",
       "จึงเสนอมาเพื่อกรุณาพิจารณา\n",
       "\n",
       "พ.อ.\n",
       "\n",
       "(สมชาย ธูปแช่ม)\n",
       "ผอ.กกล.นซบ.ทหาร</div>\n",
       "        </details>\n",
       "        "
      ],
      "text/plain": [
       "<IPython.core.display.HTML object>"
      ]
     },
     "metadata": {},
     "output_type": "display_data"
    },
    {
     "data": {
      "text/markdown": [
       "---"
      ],
      "text/plain": [
       "<IPython.core.display.Markdown object>"
      ]
     },
     "metadata": {},
     "output_type": "display_data"
    },
    {
     "data": {
      "text/markdown": [
       "#### 📄 **ไฟล์:** `012-2.pdf`"
      ],
      "text/plain": [
       "<IPython.core.display.Markdown object>"
      ]
     },
     "metadata": {},
     "output_type": "display_data"
    },
    {
     "data": {
      "text/html": [
       "\n",
       "        <details>\n",
       "            <summary>คลิกเพื่อดูผลลัพธ์ Raw OCR</summary>\n",
       "            <div style=\"background-color:#f7f7f7; border:1px solid #ddd; padding:10px; margin-top:10px; white-space: pre-wrap; word-wrap: break-word;\"># บันทึกข้อความ\n",
       "\n",
       "## ส่วนราชการ...สสท.ทร.(ศชบ.โทร.๕๗๘๙)\n",
       "- วันที่ ๒ ธ.ค. ๖๓\n",
       "\n",
       "เรื่อง...ขอความอนุเคราะห์วิทยากร...\n",
       "\n",
       "เสนอ นชบ.ทหาร\n",
       "\n",
       "## ข้อความสำคัญ\n",
       "๑. สสท.ทร.กำหนดจัดสัมมนาการพัฒนาขีดความสามารถการปฏิบัติการไซเบอร์ ระหว่าง ๒๗ - ๒๙ มกราคม ๒๕๖๔ ณ ศูนย์สมุททานุภาพกองทัพอเมริกา บางพระ อ.ศรีราชา จ.ชลบุรี โดยมีวัตถุประสงค์ เพื่อส่งเสริมพัฒนากำลังพลของ ทร.ให้มีขีดความสามารถในการปฏิบัติการด้านสงครามไซเบอร์ และยกระดับ มาตรฐานการปฏิบัติการด้านไซเบอร์ตามวิสัยทัศน์และยุทธศาสตร์ ทร.\n",
       "\n",
       "๒. เพื่อให้การดำเนินการตามข้อ ๑ เป็นไปด้วยความเรียบร้อย จึงขอความอนุเคราะห์วิทยากร จำนวน ๑ นาย บรรยายในหัวข้อการประมาณการข่าวรองในมิติไซเบอร์ ในวันจันทร์ที่ ๒๗ ม.ค.๖๔ เวลา ๑๓๐๐ – ๑๕๐๐ ทั้งนี้ ได้มอบหมายให้ น.ท.คลิน ศิริธราภูล รม. หน.ปฏิบัติการ กปช.ศชบ.สสท.ทร. หมายเลขโทรศัพท์ ๐ ๒๔๗๕ ๗๘๘๙ หรือ ๐๙ ๖๘๒๙ ๖๑๙๕ เป็นผู้ประสานงานในครั้งนี้\n",
       "\n",
       "จึงเสนอมาระบกวนโปรดพิจารณาดำเนินการต่อไป\n",
       "\n",
       "## รายละเอียด\n",
       "| พล.ร.ต. | ร.น. |\n",
       "| --- | --- |\n",
       "| ผอ.ศชบ.สสท.ทร. การแทน | จน.สสท.ทร. |</div>\n",
       "        </details>\n",
       "        <details>\n",
       "            <summary>คลิกเพื่อดู Ground Truth</summary>\n",
       "            <div style=\"background-color:#e6f7ff; border:1px solid #b3e0ff; padding:10px; margin-top:5px; white-space: pre-wrap; word-wrap: break-word;\">บันทึกข้อความ \n",
       "\n",
       "ส่วนราชการ สสท.ทร. (ศซบ. โทร.๕๗๘๙๐) \n",
       "ที่ กห ๐๕๐๗.๕/๑๗๕๐\n",
       "วันที่ ๒๖ ธ.ค. ๖๗ \n",
       "เรื่อง ขอความอนุเคราะห์วิทยากร\n",
       "\n",
       "เสนอ นซบ.ทหาร \n",
       "\n",
       "๑. สสท.ทร.กำหนดจัดสัมมนาการพัฒนาขีดความสามารถการปฏิบัติการไซเบอร์ ระหว่าง ๒๗ - ๒๙ มกราคม ๒๕๖๘ ณ ศูนย์สมุททานุภาพกองทัพเรือ ต.บางพระ อ.ศรีราชา จว.ชลบุรี โดยมีวัตถุประสงค์ เพื่อส่งเสริมพัฒนากำลังพลของ ทร. ให้มีขีดความสามารถในการปฏิบัติการด้านสงครามไซเบอร์ และยกระดับมาตรฐานการปฏิบัติการด้านไซเบอร์ตามวิสัยทัศน์และยุทธศาสตร์ ทร. \n",
       "\n",
       "๒. เพื่อให้การดำเนินการตามข้อ ๑ เป็นไปด้วยความเรียบร้อย จึงขอความอนุเคราะห์วิทยากร จำนวน ๑ นาย บรรยายในหัวข้อการประมาณการข่าวกรองในมิติไซเบอร์ ในวันจันทร์ที่ ๒๗ ม.ค.๖๘ เวลา ๑๓๐๐ - ๑๕๐๐ ทั้งนี้ ได้มอบหมายให้ น.ท.คณิน ศิริธรากูล ร.น. หน.ปฏิบัติการ กปซ.ศซบ.สสท.ทร. หมายเลขโทรศัพท์ ๐ ๒๔๗๕ ๗๘๘๙ หรือ ๐๙ ๖๘๒๙ ๖๑๙๕ เป็นผู้ประสานงานในครั้งนี้ \n",
       "\n",
       "จึงเสนอมาเพื่อโปรดพิจารณาดำเนินการต่อไป  \n",
       "\n",
       "พล.ร.ต. ร.น. \n",
       "ผอ.ศซบ.สสท.ทร. ทำการแทน\n",
       "จก.สสท.ทร.</div>\n",
       "        </details>\n",
       "        "
      ],
      "text/plain": [
       "<IPython.core.display.HTML object>"
      ]
     },
     "metadata": {},
     "output_type": "display_data"
    },
    {
     "data": {
      "text/markdown": [
       "---"
      ],
      "text/plain": [
       "<IPython.core.display.Markdown object>"
      ]
     },
     "metadata": {},
     "output_type": "display_data"
    },
    {
     "data": {
      "text/markdown": [
       "#### 📄 **ไฟล์:** `013-2.pdf`"
      ],
      "text/plain": [
       "<IPython.core.display.Markdown object>"
      ]
     },
     "metadata": {},
     "output_type": "display_data"
    },
    {
     "data": {
      "text/html": [
       "\n",
       "        <details>\n",
       "            <summary>คลิกเพื่อดูผลลัพธ์ Raw OCR</summary>\n",
       "            <div style=\"background-color:#f7f7f7; border:1px solid #ddd; padding:10px; margin-top:10px; white-space: pre-wrap; word-wrap: break-word;\"># บันทึกข้อความ\n",
       "\n",
       "ส่วนราชการ... กกล.นชบ.ทหาร (แผนกรธุรการและกำลังพลฯ โทร.ทหาร ๕๗๒๑๗)\n",
       "\n",
       "วันที่ 17 ม.ค. 68\n",
       "\n",
       "เรื่อง ขอความเห็นชอบการลาออกจากราชการของนายทหารประทานในสังกัด นชบ.ทหาร\n",
       "\n",
       "เสนอ ศชล.นชบ.ทหาร\n",
       "\n",
       "สิ่งที่ส่งมาด้วย สำเนาใบลาออกจากราชการ จำนวน ๑ ฉบับ\n",
       "\n",
       "๑. ด้วย พ.อ.อ. วุฒินันท์ บุญล้ำ เจ้าหน้าที่ปฏิบัติการ แผนกปฏิบัติการที่ ๑ กปภ.๒ สปก.นชบ.ทหาร มีความประสงค์ขอลาออกจากราชการเพื่อไปปฏิบัติงานบริษัทเอกชน ตั้งแต่ ๑ ม.ค. ๖๘ เป็นต้นไป รายละเอียดตามสิ่งที่ส่งมาด้วย\n",
       "\n",
       "๒. กกล.นชบ.ทหาร จึงขอรับความเห็นชอบจาก กวก.ศชบ.ทหาร ในฐานะหัวหน้าสายวิทยาการได้กรุณาพิจารณาการขอลาออกของนายทหารประทาน ตามข้อ ๑ และกรุณาแจ้งผลการพิจารณา ให้ กกล.นชบ.ทหาร ทราบ เพื่อดำเนินการในส่วนที่เกี่ยวข้องต่อไป\n",
       "\n",
       "จึงเสนอมามาเพื่อกรุณาพิจารณา\n",
       "\n",
       "พ.อ.\n",
       "\n",
       "(สมชาย ธูปเช่ม)\n",
       "ผอ.กกล.นชบ.ทหาร</div>\n",
       "        </details>\n",
       "        <details>\n",
       "            <summary>คลิกเพื่อดู Ground Truth</summary>\n",
       "            <div style=\"background-color:#e6f7ff; border:1px solid #b3e0ff; padding:10px; margin-top:5px; white-space: pre-wrap; word-wrap: break-word;\">บันทึกข้อความ \n",
       "\n",
       "ส่วนราชการ กกล.นซบ.ทหาร (แผนกธุรการและกำลังพลฯ โทร.ทหาร ๕๗๒๑๗๔๗) \n",
       "ที่ กห ๐๓๐๑.๑๐.๑/๕๐\n",
       "วันที่ ๒๑ ม.ค. ๖๘ \n",
       "เรื่อง ขอความเห็นชอบการลาออกจากราชการของนายทหารประทวนในสังกัด นซบ.ทหาร \n",
       "\n",
       "เสนอ ศชล.นซบ.ทหาร \n",
       "\n",
       "สิ่งที่ส่งมาด้วย สำเนาใบลาออกจากราชการ จำนวน ๑ ฉบับ \n",
       "\n",
       "๑. ด้วย พ.อ.อ. วุฒินันท์ บุญล้ำ เจ้าหน้าที่ปฏิบัติการ แผนกปฏิบัติการที่ ๑ กปก.๒ สปก.นซบ.ทหาร มีความประสงค์ขอลาออกจากราชการเพื่อไปปฏิบัติงานบริษัทเอกชน ตั้งแต่ ๑ ม.ค. ๖๘ เป็นต้นไป รายละเอียดตามสิ่งที่ส่งมาด้วย \n",
       "\n",
       "๒. กกล.นซบ.ทหาร จึงขอรับความเห็นชอบจาก กวก.ศซบ.ทหาร ในฐานะหัวหน้าสายวิทยาการได้กรุณาพิจารณาการขอลาออกของนายทหารประทาน ตามข้อ ๑ และกรุณาแจ้งผลการพิจารณา ให้ กกล.นซบ.ทหาร ทราบ เพื่อดำเนินการในส่วนที่เกี่ยวข้องต่อไป \n",
       "\n",
       "จึงเสนอมาเพื่อกรุณาพิจารณา \n",
       "\n",
       "พ.อ.\n",
       "\n",
       "(สมชาย ธูปแช่ม) \n",
       "ผอ.กกล.นซบ.ทหาร</div>\n",
       "        </details>\n",
       "        "
      ],
      "text/plain": [
       "<IPython.core.display.HTML object>"
      ]
     },
     "metadata": {},
     "output_type": "display_data"
    },
    {
     "data": {
      "text/markdown": [
       "---"
      ],
      "text/plain": [
       "<IPython.core.display.Markdown object>"
      ]
     },
     "metadata": {},
     "output_type": "display_data"
    },
    {
     "data": {
      "text/markdown": [
       "#### 📄 **ไฟล์:** `015-2.pdf`"
      ],
      "text/plain": [
       "<IPython.core.display.Markdown object>"
      ]
     },
     "metadata": {},
     "output_type": "display_data"
    },
    {
     "data": {
      "text/html": [
       "\n",
       "        <details>\n",
       "            <summary>คลิกเพื่อดูผลลัพธ์ Raw OCR</summary>\n",
       "            <div style=\"background-color:#f7f7f7; border:1px solid #ddd; padding:10px; margin-top:10px; white-space: pre-wrap; word-wrap: break-word;\"># ด่วนมาก\n",
       "## บันทึกข้อความ\n",
       "ส่วนราชการ สบ.ทหาร (กสม.สนับ.ทหาร โทร.ทหาร ๕๗๒๑๘๖)\n",
       "\n",
       "วันที่ ๑๙ ก.ย. ๖๗\n",
       "\n",
       "เรื่อง ขอรับการสนับสนุนวิทยากร\n",
       "\n",
       "เรียน ผอ.ศชบ.ทหาร\n",
       "\n",
       "สิ่งที่ส่งมาด้วย ๑. กำหนดการและขอบเขตการบรรยายหลักสูตรนายทหารประมวลอาวุโส บก.ทหาร รุ่นที่ ๑๒\n",
       "ประจำปีงบประมาณ พ.ศ. ๒๕๖๘\n",
       "\n",
       "๒. แบบกรอกประวัติผู้บรรยายและความต้องการของผู้บรรยาย\n",
       "\n",
       "๑. สนับ.ทหาร กำหนดเปิดหลักสูตรนายทหารประมวลอาวุโส บก.ทหาร รุ่นที่ ๑๒ ประจำปี\n",
       "งบประมาณ พ.ศ. ๒๕๖๘ ตั้งแต่วันที่ ๘ ต.ค.-๒๐ ธ.ค. ๖๗ ณ ห้องเรียน ๔๐๓ ชั้น ๘ อาคาร ๙ บก.ทหาร.\n",
       "ซึ่งในหลักสูตรฯ ได้กำหนดการบรรยายให้ความรู้ในหัวข้อวิชาเกี่ยวกับความรู้ความมั่นคงปลอดภัยทางไซเบอร์\n",
       "รายละเอียดตามสิ่งที่ส่งมาด้วย ๑\n",
       "\n",
       "๒. การดำเนินการเปิดหลักสูตรฯ ตามข้อ ๑ สนับ.ทหาร มีความประสงค์ขอรับการสนับสนุน\n",
       "วิทยากรเพื่อบรรยายให้ความรู้แก่ผู้เข้ารับการฝึกอบรมฯ ในวัน เวลา และสถานที่ ดังกล่าว โดยขอความกรุณา\n",
       "ส่งแบบกรอกประวัติผู้บรรยายและความต้องการของผู้บรรยาย รายละเอียดตามสิ่งที่ส่งมาด้วย ๒ ถึง สนับ.ทหาร\n",
       "ภายในวันที่ ๒๐ ก.ย. ๖๗ ทั้งนี้ได้มอบหมายให้ พ.ต. อานนท์ ดามาพงศ์ ประจำแผนกวัดการศึกษาและ\n",
       "วิชาการ กสม.สนับ.ทหาร โทร.ทหาร ๕๗๒๑๘๒๑ เป็นผู้ประสานรายละเอียดโดยตรง\n",
       "\n",
       "จึงเรียนมาเพื่อกรุณาพิจารณา\n",
       "\n",
       "พล.ท.\n",
       "(จิรสักดิ์ พรรังสฤษฎ์)\n",
       "จาก.สนับ.ทหาร</div>\n",
       "        </details>\n",
       "        <details>\n",
       "            <summary>คลิกเพื่อดู Ground Truth</summary>\n",
       "            <div style=\"background-color:#e6f7ff; border:1px solid #b3e0ff; padding:10px; margin-top:5px; white-space: pre-wrap; word-wrap: break-word;\">ด่วนมาก \n",
       "\n",
       "บันทึกข้อความ \n",
       "\n",
       "ส่วนราชการ สบ.ทหาร (กสบ.สบ.ทหาร โทร.ทหาร.๕๗๒๑๘๒๑) \n",
       "ที่ กห ๐๓๑๒/๒๒๕๙\n",
       "วันที่ ๑๗ ก.ย. ๖๗ \n",
       "เรื่อง ขอรับการสนับสนุนวิทยากร \n",
       "\n",
       "เรียน ผอ.ศซบ.ทหาร \n",
       "\n",
       "สิ่งที่ส่งมาด้วย ๑. กำหนดการและขอบเขตการบรรยายหลักสูตรนายทหารประทวนอาวุโส บก.ทท. รุ่นที่ ๑๒ ประจำปีงบประมาณ พ.ศ. ๒๕๖๘ \n",
       "๒. แบบกรอกประวัติผู้บรรยายและความต้องการของผู้บรรยาย \n",
       "\n",
       "๑. สบ.ทหาร กำหนดเปิดหลักสูตรนายทหารประทวนอาวุโส บก.ทท. รุ่นที่ ๑๒ ประจำปีงบประมาณ พ.ศ. ๒๕๖๘ ตั้งแต่วันที่ ๘ ต.ค.-๒๐ ธ.ค. ๖๗ ณ ห้องเรียน ๘๐๓ ชั้น ๘ อาคาร ๙ บก.ทท. ซึ่งในหลักสูตรฯ ได้กำหนดการบรรยายให้ความรู้ในหัวข้อวิชาเกี่ยวกับความรู้ความมั่นคงปลอดภัยทางไซเบอร์ รายละเอียดตามสิ่งที่ส่งมาด้วย ๑ \n",
       "\n",
       "๒. การดำเนินการเปิดหลักสูตรฯ ตามข้อ ๑ สบ.ทหาร มีความประสงค์ขอรับการสนับสนุน วิทยากรเพื่อบรรยายให้ความรู้แก่ผู้เข้ารับการฝึกอบรมฯ ในวัน เวลา และสถานที่ ดังกล่าว โดยขอความกรุณา ส่งแบบกรอกประวัติผู้บรรยายและความต้องการของผู้บรรยาย รายละเอียดตามสิ่งที่ส่งมาด้วย ๒ ถึง สบ.ทหาร ภายในวันที่ ๒๐ ก.ย. ๖๗ ทั้งนี้ได้มอบหมายให้ พ.ต. อานนท์ ดามาพงศ์ ประจำแผนกจัดการศึกษาและวิชาการ กสบ.สบ.ทหาร โทร.ทหาร ๕๗๒๑๘๖๑ เป็นผู้ประสานรายละเอียดโดยตรง \n",
       "\n",
       "จึงเรียนมาเพื่อกรุณาพิจารณา \n",
       "\n",
       "พล.ท. \n",
       "\n",
       "(จิรศักดิ์ พรรังสฤษฎ์) \n",
       "จก.สบ.ทหาร</div>\n",
       "        </details>\n",
       "        "
      ],
      "text/plain": [
       "<IPython.core.display.HTML object>"
      ]
     },
     "metadata": {},
     "output_type": "display_data"
    }
   ],
   "source": [
    "# Focus on Raw OCR-Internal Letter\n",
    "\n",
    "pdf_files = sorted(list(PDF_LETTER_DIR.glob(\"*.pdf\")))\n",
    "\n",
    "if not pdf_files:\n",
    "    display(Markdown(f\"<font color='red'>**ไม่พบไฟล์ PDF ในโฟลเดอร์ `{PDF_LETTER_DIR}` กรุณาตรวจสอบว่า Path ถูกต้อง**</font>\"))\n",
    "else:\n",
    "    display(Markdown(f\"### 🚀 เริ่มการทดสอบระบบ OCR กับไฟล์ทั้งหมด {len(pdf_files)} ไฟล์\"))\n",
    "    \n",
    "    results_list = []\n",
    "    \n",
    "    for pdf_path in tqdm(pdf_files, desc=\"กำลังประมวลผลไฟล์\"):\n",
    "\n",
    "        # run OCR\n",
    "        ocr_result, exec_time = run_typhoon_ocr(pdf_path)\n",
    "        raw_ocr_text = ocr_result.get(\"text\", \"\")\n",
    "        \n",
    "        # load Ground Truth\n",
    "        pdf_stem = pdf_path.stem\n",
    "        gt_path = GROUND_TRUTH_DIR / f\"{pdf_stem}.txt\"\n",
    "        print(f\"   - PDF Stem: '{pdf_stem}'\")\n",
    "        print(f\"   - กำลังมองหา Ground Truth ที่: '{gt_path}'\")\n",
    "        \n",
    "        ground_truth_text = \"\"\n",
    "        if gt_path.is_file():\n",
    "            print(f\"   - ✅ พบไฟล์ Ground Truth!\")\n",
    "            try:\n",
    "                ground_truth_text = gt_path.read_text(encoding=\"utf-8\").strip()\n",
    "                if ground_truth_text:\n",
    "                    print(f\"     - SUCCESS: อ่านเนื้อหาสำเร็จ มี {len(ground_truth_text)} ตัวอักษร\")\n",
    "                else:\n",
    "                    print(f\"     - WARNING: อ่านไฟล์สำเร็จ แต่ไฟล์ว่างเปล่า!\")\n",
    "            except Exception as e:\n",
    "                print(f\"     - ❌ ERROR: เกิดข้อผิดพลาดในการอ่านไฟล์: {e}\")\n",
    "        else:\n",
    "            print(f\"   - ❌ ไม่พบไฟล์ Ground Truth\")\n",
    "        \n",
    "        # Metrics Calculation\n",
    "        metrics = calculate_metrics(raw_ocr_text, ground_truth_text)\n",
    "\n",
    "        results_list.append({\n",
    "            \"File\": pdf_path.name,\n",
    "            \"Time (s)\": exec_time,\n",
    "            \"WER\": metrics.get('wer'), \n",
    "            \"CER\": metrics.get('cer'), \n",
    "            \"Raw OCR Text\": raw_ocr_text,\n",
    "            \"Ground Truth Text\": ground_truth_text \n",
    "        })\n",
    "        \n",
    "\n",
    "    df_results = pd.DataFrame(results_list)\n",
    "\n",
    "    df_results[\"WAcc\"] = 1 - df_results[\"WER\"].fillna(1) # ถ้า WER เป็น None ให้ถือว่า Error 100%\n",
    "    df_results[\"CAcc\"] = 1 - df_results[\"CER\"].fillna(1) # ถ้า CER เป็น None ให้ถือว่า Error 100%\n",
    "    display(Markdown(f\"<hr>\"))\n",
    "    display(Markdown(f\"### 📊 ตารางสรุปผลการทดสอบ (Raw OCR Accuracy)\"))\n",
    "\n",
    "    display_cols = [\"File\", \"Time (s)\", \"CER\", \"WER\", \"CAcc\", \"WAcc\"]\n",
    "\n",
    "    def safe_percent_format(val):\n",
    "        if isinstance(val, (int, float)) and pd.notna(val):\n",
    "            return f\"{val:.2%}\"\n",
    "        return \"N/A\"\n",
    "\n",
    "    has_numeric_metrics = pd.to_numeric(df_results[\"CER\"], errors='coerce').notna().any()\n",
    "\n",
    "    styler = df_results[display_cols].style.format({\n",
    "        \"Time (s)\": \"{:.2f}\",\n",
    "        \"CER\": safe_percent_format,\n",
    "        \"WER\": safe_percent_format,\n",
    "        \"CAcc\": safe_percent_format,\n",
    "        \"WAcc\": safe_percent_format,\n",
    "    }).set_properties(**{'text-align': 'left'}).set_table_styles(\n",
    "        [dict(selector='th', props=[('text-align', 'left')])]\n",
    "    )\n",
    "\n",
    "    if has_numeric_metrics:\n",
    "        styler.background_gradient(cmap='RdYlGn_r', subset=[\"CER\", \"WER\"])\n",
    "        styler.background_gradient(cmap='YlGn', subset=[\"CAcc\", \"WAcc\"])\n",
    "    \n",
    "    display(styler)\n",
    "    display(Markdown(f\"### 📈 ค่าเฉลี่ยรวม\"))\n",
    "    \n",
    "    avg_metrics = df_results[[\"Time (s)\", \"CAcc\", \"WAcc\"]].mean()\n",
    "\n",
    "    display(Markdown(f\"- **เวลาประมวลผลเฉลี่ย:** `{avg_metrics['Time (s)']:.2f}` วินาที/ไฟล์\"))\n",
    "    if pd.notna(avg_metrics['CAcc']):\n",
    "        display(Markdown(f\"- **Character Accuracy (CAcc) เฉลี่ย:** `{avg_metrics['CAcc']:.2%}`\"))\n",
    "        display(Markdown(f\"- **Word Accuracy (WAcc) เฉลี่ย:** `{avg_metrics['WAcc']:.2%}`\"))\n",
    "    else:\n",
    "        display(Markdown(f\"- **Accuracy:** `N/A (ไม่มีข้อมูล Ground Truth)`\"))\n",
    "\n",
    "    # OCR Result Display\n",
    "    display(Markdown(f\"<hr>\"))\n",
    "    display(Markdown(f\"### 📝 ผลลัพธ์เปรียบเทียบ (Raw OCR vs Ground Truth)\"))\n",
    "    \n",
    "    for _, row in df_results.iterrows():\n",
    "        display(Markdown(f\"---\"))\n",
    "        display(Markdown(f\"#### 📄 **ไฟล์:** `{row['File']}`\"))\n",
    "\n",
    "        html_output = f\"\"\"\n",
    "        <details>\n",
    "            <summary>คลิกเพื่อดูผลลัพธ์ Raw OCR</summary>\n",
    "            <div style=\"background-color:#f7f7f7; border:1px solid #ddd; padding:10px; margin-top:10px; white-space: pre-wrap; word-wrap: break-word;\">{row['Raw OCR Text']}</div>\n",
    "        </details>\n",
    "        <details>\n",
    "            <summary>คลิกเพื่อดู Ground Truth</summary>\n",
    "            <div style=\"background-color:#e6f7ff; border:1px solid #b3e0ff; padding:10px; margin-top:5px; white-space: pre-wrap; word-wrap: break-word;\">{row['Ground Truth Text']}</div>\n",
    "        </details>\n",
    "        \"\"\"\n",
    "        display(HTML(html_output))"
   ]
  },
  {
   "cell_type": "code",
   "execution_count": 4,
   "id": "ee572a91",
   "metadata": {},
   "outputs": [
    {
     "data": {
      "text/markdown": [
       "### 🚀 เริ่มการทดสอบระบบ OCR กับไฟล์ทั้งหมด 10 ไฟล์"
      ],
      "text/plain": [
       "<IPython.core.display.Markdown object>"
      ]
     },
     "metadata": {},
     "output_type": "display_data"
    },
    {
     "data": {
      "application/vnd.jupyter.widget-view+json": {
       "model_id": "ead5d36216ff48ec99b45cea5cb4d0e5",
       "version_major": 2,
       "version_minor": 0
      },
      "text/plain": [
       "กำลังประมวลผลไฟล์:   0%|          | 0/10 [00:00<?, ?it/s]"
      ]
     },
     "metadata": {},
     "output_type": "display_data"
    },
    {
     "name": "stdout",
     "output_type": "stream",
     "text": [
      "   - ✅ พบไฟล์ Ground Truth!\n",
      "     - SUCCESS: อ่านเนื้อหาสำเร็จ มี 869 ตัวอักษร\n",
      "   - ✅ พบไฟล์ Ground Truth!\n",
      "     - SUCCESS: อ่านเนื้อหาสำเร็จ มี 773 ตัวอักษร\n",
      "   - ✅ พบไฟล์ Ground Truth!\n",
      "     - SUCCESS: อ่านเนื้อหาสำเร็จ มี 1127 ตัวอักษร\n",
      "   - ✅ พบไฟล์ Ground Truth!\n",
      "     - SUCCESS: อ่านเนื้อหาสำเร็จ มี 1338 ตัวอักษร\n",
      "   - ✅ พบไฟล์ Ground Truth!\n",
      "     - SUCCESS: อ่านเนื้อหาสำเร็จ มี 846 ตัวอักษร\n",
      "   - ✅ พบไฟล์ Ground Truth!\n",
      "     - SUCCESS: อ่านเนื้อหาสำเร็จ มี 1836 ตัวอักษร\n",
      "   - ✅ พบไฟล์ Ground Truth!\n",
      "     - SUCCESS: อ่านเนื้อหาสำเร็จ มี 726 ตัวอักษร\n",
      "   - ✅ พบไฟล์ Ground Truth!\n",
      "     - SUCCESS: อ่านเนื้อหาสำเร็จ มี 895 ตัวอักษร\n",
      "   - ✅ พบไฟล์ Ground Truth!\n",
      "     - SUCCESS: อ่านเนื้อหาสำเร็จ มี 761 ตัวอักษร\n",
      "   - ✅ พบไฟล์ Ground Truth!\n",
      "     - SUCCESS: อ่านเนื้อหาสำเร็จ มี 1136 ตัวอักษร\n"
     ]
    },
    {
     "data": {
      "text/markdown": [
       "<hr>"
      ],
      "text/plain": [
       "<IPython.core.display.Markdown object>"
      ]
     },
     "metadata": {},
     "output_type": "display_data"
    },
    {
     "data": {
      "text/markdown": [
       "### 📊 ตารางสรุปผลการทดสอบ"
      ],
      "text/plain": [
       "<IPython.core.display.Markdown object>"
      ]
     },
     "metadata": {},
     "output_type": "display_data"
    },
    {
     "data": {
      "text/html": [
       "<style type=\"text/css\">\n",
       "#T_4bbd7 th {\n",
       "  text-align: left;\n",
       "}\n",
       "#T_4bbd7_row0_col0, #T_4bbd7_row0_col1, #T_4bbd7_row1_col0, #T_4bbd7_row1_col1, #T_4bbd7_row2_col0, #T_4bbd7_row2_col1, #T_4bbd7_row3_col0, #T_4bbd7_row3_col1, #T_4bbd7_row4_col0, #T_4bbd7_row4_col1, #T_4bbd7_row5_col0, #T_4bbd7_row5_col1, #T_4bbd7_row6_col0, #T_4bbd7_row6_col1, #T_4bbd7_row7_col0, #T_4bbd7_row7_col1, #T_4bbd7_row8_col0, #T_4bbd7_row8_col1, #T_4bbd7_row9_col0, #T_4bbd7_row9_col1 {\n",
       "  text-align: left;\n",
       "}\n",
       "#T_4bbd7_row0_col2 {\n",
       "  background-color: #36a657;\n",
       "  color: #f1f1f1;\n",
       "  text-align: left;\n",
       "}\n",
       "#T_4bbd7_row0_col3 {\n",
       "  background-color: #addc6f;\n",
       "  color: #000000;\n",
       "  text-align: left;\n",
       "}\n",
       "#T_4bbd7_row0_col4 {\n",
       "  background-color: #036b38;\n",
       "  color: #f1f1f1;\n",
       "  text-align: left;\n",
       "}\n",
       "#T_4bbd7_row0_col5 {\n",
       "  background-color: #329850;\n",
       "  color: #f1f1f1;\n",
       "  text-align: left;\n",
       "}\n",
       "#T_4bbd7_row1_col2 {\n",
       "  background-color: #feda86;\n",
       "  color: #000000;\n",
       "  text-align: left;\n",
       "}\n",
       "#T_4bbd7_row1_col3 {\n",
       "  background-color: #e65036;\n",
       "  color: #f1f1f1;\n",
       "  text-align: left;\n",
       "}\n",
       "#T_4bbd7_row1_col4 {\n",
       "  background-color: #a7db8c;\n",
       "  color: #000000;\n",
       "  text-align: left;\n",
       "}\n",
       "#T_4bbd7_row1_col5 {\n",
       "  background-color: #f0f9b4;\n",
       "  color: #000000;\n",
       "  text-align: left;\n",
       "}\n",
       "#T_4bbd7_row2_col2, #T_4bbd7_row7_col3 {\n",
       "  background-color: #a50026;\n",
       "  color: #f1f1f1;\n",
       "  text-align: left;\n",
       "}\n",
       "#T_4bbd7_row2_col3 {\n",
       "  background-color: #feea9b;\n",
       "  color: #000000;\n",
       "  text-align: left;\n",
       "}\n",
       "#T_4bbd7_row2_col4, #T_4bbd7_row7_col5 {\n",
       "  background-color: #ffffe5;\n",
       "  color: #000000;\n",
       "  text-align: left;\n",
       "}\n",
       "#T_4bbd7_row2_col5 {\n",
       "  background-color: #95d385;\n",
       "  color: #000000;\n",
       "  text-align: left;\n",
       "}\n",
       "#T_4bbd7_row3_col2 {\n",
       "  background-color: #8ecf67;\n",
       "  color: #000000;\n",
       "  text-align: left;\n",
       "}\n",
       "#T_4bbd7_row3_col3 {\n",
       "  background-color: #fdb567;\n",
       "  color: #000000;\n",
       "  text-align: left;\n",
       "}\n",
       "#T_4bbd7_row3_col4 {\n",
       "  background-color: #268846;\n",
       "  color: #f1f1f1;\n",
       "  text-align: left;\n",
       "}\n",
       "#T_4bbd7_row3_col5 {\n",
       "  background-color: #c3e698;\n",
       "  color: #000000;\n",
       "  text-align: left;\n",
       "}\n",
       "#T_4bbd7_row4_col2 {\n",
       "  background-color: #016a38;\n",
       "  color: #f1f1f1;\n",
       "  text-align: left;\n",
       "}\n",
       "#T_4bbd7_row4_col3, #T_4bbd7_row6_col2 {\n",
       "  background-color: #006837;\n",
       "  color: #f1f1f1;\n",
       "  text-align: left;\n",
       "}\n",
       "#T_4bbd7_row4_col4 {\n",
       "  background-color: #004629;\n",
       "  color: #f1f1f1;\n",
       "  text-align: left;\n",
       "}\n",
       "#T_4bbd7_row4_col5, #T_4bbd7_row6_col4 {\n",
       "  background-color: #004529;\n",
       "  color: #f1f1f1;\n",
       "  text-align: left;\n",
       "}\n",
       "#T_4bbd7_row5_col2 {\n",
       "  background-color: #fdc574;\n",
       "  color: #000000;\n",
       "  text-align: left;\n",
       "}\n",
       "#T_4bbd7_row5_col3 {\n",
       "  background-color: #fff2aa;\n",
       "  color: #000000;\n",
       "  text-align: left;\n",
       "}\n",
       "#T_4bbd7_row5_col4 {\n",
       "  background-color: #b8e293;\n",
       "  color: #000000;\n",
       "  text-align: left;\n",
       "}\n",
       "#T_4bbd7_row5_col5 {\n",
       "  background-color: #89ce80;\n",
       "  color: #000000;\n",
       "  text-align: left;\n",
       "}\n",
       "#T_4bbd7_row6_col3 {\n",
       "  background-color: #04703b;\n",
       "  color: #f1f1f1;\n",
       "  text-align: left;\n",
       "}\n",
       "#T_4bbd7_row6_col5 {\n",
       "  background-color: #00492b;\n",
       "  color: #f1f1f1;\n",
       "  text-align: left;\n",
       "}\n",
       "#T_4bbd7_row7_col2 {\n",
       "  background-color: #e24731;\n",
       "  color: #f1f1f1;\n",
       "  text-align: left;\n",
       "}\n",
       "#T_4bbd7_row7_col4 {\n",
       "  background-color: #f4fbb7;\n",
       "  color: #000000;\n",
       "  text-align: left;\n",
       "}\n",
       "#T_4bbd7_row8_col2 {\n",
       "  background-color: #b3df72;\n",
       "  color: #000000;\n",
       "  text-align: left;\n",
       "}\n",
       "#T_4bbd7_row8_col3 {\n",
       "  background-color: #abdb6d;\n",
       "  color: #000000;\n",
       "  text-align: left;\n",
       "}\n",
       "#T_4bbd7_row8_col4 {\n",
       "  background-color: #359c53;\n",
       "  color: #f1f1f1;\n",
       "  text-align: left;\n",
       "}\n",
       "#T_4bbd7_row8_col5 {\n",
       "  background-color: #31974f;\n",
       "  color: #f1f1f1;\n",
       "  text-align: left;\n",
       "}\n",
       "#T_4bbd7_row9_col2 {\n",
       "  background-color: #fafdb8;\n",
       "  color: #000000;\n",
       "  text-align: left;\n",
       "}\n",
       "#T_4bbd7_row9_col3 {\n",
       "  background-color: #e75337;\n",
       "  color: #f1f1f1;\n",
       "  text-align: left;\n",
       "}\n",
       "#T_4bbd7_row9_col4 {\n",
       "  background-color: #72c376;\n",
       "  color: #000000;\n",
       "  text-align: left;\n",
       "}\n",
       "#T_4bbd7_row9_col5 {\n",
       "  background-color: #eff9b3;\n",
       "  color: #000000;\n",
       "  text-align: left;\n",
       "}\n",
       "</style>\n",
       "<table id=\"T_4bbd7\">\n",
       "  <thead>\n",
       "    <tr>\n",
       "      <th class=\"blank level0\" >&nbsp;</th>\n",
       "      <th id=\"T_4bbd7_level0_col0\" class=\"col_heading level0 col0\" >File</th>\n",
       "      <th id=\"T_4bbd7_level0_col1\" class=\"col_heading level0 col1\" >Time (s)</th>\n",
       "      <th id=\"T_4bbd7_level0_col2\" class=\"col_heading level0 col2\" >CER (After)</th>\n",
       "      <th id=\"T_4bbd7_level0_col3\" class=\"col_heading level0 col3\" >WER (After)</th>\n",
       "      <th id=\"T_4bbd7_level0_col4\" class=\"col_heading level0 col4\" >CAcc (After)</th>\n",
       "      <th id=\"T_4bbd7_level0_col5\" class=\"col_heading level0 col5\" >WAcc (After)</th>\n",
       "    </tr>\n",
       "  </thead>\n",
       "  <tbody>\n",
       "    <tr>\n",
       "      <th id=\"T_4bbd7_level0_row0\" class=\"row_heading level0 row0\" >0</th>\n",
       "      <td id=\"T_4bbd7_row0_col0\" class=\"data row0 col0\" >000-2.pdf</td>\n",
       "      <td id=\"T_4bbd7_row0_col1\" class=\"data row0 col1\" >7.85</td>\n",
       "      <td id=\"T_4bbd7_row0_col2\" class=\"data row0 col2\" >1.83%</td>\n",
       "      <td id=\"T_4bbd7_row0_col3\" class=\"data row0 col3\" >18.03%</td>\n",
       "      <td id=\"T_4bbd7_row0_col4\" class=\"data row0 col4\" >98.17%</td>\n",
       "      <td id=\"T_4bbd7_row0_col5\" class=\"data row0 col5\" >81.97%</td>\n",
       "    </tr>\n",
       "    <tr>\n",
       "      <th id=\"T_4bbd7_level0_row1\" class=\"row_heading level0 row1\" >1</th>\n",
       "      <td id=\"T_4bbd7_row1_col0\" class=\"data row1 col0\" >001-2.pdf</td>\n",
       "      <td id=\"T_4bbd7_row1_col1\" class=\"data row1 col1\" >5.17</td>\n",
       "      <td id=\"T_4bbd7_row1_col2\" class=\"data row1 col2\" >6.49%</td>\n",
       "      <td id=\"T_4bbd7_row1_col3\" class=\"data row1 col3\" >40.00%</td>\n",
       "      <td id=\"T_4bbd7_row1_col4\" class=\"data row1 col4\" >93.51%</td>\n",
       "      <td id=\"T_4bbd7_row1_col5\" class=\"data row1 col5\" >60.00%</td>\n",
       "    </tr>\n",
       "    <tr>\n",
       "      <th id=\"T_4bbd7_level0_row2\" class=\"row_heading level0 row2\" >2</th>\n",
       "      <td id=\"T_4bbd7_row2_col0\" class=\"data row2 col0\" >003-2.pdf</td>\n",
       "      <td id=\"T_4bbd7_row2_col1\" class=\"data row2 col1\" >10.11</td>\n",
       "      <td id=\"T_4bbd7_row2_col2\" class=\"data row2 col2\" >10.34%</td>\n",
       "      <td id=\"T_4bbd7_row2_col3\" class=\"data row2 col3\" >28.57%</td>\n",
       "      <td id=\"T_4bbd7_row2_col4\" class=\"data row2 col4\" >89.66%</td>\n",
       "      <td id=\"T_4bbd7_row2_col5\" class=\"data row2 col5\" >71.43%</td>\n",
       "    </tr>\n",
       "    <tr>\n",
       "      <th id=\"T_4bbd7_level0_row3\" class=\"row_heading level0 row3\" >3</th>\n",
       "      <td id=\"T_4bbd7_row3_col0\" class=\"data row3 col0\" >005-2.pdf</td>\n",
       "      <td id=\"T_4bbd7_row3_col1\" class=\"data row3 col1\" >9.26</td>\n",
       "      <td id=\"T_4bbd7_row3_col2\" class=\"data row3 col2\" >3.06%</td>\n",
       "      <td id=\"T_4bbd7_row3_col3\" class=\"data row3 col3\" >33.33%</td>\n",
       "      <td id=\"T_4bbd7_row3_col4\" class=\"data row3 col4\" >96.94%</td>\n",
       "      <td id=\"T_4bbd7_row3_col5\" class=\"data row3 col5\" >66.67%</td>\n",
       "    </tr>\n",
       "    <tr>\n",
       "      <th id=\"T_4bbd7_level0_row4\" class=\"row_heading level0 row4\" >4</th>\n",
       "      <td id=\"T_4bbd7_row4_col0\" class=\"data row4 col0\" >008-2.pdf</td>\n",
       "      <td id=\"T_4bbd7_row4_col1\" class=\"data row4 col1\" >5.74</td>\n",
       "      <td id=\"T_4bbd7_row4_col2\" class=\"data row4 col2\" >0.50%</td>\n",
       "      <td id=\"T_4bbd7_row4_col3\" class=\"data row4 col3\" >5.00%</td>\n",
       "      <td id=\"T_4bbd7_row4_col4\" class=\"data row4 col4\" >99.50%</td>\n",
       "      <td id=\"T_4bbd7_row4_col5\" class=\"data row4 col5\" >95.00%</td>\n",
       "    </tr>\n",
       "    <tr>\n",
       "      <th id=\"T_4bbd7_level0_row5\" class=\"row_heading level0 row5\" >5</th>\n",
       "      <td id=\"T_4bbd7_row5_col0\" class=\"data row5 col0\" >009-2.pdf</td>\n",
       "      <td id=\"T_4bbd7_row5_col1\" class=\"data row5 col1\" >11.16</td>\n",
       "      <td id=\"T_4bbd7_row5_col2\" class=\"data row5 col2\" >6.93%</td>\n",
       "      <td id=\"T_4bbd7_row5_col3\" class=\"data row5 col3\" >27.38%</td>\n",
       "      <td id=\"T_4bbd7_row5_col4\" class=\"data row5 col4\" >93.07%</td>\n",
       "      <td id=\"T_4bbd7_row5_col5\" class=\"data row5 col5\" >72.62%</td>\n",
       "    </tr>\n",
       "    <tr>\n",
       "      <th id=\"T_4bbd7_level0_row6\" class=\"row_heading level0 row6\" >6</th>\n",
       "      <td id=\"T_4bbd7_row6_col0\" class=\"data row6 col0\" >010-2.pdf</td>\n",
       "      <td id=\"T_4bbd7_row6_col1\" class=\"data row6 col1\" >6.15</td>\n",
       "      <td id=\"T_4bbd7_row6_col2\" class=\"data row6 col2\" >0.44%</td>\n",
       "      <td id=\"T_4bbd7_row6_col3\" class=\"data row6 col3\" >5.77%</td>\n",
       "      <td id=\"T_4bbd7_row6_col4\" class=\"data row6 col4\" >99.56%</td>\n",
       "      <td id=\"T_4bbd7_row6_col5\" class=\"data row6 col5\" >94.23%</td>\n",
       "    </tr>\n",
       "    <tr>\n",
       "      <th id=\"T_4bbd7_level0_row7\" class=\"row_heading level0 row7\" >7</th>\n",
       "      <td id=\"T_4bbd7_row7_col0\" class=\"data row7 col0\" >012-2.pdf</td>\n",
       "      <td id=\"T_4bbd7_row7_col1\" class=\"data row7 col1\" >6.36</td>\n",
       "      <td id=\"T_4bbd7_row7_col2\" class=\"data row7 col2\" >8.98%</td>\n",
       "      <td id=\"T_4bbd7_row7_col3\" class=\"data row7 col3\" >46.38%</td>\n",
       "      <td id=\"T_4bbd7_row7_col4\" class=\"data row7 col4\" >91.02%</td>\n",
       "      <td id=\"T_4bbd7_row7_col5\" class=\"data row7 col5\" >53.62%</td>\n",
       "    </tr>\n",
       "    <tr>\n",
       "      <th id=\"T_4bbd7_level0_row8\" class=\"row_heading level0 row8\" >8</th>\n",
       "      <td id=\"T_4bbd7_row8_col0\" class=\"data row8 col0\" >013-2.pdf</td>\n",
       "      <td id=\"T_4bbd7_row8_col1\" class=\"data row8 col1\" >9.31</td>\n",
       "      <td id=\"T_4bbd7_row8_col2\" class=\"data row8 col2\" >3.68%</td>\n",
       "      <td id=\"T_4bbd7_row8_col3\" class=\"data row8 col3\" >17.86%</td>\n",
       "      <td id=\"T_4bbd7_row8_col4\" class=\"data row8 col4\" >96.32%</td>\n",
       "      <td id=\"T_4bbd7_row8_col5\" class=\"data row8 col5\" >82.14%</td>\n",
       "    </tr>\n",
       "    <tr>\n",
       "      <th id=\"T_4bbd7_level0_row9\" class=\"row_heading level0 row9\" >9</th>\n",
       "      <td id=\"T_4bbd7_row9_col0\" class=\"data row9 col0\" >015-2.pdf</td>\n",
       "      <td id=\"T_4bbd7_row9_col1\" class=\"data row9 col1\" >9.08</td>\n",
       "      <td id=\"T_4bbd7_row9_col2\" class=\"data row9 col2\" >5.25%</td>\n",
       "      <td id=\"T_4bbd7_row9_col3\" class=\"data row9 col3\" >39.77%</td>\n",
       "      <td id=\"T_4bbd7_row9_col4\" class=\"data row9 col4\" >94.75%</td>\n",
       "      <td id=\"T_4bbd7_row9_col5\" class=\"data row9 col5\" >60.23%</td>\n",
       "    </tr>\n",
       "  </tbody>\n",
       "</table>\n"
      ],
      "text/plain": [
       "<pandas.io.formats.style.Styler at 0x7fb631d39100>"
      ]
     },
     "metadata": {},
     "output_type": "display_data"
    },
    {
     "data": {
      "text/markdown": [
       "### 📈 ค่าเฉลี่ยรวม"
      ],
      "text/plain": [
       "<IPython.core.display.Markdown object>"
      ]
     },
     "metadata": {},
     "output_type": "display_data"
    },
    {
     "data": {
      "text/markdown": [
       "- **เวลาประมวลผลเฉลี่ย:** `8.02` วินาที/ไฟล์"
      ],
      "text/plain": [
       "<IPython.core.display.Markdown object>"
      ]
     },
     "metadata": {},
     "output_type": "display_data"
    },
    {
     "data": {
      "text/markdown": [
       "- **Character Accuracy (CAcc) เฉลี่ย:** `95.25%` (ความถูกต้องระดับตัวอักษร)"
      ],
      "text/plain": [
       "<IPython.core.display.Markdown object>"
      ]
     },
     "metadata": {},
     "output_type": "display_data"
    },
    {
     "data": {
      "text/markdown": [
       "- **Word Accuracy (WAcc) เฉลี่ย:** `73.79%` (ความถูกต้องระดับคำ)"
      ],
      "text/plain": [
       "<IPython.core.display.Markdown object>"
      ]
     },
     "metadata": {},
     "output_type": "display_data"
    },
    {
     "data": {
      "text/markdown": [
       "<hr>"
      ],
      "text/plain": [
       "<IPython.core.display.Markdown object>"
      ]
     },
     "metadata": {},
     "output_type": "display_data"
    },
    {
     "data": {
      "text/markdown": [
       "### 📝 ผลลัพธ์ OCR ฉบับเต็ม (เทียบก่อน-หลัง Post-processing)"
      ],
      "text/plain": [
       "<IPython.core.display.Markdown object>"
      ]
     },
     "metadata": {},
     "output_type": "display_data"
    },
    {
     "data": {
      "text/markdown": [
       "---"
      ],
      "text/plain": [
       "<IPython.core.display.Markdown object>"
      ]
     },
     "metadata": {},
     "output_type": "display_data"
    },
    {
     "data": {
      "text/markdown": [
       "#### 📄 **ไฟล์:** `000-2.pdf`"
      ],
      "text/plain": [
       "<IPython.core.display.Markdown object>"
      ]
     },
     "metadata": {},
     "output_type": "display_data"
    },
    {
     "data": {
      "text/html": [
       "\n",
       "        <details>\n",
       "            <summary>คลิกเพื่อดูผลลัพธ์ OCR (Processed Text)</summary>\n",
       "            <div style=\"background-color:#f7f7f7; border:1px solid #ddd; padding:10px; margin-top:10px; white-space: pre-wrap; word-wrap: break-word;\"> ด่วนมาก บันทึกข้อความ\n",
       "\n",
       "ส่วนราชการ... กธก.ศซบ.ทหาร (แผนกธุรการกำลังพลฯ.โทร.ทหาร ๕๗๒๑๗๔๗)\n",
       "\n",
       "ที่... กห ๐๓๐๑.๑๐.๑/๒๖๐ วันที่... ๓ พ.ค. ๖๗\n",
       "เรื่อง... ขอความเห็นชอบแต่งตั้ง ลชท.รอง...\n",
       "\n",
       "เสนอ กวก.ศซบ.ทหาร\n",
       "\n",
       "สิ่งที่ส่งมาด้วย ๑. เอกสารประกอบการขอ ลชท.รอง จำนวน ๖ ชุด\n",
       "๒. ประวัติย่อข้าราชการ จำนวน ๖ ชุด\n",
       "\n",
       "๑. ด้วย กธก.ศซบ.ทหาร มีความประสงค์ขอแต่งตั้ง ลชท.รอง ให้กับข้าราชการ จำนวน ๖ นาย เนื่องจากได้สำเร็จการฝึกอบรมหลักสูตรตามแนวทางรับราชการของสายวิทยาการความมั่นคงปลอดภัยทางไซเบอร์ เป็นที่เรียบร้อย รายละเอียดตามสิ่งที่ส่งมาด้วย ๑ และ ๒\n",
       "\n",
       "๒. เพื่อให้การดำเนินการแต่งตั้ง ลชท.รอง ตามข้อ ๑ เป็นไปด้วยความเรียบร้อย จึงขอให้ กวก.ศซบ.ทหาร ในฐานะผู้ดูแลสายวิทยาการความมั่นคงปลอดภัยทางไซเบอร์ กรุณาพิจารณาให้ความเห็นชอบ หากได้ผลประการใดกรุณาแจ้งให้ กธก.ศซบ.ทหารทราบ เพื่อดำเนินการในส่วนที่เกี่ยวข้องต่อไป\n",
       "\n",
       "จึงเสนอมามาเพื่อพิจารณา\n",
       "\n",
       "พ.อ.\n",
       "\n",
       "(พรเทพ ไวยปุระ)\n",
       "ผช.ผอ.กรภ.ศซบ.ทหาร ปฏิบัติหน้าที่\n",
       "กก.กธก.ศซบ.ทหาร</div>\n",
       "        </details>\n",
       "        "
      ],
      "text/plain": [
       "<IPython.core.display.HTML object>"
      ]
     },
     "metadata": {},
     "output_type": "display_data"
    },
    {
     "data": {
      "text/html": [
       "\n",
       "        <details>\n",
       "            <summary>คลิกเพื่อดู Ground Truth Text</summary>\n",
       "            <div style=\"background-color:#e6ffed; border:1px solid #b7e1cd; padding:10px; margin-top:5px; white-space: pre-wrap; word-wrap: break-word;\">ด่วนมาก\n",
       "\n",
       "บันทึกข้อความ\n",
       "\n",
       "ส่วนราชการ กธก.ศซบ.ทหาร (แผนกธุรการกำลังพลฯ.โทร.ทหาร ๕๗๒๑๗๔๗)\n",
       "ที่ กห ๐๓๐๑.๑๐.๑/๒๖๐\n",
       "วันที่ ๓ พ.ค. ๖๗\n",
       "เรื่อง ขอความเห็นชอบแต่งตั้ง ลชท.รอง\n",
       "\n",
       "เสนอ กวก.ศซบ.ทหาร\n",
       "\n",
       "สิ่งที่ส่งมาด้วย ๑. เอกสารประกอบการขอ ลชท.รอง จำนวน ๖ ชุด \n",
       "๒. ประวัติย่อข้าราชการ จำนวน ๖ ชุด\n",
       "\n",
       "๑. ด้วย กธก.ศซบ.ทหาร มีความประสงค์ขอแต่งตั้ง ลชท.รอง ให้กับข้าราชการ จำนวน ๖ นาย เนื่องจากได้สำเร็จการฝึกอบรมหลักสูตรตามแนวทางรับราชการของสายวิทยาการความมั่นคงปลอดภัยทางไซเบอร์ เป็นที่เรียบร้อย รายละเอียดตามสิ่งที่ส่งมาด้วย ๑ และ ๒\n",
       "\n",
       "๒. เพื่อให้การดำเนินการแต่งตั้ง ลชท.รอง ตามข้อ ๑ เป็นไปด้วยความเรียบร้อย จึงขอให้ กวก.ศซบ.ทหาร ในฐานะผู้ดูแลสายวิทยาการความมั่นคงปลอดภัยทางไซเบอร์ กรุณาพิจารณาให้ความเห็นชอบ หากได้ผลประการใดกรุณาแจ้งให้ กธก.ศซบ.ทหาร ทราบ เพื่อดำเนินการในส่วนที่เกี่ยวข้องต่อไป\n",
       "\n",
       "จึงเสนอมาเพื่อกรุณาพิจารณา\n",
       "\n",
       "พ.อ.\n",
       "\n",
       "(พรเทพ ไวยบูรี)\n",
       "ผช.ผอ.กรภ.ศซบ.ทหาร ปฏิบัติหน้าที่\n",
       "หก.กธก.ศซบ.ทหาร</div>\n",
       "        </details>\n",
       "        "
      ],
      "text/plain": [
       "<IPython.core.display.HTML object>"
      ]
     },
     "metadata": {},
     "output_type": "display_data"
    },
    {
     "data": {
      "text/markdown": [
       "---"
      ],
      "text/plain": [
       "<IPython.core.display.Markdown object>"
      ]
     },
     "metadata": {},
     "output_type": "display_data"
    },
    {
     "data": {
      "text/markdown": [
       "#### 📄 **ไฟล์:** `001-2.pdf`"
      ],
      "text/plain": [
       "<IPython.core.display.Markdown object>"
      ]
     },
     "metadata": {},
     "output_type": "display_data"
    },
    {
     "data": {
      "text/html": [
       "\n",
       "        <details>\n",
       "            <summary>คลิกเพื่อดูผลลัพธ์ OCR (Processed Text)</summary>\n",
       "            <div style=\"background-color:#f7f7f7; border:1px solid #ddd; padding:10px; margin-top:10px; white-space: pre-wrap; word-wrap: break-word;\"> บันทึกข้อความ\n",
       "\n",
       "ส่วนราชการ... กตถ.ชชน.ทหาร (แผนกธุรการกำลังพลฯ โทร.ทหาร ๕๗๒๑๗(๔))\n",
       "\n",
       "ที่ ... กท.อตถ.๑๐.๑/ ๒๖๘\n",
       "วันที่ ... พ.ศ. ๖๗\n",
       "เรื่อง ... ขอความเห็นชอบการลาออกจากราชการของนายทหารประทานในสังกัด ชชน.ทหาร\n",
       "\n",
       "เสนอ กวก.ศช.ทหาร\n",
       "\n",
       "สิ่งที่ส่งมาด้วย สำเนาใบลาออกจากราชการ จำนวน ๑ ฉบับ\n",
       "\n",
       "๑. ด้วย จ.ส.อ. บุรวทย์ เรือศรีจันทร์ จนท.ปฏิบัติการ แผนกประเมินมาตรฐาน กปภ.ศช.ทหาร มีความประสงค์ขอลาออกจากราชการเพื่อไปปฏิบัติงานบริษัทเอกชน ตั้งแต่ ๑ ก.ค. ๖๗ เป็นต้นไป รายละเอียดตามสิ่งที่ส่งมาด้วย\n",
       "\n",
       "๒. กรก.ศช.ทหาร จึงขอรับความเห็นชอบจาก กวท.ศช.ทหาร ในฐานะหัวหน้าสายวิทยาการได้กรุณาพิจารณาการขอลาออกของนายทหารประทาน ตามข้อ ๑ และกรุณาแจ้งผลการพิจารณาให้ กรก.ศช.ทหารทราบ เพื่อดำเนินการในส่วนที่เกี่ยวข้องต่อไป\n",
       "\n",
       "จึงเสนอมาเพื่อกรุณาพิจารณา\n",
       "\n",
       "พ.อ.\n",
       "\n",
       "(พรเทพ ไวยบุรี)\n",
       "ผช.ผอ.กรภ.ศช.ทหาร ปฏิบัติหน้าที่\n",
       "กก.กรก.ศช.ทหาร</div>\n",
       "        </details>\n",
       "        "
      ],
      "text/plain": [
       "<IPython.core.display.HTML object>"
      ]
     },
     "metadata": {},
     "output_type": "display_data"
    },
    {
     "data": {
      "text/html": [
       "\n",
       "        <details>\n",
       "            <summary>คลิกเพื่อดู Ground Truth Text</summary>\n",
       "            <div style=\"background-color:#e6ffed; border:1px solid #b7e1cd; padding:10px; margin-top:5px; white-space: pre-wrap; word-wrap: break-word;\">บันทึกข้อความ\n",
       "\n",
       "ส่วนราชการ กธก.ศซบ.ทหาร (แผนกธุรการกำลังพลฯ.โทร.ทหาร ๕๗๒๑๗๔๗)\n",
       "ที่ กห ๐๓๐๑.๑๐.๑/๒๖๘\n",
       "วันที่ ๙ พ.ค. ๖๗\n",
       "เรื่อง ขอความเห็นชอบการลาออกจากราชการของนายทหารประทวนในสังกัด ศซบ.ทหาร\n",
       "\n",
       "เสนอ กวก.ศซบ.ทหาร\n",
       "\n",
       "สิ่งที่ส่งมาด้วย สำเนาใบลาออกจากราชการ จำนวน ๑ ฉบับ\n",
       "\n",
       "๑. ด้วย จ.ส.อ. บุรวทย์ เรื่อศรีจันทร์ จนท.ปฏิบัติการ แผนกประเมินมาตรฐาน กปก.ศซบ.ทหาร มีความประสงค์ขอลาออกจากราชการเพื่อไปปฏิบัติงานบริษัทเอกชน ตั้งแต่ ๑ ก.ค. ๖๗ เป็นต้นไป รายละเอียดตามสิ่งที่ส่งมาด้วย\n",
       "\n",
       "๒. กธก.ศซบ.ทหาร จึงขอรับความเห็นชอบจาก กวก.ศซบ.ทหาร ในฐานะหัวหน้าสายวิทยาการได้กรุณาพิจารณาการขอลาออกของนายทหารประทวน ตามข้อ ๑ และกรุณาแจ้งผลการพิจารณาให้ กธก.ศซบ.ทหาร ทราบ เพื่อดำเนินการในส่วนที่เกี่ยวข้องต่อไป\n",
       "\n",
       "จึงเสนอมาเพื่อกรุณาพิจารณา\n",
       "\n",
       "พ.อ.\n",
       "\n",
       "(พรเทพ ไวยบูรี)\n",
       "ผช.ผอ.กรภ.ศซบ.ทหาร ปฏิบัติหน้าที่\n",
       "หก.กธก.ศซบ.ทหาร</div>\n",
       "        </details>\n",
       "        "
      ],
      "text/plain": [
       "<IPython.core.display.HTML object>"
      ]
     },
     "metadata": {},
     "output_type": "display_data"
    },
    {
     "data": {
      "text/markdown": [
       "---"
      ],
      "text/plain": [
       "<IPython.core.display.Markdown object>"
      ]
     },
     "metadata": {},
     "output_type": "display_data"
    },
    {
     "data": {
      "text/markdown": [
       "#### 📄 **ไฟล์:** `003-2.pdf`"
      ],
      "text/plain": [
       "<IPython.core.display.Markdown object>"
      ]
     },
     "metadata": {},
     "output_type": "display_data"
    },
    {
     "data": {
      "text/html": [
       "\n",
       "        <details>\n",
       "            <summary>คลิกเพื่อดูผลลัพธ์ OCR (Processed Text)</summary>\n",
       "            <div style=\"background-color:#f7f7f7; border:1px solid #ddd; padding:10px; margin-top:10px; white-space: pre-wrap; word-wrap: break-word;\"> บันทึกข้อความ\n",
       "\n",
       "ส่วนราชการ...ศศย.สปท. (โทร./โทรสาร ๐ ๒๒๗๕ ๕๗๑๖)\n",
       "\n",
       "วันที่\n",
       "เรื่อง...ขอเชิญเข้าร่วมการประชุมเชิงสัมมนาทางวิชาการศูนย์อาเซียนศึกษา ครั้งที่ ๒/๒๕๖๓\n",
       "\n",
       "เรียน ผอ.ศซบ.ทหาร/ผู้แทน\n",
       "\n",
       "สิ่งที่ส่งมาด้วย ๑. กำหนดการการประชุมฯ\n",
       "๒. แผนที่การเดินทาง\n",
       "๓. แบบตอบรับ\n",
       "\n",
       "๑. ศคย.สปท. มีกำหนดจัดการประชุมเชิงสัมมนาทางวิชาการศูนย์อาเซียนศึกษา ครั้งที่ ๒/๒๕๖๓ เรื่อง “สนับเสียงและความมั่นคงในภูมิภาคเอเชียตะวันออกเฉียงใต้” ระหว่างวันที่ ๒๗-๒๙ มี.ค. ๖๗ ณ ห้องประชุม ศูนย์วัฒนธรรมการศึกษาทางทหาร สปท. และ รร. รอยัล ฮิลส์ กอล์ฟ รีสอร์ท แอนด์ สปา จว.น.ย. โดยมี ผบ.สปท. เป็นประธาน รายละเอียดตามสิ่งที่ส่งมาด้วย ๑-๒\n",
       "\n",
       "๒. ศคย.สปท. ขอเรียนเชิญท่านหรือบุคลากรในหน่วยงานของท่าน จำนวน ๑-๒ ท่าน (ไม่กำหนดชั้นยศ) เข้าร่วมการประชุมเชิงสัมมนาทางวิชาการฯ ในวัน เวลา ดังกล่าว และกรุณาแจ้งผลการตอบรับ โดยกรอกข้อมูลตามแบบตอบรับเข้าร่วมการประชุมฯ ผ่าน QR Code ด้านล่าง รายละเอียดตามสิ่งที่ส่งมาด้วย ๓ ภายในวันที่ ๒๐ มี.ค. ๖๗ ในการนี้ พ.อ.หญิง ทัศรินทร์ โสธรบุญ รอง ผอ.กภศ.ศศย.สปท. หมายเลขโทรศัพท์ ๐๖ ๑๔๑๗ ๕๙๑๙ จะเป็นผู้ประสานในรายละเอียดต่อไป\n",
       "\n",
       "จึงเรียนมาเพื่อกรุณาพิจารณา\n",
       "\n",
       "น.อ.\n",
       "\n",
       "(วัชระพันธ์ เมืองวิชัยพันธ์)\n",
       "รอง ผอ.ศศย.สปท. ทำการแทน\n",
       "ผอ.ศศย.สปท.\n",
       "\n",
       "แบบตอบรับเข้าร่วมการประชุมฯ\n",
       "\n",
       "กลุ่มติดต่อประสานงาน</div>\n",
       "        </details>\n",
       "        "
      ],
      "text/plain": [
       "<IPython.core.display.HTML object>"
      ]
     },
     "metadata": {},
     "output_type": "display_data"
    },
    {
     "data": {
      "text/html": [
       "\n",
       "        <details>\n",
       "            <summary>คลิกเพื่อดู Ground Truth Text</summary>\n",
       "            <div style=\"background-color:#e6ffed; border:1px solid #b7e1cd; padding:10px; margin-top:5px; white-space: pre-wrap; word-wrap: break-word;\">บันทึกข้อความ\n",
       "\n",
       "ส่วนราชการ ศศย.สปท. (โทร./โทรสาร ๐ ๒๒๗๕ ๕๗๑๖)\n",
       "ที่ กห ๐๓๑๗.๕/๑๗๖\n",
       "วันที่ ๕ มี.ค. ๖๗\n",
       "เรื่อง ขอเชิญเข้าร่วมการประชุมเชิงสัมมนาทางวิชาการศูนย์อาเซียนศึกษา ครั้งที่ ๒/๒๕๖๗\n",
       "\n",
       "เรียน ผอ.ศซบ.ทหาร/ผู้แทน \n",
       "\n",
       "สิ่งที่ส่งมาด้วย ๑. กำหนดการการประชุมฯ \n",
       "๒. แผนที่การเดินทาง \n",
       "๓. แบบตอบรับ \n",
       "\n",
       "๑. ศศย.สปท. มีกำหนดจัดการประชุมเชิงสัมมนาทางวิชาการศูนย์อาเซียนศึกษา ครั้งที่ ๒/๒๕๖๗ เรื่อง “สถานภาพและความมั่นคงในภูมิภาคเอเชียตะวันออกเฉียงใต้” ระหว่างวันที่ ๒๗-๒๙ มี.ค. ๖๗ ณ ห้องประชุมศูนย์วัฒกรรมการศึกษาทางทหาร สปท. และ รร. รอยัล ฮิลส์ กอล์ฟ รีสอร์ท แอนด์ สปา จว.น.ย. โดยมี ผบ.สปท. เป็นประธาน รายละเอียดตามสิ่งที่ส่งมาด้วย ๑-๒ \n",
       "\n",
       "๒. ศศย.สปท. ขอเรียนเชิญท่านหรือบุคลากรในหน่วยงานของท่าน จำนวน ๑-๒ ท่าน (ไม่กำหนดชั้นยศ) เข้าร่วมการประชุมเชิงสัมมนาทางวิชาการฯ ในวัน เวลา ดังกล่าว และกรุณาแจ้งผลการตอบรับโดยกรอกข้อมูลตามแบบตอบรับเข้าร่วมการประชุมฯ ผ่าน QR Code ด้านล่าง รายละเอียดตามสิ่งที่ส่งมาด้วย ๓ ภายในวันที่ ๒๐ มี.ค. ๖๗ ในการนี้ พ.อ.หญิง ทัศรินทร์ โสธรบุญ รอง ผอ.กภศ.ศศย.สปท. หมายเลขโทรศัพท์ ๐๖ ๑๔๑๗ ๕๙๑๙ จะเป็นผู้ประสานในรายละเอียดต่อไป \n",
       "\n",
       "จึงเรียนมาเพื่อกรุณาพิจารณา \n",
       "\n",
       "น.อ.\n",
       "\n",
       "(รัฐนินท์ เมธีวัชรพัฒน์)\n",
       "รอง ผอ.ศศย.สปท. ทำการแทน\n",
       "ผอ.ศศย.สปท.</div>\n",
       "        </details>\n",
       "        "
      ],
      "text/plain": [
       "<IPython.core.display.HTML object>"
      ]
     },
     "metadata": {},
     "output_type": "display_data"
    },
    {
     "data": {
      "text/markdown": [
       "---"
      ],
      "text/plain": [
       "<IPython.core.display.Markdown object>"
      ]
     },
     "metadata": {},
     "output_type": "display_data"
    },
    {
     "data": {
      "text/markdown": [
       "#### 📄 **ไฟล์:** `005-2.pdf`"
      ],
      "text/plain": [
       "<IPython.core.display.Markdown object>"
      ]
     },
     "metadata": {},
     "output_type": "display_data"
    },
    {
     "data": {
      "text/html": [
       "\n",
       "        <details>\n",
       "            <summary>คลิกเพื่อดูผลลัพธ์ OCR (Processed Text)</summary>\n",
       "            <div style=\"background-color:#f7f7f7; border:1px solid #ddd; padding:10px; margin-top:10px; white-space: pre-wrap; word-wrap: break-word;\"> บันทึกข้อความ\n",
       "\n",
       "ส่วนราชการ... กพ.ทหาร (กพบท.๑.โทร.. ๐.๒๕๗๕. ๖๐๗๑.โทร.ทหาร ๕๗๒๑๑๒)\n",
       "\n",
       "วันที่ ๓ มี.ค. ๖๗\n",
       "\n",
       "เรื่อง... ขอให้สายวิทยาการรวมรุมปัญหาข้อขัดข้องของการบริหารจัดการกำลังพลด้วยสายวิทยาการและ...\n",
       "\n",
       "เลขหมายความชำนาญการทหาร\n",
       "\n",
       "เรียน หัวหน้าสายวิทยาการความมั่นคงปลอดภัยทางไซเบอร์\n",
       "\n",
       "อ้างถึง คำสั่ง บก.ทท. (เฉพาะ) ที่ ๑๑๓๙/๖๖ ลง ๑๔ ธ.ค. ๖๖\n",
       "\n",
       "สิ่งที่ส่งมาด้วย แบบฟอร์มปัญหาและผลกระทบจากการบริหารจัดการกำลังพลด้วยสายวิทยาการ และ...\n",
       "\n",
       "เลขหมายความชำนาญการทหารของ บก.ทท.\n",
       "\n",
       "๑. ตามอ้างถึง ผบ.ทสส. ได้กรุณาอนุมัติตั้งคณะกรรมการพิจารณาผลการบริหารจัดการ...\n",
       "\n",
       "กำลังพลด้วยสายวิทยาการและเลขหมายความชำนาญการทหารของ บก.ทท. เพื่อดำเนินการแก้ไขปัญหา...\n",
       "\n",
       "ในภาพรวมที่มีความซับซ้อนและให้การบริหารจัดการกำลังพลด้วยสายวิทยาการ และเลขหมายความชำนาญการทหาร...\n",
       "\n",
       "ของ บก.ทท. เป็นไปอย่างมีประสิทธิภาพ\n",
       "\n",
       "๒. เพื่อให้การดำเนินการตามข้อ ๑ เป็นไปด้วยความเรียบร้อย ขอให้หัวหน้าสายวิทยาการ...\n",
       "\n",
       "ดำเนินการรวบรวม วิเคราะห์ปัญหาและผลกระทบจากการบริหารจัดการกำลังพลด้วยสายวิทยาการ...\n",
       "\n",
       "และเลขหมายความชำนาญการทหารของ บก.ทท. ส่งให้ กพ.ทหาร ภายในวันที่ ๑๙ ม.ค. ๖๗ โดยจัดทำ...\n",
       "\n",
       "รายละเอียดข้อมูลข้อเสนอในการแก้ไขปัญหาฯ ตามแบบฟอร์มที่ส่งมาด้วย หากไม่มีข้อเสนอ ขอให้ระบุ...\n",
       "\n",
       "ในแบบฟอร์มดังกล่าวด้วย รายละเอียดเพิ่มเติมประสานได้ที่ ร.อ.หญิง เบญจวรรณ แสงจันทร์...\n",
       "\n",
       "น.ประเมินผลกระทบการบริหารทรัพยากรบุคคล กพบท. กพ.ทหาร โทร.ทหาร ๕๗๒๑๑๒๐\n",
       "\n",
       "จึงเรียนมาเพื่อกรุณาดำเนินการต่อไป\n",
       "\n",
       "(สัมพันธ์ รงค์จำเริญ)\n",
       "รอง จก.กพ.ทหาร ทำการแทน\n",
       "จก.กพ.ทหาร</div>\n",
       "        </details>\n",
       "        "
      ],
      "text/plain": [
       "<IPython.core.display.HTML object>"
      ]
     },
     "metadata": {},
     "output_type": "display_data"
    },
    {
     "data": {
      "text/html": [
       "\n",
       "        <details>\n",
       "            <summary>คลิกเพื่อดู Ground Truth Text</summary>\n",
       "            <div style=\"background-color:#e6ffed; border:1px solid #b7e1cd; padding:10px; margin-top:5px; white-space: pre-wrap; word-wrap: break-word;\">บันทึกข้อความ\n",
       "\n",
       "ส่วนราชการ กพ.ทหาร (กพบท.ฯ โทร. ๐ ๒๕๗๕ ๖๐๗๑ โทร.ทหาร ๕๗๒๑๑๒๐) \n",
       "ที่ กห ๐๓๐๒/๖๔\n",
       "วันที่ ๓ มี.ค. ๖๘ \n",
       "เรื่อง ขอให้สายวิทยาการรวมปัญหาข้อขัดข้อง ของการบริหารจัดการกำลังพลด้วยสายวิทยาการและเลขหมายความชำนาญการทหาร\n",
       "\n",
       "เรียน หัวหน้าสายวิทยาการความมั่นคงปลอดภัยทางไซเบอร์ \n",
       "\n",
       "อ้างถึง คำสั่ง บก.ทท. (เฉพาะ) ที่ ๑๑๓๙/๖๖ ลง ๑๔ ธ.ค. ๖๖ \n",
       "\n",
       "สิ่งที่ส่งมาด้วย แบบฟอร์มปัญหาและผลกระทบจากการบริหารจัดการกำลังพลด้วยสายวิทยาการ และเลขหมายความชำนาญการทหารของ บก.ทท.\n",
       "\n",
       "๑. ตามอ้างถึง ผบ.ทสส. ได้กรุณาอนุมัติแต่งตั้งคณะกรรมการพิจารณาผลการบริหารจัดการ กำลังพลด้วยสายวิทยาการและเลขหมายความชำนาญการทหารของ บก.ทท. เพื่อดำเนินการแก้ไขปัญหา ในภาพรวมที่มีความซับซ้อนและให้การบริหารจัดการกำลังพลด้วยสายวิทยาการ และเลขหมายความชำนาญการทหารของ บก.ทท. เป็นไปอย่างมีประสิทธิภาพ \n",
       "\n",
       "๒. เพื่อให้การดำเนินการตามข้อ ๑ เป็นไปด้วยความเรียบร้อย ขอให้หัวหน้าสายวิทยาการดำเนินการรวบรวม วิเคราะห์ปัญหาและผลกระทบจากการบริหารจัดการกำลังพลด้วยสายวิทยาการ และเลขหมายความชำนาญการทหารของ บก.ทท. ส่งให้ กพ.ทหาร ภายในวันที่ ๑๙ ม.ค. ๖๗ โดยจัดทำ รายละเอียดข้อมูลข้อเสนอในการแก้ไขปัญหาฯ ตามแบบฟอร์มที่ส่งมาด้วย หากไม่มีข้อเสนอ ขอให้ระบุในแบบฟอร์มดังกล่าวด้วย รายละเอียดเพิ่มเติมประสานได้ที่ ร.อ.หญิง เบญจวรรณ แสงจันทร์ น.ประเมินผลกระทบการบริหารทรัพยากรบุคคล กพบท. กพ.ทหาร โทร.ทหาร ๕๗๒๑๑๒๐ \n",
       "\n",
       "จึงเรียนมาเพื่อกรุณาดำเนินการต่อไป \n",
       "\n",
       "พล.ต.\n",
       "(สัมพันธ์ รงค์จำเริญ) \n",
       "รอง จก.กพ.ทหาร ทำการแทน \n",
       "จก.กพ.ทหาร</div>\n",
       "        </details>\n",
       "        "
      ],
      "text/plain": [
       "<IPython.core.display.HTML object>"
      ]
     },
     "metadata": {},
     "output_type": "display_data"
    },
    {
     "data": {
      "text/markdown": [
       "---"
      ],
      "text/plain": [
       "<IPython.core.display.Markdown object>"
      ]
     },
     "metadata": {},
     "output_type": "display_data"
    },
    {
     "data": {
      "text/markdown": [
       "#### 📄 **ไฟล์:** `008-2.pdf`"
      ],
      "text/plain": [
       "<IPython.core.display.Markdown object>"
      ]
     },
     "metadata": {},
     "output_type": "display_data"
    },
    {
     "data": {
      "text/html": [
       "\n",
       "        <details>\n",
       "            <summary>คลิกเพื่อดูผลลัพธ์ OCR (Processed Text)</summary>\n",
       "            <div style=\"background-color:#f7f7f7; border:1px solid #ddd; padding:10px; margin-top:10px; white-space: pre-wrap; word-wrap: break-word;\"> ด่วนมาก\n",
       "\n",
       " บันทึกข้อความ\n",
       "\n",
       "ส่วนราชการ กกล.นซบ.ทหาร (แผนกธุรการและกำลังพลฯ) โทร. ๐ ๒๕๗๒ ๑๗๔๗ โทร.ทหาร ๕๗๒๑๗๔๗).\n",
       "ที่ กห ๐๓๐๑.๑๐.๑/ว\n",
       "วันที่ ๑๗ พ.ค. ๖๘\n",
       "เรื่อง ขอความเห็นชอบการลาออกจากราชการของนายทหารประทานในสังกัด นซบ.ทหาร\n",
       "\n",
       "เสนอ ศซล.นซบ.ทหาร\n",
       "\n",
       "สิ่งที่ส่งมาด้วย สำเนาใบลาออกจากราชการ จำนวน ๑ ฉบับ\n",
       "\n",
       "๑. ส.อ.หญิง พรรณวลัย เลียมเพ็ชร์รัตน์ เจ้าหน้าที่ปฏิบัติการ แผนกปฏิบัติการที่ ๑ กปก.๓ สปก.นซบ.ทหาร มีความประสงค์ขอลาออกจากราชการเพื่อบรรจุเป็นนายทหารสัญญาบัตร สังกัด กองบัญชาการกองทัพไทย ตั้งแต่ ๑๖ เม.ย. ๖๘ เป็นต้นไป รายละเอียดตามสิ่งที่ส่งมาด้วย\n",
       "\n",
       "๒. กกล.นซบ.ทหาร จึงขอรับความเห็นชอบจาก ศซล.นซบ.ทหาร ในฐานะหัวหน้า สายวิทยาการความมั่นคงปลอดภัยทางไซเบอร์ ได้กรุณาพิจารณาการขอลาออกของนายทหารประทาน ตามข้อ ๑ และกรุณาแจ้งผลการพิจารณาให้ กกล.นซบ.ทหาร ทราบ เพื่อดำเนินการในส่วนที่เกี่ยวข้องต่อไป\n",
       "\n",
       "จึงเสนอมาเพื่อกรุณาพิจารณา\n",
       "\n",
       "พ.อ.\n",
       "\n",
       "(สมชาย อูปเช่ม)\n",
       "ผอ. กกล.นซบ.ทหาร</div>\n",
       "        </details>\n",
       "        "
      ],
      "text/plain": [
       "<IPython.core.display.HTML object>"
      ]
     },
     "metadata": {},
     "output_type": "display_data"
    },
    {
     "data": {
      "text/html": [
       "\n",
       "        <details>\n",
       "            <summary>คลิกเพื่อดู Ground Truth Text</summary>\n",
       "            <div style=\"background-color:#e6ffed; border:1px solid #b7e1cd; padding:10px; margin-top:5px; white-space: pre-wrap; word-wrap: break-word;\">ด่วนมาก\n",
       "\n",
       "บันทึกข้อความ\n",
       "\n",
       "ส่วนราชการ กกล.นซบ.ทหาร (แผนกธุรการและกำลังพลฯ) โทร. ๐ ๒๕๗๒ ๑๗๔๗ โทร.ทหาร ๕๗๒๑๗๔๗).\n",
       "ที่ กห ๐๓๐๑.๑๐.๑/๓๑๓\n",
       "วันที่ ๑๗ พ.ค. ๖๘\n",
       "เรื่อง ขอความเห็นชอบการลาออกจากราชการของนายทหารประทานในสังกัด นซบ.ทหาร\n",
       "\n",
       "เสนอ ศซล.นซบ.ทหาร\n",
       "\n",
       "สิ่งที่ส่งมาด้วย สำเนาใบลาออกจากราชการ จำนวน ๑ ฉบับ\n",
       "\n",
       "๑. ส.อ.หญิง พรรณวลัย เลียมเพ็ชร์รัตน์ เจ้าหน้าที่ปฏิบัติการ แผนกปฏิบัติการที่ ๑ กปก.๓ สปก.นซบ.ทหาร มีความประสงค์ขอลาออกจากราชการเพื่อบรรจุเป็นนายทหารสัญญาบัตร สังกัด กองบัญชาการกองทัพไทย ตั้งแต่ ๑๖ เม.ย. ๖๘ เป็นต้นไป รายละเอียดตามสิ่งที่ส่งมาด้วย\n",
       "\n",
       "๒. กกล.นซบ.ทหาร จึงขอรับความเห็นชอบจาก ศซล.นซบ.ทหาร ในฐานะหัวหน้า สายวิทยาการความมั่นคงปลอดภัยทางไซเบอร์ ได้กรุณาพิจารณาการขอลาออกของนายทหารประทาน ตามข้อ ๑ และกรุณาแจ้งผลการพิจารณาให้ กกล.นซบ.ทหาร ทราบ เพื่อดำเนินการในส่วนที่เกี่ยวข้องต่อไป\n",
       "\n",
       "จึงเสนอมาเพื่อกรุณาพิจารณา\n",
       "\n",
       "พ.อ.\n",
       "\n",
       "(สมชาย อูปเช่ม)\n",
       "ผอ.กกล.นซบ.ทหาร</div>\n",
       "        </details>\n",
       "        "
      ],
      "text/plain": [
       "<IPython.core.display.HTML object>"
      ]
     },
     "metadata": {},
     "output_type": "display_data"
    },
    {
     "data": {
      "text/markdown": [
       "---"
      ],
      "text/plain": [
       "<IPython.core.display.Markdown object>"
      ]
     },
     "metadata": {},
     "output_type": "display_data"
    },
    {
     "data": {
      "text/markdown": [
       "#### 📄 **ไฟล์:** `009-2.pdf`"
      ],
      "text/plain": [
       "<IPython.core.display.Markdown object>"
      ]
     },
     "metadata": {},
     "output_type": "display_data"
    },
    {
     "data": {
      "text/html": [
       "\n",
       "        <details>\n",
       "            <summary>คลิกเพื่อดูผลลัพธ์ OCR (Processed Text)</summary>\n",
       "            <div style=\"background-color:#f7f7f7; border:1px solid #ddd; padding:10px; margin-top:10px; white-space: pre-wrap; word-wrap: break-word;\"> ด่วนมาก\n",
       "\n",
       " บันทึกข้อความ\n",
       "ส่วนราชการ ศชล.นช.ทหาร (รร.ซบ.ทหาร ศชล.นช.ทหาร โทร.ทหาร ๕๗๒๒๖๕)\n",
       "\n",
       "วันที่ ๑๖ ธ.ค. ๖๗\n",
       "เรื่อง ขออนุมัติแก้ไขรายชื่อผู้เข้ารับการศึกษาหลักสูตรปรับพื้นฐานบุคลากรด้านไซเบอร์\n",
       "\n",
       "เรียน ผบ.นช.ทหาร\n",
       "\n",
       "อ้างถึง คำสั่ง ทท. (เฉพาะ) ที่ ๔๑๒/๖๗ ลง ๒๒ พ.ย. ๖๗\n",
       "\n",
       "สิ่งที่ส่งมาด้วย แผนวก ก แก้ไขรายชื่อผู้เข้ารับการศึกษาหลักสูตรปรับพื้นฐานบุคลากรด้านไซเบอร์ ประจำปีงบประมาณ พ.ศ. ๒๕๖๘\n",
       "\n",
       "๑. ศชล.นช.ทหาร ขออนุมัติแก้ไขแผนวก ก ประกอบคำสั่ง ทท. (เฉพาะ) ที่ ๔๑๒/๖๗ ลง ๒๒ พ.ย. ๖๗ เรื่อง เปิดการศึกษาหลักสูตรปรับพื้นฐานบุคลากรด้านไซเบอร์ ประจำปีงบประมาณ พ.ศ. ๒๕๖๘ เนื่องจาก ข้าราชการสละสิทธิ์ จำนวน ๑ นาย รายละเอียดตามสิ่งที่ส่งมาด้วย\n",
       "\n",
       "๒. ข้อเท็จจริง ผบ.ทสส. (ผบ.นช.ทหาร รับคำสั่งฯ) ได้กรุณาอนุมัติตัวบุคคลเข้ารับการศึกษา หลักสูตรฯ ตามข้อ ๑ จำนวน ๔๕ นาย รายละเอียดตามอ้างถึง มีข้าราชการสละสิทธิ์ไม่สามารถเข้ารับการศึกษาได้ ตามที่แนบ จึงให้แก้ไขคำสั่งฯ เปลี่ยนตัวผู้เข้ารับการศึกษาฯ ลำดับ ๕ จากเดิม ร.อ. ฐณกฤษ วงศ์ดิษยบุตร สังกัด นช.ทหาร เป็น ส.อ. ภานุพรรณ วรรณทอง สังกัด นช.ทหาร\n",
       "\n",
       "๓. ข้อพิจารณา\n",
       "เพื่อให้การศึกษาฯ เป็นไปด้วยความเรียบร้อย จึงเห็นควรแก้ไขแผนวก ก ประกอบคำสั่ง ทท. (เฉพาะ) ที่ ๔๑๒/๖๗ ลง ๒๒ พ.ย. ๖๗ เรื่อง เปิดการศึกษาหลักสูตรปรับพื้นฐานบุคลากรด้านไซเบอร์ ประจำปีงบประมาณ พ.ศ. ๒๕๖๘ ตามข้อ ๒\n",
       "คำสั่ง ทท. (เฉพาะ) ที่ ๔๑๒/๖๗ ลง ๒๒ พ.ย. ๖๗ ข้อ ๑๑ หากมีความจำเป็นต้อง เปลี่ยนแปลงห้วงระยะเวลาในการศึกษา จำนวนผู้เข้ารับการศึกษา ตัวบุคคลที่เข้ารับการศึกษา รวมทั้งรายละเอียด ในการปฏิบัติต่าง ๆ โดยคำใช้จ่ายไม่เพิ่มขึ้นจากที่ได้รับอนุมัติไว้แล้ว ให้ นช.ทหาร ดำเนินการได้ตามความเหมาะสม\n",
       "ข้อเสนอ เห็นควรอนุมัติให้ ศชล.นช.ทหาร แก้ไขแผนวก ก ประกอบคำสั่ง ทท. (เฉพาะ) ที่ ๔๑๒/๖๗ ลง ๒๒ พ.ย. ๖๗ เรื่อง เปิดการศึกษาหลักสูตรปรับพื้นฐานบุคลากรด้านไซเบอร์ ประจำปีงบประมาณ พ.ศ. ๒๕๖๘\n",
       "\n",
       "จึงเรียนมาเพื่อพิจารณา หากเห็นสมควรกรุณาอนุมัติตามข้อ ๔\n",
       "\n",
       " อนุมัติตามข้อ ๔\n",
       "\n",
       "พล.ท.\n",
       "\n",
       "ผบ.นช.ทหาร\n",
       "\n",
       "วันที่ ๑๖ ธ.ค. ๖๗\n",
       "\n",
       "น.อ.\n",
       "\n",
       "(นาย ปิ่นทอง)\n",
       "รอง ผอ.ศชล.นช.ทหาร ทำการแทน\n",
       "ผอ.ศชล.นช.ทหาร</div>\n",
       "        </details>\n",
       "        "
      ],
      "text/plain": [
       "<IPython.core.display.HTML object>"
      ]
     },
     "metadata": {},
     "output_type": "display_data"
    },
    {
     "data": {
      "text/html": [
       "\n",
       "        <details>\n",
       "            <summary>คลิกเพื่อดู Ground Truth Text</summary>\n",
       "            <div style=\"background-color:#e6ffed; border:1px solid #b7e1cd; padding:10px; margin-top:5px; white-space: pre-wrap; word-wrap: break-word;\">ด่วนมาก \n",
       "\n",
       "บันทึกข้อความ \n",
       "\n",
       "ส่วนราชการ ศซล.นซบ.ทหาร (รร.ซบ.ทหาร ศซล.นซบ.ทหาร โทร.ทหาร ๕๗๒๒๒๕๑) \n",
       "ที่ กห ๐๓๐๑.๑๐.๖/ ๓๔ \n",
       "วันที่ ๔ ธ.ค. ๖๗ \n",
       "เรื่อง ขออนุมัติแก้ไขรายชื่อผู้เข้ารับการศึกษาหลักสูตรปรับพื้นฐานบุคลากรด้านไซเบอร์ \n",
       "\n",
       "เรียน ผบ.นซบ.ทหาร \n",
       "\n",
       "อ้างถึง คำสั่ง ทท. (เฉพาะ) ที่ ๔๑๒/๖๗ ลง ๒๒ พ.ย. ๖๗ \n",
       "\n",
       "สิ่งที่ส่งมาด้วย ผนวก ก แก้ไขรายชื่อผู้เข้ารับการศึกษาหลักสูตรปรับพื้นฐานบุคลากรด้านไซเบอร์ ประจำปีงบประมาณ พ.ศ. ๒๕๖๘ \n",
       "\n",
       "๑. ศซล.นซบ.ทหาร ขออนุมัติแก้ไขผนวก ก ประกอบคำสั่ง ทท. (เฉพาะ) ที่ ๔๑๒/๖๗ ลง ๒๒ พ.ย. ๖๗ เรื่อง เปิดการศึกษาหลักสูตรปรับพื้นฐานบุคลากรด้านไซเบอร์ ประจำปีงบประมาณ พ.ศ. ๒๕๖๘ เนื่องจาก ข้าราชการสละสิทธิ์ จำนวน ๑ นาย รายละเอียดตามสิ่งที่ส่งมาด้วย \n",
       "\n",
       "๒. ข้อเท็จจริง ผบ.ทสส. (ผบ.นซบ.ทหาร รับคำสั่งฯ) ได้กรุณาอนุมัติตัวบุคคลเข้ารับการศึกษา หลักสูตรฯ ตามข้อ ๑ จำนวน ๔๕ นาย รายละเอียดตามอ้างถึง มีข้าราชการสละสิทธิ์ไม่สามารถเข้ารับการศึกษาได้ ตามที่แนบ จึงให้แก้ไขคำสั่งฯ เปลี่ยนตัวผู้เข้ารับการศึกษาฯ ลำดับ ๕ จากเดิม ร.อ. ฐณกฤษ วงศ์ดิษยบุตร สังกัด นซบ.ทหาร เป็น ส.อ. ภานุพรรณ วรรณทอง สังกัด นซบ.ทหาร \n",
       "\n",
       "๓. ข้อพิจารณา \n",
       "๓.๑ เพื่อให้การศึกษาฯ เป็นไปด้วยความเรียบร้อย จึงเห็นควรแก้ไขผนวก ก ประกอบคำสั่ง ทท. (เฉพาะ) ที่ ๔๑๒/๖๗ ลง ๒๒ พ.ย. ๖๗ เรื่อง เปิดการศึกษาหลักสูตรปรับพื้นฐานบุคลากรด้านไซเบอร์ ประจำปีงบประมาณ พ.ศ. ๒๕๖๘ ตามข้อ ๒ \n",
       "๓.๒ คำสั่ง ทท. (เฉพาะ) ที่ ๔๑๒/๖๗ ลง ๒๒ พ.ย. ๖๗ ข้อ ๑๑ หากมีความจำเป็นต้อง เปลี่ยนแปลงห้วงระยะเวลาในการศึกษา จำนวนผู้เข้ารับการศึกษา ตัวบุคคลที่เข้ารับการศึกษา รวมทั้งรายละเอียด ในการปฏิบัติต่าง ๆ โดยค่าใช้จ่ายไม่เพิ่มขึ้นจากหี่ได้รับอนุมัติไว้แล้ว ให้ นซบ.ทหาร ดำเนินการได้ตามความเหมาะสม \n",
       "\n",
       "๔. ข้อเสนอ เห็นควรอนุมัติให้ ศซล.นซบ.ทหาร แก้ไขผนวก ก ประกอบคำสั่ง ทท. (เฉพาะ) ที่ ๔๑๒/๖๗ ลง ๒๒ พ.ย. ๖๗ เรื่อง เปิดการศึกษาหลักสูตรปรับพื้นฐานบุคลากรด้านไซเบอร์ ประจำปีงบประมาณ พ.ศ. ๒๕๖๘ \n",
       "\n",
       "จึงเรียนมาเพื่อพิจารณา หากเห็นสมควรกรุณาอนุมัติตามข้อ ๔ \n",
       "\n",
       "น.อ.\n",
       "\n",
       "(นที  ปั้นทอง) \n",
       "รอง ผอ.ศซล.นซบ.ทหาร ทำการแทน \n",
       "ผอ.ศซล.นซบ.ทหาร</div>\n",
       "        </details>\n",
       "        "
      ],
      "text/plain": [
       "<IPython.core.display.HTML object>"
      ]
     },
     "metadata": {},
     "output_type": "display_data"
    },
    {
     "data": {
      "text/markdown": [
       "---"
      ],
      "text/plain": [
       "<IPython.core.display.Markdown object>"
      ]
     },
     "metadata": {},
     "output_type": "display_data"
    },
    {
     "data": {
      "text/markdown": [
       "#### 📄 **ไฟล์:** `010-2.pdf`"
      ],
      "text/plain": [
       "<IPython.core.display.Markdown object>"
      ]
     },
     "metadata": {},
     "output_type": "display_data"
    },
    {
     "data": {
      "text/html": [
       "\n",
       "        <details>\n",
       "            <summary>คลิกเพื่อดูผลลัพธ์ OCR (Processed Text)</summary>\n",
       "            <div style=\"background-color:#f7f7f7; border:1px solid #ddd; padding:10px; margin-top:10px; white-space: pre-wrap; word-wrap: break-word;\"> ด่วนมาก บันทึกข้อความ\n",
       "\n",
       "ส่วนราชการ กกล.นซบ.ทหาร (แผนกรธุรการและกำลังพลฯ โทร.ทหาร ๕๗๒๑๗๔)\n",
       "\n",
       "วันที่ ๒ มี.ค. ๖๘\n",
       "\n",
       "เรื่อง ขอความเห็นชอบการลาออกจากราชการของนายทหารสัญญาบัตรในสังกัด นซบ.ทหาร\n",
       "\n",
       "เสนอ ศซล.นซบ.ทหาร\n",
       "\n",
       "สิ่งที่ส่งมาด้วย สำเนาใบลาออกจากราชการ จำนวน ๑ ฉบับ\n",
       "\n",
       "๑. ด้วย ร.อ. รณกร ชำเพชร ประจำแผนกปฏิบัติการที่ ๑ กปก.๓ สปก.นซบ.ทหาร มีความประสงค์ขอลาออกจากราชการเพื่อไปปฏิบัติงานบริษัทเอกชน ตั้งแต่ ๑ เม.ย. ๖๘ เป็นต้นไป รายละเอียดตามสิ่งที่ส่งมาด้วย\n",
       "\n",
       "๒. กกล.นซบ.ทหาร จึงขอรับความเห็นชอบจาก กวก.ศซบ.ทหาร ในฐานะหัวหน้าสายวิทยาการได้กรุณาพิจารณาการขอลาออกของนายทหารสัญญาบัตร ตามข้อ ๑ และกรุณาแจ้งผลการพิจารณาให้ กกล.นซบ.ทหารทราบ เพื่อดำเนินการในส่วนที่เกี่ยวข้องต่อไป\n",
       "\n",
       "จึงเสนอมาเพื่อกรุณาพิจารณา\n",
       "\n",
       "พ.อ.\n",
       "\n",
       "(สมชาย ธูปแช่ม)\n",
       "ผอ.กกล.นซบ.ทหาร</div>\n",
       "        </details>\n",
       "        "
      ],
      "text/plain": [
       "<IPython.core.display.HTML object>"
      ]
     },
     "metadata": {},
     "output_type": "display_data"
    },
    {
     "data": {
      "text/html": [
       "\n",
       "        <details>\n",
       "            <summary>คลิกเพื่อดู Ground Truth Text</summary>\n",
       "            <div style=\"background-color:#e6ffed; border:1px solid #b7e1cd; padding:10px; margin-top:5px; white-space: pre-wrap; word-wrap: break-word;\">ด่วนมาก \n",
       "\n",
       "บันทึกข้อความ\n",
       "\n",
       "ส่วนราชการ กกล.นซบ.ทหาร (แผนกรธุรการและกำลังพลฯ โทร.ทหาร ๕๗๒๑๗๔)\n",
       "\n",
       "วันที่ ๑๘ มี.ค. ๖๘\n",
       "\n",
       "เรื่อง ขอความเห็นชอบการลาออกจากราชการของนายทหารสัญญาบัตรในสังกัด นซบ.ทหาร\n",
       "\n",
       "เสนอ ศซล.นซบ.ทหาร\n",
       "\n",
       "สิ่งที่ส่งมาด้วย สำเนาใบลาออกจากราชการ จำนวน ๑ ฉบับ\n",
       "\n",
       "๑. ด้วย ร.อ. รณกร ชำเพชร ประจำแผนกปฏิบัติการที่ ๑ กปก.๓ สปก.นซบ.ทหาร มีความประสงค์ขอลาออกจากราชการเพื่อไปปฏิบัติงานบริษัทเอกชน ตั้งแต่ ๑ เม.ย. ๖๘ เป็นต้นไป รายละเอียดตามสิ่งที่ส่งมาด้วย\n",
       "\n",
       "๒. กกล.นซบ.ทหาร จึงขอรับความเห็นชอบจาก กวก.ศซบ.ทหาร ในฐานะหัวหน้าสายวิทยาการได้กรุณาพิจารณาการขอลาออกของนายทหารสัญญาบัตร ตามข้อ ๑ และกรุณาแจ้งผลการพิจารณาให้ กกล.นซบ.ทหาร ทราบ เพื่อดำเนินการในส่วนที่เกี่ยวข้องต่อไป\n",
       "\n",
       "จึงเสนอมาเพื่อกรุณาพิจารณา\n",
       "\n",
       "พ.อ.\n",
       "\n",
       "(สมชาย ธูปแช่ม)\n",
       "ผอ.กกล.นซบ.ทหาร</div>\n",
       "        </details>\n",
       "        "
      ],
      "text/plain": [
       "<IPython.core.display.HTML object>"
      ]
     },
     "metadata": {},
     "output_type": "display_data"
    },
    {
     "data": {
      "text/markdown": [
       "---"
      ],
      "text/plain": [
       "<IPython.core.display.Markdown object>"
      ]
     },
     "metadata": {},
     "output_type": "display_data"
    },
    {
     "data": {
      "text/markdown": [
       "#### 📄 **ไฟล์:** `012-2.pdf`"
      ],
      "text/plain": [
       "<IPython.core.display.Markdown object>"
      ]
     },
     "metadata": {},
     "output_type": "display_data"
    },
    {
     "data": {
      "text/html": [
       "\n",
       "        <details>\n",
       "            <summary>คลิกเพื่อดูผลลัพธ์ OCR (Processed Text)</summary>\n",
       "            <div style=\"background-color:#f7f7f7; border:1px solid #ddd; padding:10px; margin-top:10px; white-space: pre-wrap; word-wrap: break-word;\"> บันทึกข้อความ\n",
       "\n",
       " ส่วนราชการ...สสท.ทร.(ศซบ.โทร.๕๗๘๙)วันที่ ๒ ธ.ค. ๖๓\n",
       "\n",
       "เรื่อง ขอความอนุเคราะห์วิทยากร\n",
       "\n",
       "เสนอ นซบ.ทหาร\n",
       "\n",
       " ข้อความสำคัญ\n",
       "๑. สสท.ทร.กำหนดจัดสัมมนาการพัฒนาขีดความสามารถการปฏิบัติการไซเบอร์ ระหว่าง ๒๗๒๙ มกราคม ๒๕๖๔ ณ ศูนย์สมุททานุภาพกองทัพอเมริกา บางพระ อ.ศรีราชา จ.ชลบุรี โดยมีวัตถุประสงค์ เพื่อส่งเสริมพัฒนากำลังพลของ ทร.ให้มีขีดความสามารถในการปฏิบัติการด้านสงครามไซเบอร์ และยกระดับ มาตรฐานการปฏิบัติการด้านไซเบอร์ตามวิสัยทัศน์และยุทธศาสตร์ ทร.\n",
       "\n",
       "๒. เพื่อให้การดำเนินการตามข้อ ๑ เป็นไปด้วยความเรียบร้อย จึงขอความอนุเคราะห์วิทยากร จำนวน ๑ นาย บรรยายในหัวข้อการประมาณการข่าวรองในมิติไซเบอร์ ในวันจันทร์ที่ ๒๗ ม.ค.๖๔ เวลา ๑๓๐๐ – ๑๕๐๐ ทั้งนี้ ได้มอบหมายให้ น.ท.คลิน ศิริธราภูล รม. หน.ปฏิบัติการ กปซ.ศซบ.สสท.ทร.หมายเลขโทรศัพท์ ๐ ๒๔๗๕ ๗๘๘๙ หรือ ๐๙ ๖๘๒๙ ๖๑๙๕ เป็นผู้ประสานงานในครั้งนี้\n",
       "\n",
       "จึงเสนอมาเพื่อโปรดพิจารณาดำเนินการต่อไป\n",
       "\n",
       " ลายเซ็น\n",
       "\n",
       " พล.ร.ต.  ร.น. \n",
       "    \n",
       " ไชย ชัย  ผล.ศซบ.สสท.ทร. การแทน \n",
       "   จก.สสท.ทร. </div>\n",
       "        </details>\n",
       "        "
      ],
      "text/plain": [
       "<IPython.core.display.HTML object>"
      ]
     },
     "metadata": {},
     "output_type": "display_data"
    },
    {
     "data": {
      "text/html": [
       "\n",
       "        <details>\n",
       "            <summary>คลิกเพื่อดู Ground Truth Text</summary>\n",
       "            <div style=\"background-color:#e6ffed; border:1px solid #b7e1cd; padding:10px; margin-top:5px; white-space: pre-wrap; word-wrap: break-word;\">บันทึกข้อความ \n",
       "\n",
       "ส่วนราชการ สสท.ทร. (ศซบ. โทร.๕๗๘๙๐) \n",
       "ที่ กห ๐๕๐๗.๕/๑๗๕๐\n",
       "วันที่ ๒๖ ธ.ค. ๖๗ \n",
       "เรื่อง ขอความอนุเคราะห์วิทยากร\n",
       "\n",
       "เสนอ นซบ.ทหาร \n",
       "\n",
       "๑. สสท.ทร.กำหนดจัดสัมมนาการพัฒนาขีดความสามารถการปฏิบัติการไซเบอร์ ระหว่าง ๒๗ - ๒๙ มกราคม ๒๕๖๘ ณ ศูนย์สมุททานุภาพกองทัพเรือ ต.บางพระ อ.ศรีราชา จว.ชลบุรี โดยมีวัตถุประสงค์ เพื่อส่งเสริมพัฒนากำลังพลของ ทร. ให้มีขีดความสามารถในการปฏิบัติการด้านสงครามไซเบอร์ และยกระดับมาตรฐานการปฏิบัติการด้านไซเบอร์ตามวิสัยทัศน์และยุทธศาสตร์ ทร. \n",
       "\n",
       "๒. เพื่อให้การดำเนินการตามข้อ ๑ เป็นไปด้วยความเรียบร้อย จึงขอความอนุเคราะห์วิทยากร จำนวน ๑ นาย บรรยายในหัวข้อการประมาณการข่าวกรองในมิติไซเบอร์ ในวันจันทร์ที่ ๒๗ ม.ค.๖๘ เวลา ๑๓๐๐ - ๑๕๐๐ ทั้งนี้ ได้มอบหมายให้ น.ท.คณิน ศิริธรากูล ร.น. หน.ปฏิบัติการ กปซ.ศซบ.สสท.ทร. หมายเลขโทรศัพท์ ๐ ๒๔๗๕ ๗๘๘๙ หรือ ๐๙ ๖๘๒๙ ๖๑๙๕ เป็นผู้ประสานงานในครั้งนี้ \n",
       "\n",
       "จึงเสนอมาเพื่อโปรดพิจารณาดำเนินการต่อไป  \n",
       "\n",
       "พล.ร.ต. ร.น. \n",
       "ผอ.ศซบ.สสท.ทร. ทำการแทน\n",
       "จก.สสท.ทร.</div>\n",
       "        </details>\n",
       "        "
      ],
      "text/plain": [
       "<IPython.core.display.HTML object>"
      ]
     },
     "metadata": {},
     "output_type": "display_data"
    },
    {
     "data": {
      "text/markdown": [
       "---"
      ],
      "text/plain": [
       "<IPython.core.display.Markdown object>"
      ]
     },
     "metadata": {},
     "output_type": "display_data"
    },
    {
     "data": {
      "text/markdown": [
       "#### 📄 **ไฟล์:** `013-2.pdf`"
      ],
      "text/plain": [
       "<IPython.core.display.Markdown object>"
      ]
     },
     "metadata": {},
     "output_type": "display_data"
    },
    {
     "data": {
      "text/html": [
       "\n",
       "        <details>\n",
       "            <summary>คลิกเพื่อดูผลลัพธ์ OCR (Processed Text)</summary>\n",
       "            <div style=\"background-color:#f7f7f7; border:1px solid #ddd; padding:10px; margin-top:10px; white-space: pre-wrap; word-wrap: break-word;\"> บันทึกข้อความ\n",
       "\n",
       "ส่วนราชการ... กกล.นซบ.ทหาร (แผนกรธุรการและกำลังพลฯ โทร.ทหาร ๕๗๒๑๗)\n",
       "\n",
       "วันที่ ๑๗ ม.ค. ๖๘\n",
       "\n",
       "เรื่อง ขอความเห็นชอบการลาออกจากราชการของนายทหารประทานในสังกัด นซบ.ทหาร\n",
       "\n",
       "เสนอ ศชล.นซบ.ทหาร\n",
       "\n",
       "สิ่งที่ส่งมาด้วย สำเนาใบลาออกจากราชการ จำนวน ๑ ฉบับ\n",
       "\n",
       "๑. ด้วย พ.อ.อ. วุฒินันท์ บุญล้ำ เจ้าหน้าที่ปฏิบัติการ แผนกปฏิบัติการที่ ๑ กปภ.๒ สปก.นซบ.ทหาร มีความประสงค์ขอลาออกจากราชการเพื่อไปปฏิบัติงานบริษัทเอกชน ตั้งแต่ ๑ ม.ค. ๖๘ เป็นต้นไป รายละเอียดตามสิ่งที่ส่งมาด้วย\n",
       "\n",
       "๒. กกล.นซบ.ทหาร จึงขอรับความเห็นชอบจาก กวก.ศซบ.ทหาร ในฐานะหัวหน้าสายวิทยาการได้กรุณาพิจารณาการขอลาออกของนายทหารประทาน ตามข้อ ๑ และกรุณาแจ้งผลการพิจารณา ให้ กกล.นซบ.ทหาร ทราบ เพื่อดำเนินการในส่วนที่เกี่ยวข้องต่อไป\n",
       "\n",
       "จึงเสนอมาเพื่อกรุณาพิจารณา\n",
       "\n",
       "พ.อ.\n",
       "\n",
       "(สมชาย ธูปเช่ม)\n",
       "ผอ.กกล.นซบ.ทหาร</div>\n",
       "        </details>\n",
       "        "
      ],
      "text/plain": [
       "<IPython.core.display.HTML object>"
      ]
     },
     "metadata": {},
     "output_type": "display_data"
    },
    {
     "data": {
      "text/html": [
       "\n",
       "        <details>\n",
       "            <summary>คลิกเพื่อดู Ground Truth Text</summary>\n",
       "            <div style=\"background-color:#e6ffed; border:1px solid #b7e1cd; padding:10px; margin-top:5px; white-space: pre-wrap; word-wrap: break-word;\">บันทึกข้อความ \n",
       "\n",
       "ส่วนราชการ กกล.นซบ.ทหาร (แผนกธุรการและกำลังพลฯ โทร.ทหาร ๕๗๒๑๗๔๗) \n",
       "ที่ กห ๐๓๐๑.๑๐.๑/๕๐\n",
       "วันที่ ๒๑ ม.ค. ๖๘ \n",
       "เรื่อง ขอความเห็นชอบการลาออกจากราชการของนายทหารประทวนในสังกัด นซบ.ทหาร \n",
       "\n",
       "เสนอ ศชล.นซบ.ทหาร \n",
       "\n",
       "สิ่งที่ส่งมาด้วย สำเนาใบลาออกจากราชการ จำนวน ๑ ฉบับ \n",
       "\n",
       "๑. ด้วย พ.อ.อ. วุฒินันท์ บุญล้ำ เจ้าหน้าที่ปฏิบัติการ แผนกปฏิบัติการที่ ๑ กปก.๒ สปก.นซบ.ทหาร มีความประสงค์ขอลาออกจากราชการเพื่อไปปฏิบัติงานบริษัทเอกชน ตั้งแต่ ๑ ม.ค. ๖๘ เป็นต้นไป รายละเอียดตามสิ่งที่ส่งมาด้วย \n",
       "\n",
       "๒. กกล.นซบ.ทหาร จึงขอรับความเห็นชอบจาก กวก.ศซบ.ทหาร ในฐานะหัวหน้าสายวิทยาการได้กรุณาพิจารณาการขอลาออกของนายทหารประทาน ตามข้อ ๑ และกรุณาแจ้งผลการพิจารณา ให้ กกล.นซบ.ทหาร ทราบ เพื่อดำเนินการในส่วนที่เกี่ยวข้องต่อไป \n",
       "\n",
       "จึงเสนอมาเพื่อกรุณาพิจารณา \n",
       "\n",
       "พ.อ.\n",
       "\n",
       "(สมชาย ธูปแช่ม) \n",
       "ผอ.กกล.นซบ.ทหาร</div>\n",
       "        </details>\n",
       "        "
      ],
      "text/plain": [
       "<IPython.core.display.HTML object>"
      ]
     },
     "metadata": {},
     "output_type": "display_data"
    },
    {
     "data": {
      "text/markdown": [
       "---"
      ],
      "text/plain": [
       "<IPython.core.display.Markdown object>"
      ]
     },
     "metadata": {},
     "output_type": "display_data"
    },
    {
     "data": {
      "text/markdown": [
       "#### 📄 **ไฟล์:** `015-2.pdf`"
      ],
      "text/plain": [
       "<IPython.core.display.Markdown object>"
      ]
     },
     "metadata": {},
     "output_type": "display_data"
    },
    {
     "data": {
      "text/html": [
       "\n",
       "        <details>\n",
       "            <summary>คลิกเพื่อดูผลลัพธ์ OCR (Processed Text)</summary>\n",
       "            <div style=\"background-color:#f7f7f7; border:1px solid #ddd; padding:10px; margin-top:10px; white-space: pre-wrap; word-wrap: break-word;\"> ด่วนมาก\n",
       " บันทึกข้อความ\n",
       "ส่วนราชการ สบ.ทหาร (กสม.สนับ.ทหาร โทร.ทหาร ๕๗๒๑๘๖)\n",
       "\n",
       "วันที่ ๑๙ ก.ย. ๖๓\n",
       "\n",
       "เรื่อง ขอรับการสนับสนุนวิทยากร\n",
       "\n",
       "เรียน ผอ.ศซบ.ทหาร\n",
       "\n",
       "สิ่งที่ส่งมาด้วย ๑. กำหนดการและขอบเขตการบรรยายหลักสูตรนายทหารประมวลอาวุโส บก.ทท. รุ่นที่ ๑๒\n",
       "ประจำปีงบประมาณ พ.ศ. ๒๕๖๔\n",
       "\n",
       "๒. แบบกรอกประวัติผู้บรรยายและความต้องการของผู้บรรยาย\n",
       "\n",
       "๑. สนับ.ทหาร กำหนดเปิดหลักสูตรนายทหารประมวลอาวุโส บก.ทท. รุ่นที่ ๑๒ ประจำปี\n",
       "งบประมาณ พ.ศ. ๒๕๖๔ ตั้งแต่วันที่ ๘ ต.ค.-๒๐ ธ.ค. ๖๗ ณ ห้องเรียน ๘๐๓ ชั้น ๘ อาคาร ๙ บก.ทท..\n",
       "ซึ่งในหลักสูตรฯ ได้กำหนดการบรรยายให้ความรู้ในหัวข้อวิชาเกี่ยวกับความรู้ความมั่นคงปลอดภัยทางไซเบอร์\n",
       "รายละเอียดตามสิ่งที่ส่งมาด้วย ๑\n",
       "\n",
       "๒. การดำเนินการเปิดหลักสูตรฯ ตามข้อ ๑ สนับ.ทหาร มีความประสงค์ขอรับการสนับสนุน\n",
       "วิทยากรเพื่อบรรยายให้ความรู้แก่ผู้เข้ารับการฝึกอบรมฯ ในวัน เวลา และสถานที่ ดังกล่าว โดยขอความกรุณา\n",
       "ส่งแบบกรอกประวัติผู้บรรยายและความต้องการของผู้บรรยาย รายละเอียดตามสิ่งที่ส่งมาด้วย ๒ ถึง สนับ.ทหาร\n",
       "ภายในวันที่ ๒๐ ก.ย. ๖๗ ทั้งนี้ได้มอบหมายให้ พ.ต. อานนท์ ดามาพงศ์ ประจำแผนกวัดการศึกษาและ\n",
       "วิชาการ กสม.สนับ.ทหาร โทร.ทหาร ๕๗๒๑๘๒๑ เป็นผู้ประสานรายละเอียดโดยตรง\n",
       "\n",
       "จึงเรียนมาเพื่อกรุณาพิจารณา\n",
       "\n",
       "พล.ท.\n",
       "(จิรสักดิ์ พรรังสฤษฎ์)\n",
       "จาก.สนับ.ทหาร</div>\n",
       "        </details>\n",
       "        "
      ],
      "text/plain": [
       "<IPython.core.display.HTML object>"
      ]
     },
     "metadata": {},
     "output_type": "display_data"
    },
    {
     "data": {
      "text/html": [
       "\n",
       "        <details>\n",
       "            <summary>คลิกเพื่อดู Ground Truth Text</summary>\n",
       "            <div style=\"background-color:#e6ffed; border:1px solid #b7e1cd; padding:10px; margin-top:5px; white-space: pre-wrap; word-wrap: break-word;\">ด่วนมาก \n",
       "\n",
       "บันทึกข้อความ \n",
       "\n",
       "ส่วนราชการ สบ.ทหาร (กสบ.สบ.ทหาร โทร.ทหาร.๕๗๒๑๘๒๑) \n",
       "ที่ กห ๐๓๑๒/๒๒๕๙\n",
       "วันที่ ๑๗ ก.ย. ๖๗ \n",
       "เรื่อง ขอรับการสนับสนุนวิทยากร \n",
       "\n",
       "เรียน ผอ.ศซบ.ทหาร \n",
       "\n",
       "สิ่งที่ส่งมาด้วย ๑. กำหนดการและขอบเขตการบรรยายหลักสูตรนายทหารประทวนอาวุโส บก.ทท. รุ่นที่ ๑๒ ประจำปีงบประมาณ พ.ศ. ๒๕๖๘ \n",
       "๒. แบบกรอกประวัติผู้บรรยายและความต้องการของผู้บรรยาย \n",
       "\n",
       "๑. สบ.ทหาร กำหนดเปิดหลักสูตรนายทหารประทวนอาวุโส บก.ทท. รุ่นที่ ๑๒ ประจำปีงบประมาณ พ.ศ. ๒๕๖๘ ตั้งแต่วันที่ ๘ ต.ค.-๒๐ ธ.ค. ๖๗ ณ ห้องเรียน ๘๐๓ ชั้น ๘ อาคาร ๙ บก.ทท. ซึ่งในหลักสูตรฯ ได้กำหนดการบรรยายให้ความรู้ในหัวข้อวิชาเกี่ยวกับความรู้ความมั่นคงปลอดภัยทางไซเบอร์ รายละเอียดตามสิ่งที่ส่งมาด้วย ๑ \n",
       "\n",
       "๒. การดำเนินการเปิดหลักสูตรฯ ตามข้อ ๑ สบ.ทหาร มีความประสงค์ขอรับการสนับสนุน วิทยากรเพื่อบรรยายให้ความรู้แก่ผู้เข้ารับการฝึกอบรมฯ ในวัน เวลา และสถานที่ ดังกล่าว โดยขอความกรุณา ส่งแบบกรอกประวัติผู้บรรยายและความต้องการของผู้บรรยาย รายละเอียดตามสิ่งที่ส่งมาด้วย ๒ ถึง สบ.ทหาร ภายในวันที่ ๒๐ ก.ย. ๖๗ ทั้งนี้ได้มอบหมายให้ พ.ต. อานนท์ ดามาพงศ์ ประจำแผนกจัดการศึกษาและวิชาการ กสบ.สบ.ทหาร โทร.ทหาร ๕๗๒๑๘๖๑ เป็นผู้ประสานรายละเอียดโดยตรง \n",
       "\n",
       "จึงเรียนมาเพื่อกรุณาพิจารณา \n",
       "\n",
       "พล.ท. \n",
       "\n",
       "(จิรศักดิ์ พรรังสฤษฎ์) \n",
       "จก.สบ.ทหาร</div>\n",
       "        </details>\n",
       "        "
      ],
      "text/plain": [
       "<IPython.core.display.HTML object>"
      ]
     },
     "metadata": {},
     "output_type": "display_data"
    }
   ],
   "source": [
    "# Focus on Processed OCR-Internal Letter\n",
    "\n",
    "pdf_files = sorted(list(PDF_LETTER_DIR.glob(\"*.pdf\")))\n",
    "\n",
    "if not pdf_files:\n",
    "    display(Markdown(f\"<font color='red'>**ไม่พบไฟล์ PDF ในโฟลเดอร์ `{PDF_LETTER_DIR}` กรุณาตรวจสอบว่า Path ถูกต้อง**</font>\"))\n",
    "else:\n",
    "    display(Markdown(f\"### 🚀 เริ่มการทดสอบระบบ OCR กับไฟล์ทั้งหมด {len(pdf_files)} ไฟล์\"))\n",
    "    \n",
    "    results_list = []\n",
    "    \n",
    "    for pdf_path in tqdm(pdf_files, desc=\"กำลังประมวลผลไฟล์\"):\n",
    "\n",
    "        # run OCR\n",
    "        ocr_result, exec_time = run_typhoon_ocr(pdf_path)\n",
    "        raw_ocr_text = ocr_result.get(\"text\", \"\")\n",
    "        \n",
    "        # do Post-processing\n",
    "        processed_ocr_text = post_process_ocr(raw_ocr_text)\n",
    "        \n",
    "        # load Ground truth\n",
    "        pdf_stem = pdf_path.stem\n",
    "        gt_path = GROUND_TRUTH_DIR / f\"{pdf_stem}.txt\"\n",
    "        \n",
    "        ground_truth_text = \"\"\n",
    "        if gt_path.is_file(): \n",
    "            print(f\"   - ✅ พบไฟล์ Ground Truth!\")\n",
    "            try:\n",
    "                try:\n",
    "                    ground_truth_text = gt_path.read_text(encoding=\"utf-8\").strip()\n",
    "                except UnicodeDecodeError:\n",
    "                    print(\"     - WARNING: ไม่สามารถอ่านแบบ utf-8 ได้ ลองอ่านแบบ TIS-620\")\n",
    "                    ground_truth_text = gt_path.read_text(encoding=\"tis-620\").strip()\n",
    "\n",
    "                if ground_truth_text:\n",
    "                    print(f\"     - SUCCESS: อ่านเนื้อหาสำเร็จ มี {len(ground_truth_text)} ตัวอักษร\")\n",
    "                else:\n",
    "                    print(f\"     - WARNING: อ่านไฟล์สำเร็จ แต่ไฟล์ว่างเปล่า!\")\n",
    "            except Exception as e:\n",
    "                print(f\"     - ❌ ERROR: เกิดข้อผิดพลาดในการอ่านไฟล์: {e}\")\n",
    "        else:\n",
    "            print(f\"   - ❌ ไม่พบไฟล์ Ground Truth หรือไม่ใช่ไฟล์ปกติ (อาจเป็นโฟลเดอร์?)\")\n",
    "        \n",
    "        # Metrics calculation\n",
    "        metrics_before = calculate_metrics(raw_ocr_text, ground_truth_text)\n",
    "        metrics_after = calculate_metrics(processed_ocr_text, ground_truth_text)\n",
    "        \n",
    "        results_list.append({\n",
    "            \"File\": pdf_path.name,\n",
    "            \"Time (s)\": exec_time,\n",
    "            \"WER (Before)\": metrics_before['wer'],\n",
    "            \"CER (Before)\": metrics_before['cer'],\n",
    "            \"WER (After)\": metrics_after['wer'],\n",
    "            \"CER (After)\": metrics_after['cer'],\n",
    "            \"Raw OCR Text\": raw_ocr_text,\n",
    "            \"Processed OCR Text\": processed_ocr_text,\n",
    "            \"Ground Truth Text\": ground_truth_text\n",
    "        })\n",
    "        \n",
    "    df_results = pd.DataFrame(results_list)\n",
    "    display(Markdown(f\"<hr>\"))\n",
    "    display(Markdown(f\"### 📊 ตารางสรุปผลการทดสอบ\"))\n",
    "    df_results[\"WAcc (After)\"] = 1 - df_results[\"WER (After)\"].fillna(0)\n",
    "    df_results[\"CAcc (After)\"] = 1 - df_results[\"CER (After)\"].fillna(0)\n",
    "\n",
    "    display_cols = [\n",
    "        \"File\", \"Time (s)\", \n",
    "        \"CER (After)\", \"WER (After)\", \n",
    "        \"CAcc (After)\", \"WAcc (After)\"\n",
    "    ]\n",
    "\n",
    "    has_numeric_metrics = pd.to_numeric(df_results[\"CER (After)\"], errors='coerce').notna().any()\n",
    "\n",
    "    # Format Data \n",
    "    styler = df_results[display_cols].style.format({\n",
    "        \"Time (s)\": \"{:.2f}\",\n",
    "        \"CER (After)\": safe_percent_format,\n",
    "        \"WER (After)\": safe_percent_format,\n",
    "        \"CAcc (After)\": safe_percent_format, \n",
    "        \"WAcc (After)\": safe_percent_format, \n",
    "    }).background_gradient(\n",
    "        cmap='RdYlGn_r', \n",
    "        subset=[\"CER (After)\", \"WER (After)\"]\n",
    "    ).background_gradient(\n",
    "        cmap='YlGn', \n",
    "        subset=[\"CAcc (After)\", \"WAcc (After)\"]\n",
    "    ).set_properties(**{'text-align': 'left'}).set_table_styles(\n",
    "        [dict(selector='th', props=[('text-align', 'left')])]\n",
    "    )\n",
    "\n",
    "    display(styler)\n",
    "    display(Markdown(f\"### 📈 ค่าเฉลี่ยรวม\"))\n",
    "\n",
    "    avg_metrics = df_results[display_cols[1:]].mean() \n",
    "    display(Markdown(f\"- **เวลาประมวลผลเฉลี่ย:** `{avg_metrics['Time (s)']:.2f}` วินาที/ไฟล์\"))\n",
    "\n",
    "    if pd.notna(avg_metrics['CAcc (After)']):\n",
    "        display(Markdown(f\"- **Character Accuracy (CAcc) เฉลี่ย:** `{avg_metrics['CAcc (After)']:.2%}` (ความถูกต้องระดับตัวอักษร)\"))\n",
    "        display(Markdown(f\"- **Word Accuracy (WAcc) เฉลี่ย:** `{avg_metrics['WAcc (After)']:.2%}` (ความถูกต้องระดับคำ)\"))\n",
    "    else:\n",
    "        display(Markdown(f\"- **Accuracy:** `N/A (ไม่มีข้อมูล Ground Truth)`\"))\n",
    "        \n",
    "    # OCR Test Display\n",
    "    display(Markdown(f\"<hr>\"))\n",
    "    display(Markdown(f\"### 📝 ผลลัพธ์ OCR ฉบับเต็ม (เทียบก่อน-หลัง Post-processing)\"))\n",
    "\n",
    "    for index, row in df_results.iterrows():\n",
    "        display(Markdown(f\"---\"))\n",
    "        display(Markdown(f\"#### 📄 **ไฟล์:** `{row['File']}`\"))\n",
    "\n",
    "        # Expander for Raw OCR Text\n",
    "        html_raw = f\"\"\"\n",
    "        <details>\n",
    "            <summary>คลิกเพื่อดูผลลัพธ์ OCR (Processed Text)</summary>\n",
    "            <div style=\"background-color:#f7f7f7; border:1px solid #ddd; padding:10px; margin-top:10px; white-space: pre-wrap; word-wrap: break-word;\">{row['Processed OCR Text']}</div>\n",
    "        </details>\n",
    "        \"\"\"\n",
    "        display(HTML(html_raw))\n",
    "\n",
    "        # Expander for Processed Text\n",
    "        html_processed = f\"\"\"\n",
    "        <details>\n",
    "            <summary>คลิกเพื่อดู Ground Truth Text</summary>\n",
    "            <div style=\"background-color:#e6ffed; border:1px solid #b7e1cd; padding:10px; margin-top:5px; white-space: pre-wrap; word-wrap: break-word;\">{row['Ground Truth Text']}</div>\n",
    "        </details>\n",
    "        \"\"\"\n",
    "        display(HTML(html_processed))"
   ]
  },
  {
   "cell_type": "markdown",
   "id": "d2ec1bf4",
   "metadata": {},
   "source": [
    "## RTARF Memo"
   ]
  },
  {
   "cell_type": "code",
   "execution_count": 5,
   "id": "33c17faa",
   "metadata": {},
   "outputs": [
    {
     "data": {
      "text/markdown": [
       "### 🚀 เริ่มการทดสอบระบบ OCR กับไฟล์ทั้งหมด 10 ไฟล์"
      ],
      "text/plain": [
       "<IPython.core.display.Markdown object>"
      ]
     },
     "metadata": {},
     "output_type": "display_data"
    },
    {
     "data": {
      "application/vnd.jupyter.widget-view+json": {
       "model_id": "43a9cd4513e9431eb76c6b5db59195da",
       "version_major": 2,
       "version_minor": 0
      },
      "text/plain": [
       "กำลังประมวลผลไฟล์:   0%|          | 0/10 [00:00<?, ?it/s]"
      ]
     },
     "metadata": {},
     "output_type": "display_data"
    },
    {
     "name": "stdout",
     "output_type": "stream",
     "text": [
      "   - PDF Stem: '002-2'\n",
      "   - กำลังมองหา Ground Truth ที่: 'ground_truth/002-2.txt'\n",
      "   - ✅ พบไฟล์ Ground Truth!\n",
      "     - SUCCESS: อ่านเนื้อหาสำเร็จ มี 1537 ตัวอักษร\n",
      "   - PDF Stem: '004-2'\n",
      "   - กำลังมองหา Ground Truth ที่: 'ground_truth/004-2.txt'\n",
      "   - ✅ พบไฟล์ Ground Truth!\n",
      "     - SUCCESS: อ่านเนื้อหาสำเร็จ มี 1468 ตัวอักษร\n",
      "   - PDF Stem: '006-2'\n",
      "   - กำลังมองหา Ground Truth ที่: 'ground_truth/006-2.txt'\n",
      "   - ✅ พบไฟล์ Ground Truth!\n",
      "     - SUCCESS: อ่านเนื้อหาสำเร็จ มี 1564 ตัวอักษร\n",
      "   - PDF Stem: '007-2'\n",
      "   - กำลังมองหา Ground Truth ที่: 'ground_truth/007-2.txt'\n",
      "   - ✅ พบไฟล์ Ground Truth!\n",
      "     - SUCCESS: อ่านเนื้อหาสำเร็จ มี 2846 ตัวอักษร\n",
      "   - PDF Stem: '014-2'\n",
      "   - กำลังมองหา Ground Truth ที่: 'ground_truth/014-2.txt'\n",
      "   - ✅ พบไฟล์ Ground Truth!\n",
      "     - SUCCESS: อ่านเนื้อหาสำเร็จ มี 1835 ตัวอักษร\n",
      "   - PDF Stem: '016-2'\n",
      "   - กำลังมองหา Ground Truth ที่: 'ground_truth/016-2.txt'\n",
      "   - ✅ พบไฟล์ Ground Truth!\n",
      "     - SUCCESS: อ่านเนื้อหาสำเร็จ มี 1537 ตัวอักษร\n",
      "   - PDF Stem: '017-2'\n",
      "   - กำลังมองหา Ground Truth ที่: 'ground_truth/017-2.txt'\n",
      "   - ✅ พบไฟล์ Ground Truth!\n",
      "     - SUCCESS: อ่านเนื้อหาสำเร็จ มี 1539 ตัวอักษร\n",
      "   - PDF Stem: '018-2'\n",
      "   - กำลังมองหา Ground Truth ที่: 'ground_truth/018-2.txt'\n",
      "   - ✅ พบไฟล์ Ground Truth!\n",
      "     - SUCCESS: อ่านเนื้อหาสำเร็จ มี 1364 ตัวอักษร\n",
      "   - PDF Stem: '019-2'\n",
      "   - กำลังมองหา Ground Truth ที่: 'ground_truth/019-2.txt'\n",
      "   - ✅ พบไฟล์ Ground Truth!\n",
      "     - SUCCESS: อ่านเนื้อหาสำเร็จ มี 2069 ตัวอักษร\n",
      "   - PDF Stem: '021-2'\n",
      "   - กำลังมองหา Ground Truth ที่: 'ground_truth/021-2.txt'\n",
      "   - ✅ พบไฟล์ Ground Truth!\n",
      "     - SUCCESS: อ่านเนื้อหาสำเร็จ มี 1612 ตัวอักษร\n"
     ]
    },
    {
     "data": {
      "text/markdown": [
       "<hr>"
      ],
      "text/plain": [
       "<IPython.core.display.Markdown object>"
      ]
     },
     "metadata": {},
     "output_type": "display_data"
    },
    {
     "data": {
      "text/markdown": [
       "### 📊 ตารางสรุปผลการทดสอบ (Raw OCR Accuracy)"
      ],
      "text/plain": [
       "<IPython.core.display.Markdown object>"
      ]
     },
     "metadata": {},
     "output_type": "display_data"
    },
    {
     "data": {
      "text/html": [
       "<style type=\"text/css\">\n",
       "#T_6b067 th {\n",
       "  text-align: left;\n",
       "}\n",
       "#T_6b067_row0_col0, #T_6b067_row0_col1, #T_6b067_row1_col0, #T_6b067_row1_col1, #T_6b067_row2_col0, #T_6b067_row2_col1, #T_6b067_row3_col0, #T_6b067_row3_col1, #T_6b067_row4_col0, #T_6b067_row4_col1, #T_6b067_row5_col0, #T_6b067_row5_col1, #T_6b067_row6_col0, #T_6b067_row6_col1, #T_6b067_row7_col0, #T_6b067_row7_col1, #T_6b067_row8_col0, #T_6b067_row8_col1, #T_6b067_row9_col0, #T_6b067_row9_col1 {\n",
       "  text-align: left;\n",
       "}\n",
       "#T_6b067_row0_col2 {\n",
       "  text-align: left;\n",
       "  background-color: #addc6f;\n",
       "  color: #000000;\n",
       "}\n",
       "#T_6b067_row0_col3 {\n",
       "  text-align: left;\n",
       "  background-color: #f8864f;\n",
       "  color: #f1f1f1;\n",
       "}\n",
       "#T_6b067_row0_col4 {\n",
       "  text-align: left;\n",
       "  background-color: #329850;\n",
       "  color: #f1f1f1;\n",
       "}\n",
       "#T_6b067_row0_col5 {\n",
       "  text-align: left;\n",
       "  background-color: #dcf1a5;\n",
       "  color: #000000;\n",
       "}\n",
       "#T_6b067_row1_col2 {\n",
       "  text-align: left;\n",
       "  background-color: #63bc62;\n",
       "  color: #f1f1f1;\n",
       "}\n",
       "#T_6b067_row1_col3 {\n",
       "  text-align: left;\n",
       "  background-color: #fecc7b;\n",
       "  color: #000000;\n",
       "}\n",
       "#T_6b067_row1_col4 {\n",
       "  text-align: left;\n",
       "  background-color: #14783e;\n",
       "  color: #f1f1f1;\n",
       "}\n",
       "#T_6b067_row1_col5 {\n",
       "  text-align: left;\n",
       "  background-color: #b2df90;\n",
       "  color: #000000;\n",
       "}\n",
       "#T_6b067_row2_col2 {\n",
       "  text-align: left;\n",
       "  background-color: #42ac5a;\n",
       "  color: #f1f1f1;\n",
       "}\n",
       "#T_6b067_row2_col3 {\n",
       "  text-align: left;\n",
       "  background-color: #d3ec87;\n",
       "  color: #000000;\n",
       "}\n",
       "#T_6b067_row2_col4 {\n",
       "  text-align: left;\n",
       "  background-color: #086e3a;\n",
       "  color: #f1f1f1;\n",
       "}\n",
       "#T_6b067_row2_col5 {\n",
       "  text-align: left;\n",
       "  background-color: #47ae60;\n",
       "  color: #f1f1f1;\n",
       "}\n",
       "#T_6b067_row3_col2, #T_6b067_row3_col3 {\n",
       "  text-align: left;\n",
       "  background-color: #006837;\n",
       "  color: #f1f1f1;\n",
       "}\n",
       "#T_6b067_row3_col4, #T_6b067_row3_col5 {\n",
       "  text-align: left;\n",
       "  background-color: #004529;\n",
       "  color: #f1f1f1;\n",
       "}\n",
       "#T_6b067_row4_col2 {\n",
       "  text-align: left;\n",
       "  background-color: #fff8b4;\n",
       "  color: #000000;\n",
       "}\n",
       "#T_6b067_row4_col3 {\n",
       "  text-align: left;\n",
       "  background-color: #fede89;\n",
       "  color: #000000;\n",
       "}\n",
       "#T_6b067_row4_col4 {\n",
       "  text-align: left;\n",
       "  background-color: #81ca7d;\n",
       "  color: #000000;\n",
       "}\n",
       "#T_6b067_row4_col5 {\n",
       "  text-align: left;\n",
       "  background-color: #a4d98a;\n",
       "  color: #000000;\n",
       "}\n",
       "#T_6b067_row5_col2 {\n",
       "  text-align: left;\n",
       "  background-color: #9bd469;\n",
       "  color: #000000;\n",
       "}\n",
       "#T_6b067_row5_col3 {\n",
       "  text-align: left;\n",
       "  background-color: #e0422f;\n",
       "  color: #f1f1f1;\n",
       "}\n",
       "#T_6b067_row5_col4 {\n",
       "  text-align: left;\n",
       "  background-color: #2b8e4a;\n",
       "  color: #f1f1f1;\n",
       "}\n",
       "#T_6b067_row5_col5 {\n",
       "  text-align: left;\n",
       "  background-color: #f6fcb8;\n",
       "  color: #000000;\n",
       "}\n",
       "#T_6b067_row6_col2, #T_6b067_row6_col3 {\n",
       "  text-align: left;\n",
       "  background-color: #a50026;\n",
       "  color: #f1f1f1;\n",
       "}\n",
       "#T_6b067_row6_col4, #T_6b067_row6_col5 {\n",
       "  text-align: left;\n",
       "  background-color: #ffffe5;\n",
       "  color: #000000;\n",
       "}\n",
       "#T_6b067_row7_col2 {\n",
       "  text-align: left;\n",
       "  background-color: #f57547;\n",
       "  color: #f1f1f1;\n",
       "}\n",
       "#T_6b067_row7_col3 {\n",
       "  text-align: left;\n",
       "  background-color: #fa9656;\n",
       "  color: #000000;\n",
       "}\n",
       "#T_6b067_row7_col4 {\n",
       "  text-align: left;\n",
       "  background-color: #e2f4aa;\n",
       "  color: #000000;\n",
       "}\n",
       "#T_6b067_row7_col5 {\n",
       "  text-align: left;\n",
       "  background-color: #d5eea1;\n",
       "  color: #000000;\n",
       "}\n",
       "#T_6b067_row8_col2 {\n",
       "  text-align: left;\n",
       "  background-color: #69be63;\n",
       "  color: #f1f1f1;\n",
       "}\n",
       "#T_6b067_row8_col3 {\n",
       "  text-align: left;\n",
       "  background-color: #fff3ac;\n",
       "  color: #000000;\n",
       "}\n",
       "#T_6b067_row8_col4 {\n",
       "  text-align: left;\n",
       "  background-color: #167a3f;\n",
       "  color: #f1f1f1;\n",
       "}\n",
       "#T_6b067_row8_col5 {\n",
       "  text-align: left;\n",
       "  background-color: #88cd7f;\n",
       "  color: #000000;\n",
       "}\n",
       "#T_6b067_row9_col2 {\n",
       "  text-align: left;\n",
       "  background-color: #30a356;\n",
       "  color: #f1f1f1;\n",
       "}\n",
       "#T_6b067_row9_col3 {\n",
       "  text-align: left;\n",
       "  background-color: #b1de71;\n",
       "  color: #000000;\n",
       "}\n",
       "#T_6b067_row9_col4 {\n",
       "  text-align: left;\n",
       "  background-color: #016937;\n",
       "  color: #f1f1f1;\n",
       "}\n",
       "#T_6b067_row9_col5 {\n",
       "  text-align: left;\n",
       "  background-color: #349a52;\n",
       "  color: #f1f1f1;\n",
       "}\n",
       "</style>\n",
       "<table id=\"T_6b067\">\n",
       "  <thead>\n",
       "    <tr>\n",
       "      <th class=\"blank level0\" >&nbsp;</th>\n",
       "      <th id=\"T_6b067_level0_col0\" class=\"col_heading level0 col0\" >File</th>\n",
       "      <th id=\"T_6b067_level0_col1\" class=\"col_heading level0 col1\" >Time (s)</th>\n",
       "      <th id=\"T_6b067_level0_col2\" class=\"col_heading level0 col2\" >CER</th>\n",
       "      <th id=\"T_6b067_level0_col3\" class=\"col_heading level0 col3\" >WER</th>\n",
       "      <th id=\"T_6b067_level0_col4\" class=\"col_heading level0 col4\" >CAcc</th>\n",
       "      <th id=\"T_6b067_level0_col5\" class=\"col_heading level0 col5\" >WAcc</th>\n",
       "    </tr>\n",
       "  </thead>\n",
       "  <tbody>\n",
       "    <tr>\n",
       "      <th id=\"T_6b067_level0_row0\" class=\"row_heading level0 row0\" >0</th>\n",
       "      <td id=\"T_6b067_row0_col0\" class=\"data row0 col0\" >002-2.pdf</td>\n",
       "      <td id=\"T_6b067_row0_col1\" class=\"data row0 col1\" >13.09</td>\n",
       "      <td id=\"T_6b067_row0_col2\" class=\"data row0 col2\" >23.68%</td>\n",
       "      <td id=\"T_6b067_row0_col3\" class=\"data row0 col3\" >67.02%</td>\n",
       "      <td id=\"T_6b067_row0_col4\" class=\"data row0 col4\" >76.32%</td>\n",
       "      <td id=\"T_6b067_row0_col5\" class=\"data row0 col5\" >32.98%</td>\n",
       "    </tr>\n",
       "    <tr>\n",
       "      <th id=\"T_6b067_level0_row1\" class=\"row_heading level0 row1\" >1</th>\n",
       "      <td id=\"T_6b067_row1_col0\" class=\"data row1 col0\" >004-2.pdf</td>\n",
       "      <td id=\"T_6b067_row1_col1\" class=\"data row1 col1\" >14.10</td>\n",
       "      <td id=\"T_6b067_row1_col2\" class=\"data row1 col2\" >15.84%</td>\n",
       "      <td id=\"T_6b067_row1_col3\" class=\"data row1 col3\" >58.82%</td>\n",
       "      <td id=\"T_6b067_row1_col4\" class=\"data row1 col4\" >84.16%</td>\n",
       "      <td id=\"T_6b067_row1_col5\" class=\"data row1 col5\" >41.18%</td>\n",
       "    </tr>\n",
       "    <tr>\n",
       "      <th id=\"T_6b067_level0_row2\" class=\"row_heading level0 row2\" >2</th>\n",
       "      <td id=\"T_6b067_row2_col0\" class=\"data row2 col0\" >006-2.pdf</td>\n",
       "      <td id=\"T_6b067_row2_col1\" class=\"data row2 col1\" >11.44</td>\n",
       "      <td id=\"T_6b067_row2_col2\" class=\"data row2 col2\" >12.88%</td>\n",
       "      <td id=\"T_6b067_row2_col3\" class=\"data row2 col3\" >41.94%</td>\n",
       "      <td id=\"T_6b067_row2_col4\" class=\"data row2 col4\" >87.12%</td>\n",
       "      <td id=\"T_6b067_row2_col5\" class=\"data row2 col5\" >58.06%</td>\n",
       "    </tr>\n",
       "    <tr>\n",
       "      <th id=\"T_6b067_level0_row3\" class=\"row_heading level0 row3\" >3</th>\n",
       "      <td id=\"T_6b067_row3_col0\" class=\"data row3 col0\" >007-2.pdf</td>\n",
       "      <td id=\"T_6b067_row3_col1\" class=\"data row3 col1\" >17.28</td>\n",
       "      <td id=\"T_6b067_row3_col2\" class=\"data row3 col2\" >2.13%</td>\n",
       "      <td id=\"T_6b067_row3_col3\" class=\"data row3 col3\" >15.59%</td>\n",
       "      <td id=\"T_6b067_row3_col4\" class=\"data row3 col4\" >97.87%</td>\n",
       "      <td id=\"T_6b067_row3_col5\" class=\"data row3 col5\" >84.41%</td>\n",
       "    </tr>\n",
       "    <tr>\n",
       "      <th id=\"T_6b067_level0_row4\" class=\"row_heading level0 row4\" >4</th>\n",
       "      <td id=\"T_6b067_row4_col0\" class=\"data row4 col0\" >014-2.pdf</td>\n",
       "      <td id=\"T_6b067_row4_col1\" class=\"data row4 col1\" >10.77</td>\n",
       "      <td id=\"T_6b067_row4_col2\" class=\"data row4 col2\" >37.96%</td>\n",
       "      <td id=\"T_6b067_row4_col3\" class=\"data row4 col3\" >56.59%</td>\n",
       "      <td id=\"T_6b067_row4_col4\" class=\"data row4 col4\" >62.04%</td>\n",
       "      <td id=\"T_6b067_row4_col5\" class=\"data row4 col5\" >43.41%</td>\n",
       "    </tr>\n",
       "    <tr>\n",
       "      <th id=\"T_6b067_level0_row5\" class=\"row_heading level0 row5\" >5</th>\n",
       "      <td id=\"T_6b067_row5_col0\" class=\"data row5 col0\" >016-2.pdf</td>\n",
       "      <td id=\"T_6b067_row5_col1\" class=\"data row5 col1\" >12.44</td>\n",
       "      <td id=\"T_6b067_row5_col2\" class=\"data row5 col2\" >21.67%</td>\n",
       "      <td id=\"T_6b067_row5_col3\" class=\"data row5 col3\" >74.47%</td>\n",
       "      <td id=\"T_6b067_row5_col4\" class=\"data row5 col4\" >78.33%</td>\n",
       "      <td id=\"T_6b067_row5_col5\" class=\"data row5 col5\" >25.53%</td>\n",
       "    </tr>\n",
       "    <tr>\n",
       "      <th id=\"T_6b067_level0_row6\" class=\"row_heading level0 row6\" >6</th>\n",
       "      <td id=\"T_6b067_row6_col0\" class=\"data row6 col0\" >017-2.pdf</td>\n",
       "      <td id=\"T_6b067_row6_col1\" class=\"data row6 col1\" >7.99</td>\n",
       "      <td id=\"T_6b067_row6_col2\" class=\"data row6 col2\" >71.00%</td>\n",
       "      <td id=\"T_6b067_row6_col3\" class=\"data row6 col3\" >83.33%</td>\n",
       "      <td id=\"T_6b067_row6_col4\" class=\"data row6 col4\" >29.00%</td>\n",
       "      <td id=\"T_6b067_row6_col5\" class=\"data row6 col5\" >16.67%</td>\n",
       "    </tr>\n",
       "    <tr>\n",
       "      <th id=\"T_6b067_level0_row7\" class=\"row_heading level0 row7\" >7</th>\n",
       "      <td id=\"T_6b067_row7_col0\" class=\"data row7 col0\" >018-2.pdf</td>\n",
       "      <td id=\"T_6b067_row7_col1\" class=\"data row7 col1\" >5.78</td>\n",
       "      <td id=\"T_6b067_row7_col2\" class=\"data row7 col2\" >56.31%</td>\n",
       "      <td id=\"T_6b067_row7_col3\" class=\"data row7 col3\" >65.38%</td>\n",
       "      <td id=\"T_6b067_row7_col4\" class=\"data row7 col4\" >43.69%</td>\n",
       "      <td id=\"T_6b067_row7_col5\" class=\"data row7 col5\" >34.62%</td>\n",
       "    </tr>\n",
       "    <tr>\n",
       "      <th id=\"T_6b067_level0_row8\" class=\"row_heading level0 row8\" >8</th>\n",
       "      <td id=\"T_6b067_row8_col0\" class=\"data row8 col0\" >019-2.pdf</td>\n",
       "      <td id=\"T_6b067_row8_col1\" class=\"data row8 col1\" >14.07</td>\n",
       "      <td id=\"T_6b067_row8_col2\" class=\"data row8 col2\" >16.13%</td>\n",
       "      <td id=\"T_6b067_row8_col3\" class=\"data row8 col3\" >51.97%</td>\n",
       "      <td id=\"T_6b067_row8_col4\" class=\"data row8 col4\" >83.87%</td>\n",
       "      <td id=\"T_6b067_row8_col5\" class=\"data row8 col5\" >48.03%</td>\n",
       "    </tr>\n",
       "    <tr>\n",
       "      <th id=\"T_6b067_level0_row9\" class=\"row_heading level0 row9\" >9</th>\n",
       "      <td id=\"T_6b067_row9_col0\" class=\"data row9 col0\" >021-2.pdf</td>\n",
       "      <td id=\"T_6b067_row9_col1\" class=\"data row9 col1\" >15.22</td>\n",
       "      <td id=\"T_6b067_row9_col2\" class=\"data row9 col2\" >11.18%</td>\n",
       "      <td id=\"T_6b067_row9_col3\" class=\"data row9 col3\" >37.31%</td>\n",
       "      <td id=\"T_6b067_row9_col4\" class=\"data row9 col4\" >88.82%</td>\n",
       "      <td id=\"T_6b067_row9_col5\" class=\"data row9 col5\" >62.69%</td>\n",
       "    </tr>\n",
       "  </tbody>\n",
       "</table>\n"
      ],
      "text/plain": [
       "<pandas.io.formats.style.Styler at 0x7fb5dc176be0>"
      ]
     },
     "metadata": {},
     "output_type": "display_data"
    },
    {
     "data": {
      "text/markdown": [
       "### 📈 ค่าเฉลี่ยรวม"
      ],
      "text/plain": [
       "<IPython.core.display.Markdown object>"
      ]
     },
     "metadata": {},
     "output_type": "display_data"
    },
    {
     "data": {
      "text/markdown": [
       "- **เวลาประมวลผลเฉลี่ย:** `12.22` วินาที/ไฟล์"
      ],
      "text/plain": [
       "<IPython.core.display.Markdown object>"
      ]
     },
     "metadata": {},
     "output_type": "display_data"
    },
    {
     "data": {
      "text/markdown": [
       "- **Character Accuracy (CAcc) เฉลี่ย:** `73.12%`"
      ],
      "text/plain": [
       "<IPython.core.display.Markdown object>"
      ]
     },
     "metadata": {},
     "output_type": "display_data"
    },
    {
     "data": {
      "text/markdown": [
       "- **Word Accuracy (WAcc) เฉลี่ย:** `44.76%`"
      ],
      "text/plain": [
       "<IPython.core.display.Markdown object>"
      ]
     },
     "metadata": {},
     "output_type": "display_data"
    },
    {
     "data": {
      "text/markdown": [
       "<hr>"
      ],
      "text/plain": [
       "<IPython.core.display.Markdown object>"
      ]
     },
     "metadata": {},
     "output_type": "display_data"
    },
    {
     "data": {
      "text/markdown": [
       "### 📝 ผลลัพธ์เปรียบเทียบ (Raw OCR vs Ground Truth)"
      ],
      "text/plain": [
       "<IPython.core.display.Markdown object>"
      ]
     },
     "metadata": {},
     "output_type": "display_data"
    },
    {
     "data": {
      "text/markdown": [
       "---"
      ],
      "text/plain": [
       "<IPython.core.display.Markdown object>"
      ]
     },
     "metadata": {},
     "output_type": "display_data"
    },
    {
     "data": {
      "text/markdown": [
       "#### 📄 **ไฟล์:** `002-2.pdf`"
      ],
      "text/plain": [
       "<IPython.core.display.Markdown object>"
      ]
     },
     "metadata": {},
     "output_type": "display_data"
    },
    {
     "data": {
      "text/html": [
       "\n",
       "        <details>\n",
       "            <summary>คลิกเพื่อดูผลลัพธ์ Raw OCR</summary>\n",
       "            <div style=\"background-color:#f7f7f7; border:1px solid #ddd; padding:10px; margin-top:10px; white-space: pre-wrap; word-wrap: break-word;\"># กระดาษเชิญข่าวร่วม (ทท.)\n",
       "\n",
       "## ลำดับความเร่งด่วน\n",
       "- จาก\n",
       "วสท.สปท.\n",
       "\n",
       "## ชั้นความลับ\n",
       "- ส่วนราชการใน บก.ทท. และ คานฑ์.67\n",
       "\n",
       "## หมู่ - วัน - เวลา\n",
       "9900 ส.ค. 67\n",
       "\n",
       "## หน้าที่ ของ 1 หน้า\n",
       "ที่ของผู้ให้ข่าว\n",
       "\n",
       "## ผู้รับทราบ\n",
       "สน.ผบ.วสท.สปท., สน.ผบ.สปท., สน.รอง ผบ.สปท., สน.เสธ.สปท.\n",
       "\n",
       "## รายละเอียด\n",
       "1. ตามที่ วสท.สปท. เป็นหน่วยรับผิดชอบจัดการฝึกอบรมหลักสูตรเสนาธิการทหารได้กำหนดไว้ นศ.สรท. จัดทำเอกสารวิจัย ซึ่งเป็นส่วนหนึ่งของหลักสูตร เพื่อใช้ผู้เข้ารับการฝึกอบรมมีความเข้าใจในกระบวนการทำการวิจัยและฝึกฝนความคิดวิเคราะห์อย่างเป็นระบบตลอดจนนำความรู้ไปสู่การหาคำตอบสำหรับการแก้ปัญหาและการพัฒนาองค์กรที่สามารถนำไปใช้ประโยชน์ต่อหน่วยงาน\n",
       "2. ตามข้อ ๑ วสท.สปท. มีความประสงค์ขอรับทราบความคิดเห็นและข้อเสนอแนะจากส่วนราชการใน บก.ทท. เกี่ยวกับการแสดงออกเนื้อหาสารวิจัยสำหรับ นศ.สรท. รุ่นต่อไป ซึ่งเห็นว่าเหมาะสมและสามารถนำไปใช้เพื่อให้เกิดประโยชน์สูงสุดกับทางหน่วยงานและต่อทางราชการ\n",
       "3. เพื่อให้การดำเนินการตามข้อ ๒ เป็นไปด้วยความเรียบร้อย จึงขอให้ส่วนราชการใน บก.ทท. ได้พิจารณากำหนดหัวข้อเรื่องที่เห็นว่ามีความสำคัญต่อหน่วยงานและเป็นประโยชน์ต่อ บก.ทท. หรือกองทัพบกไทย ที่ต้องการผ่านระบบออนไลน์ตาม QR Code ด้านล่างภายในวันที่ ๑๕ ส.ค. ๖๗ โดย วสท.สปท. จะนำข้อเสนอและประเด็นต่าง ๆ พิจารณาและนำไปเป็นหัวข้อในการจัดทำเอกสารวิจัยให้นศ.สรท. จัดทำให้สอดคล้องความต้องการของหน่วยต่อไป\n",
       "4. รายละเอียดเพิ่มเติมประสานได้ที่ น.อ.หญิง ศันสนีย์ นิโรจน์ รอง ผอ.กกว.วสท.สปท. โทร ๐๘ ๔๑๔๖ ๕๔๔๗ Line ID niroj1966\n",
       "\n",
       "## QR Code\n",
       "![](QR Code)\n",
       "\n",
       "## หน่วย\n",
       "| หน่วย | ผู้เขียนข่าว | นายทหารอุบมิติข่าว |\n",
       "| --- | --- | --- |\n",
       "| วสท.สปท. | น.อ. (วรชาติ สัตยเลขา) | พล.ต. (เทวดไท ทัพธานี) |\n",
       "| โทรศัพท์ ๐ ๒๒๗๗ ๓๖๗๕ | ผอ.กพน.วสท.สปท.ปฏิบัติ หน้าที่ ผอ.กกว.วสท.สปท. | รอง ผบ.วสท.สปท. ทำการแทน ผบ.วสท.สปท. |</div>\n",
       "        </details>\n",
       "        <details>\n",
       "            <summary>คลิกเพื่อดู Ground Truth</summary>\n",
       "            <div style=\"background-color:#e6f7ff; border:1px solid #b3e0ff; padding:10px; margin-top:5px; white-space: pre-wrap; word-wrap: break-word;\">กระดาษเขียนข่าวร่วม (ทท.)\n",
       "\n",
       "ลำดับความเร่งด่วน: -\n",
       "ชั้นความลับ: -\n",
       "หมู่ - วัน - เวลา: ๑๑๑๐๐๐ ส.ค. ๖๗\n",
       "หน้าที่: ๑ ของ ๑ หน้า\n",
       "ที่ของผู้ให้ข่าว: กห ๐๓๑๗.๓/๑๐๘๘\n",
       "จาก: วสท.สปท.\n",
       "ถึง ผู้รับปฏิบัติ: ส่วนราชการใน บก.ทท. และ คกนท.๖๗\n",
       "ผู้รับทราบ: สน.ผบ.วสท.สปท., สน.ผบ.สปท., สน.รอง ผบ.สปท., สน.เสธ.สปท.\n",
       "\n",
       "๑. ตามที่ วสท.สปท. เป็นหน่วยรับผิดชอบจัดการฝึกอบรมหลักสูตรเสนาธิการทหาร ได้กำหนดให้ นศ.สธท. จัดทำเอกสารวิจัย ซึ่งเป็นส่วนหนึ่งของหลักสูตรฯ เพื่อให้ผู้เข้ารับการฝึกอบรมมีความเข้าใจในกระบวนการทำวิจัยและฝึกฝนความคิดวิเคราะห์อย่างเป็นระบบตลอดจนนำความรู้ไปสู่การหาคำตอบ สำหรับการแก้ปัญหาและการพัฒนาองค์กรที่สามารถนำไปใช้ประโยชน์ต่อหน่วยงาน\n",
       "๒. ตามข้อ ๑ วสท.สปท. มีความประสงค์ขอรับทราบความคิดเห็นและข้อเสนอแนะจากส่วนราชการใน บก.ทท. เกี่ยวกับการเสนอเงื่อนไขหัวข้อเอกสารวิจัยสำหรับ นศ.สธท. รุ่นต่อไป ซึ่งเห็นว่าเหมาะสมและสามารถนำไปใช้เพื่อให้เกิดประโยชน์สูงสุดกับทางหน่วยงานและต่อทางราชการ\n",
       "๓. เพื่อให้การดำเนินการตามข้อ ๒ เป็นไปด้วยความเรียบร้อย จึงขอให้ส่วนราชการใน บก.ทท. ได้พิจารณากำหนดหัวข้อเรื่องที่เห็นว่ามีความสำคัญต่อหน่วยงานและเป็นประโยชน์ต่อ บก.ทท. หรือกองทัพไทย ที่ต้องการผ่านระบบออนไลน์ตาม QR Code ด้านล่างภายในวันที่ ๑๕ ส.ค. ๖๗ โดย วสท.สปท. จะนำข้อเสนอและประเด็นต่าง ๆ พิจารณาและนำไปเป็นหัวข้อในการจัดทำเอกสารวิจัยให้ นศ.สธท. จัดทำให้สอดคล้องความต้องการของหน่วยต่อไป\n",
       "๔. รายละเอียดเพิ่มเติมประสานได้ที่ น.อ.หญิง ศันสนีย์ นิโรจน์ รอง ผอ.กวว.วสท.สปท. โทร ๐๘ ๔๑๔๖ ๕๔๔๗ Line ID niroj1966\n",
       "\n",
       "ผู้เขียนข่าว: น.อ. (วรชาติ สัตยเลขา) ผอ.กพผ.วสท.สปท.ปฏิบัติหน้าที่ ผอ.กวว.วสท.สปท.\n",
       "นายทหารอนุมัติข่าว: พล.ต. (เทอดไทย ทัพธานี) รอง ผบ.วสท.สปท. ทำการแทน ผบ.วสท.สปท.</div>\n",
       "        </details>\n",
       "        "
      ],
      "text/plain": [
       "<IPython.core.display.HTML object>"
      ]
     },
     "metadata": {},
     "output_type": "display_data"
    },
    {
     "data": {
      "text/markdown": [
       "---"
      ],
      "text/plain": [
       "<IPython.core.display.Markdown object>"
      ]
     },
     "metadata": {},
     "output_type": "display_data"
    },
    {
     "data": {
      "text/markdown": [
       "#### 📄 **ไฟล์:** `004-2.pdf`"
      ],
      "text/plain": [
       "<IPython.core.display.Markdown object>"
      ]
     },
     "metadata": {},
     "output_type": "display_data"
    },
    {
     "data": {
      "text/html": [
       "\n",
       "        <details>\n",
       "            <summary>คลิกเพื่อดูผลลัพธ์ Raw OCR</summary>\n",
       "            <div style=\"background-color:#f7f7f7; border:1px solid #ddd; padding:10px; margin-top:10px; white-space: pre-wrap; word-wrap: break-word;\"># กระดาษเชิญข้าวร่วม (ทท.)\n",
       "\n",
       "## ลำดับความเร่งด่วน\n",
       "- **ด่วนมาก**\n",
       "\n",
       "## ชั้นความลับ\n",
       "\n",
       "## หมู่ - วัน - เวลา\n",
       "(๒๓๐๕๔๕ เม.ย. ๖๗)\n",
       "\n",
       "## หน้าที่ ๑ ของ ๑ หน้า\n",
       "ที่ของผู้ให้ข่าว\n",
       "ที่ กพ ๐๓๐๒/๒๕๖๓\n",
       "\n",
       "## จาก\n",
       "- กพ.ทหาร\n",
       "\n",
       "## ถึง ผู้รับปฏิบัติ\n",
       "- สบ.บก.ทท., สจร.ทหาร, สตน.ทหาร, สธน.ทหาร, สสภ.ทหาร, สสย.ทหาร, ศชบ.ทหาร,\n",
       "  ขว.ทหาร, ยก.ทหาร, กบ.ทหาร, กร.ทหาร, สส.ทหาร, สปช.ทหาร, นทพ., สบ.ทหาร,\n",
       "  กง.ทหาร, ผท.ทหาร, สนพ.ยบ.ทหาร, ยน.ทหาร, สปท. และ กพ.ทหาร (กพบท.กพ.ทหาร)\n",
       "\n",
       "## ผู้รับทราบ\n",
       "- \n",
       "\n",
       "## รายละเอียด\n",
       "๑. กพ.ทหาร กำหนดจัดการประชุมเชิงปฏิบัติการ การคัดเลือกกำลังพล บก.ทหาร เข้ารับ\n",
       " การศึกษาและฝึกอบรมหลักสูตรตามแนวทางสายวิทยาการ ประจำปีงบประมาณ พ.ศ. ๒๕๖๘ ระหว่าง\n",
       "  ๒๖, ๒๙-๓๐ เม.ย. ๖๗, ๐๙๓๐-๑๖๐๐ ณ ห้องอเนกประสงค์ กพ.ทหาร ชั้น ๒ อาคาร บก.ทหาร.\n",
       "\n",
       "  ๒. วัตถุประสงค์ของการประชุมเชิงปฏิบัติการฯ ตามข้อ ๑ ดังนี้\n",
       "\n",
       "   ๒.๑ เพื่อให้หน่วยหัวหน้าสายวิทยาการ และ กพ.ทหาร ได้ร่วมกันพิจารณาคัดเลือกกำลังพล\n",
       "    เข้ารับการศึกษาและฝึกอบรมฯ ให้สอดคล้องกับหลักเกณฑ์การปรับย้าย และแนวทางการพัฒนากำลังพล\n",
       "    ตามแนวทางรับราชการของ บก.ทหาร.\n",
       "\n",
       "   ๒.๒ ขอให้หน่วยจัดผู้รับผิดชอบในการพิจารณาคัดเลือกกำลังพลเข้ารับการศึกษา\n",
       "    และฝึกอบรมหลักสูตรตามแนวทางสายวิทยาการ ประจำปีงบประมาณ พ.ศ. ๒๕๖๘ เข้าร่วมการประชุม\n",
       "    เชิงปฏิบัติการฯ ตามวันเวลาที่กำหนด ตามข้อ ๑ จำนวน ๓ นาย โดยกรอกข้อมูลลงในแบบฟอร์ม QR Code ที่แนบ\n",
       "    และส่งรายชื่อให้ กพ.ทหาร ภายในวันที่ ๒๔ เม.ย. ๖๗\n",
       "\n",
       "   ๓. รายละเอียดเพิ่มเติมประสานได้ที่ น.ท.หญิง ฉนาภาดา มะโนแจ่ม ร.น. ทน.พัฒนากำลังพล\n",
       "    กพพ.กพ.ทหาร โทร.ทหาร ๕๗๒๑๑๓๗\n",
       "\n",
       "## QR Code/Email\n",
       "| หน่วย | ผู้เขียนข่าว | นายทหารอนุมัติข่าว |\n",
       "| --- | --- | --- |\n",
       "| กพพ.กพ.ทหาร | น.อ. | พล.ต. |\n",
       "| โทรศัพท์ โทร.ทหาร ๕๗๒๑๑๓๗ โทรสาร ๐ ๒๕๗๕ ๖๐๗๖ | (ณัฐพงศ์ วิทยาธีระรัตน์) ผอ.กพพ.กพ.ทหาร | (สัมพันธ์ รงค์จำเริญ) รอง จก.กพ.ทหาร ทำการแทน จก.กพ.ทหาร |</div>\n",
       "        </details>\n",
       "        <details>\n",
       "            <summary>คลิกเพื่อดู Ground Truth</summary>\n",
       "            <div style=\"background-color:#e6f7ff; border:1px solid #b3e0ff; padding:10px; margin-top:5px; white-space: pre-wrap; word-wrap: break-word;\">กระดาษเขียนข่าวร่วม (ทท.)\n",
       "\n",
       "ลำดับความเร่งด่วน: ด่วนมาก\n",
       "ชั้นความลับ: -\n",
       "หมู่ - วัน - เวลา: ๒๓๐๙๔๕ เม.ย. ๖๗\n",
       "หน้าที่: ๑ ของ ๑ หน้า\n",
       "ที่ของผู้ให้ข่าว: ที่ กห ๐๓๐๒/๒๔๖๓\n",
       "จาก: กพ.ทหาร\n",
       "ถึง ผู้รับปฏิบัติ: สน.บก.บก.ทท., สจร.ทหาร, สตน.ทหาร, สธน.ทหาร, สสก.ทหาร, สยย.ทหาร, ศซบ.ทหาร, ขว.ทหาร, ยก.ทหาร, กบ.ทหาร, กร.ทหาร, สส.ทหาร, สปช.ทหาร, นทพ., สบ.ทหาร, กง.ทหาร, ผท.ทหาร, สนพ.ยบ.ทหาร, ยบ.ทหาร, สปท. และ กพ.ทหาร (กพบท.กพ.ทหาร)\n",
       "ผู้รับทราบ: -\n",
       "\n",
       "๑. กพ.ทหาร กำหนดจัดการประชุมเชิงปฏิบัติการ การคัดเลือกกำลังพล บก.ทท. เข้ารับการศึกษาและฝึกอบรมหลักสูตรตามแนวทางสายวิทยาการ ประจำปีงบประมาณ พ.ศ. ๒๕๖๘ ระหว่าง ๒๖, ๒๙-๓๐ เม.ย. ๖๗, ๐๙๓๐-๑๖๐๐ ณ ห้องอเนกประสงค์ กพ.ทหาร ชั้น ๒ อาคาร บก.ทท.\n",
       "๒. วัตถุประสงค์ของการประชุมเชิงปฏิบัติการฯ ตามข้อ ๑ ดังนี้\n",
       "    ๒.๑ เพื่อให้หน่วยหัวหน้าสายวิทยาการ และ กพ.ทหาร ได้ร่วมกันพิจารณาคัดเลือกกำลังพลเข้ารับการศึกษาและฝึกอบรมฯ ให้สอดคล้องกับหลักเกณฑ์การปรับย้าย และแนวทางการพัฒนากำลังพลตามแนวทางรับราชการของ บก.ทท.\n",
       "    ๒.๒ ขอให้หน่วยจัดผู้รับผิดชอบในการพิจารณาคัดเลือกกำลังพลเข้ารับการศึกษาและฝึกอบรมหลักสูตรตามแนวทางสายวิทยาการ ประจำปีงบประมาณ พ.ศ. ๒๕๖๘ เข้าร่วมการประชุมเชิงปฏิบัติการฯ ตามวัน เวลาที่กำหนด ตามข้อ ๑ จำนวน ๓ นาย โดยกรอกข้อมูลลงในแบบฟอร์ม QR Code ที่แนบและส่งรายชื่อให้ กพ.ทหาร ภายในวันที่ ๒๔ เม.ย. ๖๗\n",
       "๓. รายละเอียดเพิ่มเติมประสานได้ที่ น.ท.หญิง ณภาดา มะโนแจ่ม ร.น. หน.พัฒนากำลังพล กพพ.กพ.ทหาร โทร.ทหาร ๕๗๒๑๑๓๗\n",
       "\n",
       "ผู้เขียนข่าว: น.อ. (ณัฐพงศ์ วิทยาธีรรัตน์) ผอ.กพพ.กพ.ทหาร\n",
       "นายทหารอนุมัติข่าว: พล.ต. (สัมพันธ์ รงศ์จำเริญ) รอง จก.กพ.ทหาร ทำการแทน จก.กพ.ทหาร</div>\n",
       "        </details>\n",
       "        "
      ],
      "text/plain": [
       "<IPython.core.display.HTML object>"
      ]
     },
     "metadata": {},
     "output_type": "display_data"
    },
    {
     "data": {
      "text/markdown": [
       "---"
      ],
      "text/plain": [
       "<IPython.core.display.Markdown object>"
      ]
     },
     "metadata": {},
     "output_type": "display_data"
    },
    {
     "data": {
      "text/markdown": [
       "#### 📄 **ไฟล์:** `006-2.pdf`"
      ],
      "text/plain": [
       "<IPython.core.display.Markdown object>"
      ]
     },
     "metadata": {},
     "output_type": "display_data"
    },
    {
     "data": {
      "text/html": [
       "\n",
       "        <details>\n",
       "            <summary>คลิกเพื่อดูผลลัพธ์ Raw OCR</summary>\n",
       "            <div style=\"background-color:#f7f7f7; border:1px solid #ddd; padding:10px; margin-top:10px; white-space: pre-wrap; word-wrap: break-word;\"># กระดาษเชิญข่าวร่วม (ทท.)\n",
       "\n",
       "## ลำดับความเร่งด่วน\n",
       "- **ด่วนมาก**\n",
       "\n",
       "## ชั้นความลับ\n",
       "\n",
       "## หมู่ - วัน - เวลา\n",
       "- ๑๙.๐๐ น.\n",
       "\n",
       "## หน้าที่ 1 ของ 1 หน้า\n",
       "- ที่ของผู้ให้ข่าว\n",
       "- ที่ ๑๐/๒๕๖๗\n",
       "\n",
       "## จาก\n",
       "- คณะกรรมการจัดการความรู้ของ บก.ทท.\n",
       "\n",
       "## ถึง ผู้รับปฏิบัติ\n",
       "- สน.บก.บก.ทท., สจร.ทหาร, สสภ.ทหาร, สย.ทหาร, ศปร., ศชป.ทหาร, สธน.ทหาร,\n",
       "- ขว.ทหาร, ยก.ทหาร, กบ.ทหาร, กร.ทหาร, ศรภ., ศตก., กง.ทหาร, ผท.ทหาร,\n",
       "- ชด.ทหาร, บก.สปท., วปอ.สปท., วสท.สปท., สจว.สปท., ศคย.สปท., สศท.สปท., และ รร.ชท.สปท.\n",
       "\n",
       "## ผู้รับทราบ\n",
       "- \n",
       "\n",
       "## รายละเอียด\n",
       "- ๑. กพ.ทหาร/ฝ่ายเลขานุการคณะกรรมการจัดการความรู้ของ บก.ทท. ขอแจ้งผลการนำเสนอและคัดเลือกผลงานการจัดการความรู้ของส่วนราชการใน บก.ทท. ประจำปีงบประมาณ พ.ศ. ๒๕๖๗ (รอบแรก) โดยมีหน่วยที่ได้รับผลการประเมินสูงสุดและเข้าร่วมการนำเสนอผลงานคุณภาพหรือนวัตกรรมการจัดการความรู้ของส่วนราชการ บก.ทท. ประจำปีงบประมาณ พ.ศ. ๒๕๖๗ (รอบสุดท้าย) ในวันที่ ๒ ก.ย. ๖๗ ณ สมัชชาวาณิช ห้องประชุม ร.ต. สำหรับ ๔ หน่วย ได้แก่ สลก.บก.ทท., สตน.ทหาร, กพ.ทหาร, สปช.ทหาร, สส.ทหาร, สนท., สป.ทหาร, ยบ.ทหาร, และ รร.ต.ท.สปท.\n",
       "- ๒. เพื่อให้ดำเนินการนำเสนอผลงานคุณภาพหรือนวัตกรรมการจัดการความรู้ของส่วนราชการ บก.ทท. ประจำปีงบประมาณ พ.ศ. ๒๕๖๗ (รอบสุดท้าย) เป็นไปด้วยความเรียบร้อย กพ.ทหาร/ฝ่ายเลขานุการฯ ขอให้หน่วยส่งเล่มคู่มือและไฟล์คู่มือ ฉบับสมบูรณ์ ตามที่คณะกรรมการฯ ให้คำแนะนำ ภายในวันที่ ๑๕ ส.ค. ๖๗ เพื่อใช้ประกอบการจัดงานแสดงผลงานการจัดการความรู้ฯ ในวันที่ ๒ ก.ย. ๖๗\n",
       "- ๓. รายละเอียดเพิ่มเติมประสานได้ที่ ร.ต. คมสันต์ จุลบรมย์ ประจำแผนกแผนและโครงการ กพ.พ. กพ.ทหาร โทร. ๕๗๒๑๑๓๗ โทรศัพท์เคลื่อนที่ ๐๙ ๗๑๔๐ ๖๖๑๕\n",
       "\n",
       "## QR Code/Email\n",
       "\n",
       "## หน่วย\n",
       "- กพ.ทหาร\n",
       "\n",
       "## โทรศัพท์\n",
       "- โทร.ทหาร ๕๗๒๑๑๓๘\n",
       "\n",
       "## โทรสาร\n",
       "- ๐ ๒๕๗๕ ๖๐๗๖\n",
       "\n",
       "## ผู้เขียนข่าว\n",
       "- น.อ. ณัฐพงศ์ วิทยาธีระรัตน์)\n",
       "- ผอ.กพ.พ.กพ.ทหาร/เลขานุการฯ\n",
       "\n",
       "## นายทหารอนุมัติข่าว\n",
       "- พล.ต. (สัมพันธ์ รงค์เจริญ)\n",
       "- รอง จก.กพ.ทหาร ทำการแทน จก.กพ.ทหาร/ประธานกรรมการฯ</div>\n",
       "        </details>\n",
       "        <details>\n",
       "            <summary>คลิกเพื่อดู Ground Truth</summary>\n",
       "            <div style=\"background-color:#e6f7ff; border:1px solid #b3e0ff; padding:10px; margin-top:5px; white-space: pre-wrap; word-wrap: break-word;\">กระดาษเขียนข่าวร่วม (ทท.)\n",
       "\n",
       "ลำดับความเร่งด่วน: ด่วนมาก\n",
       "ชั้นความลับ: -\n",
       "หมู่ - วัน - เวลา: ๐๘๐๘๓๐ ส.ค. ๖๗\n",
       "หน้าที่: ๑ ของ ๑ หน้า\n",
       "ที่ของผู้ให้ข่าว: ที่ ๑๐/๒๕๖๗\n",
       "จาก: คณะกรรมการจัดการความรู้ของ บก.ทท.\n",
       "ถึง ผู้รับปฏิบัติ: สน.บก.บก.ทท., สจร.ทหาร, สสก.ทหาร, สยย.ทหาร, ศปร., ศซบ.ทหาร, สธน.ทหาร, ขว.ทหาร, ยก.ทหาร, กบ.ทหาร, กร.ทหาร, ศรภ., ศตก., กง.ทหาร, ผท.ทหาร, ชด.ทหาร, บก.สปท., วปอ.สปท., วสท.สปท., สจว.สปท., ศศย.สปท., สศท.สปท., และ รร.ชท.สปท.\n",
       "ผู้รับทราบ: -\n",
       "\n",
       "๑. กพ.ทหาร/ฝ่ายเลขานุการคณะกรรมการจัดการความรู้ของ บก.ทท. ขอแจ้งผลการนำเสนอและคัดเลือกผลงานการจัดการความรู้ของส่วนราชการใน บก.ทท. ประจำปีงบประมาณ พ.ศ. ๒๕๖๗ (รอบแรก) โดยมีหน่วยที่ได้รับผลการประเมินสูงสุดและเข้าร่วมการนำเสนอผลงานคุณภาพหรือนวัตกรรมการจัดการความรู้ของส่วนราชการ บก.ทท. ประจำปีงบประมาณ พ.ศ. ๒๕๖๗ (รอบสุดท้าย) ในวันที่ ๒ ก.ย. ๖๗ ณ สโมสร บก.ทท. จำนวน ๙ หน่วย ได้แก่ สลก.บก.ทท., สตน.ทหาร, กพ.ทหาร, สปช.ทหาร, สส.ทหาร, นทพ., สบ.ทหาร, ยบ.ทหาร, และ รร.ตท.สปท.\n",
       "๒. เพื่อให้ดำเนินการนำเสนอผลงานคุณภาพหรือนวัตกรรมการจัดการความรู้ของส่วนราชการ บก.ทท. ประจำปีงบประมาณ พ.ศ. ๒๕๖๗ (รอบสุดท้าย) เป็นไปด้วยความเรียบร้อย กพ.ทหาร/ฝ่ายเลขานุการฯ ขอให้หน่วยส่งเล่มคู่มือและไฟล์คู่มือฯ ฉบับสมบูรณ์ ตามที่คณะกรรมการฯ ให้คำแนะนำ ภายในวันที่ ๑๕ ส.ค. ๖๗ เพื่อใช้ประกอบการจัดงานแสดงผลงานการจัดการความรู้ฯ ในวันที่ ๒ ก.ย. ๖๗\n",
       "๓. รายละเอียดเพิ่มเติมประสานได้ที่ ร.ต. คมสันต์ จุลบุรมย์ ประจำแผนกแผนและโครงการ กพพ.กพ.ทหาร โทร.ทหาร ๕๗๒๑๑๓๗ โทรศัพท์เคลื่อนที่ ๐๙ ๗๑๔๐ ๖๖๑๕\n",
       "\n",
       "ผู้เขียนข่าว: น.อ. (ณัฐพงศ์ วิทยาธีรรัตน์) ผอ.กพพ.กพ.ทหาร/เลขานุการฯ\n",
       "นายทหารอนุมัติข่าว: พล.ต. (สัมพันธ์ รงศ์จำเริญ) รอง จก.กพ.ทหาร ทำการแทน จก.กพ.ทหาร/ประธานกรรมการฯ</div>\n",
       "        </details>\n",
       "        "
      ],
      "text/plain": [
       "<IPython.core.display.HTML object>"
      ]
     },
     "metadata": {},
     "output_type": "display_data"
    },
    {
     "data": {
      "text/markdown": [
       "---"
      ],
      "text/plain": [
       "<IPython.core.display.Markdown object>"
      ]
     },
     "metadata": {},
     "output_type": "display_data"
    },
    {
     "data": {
      "text/markdown": [
       "#### 📄 **ไฟล์:** `007-2.pdf`"
      ],
      "text/plain": [
       "<IPython.core.display.Markdown object>"
      ]
     },
     "metadata": {},
     "output_type": "display_data"
    },
    {
     "data": {
      "text/html": [
       "\n",
       "        <details>\n",
       "            <summary>คลิกเพื่อดูผลลัพธ์ Raw OCR</summary>\n",
       "            <div style=\"background-color:#f7f7f7; border:1px solid #ddd; padding:10px; margin-top:10px; white-space: pre-wrap; word-wrap: break-word;\"># กระดาษเชิญข่าวร่วม (ทท.)\n",
       "\n",
       "## ลำดับความเร่งด่วน\n",
       "- **ด่วนมาก**\n",
       "\n",
       "## ชั้นความลับ\n",
       "\n",
       "## หมู่ - วัน - เวลา\n",
       "- ๒๐๐๗/๔ ก.พ. ๖๗\n",
       "\n",
       "## หน้าที่ ๑ ของ ๒ หน้า\n",
       "- ที่ของผู้ให้ข่าว\n",
       "- ที่ ๓/๒๕๖๗\n",
       "\n",
       "## จาก\n",
       "- คณะกรรมการจัดการความรู้ของ บก.ทท.\n",
       "\n",
       "## ถึง ผู้รับปฏิบัติ\n",
       "- สน.บก.บก.ทท., สสค.บก.ทท., สจร.ทหาร, สตน.ทหาร, สสก.ทหาร, สยย.ทหาร, ศปร., ศชบ.ทหาร, สธน.ทหาร, ขว.ทหาร, ยก.ทหาร, กบ.ทหาร, กร.ทหาร, สส.ทหาร, สปช.ทหาร, นทฟ., ครภ., ศตก., สบ.ทหาร, กง.ทหาร, ผท.ทหาร, ยบท.ทหาร, ชด.ทหาร, บก.สปท., วปอ.สปท., วสท.สปท., สจว.สปท., ศคย.สปท., สศท.สปท., รร.ตท.สปท. และ รร.ชท.สปท.\n",
       "\n",
       "## ผู้รับทราบ\n",
       "- \n",
       "\n",
       "## ข้อความสำคัญ\n",
       "1. จก.กพ.ทหาร/ประธานกรรมการจัดการความรู้ของ บก.ทท. ได้กรุณาอนุมัติแผนปฏิบัติการจัดการความรู้ (KM) ของ บก.ทท. ประจำปีงบประมาณ พ.ศ. ๒๕๖๗ รายละเอียดตาม QR Code ด้านล่าง\n",
       "   เพื่อให้การดำเนินการจัดการความรู้ของส่วนราชการ บก.ทท. เป็นไปตามแผนปฏิบัติการจัดการความรู้ฯ ตามข้อ ๑ กพ.ทหาร/ฝ่ายเลขานุการคณะกรรมการจัดการความรู้ของ บก.ทท. ขอให้ฝ่ายเลขานุการคณะทำงานการจัดการความรู้ของหน่วย/ผู้รับผิดชอบดำเนินการจัดการความรู้ของหน่วย ดำเนินการจัดส่งข้อมูลตามแผนปฏิบัติการจัดการความรู้ฯ ให้ กพ.ทหาร/ฝ่ายเลขานุการฯ ภายใน ๒๘ ก.พ. ๖๗ รายละเอียด ดังนี้\n",
       "      ๒.๑ จัดทำแผนปฏิบัติการจัดการความรู้ของหน่วย (Timeline)\n",
       "      ๒.๒ ทบทวนคำสั่งแต่งตั้งคณะทำงานการจัดการความรู้ของหน่วยให้เป็นปัจจุบัน\n",
       "      ๒.๓ ทบทวนแผนที่ความรู้ (K-map) ของหน่วยให้เป็นปัจจุบัน (ในโปรแกรม Mind Manager พร้อมจัดส่งในรูปแบบ File : .mmap)\n",
       "      ๒.๔ กำหนดหัวข้อองค์ความรู้ที่มีความสำคัญและสอดคล้องภารกิจในแผนที่ความรู้ ฉก. หรือภารกิจของหน่วย สำหรับส่งเข้านำเสนอผลงานการจัดการความรู้ และคัดเลือกองค์ความรู้ของส่วนราชการ บก.ทท. ประจำปีงบประมาณ พ.ศ. ๒๕๖๗ ตามแผนปฏิบัติการจัดการความรู้ของหน่วย (สามารถพิจารณาองค์ความรู้ใหม่ที่ยังไม่เคยปฏิบัติก่อนหรือทบทวนองค์ความรู้ที่เคยปฏิบัติมาในปีก่อน ๆ กรณีที่มีการปรับปรุงแก้ไข กฎ ระเบียบ หรือคำสั่งที่เกี่ยวข้องต่าง ๆ)\n",
       "      ๒.๕ กำหนดหัวข้อองค์ความรู้ของหน่วยระดับกองงาน และระดับแผนก ที่สอดคล้องกับภารกิจในแผนที่ความรู้ เพื่อนำมาดำเนินการจัดการความรู้ ประจำปีงบประมาณ พ.ศ. ๒๕๖๗\n",
       "   ๓. ส่วนราชการ บก.ทท. ดำเนินการขับเคลื่อนการจัดการความรู้ของหน่วย ตามแผนการขับเคลื่อนยุทธศาสตร์การจัดการความรู้ (KM) ของ บก.ทท. พ.ศ. ๒๕๖๖-๒๕๗๐ ซึ่งในปี พ.ศ. ๒๕๖๗ กำหนดให้หน่วยดำเนินการ ดังนี้\n",
       "      ๓.๑ ระดับส่วนราชการ/กรม จัดทำผลงานการจัดการความรู้ในรูปแบบคู่มือปฏิบัติงาน การจัดการความรู้ของหน่วย และดำเนินการจัดการความรู้ ตามกระบวนการ ๗ ขั้นตอน ในรูปแบบสื่อวิธีทัศน์ และสื่ออิเล็กทรอนิกส์นำเสนอผลงาน สำหรับเข้าร่วมนำเสนอผลงานการจัดการความรู้ของส่วนราชการ บก.ทท. ประจำปีงบประมาณ พ.ศ. ๒๕๖๗ (ส่วนราชการละ ๑ ผลงาน) โดยส่งร่างคู่มือฯ ให้ กพ.ทหาร/ฝ่ายเลขานุการฯ ภายใน ๓๐ เม.ย. ๖๗ เพื่อรวบรวมให้คณะกรรมการคัดเลือกผลงานการจัดการความรู้ของ บก.ทท. พิจารณา ก่อนการประชุมติดตามผลงานการจัดการความรู้ของส่วนราชการ บก.ทท. ในห้วง พ.ศ. ๖๗\n",
       "      ๓.๒ ระดับกองงาน จัดทำผลงานการจัดการความรู้ในรูปแบบคู่มือปฏิบัติงานการจัดการความรู้ของหน่วย และดำเนินการจัดการความรู้ ตามกระบวนการ ๗ ขั้นตอน (กองงานละ ๑ ผลงาน สำหรับผลงานฯ ของกองงาน ที่เป็นผู้แทนส่วนราชการ ให้ทำเพียง ๑ ผลงาน)</div>\n",
       "        </details>\n",
       "        <details>\n",
       "            <summary>คลิกเพื่อดู Ground Truth</summary>\n",
       "            <div style=\"background-color:#e6f7ff; border:1px solid #b3e0ff; padding:10px; margin-top:5px; white-space: pre-wrap; word-wrap: break-word;\">กระดาษเขียนข่าวร่วม (ทท.)\n",
       "\n",
       "ลำดับความเร่งด่วน: ด่วนมาก\n",
       "ชั้นความลับ: -\n",
       "หมู่ – วัน – เวลา: ๒๐๐๗๔๕ ก.พ. ๖๗\n",
       "หน้าที่: ๑ ของ ๒ หน้า\n",
       "ที่ของผู้ให้ข่าว: ที่ กห ๓/๒๕๖๗\n",
       "จาก: คณะกรรมการจัดการความรู้ของ บก.ทท.\n",
       "ถึง ผู้รับปฏิบัติ: สน.บก.บก.ทท., สลก.บก.ทท., สจร.ทหาร, สตน.ทหาร, สสก.ทหาร, สยย.ทหาร, ศปร.,\n",
       "ศซบ.ทหาร, สธน.ทหาร, ขว.ทหาร, ยก.ทหาร, กบ.ทหาร, กร.ทหาร, สส.ทหาร, สปช.ทหาร,\n",
       "นทพ., ศรภ., ศตก., สบ.ทหาร, กง.ทหาร, ผท.ทหาร, ยบ.ทหาร, ชด.ทหาร, บก.สปท.,\n",
       "วปอ.สปท., วสท.สปท., สจว.สปท., ศศย.สปท., สศท.สปท., รร.ตท.สปท. และ รร.ชท.สปท.\n",
       "ผู้รับทราบ: -\n",
       "\n",
       "๑. จก.กพ.ทหาร/ประธานกรรมการจัดการความรู้ของ บก.ทท. ได้กรุณาอนุมัติแผนปฏิบัติการจัดการความรู้ (KM) ของ บก.ทท. ประจำปีงบประมาณ พ.ศ. ๒๕๖๗ รายละเอียดตาม QR Code ด้านล่าง\n",
       "๒. เพื่อให้การดำเนินการจัดการความรู้ของส่วนราชการ บก.ทท. เป็นไปตามแผนปฏิบัติการจัดการความรู้ฯ ตามข้อ ๑ กพ.ทหาร/ฝ่ายเลขานุการคณะกรรมการจัดการความรู้ของ บก.ทท. ขอให้ฝ่ายเลขานุการคณะทำงานการจัดการความรู้ของหน่วย/ผู้รับผิดชอบดำเนินการจัดการความรู้ของหน่วย ดำเนินการจัดส่งข้อมูลตามแผนปฏิบัติการจัดการความรู้ฯ ให้ กพ.ทหาร/ฝ่ายเลขานุการฯ ภายใน ๒๘ ก.พ. ๖๗ รายละเอียด ดังนี้\n",
       "      ๒.๑ จัดทำแผนปฏิบัติการจัดการความรู้ของหน่วย (Timeline)\n",
       "      ๒.๒ ทบทวนคำสั่งแต่งตั้งคณะทำงานการจัดการความรู้ของหน่วยให้เป็นปัจจุบัน\n",
       "      ๒.๓ ทบทวนแผนที่ความรู้ (K-map) ของหน่วยให้เป็นปัจจุบัน (ในโปรแกรม Mind Manager พร้อมจัดส่งในรูปแบบ File : .mmap)\n",
       "      ๒.๔ กำหนดหัวข้อองค์ความรู้ที่มีความสำคัญและสอดคล้องภารกิจในแผนที่ความรู้ ฉก. หรือภารกิจของหน่วย สำหรับส่งเข้านำเสนอผลงานการจัดการความรู้ และคัดเลือกองค์ความรู้ของส่วนราชการ บก.ทท. ประจำปีงบประมาณ พ.ศ. ๒๕๖๗ ตามแผนปฏิบัติการจัดการความรู้ของหน่วย (สามารถพิจารณาองค์ความรู้ใหม่ที่ยังไม่เคยปฏิบัติก่อนหรือทบทวนองค์ความรู้ที่เคยปฏิบัติมาในปีก่อน ๆ กรณีที่มีการปรับปรุงแก้ไข กฎ ระเบียบ หรือคำสั่งที่เกี่ยวข้องต่าง ๆ)\n",
       "      ๒.๕ กำหนดหัวข้อองค์ความรู้ของหน่วยระดับกองงาน และระดับแผนก ที่สอดคล้องกับภารกิจในแผนที่ความรู้ เพื่อนำมาดำเนินการจัดการความรู้ ประจำปีงบประมาณ พ.ศ. ๒๕๖๗\n",
       "   ๓. ส่วนราชการ บก.ทท. ดำเนินการขับเคลื่อนการจัดการความรู้ของหน่วย ตามแผนการขับเคลื่อนยุทธศาสตร์การจัดการความรู้ (KM) ของ บก.ทท. พ.ศ. ๒๕๖๖-๒๕๗๐ ซึ่งในปี พ.ศ. ๒๕๖๗ กำหนดให้หน่วยดำเนินการ ดังนี้\n",
       "      ๓.๑ ระดับส่วนราชการ/กรม จัดทำผลงานการจัดการความรู้ในรูปแบบคู่มือปฏิบัติงาน การจัดการความรู้ของหน่วย และดำเนินการจัดการความรู้ ตามกระบวนการ ๗ ขั้นตอน ในรูปแบบสื่อวีดีทัศน์ และสื่ออิเล็กทรอนิกส์นำเสนอผลงาน สำหรับเข้าร่วมนำเสนอผลงานการจัดการความรู้ของส่วนราชการ บก.ทท. ประจำปีงบประมาณ พ.ศ. ๒๕๖๗ (ส่วนราชการละ ๑ ผลงาน) โดยส่งร่างคู่มือฯ ให้ กพ.ทหาร/ฝ่ายเลขานุการฯ ภายใน ๓๐ เม.ย. ๖๗ เพื่อรวบรวมให้คณะกรรมการคัดเลือกผลงานการจัดการความรู้ของ บก.ทท. พิจารณา ก่อนการประชุมติดตามผลงานการจัดการความรู้ของส่วนราชการ บก.ทท. ในห้วง พ.ศ. ๖๗\n",
       "      ๓.๒ ระดับกองงาน จัดทำผลงานการจัดการความรู้ในรูปแบบคู่มือปฏิบัติงานการจัดการความรู้ ของหน่วย และดำเนินการจัดการความรู้ ตามกระบวนการ ๗ ขั้นตอน (กองงานละ ๑ ผลงาน สำหรับผลงานฯ ของกองงาน ที่เป็นผู้แทนส่วนราชการ ให้ทำเพียง ๑ ผลงาน)</div>\n",
       "        </details>\n",
       "        "
      ],
      "text/plain": [
       "<IPython.core.display.HTML object>"
      ]
     },
     "metadata": {},
     "output_type": "display_data"
    },
    {
     "data": {
      "text/markdown": [
       "---"
      ],
      "text/plain": [
       "<IPython.core.display.Markdown object>"
      ]
     },
     "metadata": {},
     "output_type": "display_data"
    },
    {
     "data": {
      "text/markdown": [
       "#### 📄 **ไฟล์:** `014-2.pdf`"
      ],
      "text/plain": [
       "<IPython.core.display.Markdown object>"
      ]
     },
     "metadata": {},
     "output_type": "display_data"
    },
    {
     "data": {
      "text/html": [
       "\n",
       "        <details>\n",
       "            <summary>คลิกเพื่อดูผลลัพธ์ Raw OCR</summary>\n",
       "            <div style=\"background-color:#f7f7f7; border:1px solid #ddd; padding:10px; margin-top:10px; white-space: pre-wrap; word-wrap: break-word;\"># กระดาษเชียนข่าวร่วม (ทท.)\n",
       "\n",
       "## ลำดับความเร่งด่วน\n",
       "- **ด่วนมาก**\n",
       "\n",
       "| จาก | สปท. |\n",
       "| --- | --- |\n",
       "| ถึง | ผู้รับปฏิบัติ |\n",
       "| นชช.ทหาร เลขรับ..๓๑๔๖ | วันที่ ๒/๒/๒๕๖๗ |\n",
       "| ผู้รับทราบ | สน.ผู้บังคับบัญชา สปท. |\n",
       "\n",
       "## รายละเอียดการเร่งด่วน\n",
       "- หน่วยงานที่เกี่ยวข้องกับการศึกษาหลักสูตรทางทหารประจำปีการศึกษา ๒๕๖๘-๒๕๖๙ ให้ บก.ทท. และเหล่าทัพ พิจารณาคัดเลือกหลักสูตรจำนวน ๓๓ หลักสูตร จาก ๙๙ หลักสูตร รายละเอียดตาม QR Code ดังนี้\n",
       "\n",
       "### ๑. หลักสูตรวิชาการ (บก.ทท. และ เหล่าทัพ) จำนวน ๖ หลักสูตร\n",
       "- ๑.๑ หลักสูตร วปอ.สปป. (Defense and Strategic Studies Program (DSSP))\n",
       "- ๑.๒ หลักสูตร National Military Security and Command Program\n",
       "- ๑.๓ หลักสูตร Security and guard Program\n",
       "- ๑.๔ หลักสูตร Frontier Defense Service\n",
       "- ๑.๕ หลักสูตร Chinese Language\n",
       "- ๑.๖ หลักสูตร The Chinese Language Program\n",
       "\n",
       "### ๒. เพื่อให้การจัดส่งข้าราชการ ทท. ไปศึกษา อบรม ณ สาธารณรัฐประชาชนจีน เป็นไปด้วยความเรียบร้อย สปท. ขอให้นำเสนอความต้องการที่นั่งศึกษาหลักสูตรทางทหาร สปป. ประจำปีการศึกษา ๒๕๖๘-๒๕๖๙ (ดาวน์โหลดรายละเอียดหลักสูตรได้ตาม QR Code ด้านล่าง) โดยเรียงตามลำดับความสำคัญ เสนอให้ สปท. ภายใน ๓ ม.ค. ๖๘ รายละเอียดเพิ่มเติมประสานโดยตรงที่ พ.ท.หญิง ปิยะดา กฤษน้อย หน.ศึกษาต่างประเทศ กศช.สศท.สปท. โทร./โทรสาร ๐ ๒๒๗๗ ๑๑๑๕ จดหมายอิเล็กทรอนิกส์ edu_nnds@rtarf.mii.th\n",
       "\n",
       "## ตาราง QR Code/Email\n",
       "| หน่วยงาน | ผู้เขียนข่าว | นายทหารอนุมัติข่าว |\n",
       "| --- | --- | --- |\n",
       "| สปท.สปท. | น.อ. (ธวิน ศรีแก้ว) ผอ.กศช.สศท.สปท. | พล.ท. (พิรพัฒน์ จันทร์งาม) เสร.สปท. ทำการแทน ผบ.สปท. |</div>\n",
       "        </details>\n",
       "        <details>\n",
       "            <summary>คลิกเพื่อดู Ground Truth</summary>\n",
       "            <div style=\"background-color:#e6f7ff; border:1px solid #b3e0ff; padding:10px; margin-top:5px; white-space: pre-wrap; word-wrap: break-word;\">กระดาษเขียนข่าวร่วม (ทท.)\n",
       "\n",
       "ลำดับความเร่งด่วน: ด่วนมาก\n",
       "ชั้นความลับ: -\n",
       "หมู่ - วัน - เวลา: ๒๐๐๗๕๕ ก.พ. ๖๗\n",
       "หน้าที่: ๑ ของ ๒ หน้า\n",
       "ที่ของผู้ให้ข่าว: ที่ ๓/๒๕๖๗\n",
       "จาก: คณะกรรมการจัดการความรู้ของ บก.ทท.\n",
       "ถึง ผู้รับปฏิบัติ: สน.บก.บก.ทท., สลก.บก.ทท., สจร.ทหาร, สตน.ทหาร, สสก.ทหาร, สยย.ทหาร, ศปร., ศซบ.ทหาร, สธน.ทหาร, ขว.ทหาร, ยก.ทหาร, กบ.ทหาร, กร.ทหาร, สส.ทหาร, สปช.ทหาร, นทพ., ศรภ., ศตก., สบ.ทหาร, กง.ทหาร, ผท.ทหาร, ยบ.ทหาร, ชด.ทหาร, บก.สปท., วปอ.สปท., วสท.สปท., สจว.สปท., ศศย.สปท., สศท.สปท., รร.ตท.สปท. และ รร.ชท.สปท.\n",
       "ผู้รับทราบ: -\n",
       "\n",
       "๑. สน.ผชท.ทหาร สปจ./กรุงเทพฯ แจ้งว่า กองทัพปลดปล่อยประชาชนจีน เสนอที่นั่งศึกษาหลักสูตรทางทหาร ประจำปีการศึกษา ๒๕๖๘-๒๕๖๙ ให้ บก.ทท. และเหล่าทัพ พิจารณาคัดเลือกหลักสูตรจำนวน ๓๓ หลักสูตร จาก ๙๙ หลักสูตร รายละเอียดตาม QR Code ดังนี้\n",
       "  ๑.๑ หลักสูตรวิชาการ (บก.ทท. และ เหล่าทัพ) จำนวน ๖ หลักสูตร\n",
       "    ๑.๑.๑ หลักสูตร วปอ.สปป. (Defense and Strategic Studies Program (DSSP))\n",
       "    ๑.๑.๒ หลักสูตร National Military Security and Command Program\n",
       "    ๑.๑.๓ หลักสูตร Security and guard Program\n",
       "    ๑.๑.๔ หลักสูตร Frontier Defense Service\n",
       "    ๑.๑.๕ หลักสูตร Chinese Language\n",
       "    ๑.๑.๖ หลักสูตร The Chinese Language Program\n",
       "  ๑.๒ หลักสูตรในส่วนของ ทบ. จำนวน ๕๓ หลักสูตร\n",
       "  ๑.๓ หลักสูตรในส่วนของ ทร. จำนวน ๑๘ หลักสูตร\n",
       "  ๑.๔ หลักสูตรในส่วนของ ทอ. จำนวน ๒๒ หลักสูตร\n",
       "๒. เพื่อให้การจัดส่งข้าราชการ ทท. ไปศึกษา อธรม ณ สาธารณรัฐประชาชนจีน เป็นไปด้วยความเรียบร้อย สปท. ขอให้หน่วยเสนอความต้องการที่นั่งศึกษาหลักสูตรทางทหาร สปจ. ประจำปีการศึกษา ๒๕๖๘-๒๕๖๙ (ดาวน์โหลดรายละเอียดหลักสูตรได้ตาม QR Code ด้านล่าง) โดยเรียงตามลำดับความสำคัญ เสนอให้ สปท. ภายใน ๓ ม.ค. ๖๘ รายละเอียดเพิ่มเติมประสานโดยตรงที่ พ.ท.หญิง ปิยะดา กฤษน้อย หน.ศึกษาต่างประเทศ กศษ.สศท.สปท. โทร./โทรสาร ๐ ๒๒๗๗ ๑๑๑๕ จดหมายอิเล็กทรอนิกส์ edu_ndsi@rtarf.mi.th\n",
       "\n",
       "ผู้เขียนข่าว: น.อ. (ธวิน ศรีแก้ว) ผอ.กศษ.สศท.สปท.\n",
       "นายทหารอนุมัติข่าว: พล.ท. (พีรพัฒน์ จันทร์งาม) เสธ.สปท. ทำการแทน ผบ.สปท.</div>\n",
       "        </details>\n",
       "        "
      ],
      "text/plain": [
       "<IPython.core.display.HTML object>"
      ]
     },
     "metadata": {},
     "output_type": "display_data"
    },
    {
     "data": {
      "text/markdown": [
       "---"
      ],
      "text/plain": [
       "<IPython.core.display.Markdown object>"
      ]
     },
     "metadata": {},
     "output_type": "display_data"
    },
    {
     "data": {
      "text/markdown": [
       "#### 📄 **ไฟล์:** `016-2.pdf`"
      ],
      "text/plain": [
       "<IPython.core.display.Markdown object>"
      ]
     },
     "metadata": {},
     "output_type": "display_data"
    },
    {
     "data": {
      "text/html": [
       "\n",
       "        <details>\n",
       "            <summary>คลิกเพื่อดูผลลัพธ์ Raw OCR</summary>\n",
       "            <div style=\"background-color:#f7f7f7; border:1px solid #ddd; padding:10px; margin-top:10px; white-space: pre-wrap; word-wrap: break-word;\"># กระดาษเขียนข่าวร่วม (ทท.)\n",
       "\n",
       "## ลำดับความเร่งด่วน\n",
       "- จาก\n",
       "วสท.สปท.\n",
       "\n",
       "## ชั้นความลับ\n",
       "- ส่วนราชการใน บก.ทท. และ คุณทนท.67\n",
       "\n",
       "## หมู่ - วัน - เวลา\n",
       "9999 ส.ค. 67\n",
       "\n",
       "## หน้าที่ 1 ของ 1 หน้า\n",
       "ที่ของผู้ให้ข่าว\n",
       "กท ๐๓๑๗.๓/ว๒๘๕\n",
       "\n",
       "## ผู้รับทราบ\n",
       "สน.ผบ.วสท.สปท., สน.ผบ.สปท., สน.รอง ผบ.สปท., สน.เสธ.สปท.\n",
       "\n",
       "## รายละเอียด\n",
       "1. ตามที่ วสท.สปท. เป็นหน่วยรับผิดชอบจัดการฝึกอบรมหลักสูตรเสนาธิการทหารได้กำหนดไว้ นศ.สรท. จัดทำเอกสารวิจัย ซึ่งเป็นส่วนหนึ่งของหลักสูตรฯ เพื่อให้ผู้เข้ารับการฝึกอบรมมีความเข้าใจในกระบวนการทำการวิจัยและฝึกฝนความคิดวิเคราะห์อย่างเป็นระบบตลอดจนนำความรู้ไปสู่การหาคำตอบสำหรับการแก้ปัญหาและการพัฒนาองค์กรที่สามารถนำไปใช้ประโยชน์ต่อหน่วยงาน\n",
       "2. ตามข้อ 1 วสท.สปท. มีความประสงค์ขอรับทราบความคิดเห็นและข้อเสนอแนะจากส่วนราชการใน บก.ทท. เกี่ยวกับการแสดงออกเนื้อหาเกี่ยวกับสาระวิจัยสำหรับ นศ.สรท. รุ่นต่อไป ซึ่งเห็นว่าเหมาะสมและสามารถนำไปใช้เพื่อให้เกิดประโยชน์สูงสุดกับทางหน่วยงานและต่อทางราชการ\n",
       "3. เพื่อให้การดำเนินการตามข้อ 2 เป็นไปด้วยความเรียบร้อย จึงขอให้ส่วนราชการใน บก.ทท. ได้พิจารณากำหนดหัวข้อเรื่องที่เห็นว่ามีความสำคัญต่อหน่วยงานและเป็นประโยชน์ต่อ บก.ทท. หรือกองทัพบกไทย ที่ต้องการผ่านระบบออนไลน์ตาม QR Code ด้านล่างภายในวันที่ 15 ส.ค. 67 โดย วสท.สปท. จะนำข้อเสนอและประเด็นต่าง ๆ พิจารณาและนำไปเป็นหัวข้อในการจัดทำเอกสารวิจัยให้ นศ.สรท. จัดทำให้สอดคล้องความต้องการของหน่วยต่อไป\n",
       "4. รายละเอียดเพิ่มเติมประสานได้ที่ น.อ.หญิง ศันสนีย์ นิโรจน์ รอง ผอ. กวว.วสท.สปท. โทร ๐๘ ๔๑๔๖ ๕๔๔๗ Line ID niroj1966\n",
       "\n",
       "## QR Code\n",
       "![](QR Code)\n",
       "\n",
       "## หน่วย\n",
       "| วสท.สปท. | โทรศัพท์ |\n",
       "| --- | --- |\n",
       "| 0 2277 3675 |  |\n",
       "\n",
       "## ผู้เขียนข่าว\n",
       "| น.อ. | วรชาติ สิตยเลขา |\n",
       "| --- | --- |\n",
       "| ผอ.กพผ.วสท.สปท.ปฏิบัติ |  |\n",
       "\n",
       "## นายทหารอนุมัติข่าว\n",
       "| พล.ต. |  |\n",
       "| --- | --- |\n",
       "| รอง ผบ.วสท.สปท. การแทน |  |</div>\n",
       "        </details>\n",
       "        <details>\n",
       "            <summary>คลิกเพื่อดู Ground Truth</summary>\n",
       "            <div style=\"background-color:#e6f7ff; border:1px solid #b3e0ff; padding:10px; margin-top:5px; white-space: pre-wrap; word-wrap: break-word;\">กระดาษเขียนข่าวร่วม (ทท.)\n",
       "\n",
       "ลำดับความเร่งด่วน: -\n",
       "ชั้นความลับ: -\n",
       "หมู่ - วัน - เวลา: ๑๑๑๐๐๐ ส.ค. ๖๗\n",
       "หน้าที่: ๑ ของ ๑ หน้า\n",
       "ที่ของผู้ให้ข่าว: กห ๐๓๑๗.๓/๑๐๘๘\n",
       "จาก: วสท.สปท.\n",
       "ถึง ผู้รับปฏิบัติ: ส่วนราชการใน บก.ทท. และ คกนท.๖๗\n",
       "ผู้รับทราบ: สน.ผบ.วสท.สปท., สน.ผบ.สปท., สน.รอง ผบ.สปท., สน.เสธ.สปท.\n",
       "\n",
       "๑. ตามที่ วสท.สปท. เป็นหน่วยรับผิดชอบจัดการฝึกอบรมหลักสูตรเสนาธิการทหาร ได้กำหนดให้ นศ.สธท. จัดทำเอกสารวิจัย ซึ่งเป็นส่วนหนึ่งของหลักสูตรฯ เพื่อให้ผู้เข้ารับการฝึกอบรมมีความเข้าใจในกระบวนการทำวิจัยและฝึกฝนความคิดวิเคราะห์อย่างเป็นระบบตลอดจนนำความรู้ไปสู่การหาคำตอบ สำหรับการแก้ปัญหาและการพัฒนาองค์กรที่สามารถนำไปใช้ประโยชน์ต่อหน่วยงาน\n",
       "๒. ตามข้อ ๑ วสท.สปท. มีความประสงค์ขอรับทราบความคิดเห็นและข้อเสนอแนะจากส่วนราชการใน บก.ทท. เกี่ยวกับการเสนอเงื่อนไขหัวข้อเอกสารวิจัยสำหรับ นศ.สธท. รุ่นต่อไป ซึ่งเห็นว่าเหมาะสมและสามารถนำไปใช้เพื่อให้เกิดประโยชน์สูงสุดกับทางหน่วยงานและต่อทางราชการ\n",
       "๓. เพื่อให้การดำเนินการตามข้อ ๒ เป็นไปด้วยความเรียบร้อย จึงขอให้ส่วนราชการใน บก.ทท. ได้พิจารณากำหนดหัวข้อเรื่องที่เห็นว่ามีความสำคัญต่อหน่วยงานและเป็นประโยชน์ต่อ บก.ทท. หรือกองทัพไทย ที่ต้องการผ่านระบบออนไลน์ตาม QR Code ด้านล่างภายในวันที่ ๑๕ ส.ค. ๖๗ โดย วสท.สปท. จะนำข้อเสนอและประเด็นต่าง ๆ พิจารณาและนำไปเป็นหัวข้อในการจัดทำเอกสารวิจัยให้ นศ.สธท. จัดทำให้สอดคล้องความต้องการของหน่วยต่อไป\n",
       "๔. รายละเอียดเพิ่มเติมประสานได้ที่ น.อ.หญิง ศันสนีย์ นิโรจน์ รอง ผอ.กวว.วสท.สปท. โทร ๐๘ ๔๑๔๖ ๕๔๔๗ Line ID niroj1966\n",
       "\n",
       "ผู้เขียนข่าว: น.อ. (วรชาติ สัตยเลขา) ผอ.กพผ.วสท.สปท.ปฏิบัติหน้าที่ ผอ.กวว.วสท.สปท.\n",
       "นายทหารอนุมัติข่าว: พล.ต. (เทอดไทย ทัพธานี) รอง ผบ.วสท.สปท. ทำการแทน ผบ.วสท.สปท.</div>\n",
       "        </details>\n",
       "        "
      ],
      "text/plain": [
       "<IPython.core.display.HTML object>"
      ]
     },
     "metadata": {},
     "output_type": "display_data"
    },
    {
     "data": {
      "text/markdown": [
       "---"
      ],
      "text/plain": [
       "<IPython.core.display.Markdown object>"
      ]
     },
     "metadata": {},
     "output_type": "display_data"
    },
    {
     "data": {
      "text/markdown": [
       "#### 📄 **ไฟล์:** `017-2.pdf`"
      ],
      "text/plain": [
       "<IPython.core.display.Markdown object>"
      ]
     },
     "metadata": {},
     "output_type": "display_data"
    },
    {
     "data": {
      "text/html": [
       "\n",
       "        <details>\n",
       "            <summary>คลิกเพื่อดูผลลัพธ์ Raw OCR</summary>\n",
       "            <div style=\"background-color:#f7f7f7; border:1px solid #ddd; padding:10px; margin-top:10px; white-space: pre-wrap; word-wrap: break-word;\"># กระดาษเชิญข่าวร่วม (ทท.)\n",
       "\n",
       "## ลำดับความเร่งด่วน\n",
       "- จาก\n",
       "- สปท.\n",
       "\n",
       "## ชั้นความลับ\n",
       "\n",
       "## หมู่ - วัน - เวลา\n",
       "๒๔๓๗ ก.ค. ๖๗\n",
       "\n",
       "## หน้าที่ ๑ ของ ๑ หน้า\n",
       "ที่ของผู้ให้ข่าว\n",
       "ที่ กห ๐๓๑๗/๒๕๖\n",
       "\n",
       "## ถึง ผู้รับปฏิบัติ\n",
       "กพ.ทหาร, ยก.ทหาร, สส.ทหาร, สปช.ทหาร, ศรภ., กง.ทหาร, รธ.แผนที่ พท.ทหาร,\n",
       "ศช.ทหาร, นทพ., รธ.ตท.สปท., รธ.ซท.สปท., สคท.สปท. และ สภท.บก.สปท.\n",
       "\n",
       "## ผู้รับทราบ\n",
       "สน.ผู้บังคับบัญชา สปท.\n",
       "\n",
       "## QR Code\n",
       "(๑)\n",
       "\n",
       "## QR Code\n",
       "(๒)\n",
       "\n",
       "## รายละเอียด\n",
       "| QR code | หน่วยงาน |\n",
       "| --- | --- |\n",
       "| ![QR Code](#) | กมศ.บก.สปท. |\n",
       "| ![QR Code](#) | โทรศพท์ |\n",
       "\n",
       "## ผู้เขียนข่าว\n",
       "| หน่วยงาน | ผู้เขียนข่าว |\n",
       "| --- | --- |\n",
       "| กมศ.บก.สปท. | น.อ.หญิง |\n",
       "| โทรศพท์ | (สุธาสินี บุญวัฒน์) |\n",
       "\n",
       "## นายทหารอนุมัติข่าว\n",
       "| หน่วยงาน | นายทหารอนุมัติข่าว |\n",
       "| --- | --- |\n",
       "| กมศ.บก.สปท. | พล.ต. |\n",
       "| โทรศพท์ | (ระวี โรจนวงศ์) |\n",
       "\n",
       "## แหล่งที่มา\n",
       "Vittayathana@gmail.com</div>\n",
       "        </details>\n",
       "        <details>\n",
       "            <summary>คลิกเพื่อดู Ground Truth</summary>\n",
       "            <div style=\"background-color:#e6f7ff; border:1px solid #b3e0ff; padding:10px; margin-top:5px; white-space: pre-wrap; word-wrap: break-word;\">กระดาษเขียนข่าวร่วม (ทท.)\n",
       "\n",
       "ลำดับความเร่งด่วน: -\n",
       "ชั้นความลับ: -\n",
       "หมู่ – วัน เวลา: ๒๕๑๐๓๐ ก.ค. ๖๗\n",
       "หน้าที่: ๑ ของ ๑ หน้า\n",
       "ที่ของผู้ให้ข่าว: ที่ กห ๐๓๑๗/๒๕๖๖\n",
       "จาก: สปท.\n",
       "ถึง ผู้รับปฏิบัติ: กพ.ทหาร, ยก.ทหาร, สส.ทหาร, สปช.ทหาร, ศรภ., กง.ทหาร, รร.แผนที่ ผท.ทหาร, ศซบ.ทหาร, นทพ., รร.ตท.สปท., รร.ชท.สปท., สศท.สปท. และ สภท.บก.สปท.\n",
       "ผู้รับทราบ: สน.ผู้บังคับบัญชา สปท.\n",
       "\n",
       "๑. สปท. กำหนดจัดการประชุม คทส.บก.ทท. ครั้งที่ ๔/๖๗ ใน ๑๓ ส.ค. ๖๗ เวลา ๐๙๐๐-๑๕๓๐ ณ ห้องเจ้าหมื่นไวยวรนารถ ชั้น ๖ บก.สปท. โดยมี รอง เสธ.สปท./ประธาน คทส.บก.ทท. เป็นประธาน ซึ่งการประชุมฯ ครั้งนี้มีวัตถุประสงค์เพื่อให้สถานศึกษาชี้แจงความคืบหน้าการดำเนินงานด้านวิทยฐานะ และอนุมัติผลการประเมินให้มีวิทยฐานะครูชำนาญการ และครูชำนาญการต้น ระเบียบวาระการประชุมฯ ตาม QR Code (๑)\n",
       "๒. ในการนี้จึงขอเรียนเชิญ (รายชื่อตามที่แนบ) หรือผู้แทนเข้าร่วมการประชุมฯ ตามวัน เวลา และสถานที่ดังกล่าว โดยขอให้หน่วยกรุณาตอบยืนยันหรือส่งรายชื่อผู้แทนเข้าร่วมการประชุมฯ ลงในแบบตอบรับเข้าร่วมการประชุมฯ ตาม QR Code (๒) และกรุณาตรวจสอบ แก้ไขรายงานการประชุม คทส.บก.ทท. ครั้งที่ ๓/๖๗ รวมทั้งเสนอเรื่องเข้าวาระการประชุมฯ (ถ้ามี) ส่งให้ สปท. ภายใน ๓๑ ก.ค. ๖๗\n",
       "๓. สำหรับสถานศึกษาขอให้จัดทำความคืบหน้าการดำเนินงานด้านวิทยฐานะ ในรูปแบบ PowerPoint นำเสนอในการประชุมฯ\n",
       "๔. ทั้งนี้ มอบให้ พ.ท. ยงยุทธ นาสมชัย ตำแหน่ง หน.พัฒนามาตรฐานการฝึกศึกษา กมศ.บก.สปท. โทรศัพท์เคลื่อนที่ ๐๙ ๒๒๕๐ ๒๔๑๔ เป็นผู้ประสานในรายละเอียด\n",
       "\n",
       "ผู้เขียนข่าว: น.อ.หญิง (สุธาสินี บุญวัฒน์) ผอ.กมศ.บก.สปท.\n",
       "นายทหารอนุมัติข่าว: พล.ต. (ระวี โรจนวงศ์) รอง เสธ.สปท. ทำการแทน ผบ.สปท.\n",
       "สำเนาถูกต้อง: ร.อ.หญิง (กัญญาภัค วงศ์อนุ) ประจำแผนกตรวจสอบและประเมินวิทยฐานะ กมศ.บก.สปท.</div>\n",
       "        </details>\n",
       "        "
      ],
      "text/plain": [
       "<IPython.core.display.HTML object>"
      ]
     },
     "metadata": {},
     "output_type": "display_data"
    },
    {
     "data": {
      "text/markdown": [
       "---"
      ],
      "text/plain": [
       "<IPython.core.display.Markdown object>"
      ]
     },
     "metadata": {},
     "output_type": "display_data"
    },
    {
     "data": {
      "text/markdown": [
       "#### 📄 **ไฟล์:** `018-2.pdf`"
      ],
      "text/plain": [
       "<IPython.core.display.Markdown object>"
      ]
     },
     "metadata": {},
     "output_type": "display_data"
    },
    {
     "data": {
      "text/html": [
       "\n",
       "        <details>\n",
       "            <summary>คลิกเพื่อดูผลลัพธ์ Raw OCR</summary>\n",
       "            <div style=\"background-color:#f7f7f7; border:1px solid #ddd; padding:10px; margin-top:10px; white-space: pre-wrap; word-wrap: break-word;\"># กระดาษเชิญข่าวร่วม (ทท.)\n",
       "\n",
       "## ลำดับความเร่งด่วน\n",
       "- **ด่วนมาก**\n",
       "\n",
       "## ชั้นความลับ\n",
       "\n",
       "## หมู่ - วัน - เวลา\n",
       "๒๓๐๘๐๐ ก.ค. ๖๗\n",
       "\n",
       "## หน้าที่ ๑ ของ ๑ หน้า\n",
       "ที่ของผู้ให้ข่าว\n",
       "ที่ กห ๐๓๐๗/๒๑๗๓\n",
       "\n",
       "## จาก\n",
       "สส.ทหาร\n",
       "\n",
       "## ถึง ผู้รับปฏิบัติ\n",
       "ศปร., นทพ., สปท., กพ.ทหาร, ขว.ทหาร, ยก.ทหาร, กบ.ทหาร, กร.ทหาร, สปช.ทหาร, สน.บก.บท., สลก.บก.ทหาร, สจร.ทหาร, สตน.ทหาร, สธน.ทหาร, สสภ.ทหาร, สยย.ทหาร, ศชบ.ทหาร, ศรภ., ศตก., สบ.ทหาร, กง.ทหาร, ผท.ทหาร, ยบ.ทหาร และ ชด.ทหาร\n",
       "\n",
       "## ผู้รับทราบ\n",
       "จก.สส.ทหาร, รอง จก.สส.ทหาร (๑) และ รอง จก.สส.ทหาร (๒)\n",
       "\n",
       "## QR Code/Email\n",
       "\n",
       "## หน่วย\n",
       "- สส.ทหาร\n",
       "\n",
       "## โทรศัพท์\n",
       "- โทร.ทหาร ๕๐๑๑๖๔๘\n",
       "- โทร. ๐ ๒๕๗๒ ๒๐๒๙\n",
       "- โทรสาร ๐ ๒๕๗๒ ๒๐๒๙\n",
       "\n",
       "## ผู้เขียนข่าว\n",
       "- พ.อ.\n",
       "- (ทศพล จุลกรังคะ)\n",
       "- ผอ.กนผ.สผอ.สส.ทหาร\n",
       "\n",
       "## นายทหารอนุมัติข่าว\n",
       "- พล.ต.\n",
       "- (สรพล ผลพูล)\n",
       "- ผอ.สผอ.สส.ทหาร ทำการแทน จก.สส.ทหาร</div>\n",
       "        </details>\n",
       "        <details>\n",
       "            <summary>คลิกเพื่อดู Ground Truth</summary>\n",
       "            <div style=\"background-color:#e6f7ff; border:1px solid #b3e0ff; padding:10px; margin-top:5px; white-space: pre-wrap; word-wrap: break-word;\">กระดาษเขียนข่าวร่วม (ทท.)\n",
       "\n",
       "ลำดับความเร่งด่วน: ด่วนมาก\n",
       "ชั้นความลับ: -\n",
       "หมู่ - วัน - เวลา: ๒๓๐๘๐๐ ก.ค. ๖๗\n",
       "หน้าที่: ๑ ของ ๑ หน้า\n",
       "ที่ของผู้ให้ข่าว: ที่ กห ๐๓๐๗/๒๑๗๓\n",
       "จาก: สส.ทหาร\n",
       "ถึง ผู้รับปฏิบัติ: ศปร., นทพ., สปท., กพ.ทหาร, ขว.ทหาร, ยก.ทหาร, กบ.ทหาร, กร.ทหาร, สปช.ทหาร, สน.บก.บก.ทท., สลก.บก.ทท., สจร.ทหาร, สตน.ทหาร, สธน.ทหาร, สสก.ทหาร, สยย.ทหาร, ศซบ.ทหาร, ศรภ., ศตก., สบ.ทหาร, กง.ทหาร, ผท.ทหาร, ยบ.ทหาร และ ชด.ทหาร\n",
       "ผู้รับทราบ: จก.สส.ทหาร, รอง จก.สส.ทหาร (๑) และ รอง จก.สส.ทหาร (๒)\n",
       "\n",
       "๑. สส.ทหาร มีกำหนดจัดการเข้าศึกษาดูงาน ณ ศูนย์เทคโนโลยีอิเล็กทรอนิกส์และคอมพิวเตอร์แห่งชาติ หรือ NECTEC เพื่อเสริมสร้างความรู้เรื่องปัญญาประดิษฐ์ และมาประยุกต์ใช้ด้านความมั่นคง ในวันอังคารที่ ๓๐ ก.ค. ๖๗\n",
       "๒. เพื่อให้การดำเนินการตามข้อ ๑ เป็นไปด้วยความเรียบร้อย สส.ทหาร จึงขอเชิญผู้แทนหน่วย ชั้นยศ พ.ท./น.ท.-พ.อ./น.อ. ที่ปฏิบัติงานในด้านเทคโนโลยี หน่วยละ ๑ นาย (กพ.ทหาร, ขว.ทหาร, ยก.ทหาร, กบ.ทหาร, กร.ทหาร, สปช.ทหาร, ศปร., นทพ., และ สปท. หน่วยละ ๒ นาย) เข้าร่วมการศึกษาดูงานฯ โดยส่งข้อมูลรายชื่อ ตำแหน่ง หมายเลขโทรศัพท์ให้กับ สส.ทหาร ภายในวันพุธที่ ๒๔ ก.ค. ๖๗ (รายละเอียดกำหนดการฯ และแบบฟอร์มตอบรับตาม QR Code ที่แนบ)\n",
       "๓. รายละเอียดเพิ่มเติมกรุณาประสาน ร.อ. กัญจน์ สหสมโชค ประจำ กนผ.สผอ.สส.ทหาร โทร. ๐ ๒๕๓๒ ๒๐๒๙ โทร.ทหาร ๕๐๑๑๖๔๘ โทรศัพท์เคลื่อนที่ ๐๘ ๔๖๗๘ ๙๑๗๙\n",
       "\n",
       "ผู้เขียนข่าว: พ.อ. (ทศพล จุลกรังคะ) ผอ.กนผ.สผอ.สส.ทหาร\n",
       "นายทหารอนุมัติข่าว: พล.ต. (สุรพล ผลพูล) ผอ.สผอ.สส.ทหาร ทำการแทน จก.สส.ทหาร</div>\n",
       "        </details>\n",
       "        "
      ],
      "text/plain": [
       "<IPython.core.display.HTML object>"
      ]
     },
     "metadata": {},
     "output_type": "display_data"
    },
    {
     "data": {
      "text/markdown": [
       "---"
      ],
      "text/plain": [
       "<IPython.core.display.Markdown object>"
      ]
     },
     "metadata": {},
     "output_type": "display_data"
    },
    {
     "data": {
      "text/markdown": [
       "#### 📄 **ไฟล์:** `019-2.pdf`"
      ],
      "text/plain": [
       "<IPython.core.display.Markdown object>"
      ]
     },
     "metadata": {},
     "output_type": "display_data"
    },
    {
     "data": {
      "text/html": [
       "\n",
       "        <details>\n",
       "            <summary>คลิกเพื่อดูผลลัพธ์ Raw OCR</summary>\n",
       "            <div style=\"background-color:#f7f7f7; border:1px solid #ddd; padding:10px; margin-top:10px; white-space: pre-wrap; word-wrap: break-word;\"># กระดาษเชิญข้าวร่วม (ทท.)\n",
       "\n",
       "## ลำดับความเร่งด่วน\n",
       "- **ด่วนมาก**\n",
       "\n",
       "## ชั้นความลับ\n",
       "\n",
       "## หมู่ - วัน - เวลา\n",
       "- ๑๒๕๐๖ ก.ค. ๖๗\n",
       "\n",
       "## หน้าที่ ๑ ของ ๑ หน้า\n",
       "- ที่ของผู้ให้ข่าว\n",
       "- ที่ กท ๐๓๐๒/๔๒๗๓\n",
       "\n",
       "## จาก\n",
       "- กพ.ทหาร\n",
       "\n",
       "## ถึง ผู้รับปฏิบัติ\n",
       "- สบ.บก.กก.ทท. สสจ.ทหาร สตน.ทหาร สสน.ทหาร สถก.ทหาร สาย.ทหาร\n",
       "- ศูนย์ ศช.ทหาร ขว.ทหาร ยก.ทหาร กน.ทหาร กร.ทหาร สส.ทหาร สปช.ทหาร นทพ.\n",
       "- ศคร. ศตภ. สน.ทหาร กง.ทหาร พท.ทหาร ยบ.ทหาร ชด.ทหาร และ สปท.\n",
       "\n",
       "## ผู้รับทราบ\n",
       "- สน.พ.อ.ทหาร วปอ.สปท. วสส.สปท. ศศย.สปท. สจว.สปท. รธ.ตท.สปท. รธ.ซท.สปท.\n",
       "- และ สคท.สปท.\n",
       "\n",
       "## วิธีการดำเนินการ\n",
       "1. กพ.ทหาร กำหนดจัดการประชุมเชิงปฏิบัติการ การวิเคราะห์อัตราของส่วนราชการใน กท.ทท. เพื่อร้องรับการบรรจุข้าราชการพลเรือนกลาโหมของ บก.ทท. ระหว่างวันที่ ๒๔-๒๖ ก.ค. ๖๗ ณ สมัชชาวาณิช ร.ศ. ๙๐ ถนนบำรุงเมือง แขวงบางเขน เขตหลักสี่ กรุงเทพฯ\n",
       "   - ระเบียบวาระที่ ๑ ประธานกล่าวเปิดการประชุมเชิงปฏิบัติการฯ\n",
       "   - ระเบียบวาระที่ ๒ การชี้แจงภาพรวมที่เกี่ยวข้องกับข้าราชการพลเรือนกลาโหมของ บก.ทท.\n",
       "   - ระเบียบวาระที่ ๓ เรื่องเสนอเพื่อพิจารณา\n",
       "     - วิเคราะห์อัตราของส่วนราชการใน บก.ทท. สำหรับรองรับการบรรจุข้าราชการพลเรือนกลาโหมฯ\n",
       "     - พิจารณาลักษณะของกลุ่มงาน งาน และตำแหน่งที่สมควรจะบรรจุข้าราชการพลเรือนกลาโหมฯ\n",
       "     - พิจารณาแนวทางการกำหนดอัตราเงินเดือน ค่าตอบแทนข้าราชการพลเรือนกลาโหม\n",
       "   - ระเบียบวาระที่ ๔ เรื่องอื่น ๆ\n",
       "   - ระเบียบวาระที่ ๕ ประธานกล่าวสรุปและปิดการประชุมเชิงปฏิบัติการฯ\n",
       "2. เพื่อให้การดำเนินการตามข้อ ๑ เป็นไปด้วยความเรียบร้อย ขอให้ส่วนราชการจัดผู้แทนเข้าร่วมการประชุมเชิงปฏิบัติการฯ ดังนี้\n",
       "   - ๒.๑ หน.สายวิทยาการ และนายทหารกำลังพลของหน่วย\n",
       "   - ๒.๒ สายวิทยาการที่มีแผนในการปรับเปลี่ยนเป็นข้าราชการพลเรือนกลาโหม (สายวิทยาการตรวจสอบภายใน สายวิทยาการการเงิน และสายวิทยาการแพทย์)\n",
       "   - ๓. ขอให้ส่งรายชื่อผู้เข้าร่วมประชุมเชิงปฏิบัติการฯ ให้ กพ.ทหาร ผ่านช่องทาง Kanyaraty@rnf.mil.th หรือโทรสาร ๐ ๒๕๗๕ ๖๐๑๕ ภายในวันพฤหัสบดีที่ ๑๙ ก.ค. ๖๗ ทั้งนี้ สามารถดาวน์โหลดแบบตอบรับ และกำหนดการประชุมเชิงปฏิบัติการฯ ตาม QR Code ด้านล่าง รายละเอียดเพิ่มเติมประสาน ร.ท. ภูมิภาค สำเร็จผล ร.น. ประจำแผนกนโยบายและแผน กน.ผ.สนพ.กพ.ทหาร โทรศัพท์เคลื่อนที่ ๐๘ ๙๑๖๔ ๒๐๒๕ โทร.ทหาร ๕๗๒๑๑๑๘\n",
       "\n",
       "## QR Code/Email\n",
       "| QR Code | Email |\n",
       "| --- | --- |\n",
       "| ![QR Code](#) | knp.สนพ.กพ.ทหาร |\n",
       "| ![QR Code](#) | โทร.ทหาร ๐ ๒๕๗๕ ๖๐๑๕ |\n",
       "\n",
       "## หน่วย\n",
       "- กน.ผ.สนพ.กพ.ทหาร\n",
       "\n",
       "## ผู้เยียนข่าว\n",
       "- น.อ. ฐิติพันธ์ บุตรดีสุวรรณ\n",
       "- ผอ.กน.ผ.สนพ.กพ.ทหาร\n",
       "\n",
       "## นายทหารอนุมัติข่าว\n",
       "- พล.ต. (สัมพันธ์ รงค์จำเริญ)\n",
       "- รอง จก.กพ.ทหาร ทำกำเนิด\n",
       "- จก.กพ.ทหาร</div>\n",
       "        </details>\n",
       "        <details>\n",
       "            <summary>คลิกเพื่อดู Ground Truth</summary>\n",
       "            <div style=\"background-color:#e6f7ff; border:1px solid #b3e0ff; padding:10px; margin-top:5px; white-space: pre-wrap; word-wrap: break-word;\">กระดาษเขียนข่าวร่วม (ทท.)\n",
       "\n",
       "ลำดับความเร่งด่วน: ด่วนมาก\n",
       "ชั้นความลับ: -\n",
       "หมู่ - วัน - เวลา: ๒๖๑๕๐๖ ก.ค. ๖๗\n",
       "หน้าที่: ๑ ของ ๑ หน้า\n",
       "ที่ของผู้ให้ข่าว: ที่ กห ๐๓๐๒/๔๒๗๓\n",
       "จาก: กพ.ทหาร\n",
       "ถึง ผู้รับปฏิบัติ: สน.บก.บก.ทท. สลก.บก.ทท. สจร.ทหาร สตน.ทหาร สธน.ทหาร สสก.ทหาร สยย.ทหาร ศปร. ศซบ.ทหาร ขว.ทหาร ยก.ทหาร กบ.ทหาร กร.ทหาร สส.ทหาร สปช.ทหาร นทพ. ศรภ. ศตก. สบ.ทหาร กง.ทหาร ผท.ทหาร ยบ.ทหาร ชด.ทหาร และ สปท.\n",
       "ผู้รับทราบ: สนพ.ยบ.ทหาร วปอ.สปท. วสท.สปท. ศศย.สปท. สจว.สปท. รร.ตท.สปท. รร.ชท.สปท. และ สศท.สปท.\n",
       "\n",
       "๑. กพ.ทหาร กำหนดจัดการประชุมเชิงปฏิบัติการ การวิเคราะห์อัตราของส่วนราชการใน บก.ทท. เพื่อรองรับการบรรจุข้าราชการพลเรือนกลาโหมของ บก.ทท. ระหว่างวันที่ ๒๔-๒๖ ก.ค. ๖๗ ณ สโมสร บก.ทท. โดยมีระเบียบวาระการประชุม ดังนี้\n",
       "    ระเบียบวาระที่ ๑ ประธานกล่าวเปิดการประชุมเชิงปฏิบัติการฯ\n",
       "    ระเบียบวาระที่ ๒ การชี้แจงภาพรวมที่เกี่ยวข้องกับข้าราชการพลเรือนกลาโหมของ บก.ทท.\n",
       "    ระเบียบวาระที่ ๓ เรื่องเสนอเพื่อพิจารณา\n",
       "        - วิเคราะห์อัตราของส่วนราชการใน บก.ทท. สำหรับรองรับการบรรจุข้าราชการพลเรือนกลาโหมฯ\n",
       "        - พิจารณาลักษณะของกลุ่มงาน งาน และตำแหน่งที่สมควรจะบรรจุข้าราชการพลเรือนกลาโหมฯ\n",
       "        - พิจารณาแนวทางการกำหนดอัตราเงินเดือน ค่าตอบแทนข้าราชการพลเรือนกลาโหม\n",
       "    ระเบียบวาระที่ ๔ เรื่องอื่น ๆ\n",
       "    ระเบียบวาระที่ ๕ ประธานกล่าวสรุปและปิดการประชุมเชิงปฏิบัติการฯ\n",
       "๒. เพื่อให้การดำเนินการตามข้อ ๑ เป็นไปด้วยความเรียบร้อย ขอให้ส่วนราชการจัดผู้แทนเข้าร่วมการประชุมเชิงปฏิบัติการฯ ดังนี้\n",
       "    ๒.๑ หน.สายวิทยาการ และนายทหารกำลังพลของหน่วย\n",
       "    ๒.๒ สายวิทยาการที่มีแผนในการปรับเปลี่ยนเป็นข้าราชการพลเรือนกลาโหม (สายวิทยาการตรวจสอบภายใน สายวิทยาการการเงิน และสายวิทยาการแพทย์)\n",
       "๓. ขอให้ส่งรายชื่อผู้เข้าร่วมประชุมเชิงปฏิบัติการฯ ให้ กพ.ทหาร ผ่านช่องทาง Kanyarat.y@rtarf.mi.th หรือโทรสาร ๐ ๒๕๗๕ ๖๐๑๕ ภายในวันศุกร์ที่ ๑๙ ก.ค. ๖๗ ทั้งนี้ สามารถดาวน์โหลดแบบตอบรับ และกำหนดการประชุมเชิงปฏิบัติการฯ ตาม QR Code ด้านล่าง รายละเอียดเพิ่มเติมประสาน ร.ท. ภูภวะ สำเร็จผล ร.น. ประจำแผนกนโยบายและแผน กนผ.สนผพ.กพ.ทหาร โทรศัพท์เคลื่อนที่ ๐๘ ๙๑๖๔ ๒๐๒๕ โทร.ทหาร ๕๗๒๑๑๑๘\n",
       "\n",
       "ผู้เขียนข่าว: น.อ. (ฐิติพันธ์ บุตรดีสุวรรณ) ผอ.กนผ.สนผพ.กพ.ทหาร\n",
       "นายทหารอนุมัติข่าว: พล.ต. (สัมพันธ์ รงศ์จำเริญ) รอง จก.กพ.ทหาร ทำการแทน จก.กพ.ทหาร</div>\n",
       "        </details>\n",
       "        "
      ],
      "text/plain": [
       "<IPython.core.display.HTML object>"
      ]
     },
     "metadata": {},
     "output_type": "display_data"
    },
    {
     "data": {
      "text/markdown": [
       "---"
      ],
      "text/plain": [
       "<IPython.core.display.Markdown object>"
      ]
     },
     "metadata": {},
     "output_type": "display_data"
    },
    {
     "data": {
      "text/markdown": [
       "#### 📄 **ไฟล์:** `021-2.pdf`"
      ],
      "text/plain": [
       "<IPython.core.display.Markdown object>"
      ]
     },
     "metadata": {},
     "output_type": "display_data"
    },
    {
     "data": {
      "text/html": [
       "\n",
       "        <details>\n",
       "            <summary>คลิกเพื่อดูผลลัพธ์ Raw OCR</summary>\n",
       "            <div style=\"background-color:#f7f7f7; border:1px solid #ddd; padding:10px; margin-top:10px; white-space: pre-wrap; word-wrap: break-word;\"># กระดาษเชิญข่าวร่วม (ทท.)\n",
       "\n",
       "## ลำดับความเร่งด่วน\n",
       "- **ด่วนมาก**\n",
       "\n",
       "## ชั้นความลับ\n",
       "\n",
       "## มู่ - วัน - เวลา\n",
       "- ๐๕๑๔ ก.ค. ๖๗\n",
       "\n",
       "## หน้าที่ ๑ ของ ๑ หน้า\n",
       "- ที่ของผู้ให้ข่าว\n",
       "- ที่ ๓/๒๕๖๗\n",
       "\n",
       "## จาก\n",
       "- คณะกรรมการจัดการความรู้ของ บก.ทท.\n",
       "\n",
       "## ถึง ผู้รับปฏิบัติ\n",
       "- สพ.บก.บก.ท., สสก.บก.ท., สจร.ทหาร, สตน.ทหาร, สสภ.ทหาร, สยย.ทหาร,\n",
       "- ศปร., ศชป.ทหาร, สธน.ทหาร, ขว.ทหาร, ยก.ทหาร, กบ.ทหาร, กร.ทหาร, สส.ทหาร,\n",
       "- สปช.ทหาร, นทพ., ครภ., ศตก., สบ.ทหาร, กง.ทหาร, ผท.ทหาร, ยบ.ทหาร,\n",
       "- ชด.ทหาร, บก.สปท., วปอ.สปท., วสท.สปท., สจว.สปท., ศศย.สปท., สศท.สปท.,\n",
       "- รร.ตท.สปท. และ รร.ชท.สปท.\n",
       "\n",
       "## ผู้รับทราบ\n",
       "- \n",
       "\n",
       "## ข้อความสำคัญ\n",
       "- อ้างถึง ข่าว (ทท.) คณะกรรมการจัดการความรู้ของ บก.ทท. ที่ ๖/๒๕๖๗ ลง ๑๙ มิ.ย. ๖๗\n",
       "- ตามข้อ ๑ กพ.ทหาร/ฝ่ายเลขานุการคณะกรรมการจัดการความรู้ของ บก.ทท. ขอให้หน่วย\n",
       "- ส่งผลงานการจัดการความรู้ฉบับสมบูรณ์ พร้อมทั้งรูปแบบไฟล์ PDF และสื่อประกอบการบรรยายและอธิบาย\n",
       "- รายละเอียดกระบวนการจัดการความรู้ ๗ ขั้นตอน สำหรับการประเมินผลการจัดการความรู้ฯ\n",
       "- ๓. กพ.ทหาร/ฝ่ายเลขานุการฯ กำหนดจัดการประชุมเชิงปฏิบัติการ การนำเสนอและ\n",
       "- คัดเลือกผลงานการจัดการความรู้ของส่วนราชการ บก.ทท. ประจำปีงบประมาณ พ.ศ. ๒๕๖๗ (รอบแรก)\n",
       "- เพื่อรับการประเมินผลการจัดการความรู้ฯ ระหว่าง ๑๖-๑๙ ก.ค. ๖๗ ณ ห้องประชุม ๓ ชว.ทหาร ชั้น ๒ อาคาร ๓\n",
       "- บก.ทท. (แจ้งวัฒนะ) กำหนดการตามแนบ ในกรณีนี้ ขอให้หน่วยกรุณาจัดผู้รับผิดชอบด้านการจัดการความรู้\n",
       "- ของหน่วย เข้าร่วมการประชุมเชิงปฏิบัติการฯ โดยขอให้แจ้งรายชื่อผู้เข้าร่วมประชุมฯ ทาง QR Code ด้านล่าง\n",
       "- ภายในวันที่ ๑๒ ก.ค. ๖๗ รายละเอียดเพิ่มเติมประสานได้ที่ ร.ต. คมสันต์ จุลบรมย์ ประจำแผนกแผนและ\n",
       "- โครงการ กพพ.กพ.ทหาร โทร. ๕๗๒๑๑๓๗ โทรศัพท์เคลื่อนที่ ๐๙ ๗๑๔๐ ๖๖๑๕\n",
       "\n",
       "## QR Code/Email\n",
       "\n",
       "## หน่วย\n",
       "- กพ.ทหาร\n",
       "\n",
       "## โทรศัพท์\n",
       "- โทร.ทหาร ๕๗๒๑๑๓๘\n",
       "\n",
       "## ผู้เขียนข่าว\n",
       "- น.อ. วิทยาธีระรัตน์\n",
       "- ผอ.กพพ.กพ.ทหาร/เลขานุการฯ\n",
       "\n",
       "## นายทหารอนุมัติข่าว\n",
       "- พล.ต. (สัมพันธ์ รงค์เจริญ)\n",
       "- รอง จก.กพ.ทหาร ทำการแทน</div>\n",
       "        </details>\n",
       "        <details>\n",
       "            <summary>คลิกเพื่อดู Ground Truth</summary>\n",
       "            <div style=\"background-color:#e6f7ff; border:1px solid #b3e0ff; padding:10px; margin-top:5px; white-space: pre-wrap; word-wrap: break-word;\">กระดาษเขียนข่าวร่วม (ทท.)\n",
       "\n",
       "ลำดับความเร่งด่วน: ด่วนมาก\n",
       "ชั้นความลับ: -\n",
       "หมู่ - วัน - เวลา: ๐๕๑๕๕๐ ก.ค. ๖๗\n",
       "หน้าที่: ๑ ของ ๑ หน้า\n",
       "ที่ของผู้ให้ข่าว: ที่ ๗/๒๕๖๗\n",
       "จาก: คณะกรรมการจัดการความรู้ของ บก.ทท.\n",
       "ถึง ผู้รับปฏิบัติ: สน.บก.บก.ทท., สลก.บก.ทท., สจร.ทหาร, สตน.ทหาร, สสก.ทหาร, สยย.ทหาร, ศปร., ศซบ.ทหาร, สธน.ทหาร, ขว.ทหาร, ยก.ทหาร, กบ.ทหาร, กร.ทหาร, สส.ทหาร, สปช.ทหาร, นทพ., ศรภ., ศตก., สบ.ทหาร, กง.ทหาร, ผท.ทหาร, ยบ.ทหาร, ชด.ทหาร, บก.สปท., วปอ.สปท., วสท.สปท., สจว.สปท., ศศย.สปท., สศท.สปท., รร.ตท.สปท. และ รร.ชท.สปท.\n",
       "ผู้รับทราบ: -\n",
       "\n",
       "๑. อ้างถึง ข่าว (ทท.) คณะกรรมการจัดการความรู้ของ บก.ทท. ที่ ๖/๒๕๖๗ ลง ๑๙ มิ.ย. ๖๗\n",
       "๒. ตามข้อ ๑ กพ.ทหาร/ฝ่ายเลขานุการคณะกรรมการจัดการความรู้ของ บก.ทท. ขอให้หน่วยส่งผลงานการจัดการความรู้ฉบับสมบูรณ์ พร้อมทั้งรูปแบบไฟล์ PDF และสื่อประกอบการบรรยายและอธิบายรายละเอียดกระบวนการจัดการความรู้ ๗ ขั้นตอน สำหรับการประเมิลผลการจัดการความรู้ฯ\n",
       "๓. กพ.ทหาร/ฝ่ายเลขานุการฯ กำหนดจัดการประชุมเชิงปฏิบัติการ การนำเสนอและคัดเลือกผลงานการจัดการความรู้ของส่วนราชการ บก.ทท. ประจำปีงบประมาณ พ.ศ. ๒๕๖๗ (รอบแรก) เพื่อรับการประเมินผลการจัดการความรู้ฯ ระหว่าง ๑๖-๑๙ ก.ค. ๖๗ ณ ห้องประชุม ๓ ขว.ทหาร ชั้น ๒ อาคาร ๓ บก.ทท. (แจ้งวัฒนะ) กำหนดการตามแนบ ในการนี้ ขอให้หน่วยกรุณาจัดผู้รับผิดชอบด้านการจัดการความรู้ของหน่วย เข้าร่วมการประชุมเชิงปฏิบัติการฯ โดยขอให้แจ้งรายชื่อผู้เข้าร่วมประชุมฯ ทาง QR Code ด้านล่าง ภายในวันที่ ๑๒ ก.ค. ๖๗ รายละเอียดเพิ่มเติมประสานได้ที่ ร.ต. คมสันต์ จุลบุรมย์ ประจำแผนกแผนและโครงการ กพพ.กพ.ทหาร โทร.ทหาร ๕๗๒๑๑๓๗ โทรศัพท์เคลื่อนที่ ๐๙ ๗๑๔๐ ๖๖๑๕\n",
       "\n",
       "ผู้เขียนข่าว: น.อ. (ณัฐพงศ์ วิทยาธีรรัตน์) ผอ.กพพ.กพ.ทหาร/เลขานุการฯ\n",
       "นายทหารอนุมัติข่าว: พล.ต. (สัมพันธ์ รงศ์จำเริญ) รอง จก.กพ.ทหาร ทำการแทน จก.กพ.ทหาร</div>\n",
       "        </details>\n",
       "        "
      ],
      "text/plain": [
       "<IPython.core.display.HTML object>"
      ]
     },
     "metadata": {},
     "output_type": "display_data"
    }
   ],
   "source": [
    "# Focus on Raw OCR-Public Board\n",
    "\n",
    "pdf_files = sorted(list(PDF_BOARD_DIR.glob(\"*.pdf\")))\n",
    "\n",
    "if not pdf_files:\n",
    "    display(Markdown(f\"<font color='red'>**ไม่พบไฟล์ PDF ในโฟลเดอร์ `{PDF_BOARD_DIR}` กรุณาตรวจสอบว่า Path ถูกต้อง**</font>\"))\n",
    "else:\n",
    "    display(Markdown(f\"### 🚀 เริ่มการทดสอบระบบ OCR กับไฟล์ทั้งหมด {len(pdf_files)} ไฟล์\"))\n",
    "    \n",
    "    results_list = []\n",
    "    \n",
    "    for pdf_path in tqdm(pdf_files, desc=\"กำลังประมวลผลไฟล์\"):\n",
    "\n",
    "        # run OCR\n",
    "        ocr_result, exec_time = run_typhoon_ocr(pdf_path)\n",
    "        raw_ocr_text = ocr_result.get(\"text\", \"\")\n",
    "        \n",
    "        # load Ground Truth\n",
    "        pdf_stem = pdf_path.stem\n",
    "        gt_path = GROUND_TRUTH_DIR / f\"{pdf_stem}.txt\"\n",
    "        print(f\"   - PDF Stem: '{pdf_stem}'\")\n",
    "        print(f\"   - กำลังมองหา Ground Truth ที่: '{gt_path}'\")\n",
    "        \n",
    "        ground_truth_text = \"\"\n",
    "        if gt_path.is_file():\n",
    "            print(f\"   - ✅ พบไฟล์ Ground Truth!\")\n",
    "            try:\n",
    "                ground_truth_text = gt_path.read_text(encoding=\"utf-8\").strip()\n",
    "                if ground_truth_text:\n",
    "                    print(f\"     - SUCCESS: อ่านเนื้อหาสำเร็จ มี {len(ground_truth_text)} ตัวอักษร\")\n",
    "                else:\n",
    "                    print(f\"     - WARNING: อ่านไฟล์สำเร็จ แต่ไฟล์ว่างเปล่า!\")\n",
    "            except Exception as e:\n",
    "                print(f\"     - ❌ ERROR: เกิดข้อผิดพลาดในการอ่านไฟล์: {e}\")\n",
    "        else:\n",
    "            print(f\"   - ❌ ไม่พบไฟล์ Ground Truth\")\n",
    "        \n",
    "        # Metrics Calculation\n",
    "        metrics = calculate_metrics(raw_ocr_text, ground_truth_text)\n",
    "\n",
    "        results_list.append({\n",
    "            \"File\": pdf_path.name,\n",
    "            \"Time (s)\": exec_time,\n",
    "            \"WER\": metrics.get('wer'), \n",
    "            \"CER\": metrics.get('cer'), \n",
    "            \"Raw OCR Text\": raw_ocr_text,\n",
    "            \"Ground Truth Text\": ground_truth_text \n",
    "        })\n",
    "        \n",
    "\n",
    "    df_results = pd.DataFrame(results_list)\n",
    "\n",
    "    df_results[\"WAcc\"] = 1 - df_results[\"WER\"].fillna(1) # ถ้า WER เป็น None ให้ถือว่า Error 100%\n",
    "    df_results[\"CAcc\"] = 1 - df_results[\"CER\"].fillna(1) # ถ้า CER เป็น None ให้ถือว่า Error 100%\n",
    "    display(Markdown(f\"<hr>\"))\n",
    "    display(Markdown(f\"### 📊 ตารางสรุปผลการทดสอบ (Raw OCR Accuracy)\"))\n",
    "\n",
    "    display_cols = [\"File\", \"Time (s)\", \"CER\", \"WER\", \"CAcc\", \"WAcc\"]\n",
    "\n",
    "    def safe_percent_format(val):\n",
    "        if isinstance(val, (int, float)) and pd.notna(val):\n",
    "            return f\"{val:.2%}\"\n",
    "        return \"N/A\"\n",
    "\n",
    "    has_numeric_metrics = pd.to_numeric(df_results[\"CER\"], errors='coerce').notna().any()\n",
    "\n",
    "    styler = df_results[display_cols].style.format({\n",
    "        \"Time (s)\": \"{:.2f}\",\n",
    "        \"CER\": safe_percent_format,\n",
    "        \"WER\": safe_percent_format,\n",
    "        \"CAcc\": safe_percent_format,\n",
    "        \"WAcc\": safe_percent_format,\n",
    "    }).set_properties(**{'text-align': 'left'}).set_table_styles(\n",
    "        [dict(selector='th', props=[('text-align', 'left')])]\n",
    "    )\n",
    "\n",
    "    if has_numeric_metrics:\n",
    "        styler.background_gradient(cmap='RdYlGn_r', subset=[\"CER\", \"WER\"])\n",
    "        styler.background_gradient(cmap='YlGn', subset=[\"CAcc\", \"WAcc\"])\n",
    "    \n",
    "    display(styler)\n",
    "    display(Markdown(f\"### 📈 ค่าเฉลี่ยรวม\"))\n",
    "    \n",
    "    avg_metrics = df_results[[\"Time (s)\", \"CAcc\", \"WAcc\"]].mean()\n",
    "\n",
    "    display(Markdown(f\"- **เวลาประมวลผลเฉลี่ย:** `{avg_metrics['Time (s)']:.2f}` วินาที/ไฟล์\"))\n",
    "    if pd.notna(avg_metrics['CAcc']):\n",
    "        display(Markdown(f\"- **Character Accuracy (CAcc) เฉลี่ย:** `{avg_metrics['CAcc']:.2%}`\"))\n",
    "        display(Markdown(f\"- **Word Accuracy (WAcc) เฉลี่ย:** `{avg_metrics['WAcc']:.2%}`\"))\n",
    "    else:\n",
    "        display(Markdown(f\"- **Accuracy:** `N/A (ไม่มีข้อมูล Ground Truth)`\"))\n",
    "\n",
    "    # OCR Result Display\n",
    "    display(Markdown(f\"<hr>\"))\n",
    "    display(Markdown(f\"### 📝 ผลลัพธ์เปรียบเทียบ (Raw OCR vs Ground Truth)\"))\n",
    "    \n",
    "    for _, row in df_results.iterrows():\n",
    "        display(Markdown(f\"---\"))\n",
    "        display(Markdown(f\"#### 📄 **ไฟล์:** `{row['File']}`\"))\n",
    "\n",
    "        html_output = f\"\"\"\n",
    "        <details>\n",
    "            <summary>คลิกเพื่อดูผลลัพธ์ Raw OCR</summary>\n",
    "            <div style=\"background-color:#f7f7f7; border:1px solid #ddd; padding:10px; margin-top:10px; white-space: pre-wrap; word-wrap: break-word;\">{row['Raw OCR Text']}</div>\n",
    "        </details>\n",
    "        <details>\n",
    "            <summary>คลิกเพื่อดู Ground Truth</summary>\n",
    "            <div style=\"background-color:#e6f7ff; border:1px solid #b3e0ff; padding:10px; margin-top:5px; white-space: pre-wrap; word-wrap: break-word;\">{row['Ground Truth Text']}</div>\n",
    "        </details>\n",
    "        \"\"\"\n",
    "        display(HTML(html_output))"
   ]
  },
  {
   "cell_type": "code",
   "execution_count": 6,
   "id": "d0bc2299",
   "metadata": {},
   "outputs": [
    {
     "data": {
      "text/markdown": [
       "### 🚀 เริ่มการทดสอบระบบ OCR กับไฟล์ทั้งหมด 10 ไฟล์"
      ],
      "text/plain": [
       "<IPython.core.display.Markdown object>"
      ]
     },
     "metadata": {},
     "output_type": "display_data"
    },
    {
     "data": {
      "application/vnd.jupyter.widget-view+json": {
       "model_id": "4296aa65b280410ebf42ff434876b3f3",
       "version_major": 2,
       "version_minor": 0
      },
      "text/plain": [
       "กำลังประมวลผลไฟล์:   0%|          | 0/10 [00:00<?, ?it/s]"
      ]
     },
     "metadata": {},
     "output_type": "display_data"
    },
    {
     "name": "stdout",
     "output_type": "stream",
     "text": [
      "   - ✅ พบไฟล์ Ground Truth!\n",
      "     - SUCCESS: อ่านเนื้อหาสำเร็จ มี 1537 ตัวอักษร\n",
      "   - ✅ พบไฟล์ Ground Truth!\n",
      "     - SUCCESS: อ่านเนื้อหาสำเร็จ มี 1468 ตัวอักษร\n",
      "   - ✅ พบไฟล์ Ground Truth!\n",
      "     - SUCCESS: อ่านเนื้อหาสำเร็จ มี 1564 ตัวอักษร\n",
      "   - ✅ พบไฟล์ Ground Truth!\n",
      "     - SUCCESS: อ่านเนื้อหาสำเร็จ มี 2846 ตัวอักษร\n",
      "   - ✅ พบไฟล์ Ground Truth!\n",
      "     - SUCCESS: อ่านเนื้อหาสำเร็จ มี 1835 ตัวอักษร\n",
      "   - ✅ พบไฟล์ Ground Truth!\n",
      "     - SUCCESS: อ่านเนื้อหาสำเร็จ มี 1537 ตัวอักษร\n",
      "   - ✅ พบไฟล์ Ground Truth!\n",
      "     - SUCCESS: อ่านเนื้อหาสำเร็จ มี 1539 ตัวอักษร\n",
      "   - ✅ พบไฟล์ Ground Truth!\n",
      "     - SUCCESS: อ่านเนื้อหาสำเร็จ มี 1364 ตัวอักษร\n",
      "   - ✅ พบไฟล์ Ground Truth!\n",
      "     - SUCCESS: อ่านเนื้อหาสำเร็จ มี 2069 ตัวอักษร\n",
      "   - ✅ พบไฟล์ Ground Truth!\n",
      "     - SUCCESS: อ่านเนื้อหาสำเร็จ มี 1612 ตัวอักษร\n"
     ]
    },
    {
     "data": {
      "text/markdown": [
       "<hr>"
      ],
      "text/plain": [
       "<IPython.core.display.Markdown object>"
      ]
     },
     "metadata": {},
     "output_type": "display_data"
    },
    {
     "data": {
      "text/markdown": [
       "### 📊 ตารางสรุปผลการทดสอบ"
      ],
      "text/plain": [
       "<IPython.core.display.Markdown object>"
      ]
     },
     "metadata": {},
     "output_type": "display_data"
    },
    {
     "data": {
      "text/html": [
       "<style type=\"text/css\">\n",
       "#T_8e161 th {\n",
       "  text-align: left;\n",
       "}\n",
       "#T_8e161_row0_col0, #T_8e161_row0_col1, #T_8e161_row1_col0, #T_8e161_row1_col1, #T_8e161_row2_col0, #T_8e161_row2_col1, #T_8e161_row3_col0, #T_8e161_row3_col1, #T_8e161_row4_col0, #T_8e161_row4_col1, #T_8e161_row5_col0, #T_8e161_row5_col1, #T_8e161_row6_col0, #T_8e161_row6_col1, #T_8e161_row7_col0, #T_8e161_row7_col1, #T_8e161_row8_col0, #T_8e161_row8_col1, #T_8e161_row9_col0, #T_8e161_row9_col1 {\n",
       "  text-align: left;\n",
       "}\n",
       "#T_8e161_row0_col2 {\n",
       "  background-color: #75c465;\n",
       "  color: #000000;\n",
       "  text-align: left;\n",
       "}\n",
       "#T_8e161_row0_col3 {\n",
       "  background-color: #fed481;\n",
       "  color: #000000;\n",
       "  text-align: left;\n",
       "}\n",
       "#T_8e161_row0_col4 {\n",
       "  background-color: #1c7e40;\n",
       "  color: #f1f1f1;\n",
       "  text-align: left;\n",
       "}\n",
       "#T_8e161_row0_col5 {\n",
       "  background-color: #acdd8e;\n",
       "  color: #000000;\n",
       "  text-align: left;\n",
       "}\n",
       "#T_8e161_row1_col2 {\n",
       "  background-color: #3ca959;\n",
       "  color: #f1f1f1;\n",
       "  text-align: left;\n",
       "}\n",
       "#T_8e161_row1_col3 {\n",
       "  background-color: #d7ee8a;\n",
       "  color: #000000;\n",
       "  text-align: left;\n",
       "}\n",
       "#T_8e161_row1_col4 {\n",
       "  background-color: #066d39;\n",
       "  color: #f1f1f1;\n",
       "  text-align: left;\n",
       "}\n",
       "#T_8e161_row1_col5 {\n",
       "  background-color: #4ab062;\n",
       "  color: #f1f1f1;\n",
       "  text-align: left;\n",
       "}\n",
       "#T_8e161_row2_col2 {\n",
       "  background-color: #6bbf64;\n",
       "  color: #000000;\n",
       "  text-align: left;\n",
       "}\n",
       "#T_8e161_row2_col3 {\n",
       "  background-color: #c9e881;\n",
       "  color: #000000;\n",
       "  text-align: left;\n",
       "}\n",
       "#T_8e161_row2_col4 {\n",
       "  background-color: #177b3f;\n",
       "  color: #f1f1f1;\n",
       "  text-align: left;\n",
       "}\n",
       "#T_8e161_row2_col5 {\n",
       "  background-color: #3fa95c;\n",
       "  color: #f1f1f1;\n",
       "  text-align: left;\n",
       "}\n",
       "#T_8e161_row3_col2, #T_8e161_row3_col3 {\n",
       "  background-color: #006837;\n",
       "  color: #f1f1f1;\n",
       "  text-align: left;\n",
       "}\n",
       "#T_8e161_row3_col4, #T_8e161_row3_col5 {\n",
       "  background-color: #004529;\n",
       "  color: #f1f1f1;\n",
       "  text-align: left;\n",
       "}\n",
       "#T_8e161_row4_col2 {\n",
       "  background-color: #fff6b0;\n",
       "  color: #000000;\n",
       "  text-align: left;\n",
       "}\n",
       "#T_8e161_row4_col3 {\n",
       "  background-color: #fece7c;\n",
       "  color: #000000;\n",
       "  text-align: left;\n",
       "}\n",
       "#T_8e161_row4_col4 {\n",
       "  background-color: #84cb7e;\n",
       "  color: #000000;\n",
       "  text-align: left;\n",
       "}\n",
       "#T_8e161_row4_col5 {\n",
       "  background-color: #b1df90;\n",
       "  color: #000000;\n",
       "  text-align: left;\n",
       "}\n",
       "#T_8e161_row5_col2 {\n",
       "  background-color: #7ac665;\n",
       "  color: #000000;\n",
       "  text-align: left;\n",
       "}\n",
       "#T_8e161_row5_col3 {\n",
       "  background-color: #eff8aa;\n",
       "  color: #000000;\n",
       "  text-align: left;\n",
       "}\n",
       "#T_8e161_row5_col4 {\n",
       "  background-color: #1e8041;\n",
       "  color: #f1f1f1;\n",
       "  text-align: left;\n",
       "}\n",
       "#T_8e161_row5_col5 {\n",
       "  background-color: #66bd70;\n",
       "  color: #f1f1f1;\n",
       "  text-align: left;\n",
       "}\n",
       "#T_8e161_row6_col2, #T_8e161_row6_col3 {\n",
       "  background-color: #a50026;\n",
       "  color: #f1f1f1;\n",
       "  text-align: left;\n",
       "}\n",
       "#T_8e161_row6_col4, #T_8e161_row6_col5 {\n",
       "  background-color: #ffffe5;\n",
       "  color: #000000;\n",
       "  text-align: left;\n",
       "}\n",
       "#T_8e161_row7_col2 {\n",
       "  background-color: #f67c4a;\n",
       "  color: #f1f1f1;\n",
       "  text-align: left;\n",
       "}\n",
       "#T_8e161_row7_col3 {\n",
       "  background-color: #f26841;\n",
       "  color: #f1f1f1;\n",
       "  text-align: left;\n",
       "}\n",
       "#T_8e161_row7_col4 {\n",
       "  background-color: #dff3a8;\n",
       "  color: #000000;\n",
       "  text-align: left;\n",
       "}\n",
       "#T_8e161_row7_col5 {\n",
       "  background-color: #e7f6ad;\n",
       "  color: #000000;\n",
       "  text-align: left;\n",
       "}\n",
       "#T_8e161_row8_col2 {\n",
       "  background-color: #39a758;\n",
       "  color: #f1f1f1;\n",
       "  text-align: left;\n",
       "}\n",
       "#T_8e161_row8_col3 {\n",
       "  background-color: #e3f399;\n",
       "  color: #000000;\n",
       "  text-align: left;\n",
       "}\n",
       "#T_8e161_row8_col4 {\n",
       "  background-color: #056c39;\n",
       "  color: #f1f1f1;\n",
       "  text-align: left;\n",
       "}\n",
       "#T_8e161_row8_col5 {\n",
       "  background-color: #58b669;\n",
       "  color: #f1f1f1;\n",
       "  text-align: left;\n",
       "}\n",
       "#T_8e161_row9_col2 {\n",
       "  background-color: #1e9a51;\n",
       "  color: #f1f1f1;\n",
       "  text-align: left;\n",
       "}\n",
       "#T_8e161_row9_col3 {\n",
       "  background-color: #b7e075;\n",
       "  color: #000000;\n",
       "  text-align: left;\n",
       "}\n",
       "#T_8e161_row9_col4 {\n",
       "  background-color: #006335;\n",
       "  color: #f1f1f1;\n",
       "  text-align: left;\n",
       "}\n",
       "#T_8e161_row9_col5 {\n",
       "  background-color: #379e54;\n",
       "  color: #f1f1f1;\n",
       "  text-align: left;\n",
       "}\n",
       "</style>\n",
       "<table id=\"T_8e161\">\n",
       "  <thead>\n",
       "    <tr>\n",
       "      <th class=\"blank level0\" >&nbsp;</th>\n",
       "      <th id=\"T_8e161_level0_col0\" class=\"col_heading level0 col0\" >File</th>\n",
       "      <th id=\"T_8e161_level0_col1\" class=\"col_heading level0 col1\" >Time (s)</th>\n",
       "      <th id=\"T_8e161_level0_col2\" class=\"col_heading level0 col2\" >CER (After)</th>\n",
       "      <th id=\"T_8e161_level0_col3\" class=\"col_heading level0 col3\" >WER (After)</th>\n",
       "      <th id=\"T_8e161_level0_col4\" class=\"col_heading level0 col4\" >CAcc (After)</th>\n",
       "      <th id=\"T_8e161_level0_col5\" class=\"col_heading level0 col5\" >WAcc (After)</th>\n",
       "    </tr>\n",
       "  </thead>\n",
       "  <tbody>\n",
       "    <tr>\n",
       "      <th id=\"T_8e161_level0_row0\" class=\"row_heading level0 row0\" >0</th>\n",
       "      <td id=\"T_8e161_row0_col0\" class=\"data row0 col0\" >002-2.pdf</td>\n",
       "      <td id=\"T_8e161_row0_col1\" class=\"data row0 col1\" >16.52</td>\n",
       "      <td id=\"T_8e161_row0_col2\" class=\"data row0 col2\" >17.50%</td>\n",
       "      <td id=\"T_8e161_row0_col3\" class=\"data row0 col3\" >57.45%</td>\n",
       "      <td id=\"T_8e161_row0_col4\" class=\"data row0 col4\" >82.50%</td>\n",
       "      <td id=\"T_8e161_row0_col5\" class=\"data row0 col5\" >42.55%</td>\n",
       "    </tr>\n",
       "    <tr>\n",
       "      <th id=\"T_8e161_level0_row1\" class=\"row_heading level0 row1\" >1</th>\n",
       "      <td id=\"T_8e161_row1_col0\" class=\"data row1 col0\" >004-2.pdf</td>\n",
       "      <td id=\"T_8e161_row1_col1\" class=\"data row1 col1\" >11.88</td>\n",
       "      <td id=\"T_8e161_row1_col2\" class=\"data row1 col2\" >12.03%</td>\n",
       "      <td id=\"T_8e161_row1_col3\" class=\"data row1 col3\" >42.86%</td>\n",
       "      <td id=\"T_8e161_row1_col4\" class=\"data row1 col4\" >87.97%</td>\n",
       "      <td id=\"T_8e161_row1_col5\" class=\"data row1 col5\" >57.14%</td>\n",
       "    </tr>\n",
       "    <tr>\n",
       "      <th id=\"T_8e161_level0_row2\" class=\"row_heading level0 row2\" >2</th>\n",
       "      <td id=\"T_8e161_row2_col0\" class=\"data row2 col0\" >006-2.pdf</td>\n",
       "      <td id=\"T_8e161_row2_col1\" class=\"data row2 col1\" >9.69</td>\n",
       "      <td id=\"T_8e161_row2_col2\" class=\"data row2 col2\" >16.30%</td>\n",
       "      <td id=\"T_8e161_row2_col3\" class=\"data row2 col3\" >41.13%</td>\n",
       "      <td id=\"T_8e161_row2_col4\" class=\"data row2 col4\" >83.70%</td>\n",
       "      <td id=\"T_8e161_row2_col5\" class=\"data row2 col5\" >58.87%</td>\n",
       "    </tr>\n",
       "    <tr>\n",
       "      <th id=\"T_8e161_level0_row3\" class=\"row_heading level0 row3\" >3</th>\n",
       "      <td id=\"T_8e161_row3_col0\" class=\"data row3 col0\" >007-2.pdf</td>\n",
       "      <td id=\"T_8e161_row3_col1\" class=\"data row3 col1\" >22.02</td>\n",
       "      <td id=\"T_8e161_row3_col2\" class=\"data row3 col2\" >1.71%</td>\n",
       "      <td id=\"T_8e161_row3_col3\" class=\"data row3 col3\" >17.20%</td>\n",
       "      <td id=\"T_8e161_row3_col4\" class=\"data row3 col4\" >98.29%</td>\n",
       "      <td id=\"T_8e161_row3_col5\" class=\"data row3 col5\" >82.80%</td>\n",
       "    </tr>\n",
       "    <tr>\n",
       "      <th id=\"T_8e161_level0_row4\" class=\"row_heading level0 row4\" >4</th>\n",
       "      <td id=\"T_8e161_row4_col0\" class=\"data row4 col0\" >014-2.pdf</td>\n",
       "      <td id=\"T_8e161_row4_col1\" class=\"data row4 col1\" >10.10</td>\n",
       "      <td id=\"T_8e161_row4_col2\" class=\"data row4 col2\" >38.70%</td>\n",
       "      <td id=\"T_8e161_row4_col3\" class=\"data row4 col3\" >58.24%</td>\n",
       "      <td id=\"T_8e161_row4_col4\" class=\"data row4 col4\" >61.30%</td>\n",
       "      <td id=\"T_8e161_row4_col5\" class=\"data row4 col5\" >41.76%</td>\n",
       "    </tr>\n",
       "    <tr>\n",
       "      <th id=\"T_8e161_level0_row5\" class=\"row_heading level0 row5\" >5</th>\n",
       "      <td id=\"T_8e161_row5_col0\" class=\"data row5 col0\" >016-2.pdf</td>\n",
       "      <td id=\"T_8e161_row5_col1\" class=\"data row5 col1\" >9.09</td>\n",
       "      <td id=\"T_8e161_row5_col2\" class=\"data row5 col2\" >17.92%</td>\n",
       "      <td id=\"T_8e161_row5_col3\" class=\"data row5 col3\" >46.81%</td>\n",
       "      <td id=\"T_8e161_row5_col4\" class=\"data row5 col4\" >82.08%</td>\n",
       "      <td id=\"T_8e161_row5_col5\" class=\"data row5 col5\" >53.19%</td>\n",
       "    </tr>\n",
       "    <tr>\n",
       "      <th id=\"T_8e161_level0_row6\" class=\"row_heading level0 row6\" >6</th>\n",
       "      <td id=\"T_8e161_row6_col0\" class=\"data row6 col0\" >017-2.pdf</td>\n",
       "      <td id=\"T_8e161_row6_col1\" class=\"data row6 col1\" >6.50</td>\n",
       "      <td id=\"T_8e161_row6_col2\" class=\"data row6 col2\" >71.63%</td>\n",
       "      <td id=\"T_8e161_row6_col3\" class=\"data row6 col3\" >81.75%</td>\n",
       "      <td id=\"T_8e161_row6_col4\" class=\"data row6 col4\" >28.37%</td>\n",
       "      <td id=\"T_8e161_row6_col5\" class=\"data row6 col5\" >18.25%</td>\n",
       "    </tr>\n",
       "    <tr>\n",
       "      <th id=\"T_8e161_level0_row7\" class=\"row_heading level0 row7\" >7</th>\n",
       "      <td id=\"T_8e161_row7_col0\" class=\"data row7 col0\" >018-2.pdf</td>\n",
       "      <td id=\"T_8e161_row7_col1\" class=\"data row7 col1\" >5.81</td>\n",
       "      <td id=\"T_8e161_row7_col2\" class=\"data row7 col2\" >55.81%</td>\n",
       "      <td id=\"T_8e161_row7_col3\" class=\"data row7 col3\" >69.23%</td>\n",
       "      <td id=\"T_8e161_row7_col4\" class=\"data row7 col4\" >44.19%</td>\n",
       "      <td id=\"T_8e161_row7_col5\" class=\"data row7 col5\" >30.77%</td>\n",
       "    </tr>\n",
       "    <tr>\n",
       "      <th id=\"T_8e161_level0_row8\" class=\"row_heading level0 row8\" >8</th>\n",
       "      <td id=\"T_8e161_row8_col0\" class=\"data row8 col0\" >019-2.pdf</td>\n",
       "      <td id=\"T_8e161_row8_col1\" class=\"data row8 col1\" >14.62</td>\n",
       "      <td id=\"T_8e161_row8_col2\" class=\"data row8 col2\" >11.79%</td>\n",
       "      <td id=\"T_8e161_row8_col3\" class=\"data row8 col3\" >44.74%</td>\n",
       "      <td id=\"T_8e161_row8_col4\" class=\"data row8 col4\" >88.21%</td>\n",
       "      <td id=\"T_8e161_row8_col5\" class=\"data row8 col5\" >55.26%</td>\n",
       "    </tr>\n",
       "    <tr>\n",
       "      <th id=\"T_8e161_level0_row9\" class=\"row_heading level0 row9\" >9</th>\n",
       "      <td id=\"T_8e161_row9_col0\" class=\"data row9 col0\" >021-2.pdf</td>\n",
       "      <td id=\"T_8e161_row9_col1\" class=\"data row9 col1\" >11.60</td>\n",
       "      <td id=\"T_8e161_row9_col2\" class=\"data row9 col2\" >9.33%</td>\n",
       "      <td id=\"T_8e161_row9_col3\" class=\"data row9 col3\" >38.81%</td>\n",
       "      <td id=\"T_8e161_row9_col4\" class=\"data row9 col4\" >90.67%</td>\n",
       "      <td id=\"T_8e161_row9_col5\" class=\"data row9 col5\" >61.19%</td>\n",
       "    </tr>\n",
       "  </tbody>\n",
       "</table>\n"
      ],
      "text/plain": [
       "<pandas.io.formats.style.Styler at 0x7fb5dc176610>"
      ]
     },
     "metadata": {},
     "output_type": "display_data"
    },
    {
     "data": {
      "text/markdown": [
       "### 📈 ค่าเฉลี่ยรวม"
      ],
      "text/plain": [
       "<IPython.core.display.Markdown object>"
      ]
     },
     "metadata": {},
     "output_type": "display_data"
    },
    {
     "data": {
      "text/markdown": [
       "- **เวลาประมวลผลเฉลี่ย:** `11.78` วินาที/ไฟล์"
      ],
      "text/plain": [
       "<IPython.core.display.Markdown object>"
      ]
     },
     "metadata": {},
     "output_type": "display_data"
    },
    {
     "data": {
      "text/markdown": [
       "- **Character Accuracy (CAcc) เฉลี่ย:** `74.73%` (ความถูกต้องระดับตัวอักษร)"
      ],
      "text/plain": [
       "<IPython.core.display.Markdown object>"
      ]
     },
     "metadata": {},
     "output_type": "display_data"
    },
    {
     "data": {
      "text/markdown": [
       "- **Word Accuracy (WAcc) เฉลี่ย:** `50.18%` (ความถูกต้องระดับคำ)"
      ],
      "text/plain": [
       "<IPython.core.display.Markdown object>"
      ]
     },
     "metadata": {},
     "output_type": "display_data"
    },
    {
     "data": {
      "text/markdown": [
       "<hr>"
      ],
      "text/plain": [
       "<IPython.core.display.Markdown object>"
      ]
     },
     "metadata": {},
     "output_type": "display_data"
    },
    {
     "data": {
      "text/markdown": [
       "### 📝 ผลลัพธ์ OCR ฉบับเต็ม (เทียบก่อน-หลัง Post-processing)"
      ],
      "text/plain": [
       "<IPython.core.display.Markdown object>"
      ]
     },
     "metadata": {},
     "output_type": "display_data"
    },
    {
     "data": {
      "text/markdown": [
       "---"
      ],
      "text/plain": [
       "<IPython.core.display.Markdown object>"
      ]
     },
     "metadata": {},
     "output_type": "display_data"
    },
    {
     "data": {
      "text/markdown": [
       "#### 📄 **ไฟล์:** `002-2.pdf`"
      ],
      "text/plain": [
       "<IPython.core.display.Markdown object>"
      ]
     },
     "metadata": {},
     "output_type": "display_data"
    },
    {
     "data": {
      "text/html": [
       "\n",
       "        <details>\n",
       "            <summary>คลิกเพื่อดูผลลัพธ์ OCR (Processed Text)</summary>\n",
       "            <div style=\"background-color:#f7f7f7; border:1px solid #ddd; padding:10px; margin-top:10px; white-space: pre-wrap; word-wrap: break-word;\"> กระดาษเขียนข่าวร่วม (ทท.)\n",
       "\n",
       " ลำดับความเร่งด่วนจาก\n",
       "วสท.สปท.\n",
       "\n",
       " ชั้นความลับส่วนราชการใน บก.ทท. และ คกนท.๖๗\n",
       "\n",
       " หมู่วันเวลา๑๙.๐๐ น. ๒๘\n",
       "\n",
       " หน้าที่ ของ จำนวนหน้าที่ของผู้ให้ข่าวกห ๐๓๑๗.๓/ว๕๔\n",
       "\n",
       " ผู้รับทราบสน.ผบ.วสท.สปท., สน.ผบ.สปท., สน.รอง ผบ.สปท., สน.เสธ.สปท.\n",
       "\n",
       " คำแนะนำการดำเนินงาน\n",
       "๑. ตามที่ วสท.สปท. เป็นหน่วยรับผิดชอบจัดการฝึกอบรมหลักสูตรเสนาธิการทหารได้กำหนดไว้ นศ.สธท. จัดทำเอกสารวิจัย ซึ่งเป็นส่วนหนึ่งของหลักสูตร เพื่อใช้ผู้เข้ารับการฝึกอบรมมีความเข้าใจในกระบวนการทำการวิจัยและฝึกฝนความคิดวิเคราะห์อย่างเป็นระบบตลอดจนนำความรู้ไปสู่การหาคำตอบสำหรับการแก้ปัญหาและการพัฒนาองค์กรที่สามารถนำไปใช้ประโยชน์ต่อหน่วยงาน\n",
       "๒. ตามข้อ ๑ วสท.สปท. มีความประสงค์ขอรับทราบความคิดเห็นและข้อเสนอแนะจากส่วนราชการใน บก.ทท. เกี่ยวกับการแสดงออกเนื้อหาสารวิจัยสำหรับ นศ.สธท. รุ่นต่อไป ซึ่งเห็นว่าเหมาะสมและสามารถนำไปใช้เพื่อให้เกิดประโยชน์สูงสุดกับทางหน่วยงานและต่อทางราชการ\n",
       "๓. เพื่อให้การดำเนินการตามข้อ ๒ เป็นไปด้วยความเรียบร้อย จึงขอให้ส่วนราชการใน บก.ทท. ได้พิจารณากำหนดหัวข้อเรื่องที่เห็นว่ามีความสำคัญต่อหน่วยงานและเป็นประโยชน์ต่อ บก.ทท. หรือกองทัพบกไทย ที่ต้องการผ่านระบบออนไลน์ตาม QR Code ด้านล่างภายในวันที่ ๑๕ ส.ค. ๖๗ โดย วสท.สปท. จะนำข้อเสนอและประเด็นต่าง ๆ พิจารณาและนำไปเป็นหัวข้อในการจัดทำเอกสารวิจัยให้นศ.สธท. จัดทำให้สอดคล้องความต้องการของหน่วยต่อไป\n",
       "๔. รายละเอียดเพิ่มเติมประสานได้ที่ น.อ.หญิง ศันสนีย์ นิโรจน์ รอง ผอ.กกว.วสท.สปท. โทร ๐๘ ๔๑๔๖ ๕๔๔๗ Line ID niroj๑๙๖๖\n",
       "\n",
       " QR Code\n",
       " QR Code  หน่วย \n",
       "    \n",
       " ![QR Code]()  วสท.สปท. \n",
       " ![QR Code]()  โทรศัพท์ ๐ ๒๒๗๗ ๓๖๗๕ \n",
       "\n",
       " ผู้เขียนข่าวน.อ. (วรชาติ สิตยเลขา)ผอ.กพน.วสท.สปท.ปฏิบัติ หน้าที่ ผอ.กกว.วสท.สปท.\n",
       "\n",
       " นายทหารอนุมัติข่าวพล.ต. (เทวดไท ทัพธานี)รอง ผบ.วสท.สปท. ทำการแทน ผบ.วสท.สปท.</div>\n",
       "        </details>\n",
       "        "
      ],
      "text/plain": [
       "<IPython.core.display.HTML object>"
      ]
     },
     "metadata": {},
     "output_type": "display_data"
    },
    {
     "data": {
      "text/html": [
       "\n",
       "        <details>\n",
       "            <summary>คลิกเพื่อดู Ground Truth Text</summary>\n",
       "            <div style=\"background-color:#e6ffed; border:1px solid #b7e1cd; padding:10px; margin-top:5px; white-space: pre-wrap; word-wrap: break-word;\">กระดาษเขียนข่าวร่วม (ทท.)\n",
       "\n",
       "ลำดับความเร่งด่วน: -\n",
       "ชั้นความลับ: -\n",
       "หมู่ - วัน - เวลา: ๑๑๑๐๐๐ ส.ค. ๖๗\n",
       "หน้าที่: ๑ ของ ๑ หน้า\n",
       "ที่ของผู้ให้ข่าว: กห ๐๓๑๗.๓/๑๐๘๘\n",
       "จาก: วสท.สปท.\n",
       "ถึง ผู้รับปฏิบัติ: ส่วนราชการใน บก.ทท. และ คกนท.๖๗\n",
       "ผู้รับทราบ: สน.ผบ.วสท.สปท., สน.ผบ.สปท., สน.รอง ผบ.สปท., สน.เสธ.สปท.\n",
       "\n",
       "๑. ตามที่ วสท.สปท. เป็นหน่วยรับผิดชอบจัดการฝึกอบรมหลักสูตรเสนาธิการทหาร ได้กำหนดให้ นศ.สธท. จัดทำเอกสารวิจัย ซึ่งเป็นส่วนหนึ่งของหลักสูตรฯ เพื่อให้ผู้เข้ารับการฝึกอบรมมีความเข้าใจในกระบวนการทำวิจัยและฝึกฝนความคิดวิเคราะห์อย่างเป็นระบบตลอดจนนำความรู้ไปสู่การหาคำตอบ สำหรับการแก้ปัญหาและการพัฒนาองค์กรที่สามารถนำไปใช้ประโยชน์ต่อหน่วยงาน\n",
       "๒. ตามข้อ ๑ วสท.สปท. มีความประสงค์ขอรับทราบความคิดเห็นและข้อเสนอแนะจากส่วนราชการใน บก.ทท. เกี่ยวกับการเสนอเงื่อนไขหัวข้อเอกสารวิจัยสำหรับ นศ.สธท. รุ่นต่อไป ซึ่งเห็นว่าเหมาะสมและสามารถนำไปใช้เพื่อให้เกิดประโยชน์สูงสุดกับทางหน่วยงานและต่อทางราชการ\n",
       "๓. เพื่อให้การดำเนินการตามข้อ ๒ เป็นไปด้วยความเรียบร้อย จึงขอให้ส่วนราชการใน บก.ทท. ได้พิจารณากำหนดหัวข้อเรื่องที่เห็นว่ามีความสำคัญต่อหน่วยงานและเป็นประโยชน์ต่อ บก.ทท. หรือกองทัพไทย ที่ต้องการผ่านระบบออนไลน์ตาม QR Code ด้านล่างภายในวันที่ ๑๕ ส.ค. ๖๗ โดย วสท.สปท. จะนำข้อเสนอและประเด็นต่าง ๆ พิจารณาและนำไปเป็นหัวข้อในการจัดทำเอกสารวิจัยให้ นศ.สธท. จัดทำให้สอดคล้องความต้องการของหน่วยต่อไป\n",
       "๔. รายละเอียดเพิ่มเติมประสานได้ที่ น.อ.หญิง ศันสนีย์ นิโรจน์ รอง ผอ.กวว.วสท.สปท. โทร ๐๘ ๔๑๔๖ ๕๔๔๗ Line ID niroj1966\n",
       "\n",
       "ผู้เขียนข่าว: น.อ. (วรชาติ สัตยเลขา) ผอ.กพผ.วสท.สปท.ปฏิบัติหน้าที่ ผอ.กวว.วสท.สปท.\n",
       "นายทหารอนุมัติข่าว: พล.ต. (เทอดไทย ทัพธานี) รอง ผบ.วสท.สปท. ทำการแทน ผบ.วสท.สปท.</div>\n",
       "        </details>\n",
       "        "
      ],
      "text/plain": [
       "<IPython.core.display.HTML object>"
      ]
     },
     "metadata": {},
     "output_type": "display_data"
    },
    {
     "data": {
      "text/markdown": [
       "---"
      ],
      "text/plain": [
       "<IPython.core.display.Markdown object>"
      ]
     },
     "metadata": {},
     "output_type": "display_data"
    },
    {
     "data": {
      "text/markdown": [
       "#### 📄 **ไฟล์:** `004-2.pdf`"
      ],
      "text/plain": [
       "<IPython.core.display.Markdown object>"
      ]
     },
     "metadata": {},
     "output_type": "display_data"
    },
    {
     "data": {
      "text/html": [
       "\n",
       "        <details>\n",
       "            <summary>คลิกเพื่อดูผลลัพธ์ OCR (Processed Text)</summary>\n",
       "            <div style=\"background-color:#f7f7f7; border:1px solid #ddd; padding:10px; margin-top:10px; white-space: pre-wrap; word-wrap: break-word;\"> กระดาษเชิญข้าวร่วม (ทท.)\n",
       "\n",
       " ลำดับความเร่งด่วนด่วนมาก\n",
       "\n",
       " ชั้นความลับ\n",
       "\n",
       " หมู่วันเวลา๒๓๐๕๔๕ เม.ย. ๖๗\n",
       "\n",
       " หน้าที่ ๑ ของ ๑ หน้าที่ของผู้ให้ข่าวที่ กท ๐๓๐๒/๒๔๖๓\n",
       "\n",
       " จากกพ.ทหาร\n",
       "\n",
       " ถึง ผู้รับปฏิบัติสบ.บก.ทท., สจร.ทหาร, สตน.ทหาร, สธน.ทหาร, สสก.ทหาร, สสย.ทหาร, ศซบ.ทหาร,ขว.ทหาร, ยก.ทหาร, กบ.ทหาร, กร.ทหาร, สส.ทหาร, สปช.ทหาร, นทพ., สบ.ทหาร,กง.ทหาร, ผท.ทหาร, สนพ.ยบ.ทหาร, ยบ.ทหาร, สปท. และ กพ.ทหาร (กพบท.กพ.ทหาร)\n",
       "\n",
       " ผู้รับทราบ\n",
       "\n",
       " รายละเอียด\n",
       "๑. กพ.ทหาร กำหนดจัดการประชุมเชิงปฏิบัติการ การคัดเลือกกำลังพล บก.ทท.. เข้ารับการศึกษาและฝึกอบรมหลักสูตรตามแนวทางสายวิทยาการ ประจำปีงบประมาณ พ.ศ. ๒๕๖๘ ระหว่าง ๒๖, ๒๙-๓๐ เม.ย. ๖๗, ๐๙๓๐-๑๖๐๐ ณ ห้องอเนกประสงค์ กพ.ทหาร ชั้น ๒ อาคาร บก.ทท..\n",
       "\n",
       "๒. วัตถุประสงค์ของการประชุมเชิงปฏิบัติการฯ ตามข้อ ๑ ดังนี้\n",
       "\n",
       "๒.๑ เพื่อให้หน่วยหัวหน้าสายวิทยาการ และ กพ.ทหาร ได้ร่วมกันพิจารณาคัดเลือกกำลังพลเข้ารับการศึกษาและฝึกอบรมฯ ให้สอดคล้องกับหลักเกณฑ์การปรับย้าย และแนวทางการพัฒนากำลังพลตามแนวทางรับราชการของ บก.ทท..\n",
       "\n",
       "๒.๒ ขอให้หน่วยจัดผู้รับผิดชอบในการพิจารณาคัดเลือกกำลังพลเข้ารับการศึกษาและฝึกอบรมหลักสูตรตามแนวทางสายวิทยาการ ประจำปีงบประมาณ พ.ศ. ๒๕๖๘ เข้าร่วมการประชุมเชิงปฏิบัติการฯ ตามวันเวลาที่กำหนด ตามข้อ ๑ จำนวน ๓ นาย โดยกรอกข้อมูลลงในแบบฟอร์ม QR Code ที่แนบและส่งรายชื่อให้ กพ.ทหาร ภายในวันที่ ๒๔ เม.ย. ๖๗\n",
       "\n",
       "๓. รายละเอียดเพิ่มเติมประสานได้ที่ น.ท.หญิง ฉนาภาดา มะโนแจ่ม ร.น. ทน.พัฒนากำลังพล กพพ.กพ.ทหาร โทร.ทหาร ๕๗๒๑๑๓๗\n",
       "\n",
       " QR Code/Email\n",
       " หน่วย  ผู้เขียนข่าว  นายทหารอนุมัติข่าว \n",
       "      \n",
       " กพพ.กพ.ทหาร  น.อ.  พล.ต. \n",
       " โทรศัพท์ โทร.ทหาร ๕๗๒๑๑๓๗ โทรสาร ๐ ๒๕๗๕ ๖๐๗๖  (ณัฐพงศ์ วิทยาวิธีรัตน์) ผอ.กพพ.กพ.ทหาร  (สัมพันธ์ รงค์จำเริญ) รอง จน.กพ.ทหาร ทำการแทน จน.กพ.ทหาร </div>\n",
       "        </details>\n",
       "        "
      ],
      "text/plain": [
       "<IPython.core.display.HTML object>"
      ]
     },
     "metadata": {},
     "output_type": "display_data"
    },
    {
     "data": {
      "text/html": [
       "\n",
       "        <details>\n",
       "            <summary>คลิกเพื่อดู Ground Truth Text</summary>\n",
       "            <div style=\"background-color:#e6ffed; border:1px solid #b7e1cd; padding:10px; margin-top:5px; white-space: pre-wrap; word-wrap: break-word;\">กระดาษเขียนข่าวร่วม (ทท.)\n",
       "\n",
       "ลำดับความเร่งด่วน: ด่วนมาก\n",
       "ชั้นความลับ: -\n",
       "หมู่ - วัน - เวลา: ๒๓๐๙๔๕ เม.ย. ๖๗\n",
       "หน้าที่: ๑ ของ ๑ หน้า\n",
       "ที่ของผู้ให้ข่าว: ที่ กห ๐๓๐๒/๒๔๖๓\n",
       "จาก: กพ.ทหาร\n",
       "ถึง ผู้รับปฏิบัติ: สน.บก.บก.ทท., สจร.ทหาร, สตน.ทหาร, สธน.ทหาร, สสก.ทหาร, สยย.ทหาร, ศซบ.ทหาร, ขว.ทหาร, ยก.ทหาร, กบ.ทหาร, กร.ทหาร, สส.ทหาร, สปช.ทหาร, นทพ., สบ.ทหาร, กง.ทหาร, ผท.ทหาร, สนพ.ยบ.ทหาร, ยบ.ทหาร, สปท. และ กพ.ทหาร (กพบท.กพ.ทหาร)\n",
       "ผู้รับทราบ: -\n",
       "\n",
       "๑. กพ.ทหาร กำหนดจัดการประชุมเชิงปฏิบัติการ การคัดเลือกกำลังพล บก.ทท. เข้ารับการศึกษาและฝึกอบรมหลักสูตรตามแนวทางสายวิทยาการ ประจำปีงบประมาณ พ.ศ. ๒๕๖๘ ระหว่าง ๒๖, ๒๙-๓๐ เม.ย. ๖๗, ๐๙๓๐-๑๖๐๐ ณ ห้องอเนกประสงค์ กพ.ทหาร ชั้น ๒ อาคาร บก.ทท.\n",
       "๒. วัตถุประสงค์ของการประชุมเชิงปฏิบัติการฯ ตามข้อ ๑ ดังนี้\n",
       "    ๒.๑ เพื่อให้หน่วยหัวหน้าสายวิทยาการ และ กพ.ทหาร ได้ร่วมกันพิจารณาคัดเลือกกำลังพลเข้ารับการศึกษาและฝึกอบรมฯ ให้สอดคล้องกับหลักเกณฑ์การปรับย้าย และแนวทางการพัฒนากำลังพลตามแนวทางรับราชการของ บก.ทท.\n",
       "    ๒.๒ ขอให้หน่วยจัดผู้รับผิดชอบในการพิจารณาคัดเลือกกำลังพลเข้ารับการศึกษาและฝึกอบรมหลักสูตรตามแนวทางสายวิทยาการ ประจำปีงบประมาณ พ.ศ. ๒๕๖๘ เข้าร่วมการประชุมเชิงปฏิบัติการฯ ตามวัน เวลาที่กำหนด ตามข้อ ๑ จำนวน ๓ นาย โดยกรอกข้อมูลลงในแบบฟอร์ม QR Code ที่แนบและส่งรายชื่อให้ กพ.ทหาร ภายในวันที่ ๒๔ เม.ย. ๖๗\n",
       "๓. รายละเอียดเพิ่มเติมประสานได้ที่ น.ท.หญิง ณภาดา มะโนแจ่ม ร.น. หน.พัฒนากำลังพล กพพ.กพ.ทหาร โทร.ทหาร ๕๗๒๑๑๓๗\n",
       "\n",
       "ผู้เขียนข่าว: น.อ. (ณัฐพงศ์ วิทยาธีรรัตน์) ผอ.กพพ.กพ.ทหาร\n",
       "นายทหารอนุมัติข่าว: พล.ต. (สัมพันธ์ รงศ์จำเริญ) รอง จก.กพ.ทหาร ทำการแทน จก.กพ.ทหาร</div>\n",
       "        </details>\n",
       "        "
      ],
      "text/plain": [
       "<IPython.core.display.HTML object>"
      ]
     },
     "metadata": {},
     "output_type": "display_data"
    },
    {
     "data": {
      "text/markdown": [
       "---"
      ],
      "text/plain": [
       "<IPython.core.display.Markdown object>"
      ]
     },
     "metadata": {},
     "output_type": "display_data"
    },
    {
     "data": {
      "text/markdown": [
       "#### 📄 **ไฟล์:** `006-2.pdf`"
      ],
      "text/plain": [
       "<IPython.core.display.Markdown object>"
      ]
     },
     "metadata": {},
     "output_type": "display_data"
    },
    {
     "data": {
      "text/html": [
       "\n",
       "        <details>\n",
       "            <summary>คลิกเพื่อดูผลลัพธ์ OCR (Processed Text)</summary>\n",
       "            <div style=\"background-color:#f7f7f7; border:1px solid #ddd; padding:10px; margin-top:10px; white-space: pre-wrap; word-wrap: break-word;\"> กระดาษเขียนข่าวร่วม (ทท.)\n",
       "\n",
       " ลำดับความเร่งด่วนด่วนมาก\n",
       "\n",
       " ชั้นความลับ\n",
       "\n",
       " หมู่วันเวลา๑๙.๐๐ น.\n",
       "\n",
       " หน้าที่ ๑ ของ ๑ หน้าที่ของผู้ให้ข่าวที่ ๑๐/๒๕๖๗\n",
       "\n",
       " จากคณะกรรมการจัดการความรู้ของ บก.ทท.\n",
       "\n",
       " ถึง ผู้รับปฏิบัติสน.บก.บก.ทท., สจร.ทหาร, สสก.ทหาร, สย.ทหาร, ศปร., ศชป.ทหาร, สธน.ทหาร,ขว.ทหาร, ยก.ทหาร, กบ.ทหาร, กร.ทหาร, ศรภ., ศตก., กง.ทหาร, ผท.ทหาร,ชด.ทหาร, บก.สปท., วปอ.สปท., วสท.สปท., สจว.สปท., ศคย.สปท., สศท.สปท., และ รร.ชท.สปท.\n",
       "\n",
       " ผู้รับทราบ\n",
       "\n",
       " รายละเอียด๑. กพ.ทหาร/ฝ่ายเลขานุการคณะกรรมการจัดการความรู้ของ บก.ทท. ขอแจ้งผลการนำเสนอและคัดเลือกผลงานการจัดการความรู้ของส่วนราชการใน บก.ทท. ประจำปีงบประมาณ พ.ศ. ๒๕๖๗ (รอบแรก) โดยมีหน่วยที่ได้รับผลการประเมินสูงสุดและเข้าร่วมการนำเสนอผลงานคุณภาพหรือนวัตกรรมการจัดการความรู้ของส่วนราชการ บก.ทท. ประจำปีงบประมาณ พ.ศ. ๒๕๖๗ (รอบสุดท้าย) ในวันที่ ๒ ก.ย. ๖๗ ณ สมัชชาวาณิช ห้องประชุม ร.ต. สำหรับ ๔ หน่วย ได้แก่ สลก.บก.ทท., สตน.ทหาร, กพ.ทหาร, สปช.ทหาร, สส.ทหาร, สนท., สป.ทหาร, ยบ.ทหาร, และ รร.ต.ท.สปท.๒. เพื่อให้ดำเนินการนำเสนอผลงานคุณภาพหรือนวัตกรรมการจัดการความรู้ของส่วนราชการ บก.ทท. ประจำปีงบประมาณ พ.ศ. ๒๕๖๗ (รอบสุดท้าย) เป็นไปด้วยความเรียบร้อย กพ.ทหาร/ฝ่ายเลขานุการฯ ขอให้หน่วยส่งเล่มคู่มือและไฟล์คู่มือ ฉบับสมบูรณ์ ตามที่คณะกรรมการฯ ให้คำแนะนำ ภายในวันที่ ๑๕ ส.ค. ๖๗ เพื่อใช้ประกอบการจัดงานแสดงผลงานการจัดการความรู้ฯ ในวันที่ ๒ ก.ย. ๖๗๓. รายละเอียดเพิ่มเติมประสานได้ที่ ร.ต. คมสันต์ จุลบรมย์ ประจำแผนกแผนและโครงการ กพ.พ. กพ.ทหาร โทร. ๕๗๒๑๑๓๗ โทรศัพท์เคลื่อนที่ ๐๙ ๗๑๔๐ ๖๖๑๕</div>\n",
       "        </details>\n",
       "        "
      ],
      "text/plain": [
       "<IPython.core.display.HTML object>"
      ]
     },
     "metadata": {},
     "output_type": "display_data"
    },
    {
     "data": {
      "text/html": [
       "\n",
       "        <details>\n",
       "            <summary>คลิกเพื่อดู Ground Truth Text</summary>\n",
       "            <div style=\"background-color:#e6ffed; border:1px solid #b7e1cd; padding:10px; margin-top:5px; white-space: pre-wrap; word-wrap: break-word;\">กระดาษเขียนข่าวร่วม (ทท.)\n",
       "\n",
       "ลำดับความเร่งด่วน: ด่วนมาก\n",
       "ชั้นความลับ: -\n",
       "หมู่ - วัน - เวลา: ๐๘๐๘๓๐ ส.ค. ๖๗\n",
       "หน้าที่: ๑ ของ ๑ หน้า\n",
       "ที่ของผู้ให้ข่าว: ที่ ๑๐/๒๕๖๗\n",
       "จาก: คณะกรรมการจัดการความรู้ของ บก.ทท.\n",
       "ถึง ผู้รับปฏิบัติ: สน.บก.บก.ทท., สจร.ทหาร, สสก.ทหาร, สยย.ทหาร, ศปร., ศซบ.ทหาร, สธน.ทหาร, ขว.ทหาร, ยก.ทหาร, กบ.ทหาร, กร.ทหาร, ศรภ., ศตก., กง.ทหาร, ผท.ทหาร, ชด.ทหาร, บก.สปท., วปอ.สปท., วสท.สปท., สจว.สปท., ศศย.สปท., สศท.สปท., และ รร.ชท.สปท.\n",
       "ผู้รับทราบ: -\n",
       "\n",
       "๑. กพ.ทหาร/ฝ่ายเลขานุการคณะกรรมการจัดการความรู้ของ บก.ทท. ขอแจ้งผลการนำเสนอและคัดเลือกผลงานการจัดการความรู้ของส่วนราชการใน บก.ทท. ประจำปีงบประมาณ พ.ศ. ๒๕๖๗ (รอบแรก) โดยมีหน่วยที่ได้รับผลการประเมินสูงสุดและเข้าร่วมการนำเสนอผลงานคุณภาพหรือนวัตกรรมการจัดการความรู้ของส่วนราชการ บก.ทท. ประจำปีงบประมาณ พ.ศ. ๒๕๖๗ (รอบสุดท้าย) ในวันที่ ๒ ก.ย. ๖๗ ณ สโมสร บก.ทท. จำนวน ๙ หน่วย ได้แก่ สลก.บก.ทท., สตน.ทหาร, กพ.ทหาร, สปช.ทหาร, สส.ทหาร, นทพ., สบ.ทหาร, ยบ.ทหาร, และ รร.ตท.สปท.\n",
       "๒. เพื่อให้ดำเนินการนำเสนอผลงานคุณภาพหรือนวัตกรรมการจัดการความรู้ของส่วนราชการ บก.ทท. ประจำปีงบประมาณ พ.ศ. ๒๕๖๗ (รอบสุดท้าย) เป็นไปด้วยความเรียบร้อย กพ.ทหาร/ฝ่ายเลขานุการฯ ขอให้หน่วยส่งเล่มคู่มือและไฟล์คู่มือฯ ฉบับสมบูรณ์ ตามที่คณะกรรมการฯ ให้คำแนะนำ ภายในวันที่ ๑๕ ส.ค. ๖๗ เพื่อใช้ประกอบการจัดงานแสดงผลงานการจัดการความรู้ฯ ในวันที่ ๒ ก.ย. ๖๗\n",
       "๓. รายละเอียดเพิ่มเติมประสานได้ที่ ร.ต. คมสันต์ จุลบุรมย์ ประจำแผนกแผนและโครงการ กพพ.กพ.ทหาร โทร.ทหาร ๕๗๒๑๑๓๗ โทรศัพท์เคลื่อนที่ ๐๙ ๗๑๔๐ ๖๖๑๕\n",
       "\n",
       "ผู้เขียนข่าว: น.อ. (ณัฐพงศ์ วิทยาธีรรัตน์) ผอ.กพพ.กพ.ทหาร/เลขานุการฯ\n",
       "นายทหารอนุมัติข่าว: พล.ต. (สัมพันธ์ รงศ์จำเริญ) รอง จก.กพ.ทหาร ทำการแทน จก.กพ.ทหาร/ประธานกรรมการฯ</div>\n",
       "        </details>\n",
       "        "
      ],
      "text/plain": [
       "<IPython.core.display.HTML object>"
      ]
     },
     "metadata": {},
     "output_type": "display_data"
    },
    {
     "data": {
      "text/markdown": [
       "---"
      ],
      "text/plain": [
       "<IPython.core.display.Markdown object>"
      ]
     },
     "metadata": {},
     "output_type": "display_data"
    },
    {
     "data": {
      "text/markdown": [
       "#### 📄 **ไฟล์:** `007-2.pdf`"
      ],
      "text/plain": [
       "<IPython.core.display.Markdown object>"
      ]
     },
     "metadata": {},
     "output_type": "display_data"
    },
    {
     "data": {
      "text/html": [
       "\n",
       "        <details>\n",
       "            <summary>คลิกเพื่อดูผลลัพธ์ OCR (Processed Text)</summary>\n",
       "            <div style=\"background-color:#f7f7f7; border:1px solid #ddd; padding:10px; margin-top:10px; white-space: pre-wrap; word-wrap: break-word;\"> กระดาษเขียนข่าวร่วม (ทท.)\n",
       "\n",
       " ลำดับความเร่งด่วนด่วนมาก\n",
       "\n",
       " ชั้นความลับ\n",
       "\n",
       " หมู่วันเวลา๒๐๐๗/๔ ก.พ. ๖๗\n",
       "\n",
       " หน้าที่ ๑ ของ ๒ หน้าที่ของผู้ให้ข่าวที่ ๓/๒๕๖๗\n",
       "\n",
       " จากคณะกรรมการจัดการความรู้ของ บก.ทท.\n",
       "\n",
       " ถึง ผู้รับปฏิบัติสน.บก.บก.ทท., สลก.บก.ทท., สจร.ทหาร, สตน.ทหาร, สสก.ทหาร, สยย.ทหาร, ศปร., ศซบ.ทหาร, สธน.ทหาร, ขว.ทหาร, ยก.ทหาร, กบ.ทหาร, กร.ทหาร, สส.ทหาร, สปช.ทหาร, นทฟ., ครภ., ศตก., สบ.ทหาร, กง.ทหาร, ผท.ทหาร, ยบท.ทหาร, ชด.ทหาร, บก.สปท., วปอ.สปท., วสท.สปท., สจว.สปท., ศคย.สปท., สศท.สปท., รร.ตท.สปท. และ รร.ชท.สปท.\n",
       "\n",
       " ผู้รับทราบ\n",
       "\n",
       " ข้อความสำคัญ\n",
       "๑. จก.กพ.ทหาร/ประธานกรรมการจัดการความรู้ของ บก.ทท. ได้กรุณาอนุมัติแผนปฏิบัติการจัดการความรู้ (KM) ของ บก.ทท. ประจำปีงบประมาณ พ.ศ. ๒๕๖๗ รายละเอียดตาม QR Code ด้านล่าง\n",
       "   เพื่อให้การดำเนินการจัดการความรู้ของส่วนราชการ บก.ทท. เป็นไปตามแผนปฏิบัติการจัดการความรู้ฯ ตามข้อ ๑ กพ.ทหาร/ฝ่ายเลขานุการคณะกรรมการจัดการความรู้ของ บก.ทท. ขอให้ฝ่ายเลขานุการคณะทำงานการจัดการความรู้ของหน่วย/ผู้รับผิดชอบดำเนินการจัดการความรู้ของหน่วย ดำเนินการจัดส่งข้อมูลตามแผนปฏิบัติการจัดการความรู้ฯ ให้ กพ.ทหาร/ฝ่ายเลขานุการฯ ภายใน ๒๘ ก.พ. ๖๗ รายละเอียด ดังนี้\n",
       "      ๒.๑ จัดทำแผนปฏิบัติการจัดการความรู้ของหน่วย (Timeline)\n",
       "      ๒.๒ ทบทวนคำสั่งแต่งตั้งคณะทำงานการจัดการความรู้ของหน่วยให้เป็นปัจจุบัน\n",
       "      ๒.๓ ทบทวนแผนที่ความรู้ (K-map) ของหน่วยให้เป็นปัจจุบัน (ในโปรแกรม Mind Manager พร้อมจัดส่งในรูปแบบ File : .mmap)\n",
       "      ๒.๔ กำหนดหัวข้อองค์ความรู้ที่มีความสำคัญและสอดคล้องภารกิจในแผนที่ความรู้ ฉก. หรือภารกิจของหน่วย สำหรับส่งเข้านำเสนอผลงานการจัดการความรู้ และคัดเลือกองค์ความรู้ของส่วนราชการ บก.ทท. ประจำปีงบประมาณ พ.ศ. ๒๕๖๗ ตามแผนปฏิบัติการจัดการความรู้ของหน่วย (สามารถพิจารณาองค์ความรู้ใหม่ที่ยังไม่เคยปฏิบัติก่อนหรือทบทวนองค์ความรู้ที่เคยปฏิบัติมาในปีก่อน ๆ กรณีที่มีการปรับปรุงแก้ไข กฎ ระเบียบ หรือคำสั่งที่เกี่ยวข้องต่าง ๆ)\n",
       "      ๒.๕ กำหนดหัวข้อองค์ความรู้ของหน่วยระดับกองงาน และระดับแผนก ที่สอดคล้องกับภารกิจในแผนที่ความรู้ เพื่อนำมาดำเนินการจัดการความรู้ ประจำปีงบประมาณ พ.ศ. ๒๕๖๗\n",
       "   ๓. ส่วนราชการ บก.ทท. ดำเนินการขับเคลื่อนการจัดการความรู้ของหน่วย ตามแผนการขับเคลื่อนยุทธศาสตร์การจัดการความรู้ (KM) ของ บก.ทท. พ.ศ. ๒๕๖๖-๒๕๗๐ ซึ่งในปี พ.ศ. ๒๕๖๗ กำหนดให้หน่วยดำเนินการ ดังนี้\n",
       "      ๓.๑ ระดับส่วนราชการ/กรม จัดทำผลงานการจัดการความรู้ในรูปแบบคู่มือปฏิบัติงาน การจัดการความรู้ของหน่วย และดำเนินการจัดการความรู้ ตามกระบวนการ ๗ ขั้นตอน ในรูปแบบสื่อวิธีทัศน์ และสื่ออิเล็กทรอนิกส์นำเสนอผลงาน สำหรับเข้าร่วมนำเสนอผลงานการจัดการความรู้ของส่วนราชการ บก.ทท. ประจำปีงบประมาณ พ.ศ. ๒๕๖๗ (ส่วนราชการละ ๑ ผลงาน) โดยส่งร่างคู่มือฯ ให้ กพ.ทหาร/ฝ่ายเลขานุการฯ ภายใน ๓๐ เม.ย. ๖๗ เพื่อรวบรวมให้คณะกรรมการคัดเลือกผลงานการจัดการความรู้ของ บก.ทท. พิจารณา ก่อนการประชุมติดตามผลงานการจัดการความรู้ของส่วนราชการ บก.ทท. ในห้วง พ.ศ. ๖๗\n",
       "      ๓.๒ ระดับกองงาน จัดทำผลงานการจัดการความรู้ในรูปแบบคู่มือปฏิบัติงานการจัดการความรู้ของหน่วย และดำเนินการจัดการความรู้ ตามกระบวนการ ๗ ขั้นตอน (กองงานละ ๑ ผลงาน สำหรับผลงานฯ ของกองงาน ที่เป็นผู้แทนส่วนราชการ ให้ทำเพียง ๑ ผลงาน)</div>\n",
       "        </details>\n",
       "        "
      ],
      "text/plain": [
       "<IPython.core.display.HTML object>"
      ]
     },
     "metadata": {},
     "output_type": "display_data"
    },
    {
     "data": {
      "text/html": [
       "\n",
       "        <details>\n",
       "            <summary>คลิกเพื่อดู Ground Truth Text</summary>\n",
       "            <div style=\"background-color:#e6ffed; border:1px solid #b7e1cd; padding:10px; margin-top:5px; white-space: pre-wrap; word-wrap: break-word;\">กระดาษเขียนข่าวร่วม (ทท.)\n",
       "\n",
       "ลำดับความเร่งด่วน: ด่วนมาก\n",
       "ชั้นความลับ: -\n",
       "หมู่ – วัน – เวลา: ๒๐๐๗๔๕ ก.พ. ๖๗\n",
       "หน้าที่: ๑ ของ ๒ หน้า\n",
       "ที่ของผู้ให้ข่าว: ที่ กห ๓/๒๕๖๗\n",
       "จาก: คณะกรรมการจัดการความรู้ของ บก.ทท.\n",
       "ถึง ผู้รับปฏิบัติ: สน.บก.บก.ทท., สลก.บก.ทท., สจร.ทหาร, สตน.ทหาร, สสก.ทหาร, สยย.ทหาร, ศปร.,\n",
       "ศซบ.ทหาร, สธน.ทหาร, ขว.ทหาร, ยก.ทหาร, กบ.ทหาร, กร.ทหาร, สส.ทหาร, สปช.ทหาร,\n",
       "นทพ., ศรภ., ศตก., สบ.ทหาร, กง.ทหาร, ผท.ทหาร, ยบ.ทหาร, ชด.ทหาร, บก.สปท.,\n",
       "วปอ.สปท., วสท.สปท., สจว.สปท., ศศย.สปท., สศท.สปท., รร.ตท.สปท. และ รร.ชท.สปท.\n",
       "ผู้รับทราบ: -\n",
       "\n",
       "๑. จก.กพ.ทหาร/ประธานกรรมการจัดการความรู้ของ บก.ทท. ได้กรุณาอนุมัติแผนปฏิบัติการจัดการความรู้ (KM) ของ บก.ทท. ประจำปีงบประมาณ พ.ศ. ๒๕๖๗ รายละเอียดตาม QR Code ด้านล่าง\n",
       "๒. เพื่อให้การดำเนินการจัดการความรู้ของส่วนราชการ บก.ทท. เป็นไปตามแผนปฏิบัติการจัดการความรู้ฯ ตามข้อ ๑ กพ.ทหาร/ฝ่ายเลขานุการคณะกรรมการจัดการความรู้ของ บก.ทท. ขอให้ฝ่ายเลขานุการคณะทำงานการจัดการความรู้ของหน่วย/ผู้รับผิดชอบดำเนินการจัดการความรู้ของหน่วย ดำเนินการจัดส่งข้อมูลตามแผนปฏิบัติการจัดการความรู้ฯ ให้ กพ.ทหาร/ฝ่ายเลขานุการฯ ภายใน ๒๘ ก.พ. ๖๗ รายละเอียด ดังนี้\n",
       "      ๒.๑ จัดทำแผนปฏิบัติการจัดการความรู้ของหน่วย (Timeline)\n",
       "      ๒.๒ ทบทวนคำสั่งแต่งตั้งคณะทำงานการจัดการความรู้ของหน่วยให้เป็นปัจจุบัน\n",
       "      ๒.๓ ทบทวนแผนที่ความรู้ (K-map) ของหน่วยให้เป็นปัจจุบัน (ในโปรแกรม Mind Manager พร้อมจัดส่งในรูปแบบ File : .mmap)\n",
       "      ๒.๔ กำหนดหัวข้อองค์ความรู้ที่มีความสำคัญและสอดคล้องภารกิจในแผนที่ความรู้ ฉก. หรือภารกิจของหน่วย สำหรับส่งเข้านำเสนอผลงานการจัดการความรู้ และคัดเลือกองค์ความรู้ของส่วนราชการ บก.ทท. ประจำปีงบประมาณ พ.ศ. ๒๕๖๗ ตามแผนปฏิบัติการจัดการความรู้ของหน่วย (สามารถพิจารณาองค์ความรู้ใหม่ที่ยังไม่เคยปฏิบัติก่อนหรือทบทวนองค์ความรู้ที่เคยปฏิบัติมาในปีก่อน ๆ กรณีที่มีการปรับปรุงแก้ไข กฎ ระเบียบ หรือคำสั่งที่เกี่ยวข้องต่าง ๆ)\n",
       "      ๒.๕ กำหนดหัวข้อองค์ความรู้ของหน่วยระดับกองงาน และระดับแผนก ที่สอดคล้องกับภารกิจในแผนที่ความรู้ เพื่อนำมาดำเนินการจัดการความรู้ ประจำปีงบประมาณ พ.ศ. ๒๕๖๗\n",
       "   ๓. ส่วนราชการ บก.ทท. ดำเนินการขับเคลื่อนการจัดการความรู้ของหน่วย ตามแผนการขับเคลื่อนยุทธศาสตร์การจัดการความรู้ (KM) ของ บก.ทท. พ.ศ. ๒๕๖๖-๒๕๗๐ ซึ่งในปี พ.ศ. ๒๕๖๗ กำหนดให้หน่วยดำเนินการ ดังนี้\n",
       "      ๓.๑ ระดับส่วนราชการ/กรม จัดทำผลงานการจัดการความรู้ในรูปแบบคู่มือปฏิบัติงาน การจัดการความรู้ของหน่วย และดำเนินการจัดการความรู้ ตามกระบวนการ ๗ ขั้นตอน ในรูปแบบสื่อวีดีทัศน์ และสื่ออิเล็กทรอนิกส์นำเสนอผลงาน สำหรับเข้าร่วมนำเสนอผลงานการจัดการความรู้ของส่วนราชการ บก.ทท. ประจำปีงบประมาณ พ.ศ. ๒๕๖๗ (ส่วนราชการละ ๑ ผลงาน) โดยส่งร่างคู่มือฯ ให้ กพ.ทหาร/ฝ่ายเลขานุการฯ ภายใน ๓๐ เม.ย. ๖๗ เพื่อรวบรวมให้คณะกรรมการคัดเลือกผลงานการจัดการความรู้ของ บก.ทท. พิจารณา ก่อนการประชุมติดตามผลงานการจัดการความรู้ของส่วนราชการ บก.ทท. ในห้วง พ.ศ. ๖๗\n",
       "      ๓.๒ ระดับกองงาน จัดทำผลงานการจัดการความรู้ในรูปแบบคู่มือปฏิบัติงานการจัดการความรู้ ของหน่วย และดำเนินการจัดการความรู้ ตามกระบวนการ ๗ ขั้นตอน (กองงานละ ๑ ผลงาน สำหรับผลงานฯ ของกองงาน ที่เป็นผู้แทนส่วนราชการ ให้ทำเพียง ๑ ผลงาน)</div>\n",
       "        </details>\n",
       "        "
      ],
      "text/plain": [
       "<IPython.core.display.HTML object>"
      ]
     },
     "metadata": {},
     "output_type": "display_data"
    },
    {
     "data": {
      "text/markdown": [
       "---"
      ],
      "text/plain": [
       "<IPython.core.display.Markdown object>"
      ]
     },
     "metadata": {},
     "output_type": "display_data"
    },
    {
     "data": {
      "text/markdown": [
       "#### 📄 **ไฟล์:** `014-2.pdf`"
      ],
      "text/plain": [
       "<IPython.core.display.Markdown object>"
      ]
     },
     "metadata": {},
     "output_type": "display_data"
    },
    {
     "data": {
      "text/html": [
       "\n",
       "        <details>\n",
       "            <summary>คลิกเพื่อดูผลลัพธ์ OCR (Processed Text)</summary>\n",
       "            <div style=\"background-color:#f7f7f7; border:1px solid #ddd; padding:10px; margin-top:10px; white-space: pre-wrap; word-wrap: break-word;\"> กระดาษเชียนข่าวร่วม (ทท.)\n",
       "\n",
       " ลำดับความเร่งด่วนด่วนมาก\n",
       "\n",
       " จาก  สปท. \n",
       "    \n",
       " ถึง  ผู้รับปฏิบัติ \n",
       " นซบ.ทหาร เลขรับ..๓๑๔๖  วันที่ ๒/๒/๒๕๖๗ \n",
       " ผู้รับทราบ  สน.ผู้บังคับบัญชา สปท. \n",
       "\n",
       " รายละเอียดการเร่งด่วนหน่วยงานที่เกี่ยวข้องกับการศึกษาหลักสูตรทางทหารประจำปีการศึกษา ๒๕๖๘-๒๕๖๙ ให้ บก.ทท. และเหล่าทัพ พิจารณาคัดเลือกหลักสูตรจำนวน ๓๓ หลักสูตร จาก ๙๙ หลักสูตร รายละเอียดตาม QR Code ดังนี้\n",
       "\n",
       " ๑. หลักสูตรวิชาการ (บก.ทท. และ เหล่าทัพ) จำนวน ๖ หลักสูตร๑.๑ หลักสูตร วปอ.สปป. (Defense and Strategic Studies Program (DSSP))๑.๒ หลักสูตร National Military Security and Command Program๑.๓ หลักสูตร Security and guard Program๑.๔ หลักสูตร Frontier Defense Service๑.๕ หลักสูตร Chinese Language๑.๖ หลักสูตร The Chinese Language Program\n",
       "\n",
       " ๒. เพื่อให้การจัดส่งข้าราชการ ทท. ไปศึกษา อบรม ณ สาธารณรัฐประชาชนจีน เป็นไปด้วยความเรียบร้อย สปท. ขอให้นำเสนอความต้องการที่นั่งศึกษาหลักสูตรทางทหาร สปป. ประจำปีการศึกษา ๒๕๖๘-๒๕๖๙ (ดาวน์โหลดรายละเอียดหลักสูตรได้ตาม QR Code ด้านล่าง) โดยเรียงตามลำดับความสำคัญ เสนอให้ สปท. ภายใน ๓ ม.ค. ๖๘ รายละเอียดเพิ่มเติมประสานโดยตรงที่ พ.ท.หญิง ปิยะดา กฤษน้อย หบ.ศึกษาต่างประเทศ กศษ.สศท.สปท. โทร./โทรสาร ๐ ๒๒๗๗ ๑๑๑๕ จดหมายอิเล็กทรอนิกส์ edu_nnds@rtarf.mii.th\n",
       "\n",
       " ตาราง QR Code/Email\n",
       " QR Code/Email  หน่วยงาน  ผู้เขียนข่าว  นายทหารอนุมัติข่าว \n",
       "        \n",
       " โทรศัพท์ ๐ ๒๒๗๗ ๑๑๑๕  สศท.สปท.  น.อ. (ธวิน ศรีแก้ว) ผอ.กศษ.สศท.สปท.  พล.ท. (พิรพัฒน์ จันทร์งาม) เสธ.สปท. ทำการแทน ผบ.สปท. </div>\n",
       "        </details>\n",
       "        "
      ],
      "text/plain": [
       "<IPython.core.display.HTML object>"
      ]
     },
     "metadata": {},
     "output_type": "display_data"
    },
    {
     "data": {
      "text/html": [
       "\n",
       "        <details>\n",
       "            <summary>คลิกเพื่อดู Ground Truth Text</summary>\n",
       "            <div style=\"background-color:#e6ffed; border:1px solid #b7e1cd; padding:10px; margin-top:5px; white-space: pre-wrap; word-wrap: break-word;\">กระดาษเขียนข่าวร่วม (ทท.)\n",
       "\n",
       "ลำดับความเร่งด่วน: ด่วนมาก\n",
       "ชั้นความลับ: -\n",
       "หมู่ - วัน - เวลา: ๒๐๐๗๕๕ ก.พ. ๖๗\n",
       "หน้าที่: ๑ ของ ๒ หน้า\n",
       "ที่ของผู้ให้ข่าว: ที่ ๓/๒๕๖๗\n",
       "จาก: คณะกรรมการจัดการความรู้ของ บก.ทท.\n",
       "ถึง ผู้รับปฏิบัติ: สน.บก.บก.ทท., สลก.บก.ทท., สจร.ทหาร, สตน.ทหาร, สสก.ทหาร, สยย.ทหาร, ศปร., ศซบ.ทหาร, สธน.ทหาร, ขว.ทหาร, ยก.ทหาร, กบ.ทหาร, กร.ทหาร, สส.ทหาร, สปช.ทหาร, นทพ., ศรภ., ศตก., สบ.ทหาร, กง.ทหาร, ผท.ทหาร, ยบ.ทหาร, ชด.ทหาร, บก.สปท., วปอ.สปท., วสท.สปท., สจว.สปท., ศศย.สปท., สศท.สปท., รร.ตท.สปท. และ รร.ชท.สปท.\n",
       "ผู้รับทราบ: -\n",
       "\n",
       "๑. สน.ผชท.ทหาร สปจ./กรุงเทพฯ แจ้งว่า กองทัพปลดปล่อยประชาชนจีน เสนอที่นั่งศึกษาหลักสูตรทางทหาร ประจำปีการศึกษา ๒๕๖๘-๒๕๖๙ ให้ บก.ทท. และเหล่าทัพ พิจารณาคัดเลือกหลักสูตรจำนวน ๓๓ หลักสูตร จาก ๙๙ หลักสูตร รายละเอียดตาม QR Code ดังนี้\n",
       "  ๑.๑ หลักสูตรวิชาการ (บก.ทท. และ เหล่าทัพ) จำนวน ๖ หลักสูตร\n",
       "    ๑.๑.๑ หลักสูตร วปอ.สปป. (Defense and Strategic Studies Program (DSSP))\n",
       "    ๑.๑.๒ หลักสูตร National Military Security and Command Program\n",
       "    ๑.๑.๓ หลักสูตร Security and guard Program\n",
       "    ๑.๑.๔ หลักสูตร Frontier Defense Service\n",
       "    ๑.๑.๕ หลักสูตร Chinese Language\n",
       "    ๑.๑.๖ หลักสูตร The Chinese Language Program\n",
       "  ๑.๒ หลักสูตรในส่วนของ ทบ. จำนวน ๕๓ หลักสูตร\n",
       "  ๑.๓ หลักสูตรในส่วนของ ทร. จำนวน ๑๘ หลักสูตร\n",
       "  ๑.๔ หลักสูตรในส่วนของ ทอ. จำนวน ๒๒ หลักสูตร\n",
       "๒. เพื่อให้การจัดส่งข้าราชการ ทท. ไปศึกษา อธรม ณ สาธารณรัฐประชาชนจีน เป็นไปด้วยความเรียบร้อย สปท. ขอให้หน่วยเสนอความต้องการที่นั่งศึกษาหลักสูตรทางทหาร สปจ. ประจำปีการศึกษา ๒๕๖๘-๒๕๖๙ (ดาวน์โหลดรายละเอียดหลักสูตรได้ตาม QR Code ด้านล่าง) โดยเรียงตามลำดับความสำคัญ เสนอให้ สปท. ภายใน ๓ ม.ค. ๖๘ รายละเอียดเพิ่มเติมประสานโดยตรงที่ พ.ท.หญิง ปิยะดา กฤษน้อย หน.ศึกษาต่างประเทศ กศษ.สศท.สปท. โทร./โทรสาร ๐ ๒๒๗๗ ๑๑๑๕ จดหมายอิเล็กทรอนิกส์ edu_ndsi@rtarf.mi.th\n",
       "\n",
       "ผู้เขียนข่าว: น.อ. (ธวิน ศรีแก้ว) ผอ.กศษ.สศท.สปท.\n",
       "นายทหารอนุมัติข่าว: พล.ท. (พีรพัฒน์ จันทร์งาม) เสธ.สปท. ทำการแทน ผบ.สปท.</div>\n",
       "        </details>\n",
       "        "
      ],
      "text/plain": [
       "<IPython.core.display.HTML object>"
      ]
     },
     "metadata": {},
     "output_type": "display_data"
    },
    {
     "data": {
      "text/markdown": [
       "---"
      ],
      "text/plain": [
       "<IPython.core.display.Markdown object>"
      ]
     },
     "metadata": {},
     "output_type": "display_data"
    },
    {
     "data": {
      "text/markdown": [
       "#### 📄 **ไฟล์:** `016-2.pdf`"
      ],
      "text/plain": [
       "<IPython.core.display.Markdown object>"
      ]
     },
     "metadata": {},
     "output_type": "display_data"
    },
    {
     "data": {
      "text/html": [
       "\n",
       "        <details>\n",
       "            <summary>คลิกเพื่อดูผลลัพธ์ OCR (Processed Text)</summary>\n",
       "            <div style=\"background-color:#f7f7f7; border:1px solid #ddd; padding:10px; margin-top:10px; white-space: pre-wrap; word-wrap: break-word;\"> กระดาษเขียนข่าวร่วม (ทท.)\n",
       "\n",
       " ลำดับความเร่งด่วนจาก\n",
       "วสท.สปท.\n",
       "\n",
       " ชั้นความลับส่วนราชการใน บก.ทท. และ คุณทนท.๖๗\n",
       "\n",
       " หมู่วันเวลา\n",
       "๙๙๙๙ ส.ค. ๖๗\n",
       "\n",
       " หน้าที่ ๑ ของ ๑ หน้า\n",
       "ที่ของผู้ให้ข่าว\n",
       "กท ๐๓๑๗.๓/ว๒๘๕\n",
       "\n",
       " ผู้รับทราบ\n",
       "สน.ผบ.วสท.สปท., สน.ผบ.สปท., สน.รอง ผบ.สปท., สน.เสธ.สปท.\n",
       "\n",
       " รายละเอียด\n",
       "๑. ตามที่ วสท.สปท. เป็นหน่วยรับผิดชอบจัดการฝึกอบรมหลักสูตรเสนาธิการทหารได้กำหนดไว้ นศ.สธท. จัดทำเอกสารวิจัย ซึ่งเป็นส่วนหนึ่งของหลักสูตรฯ เพื่อให้ผู้เข้ารับการฝึกอบรมมีความเข้าใจในกระบวนการทำการวิจัยและฝึกฝนความคิดวิเคราะห์อย่างเป็นระบบตลอดจนนำความรู้ไปสู่การหาคำตอบสำหรับการแก้ปัญหาและการพัฒนาองค์กรที่สามารถนำไปใช้ประโยชน์ต่อหน่วยงาน\n",
       "๒. ตามข้อ ๑ วสท.สปท. มีความประสงค์ขอรับทราบความคิดเห็นและข้อเสนอแนะจากส่วนราชการใน บก.ทท. เกี่ยวกับการแสดงออกเนื้อหาเกี่ยวกับสาระวิจัยสำหรับ นศ.สธท. รุ่นต่อไป ซึ่งเห็นว่าเหมาะสมและสามารถนำไปใช้เพื่อให้เกิดประโยชน์สูงสุดกับทางหน่วยงานและต่อทางราชการ\n",
       "๓. เพื่อให้การดำเนินการตามข้อ ๒ เป็นไปด้วยความเรียบร้อย จึงขอให้ส่วนราชการใน บก.ทท. ได้พิจารณากำหนดหัวข้อเรื่องที่เห็นว่ามีความสำคัญต่อหน่วยงานและเป็นประโยชน์ต่อ บก.ทท. หรือกองทัพบกไทย ที่ต้องการผ่านระบบออนไลน์ตาม QR Code ด้านล่างภายในวันที่ ๑๕ ส.ค. ๖๗ โดย วสท.สปท. จะนำข้อเสนอและประเด็นต่าง ๆ พิจารณาและนำไปเป็นหัวข้อในการจัดทำเอกสารวิจัยให้ นศ.สธท. จัดทำให้สอดคล้องความต้องการของหน่วยต่อไป\n",
       "๔. รายละเอียดเพิ่มเติมประสานได้ที่ น.อ.หญิง ศันสนีย์ นิโรจน์ รอง ผอ. กวว.วสท.สปท. โทร ๐๘ ๔๑๔๖ ๕๔๔๗ Line ID niroj๑๙๖๖\n",
       "\n",
       " QR Code\n",
       "![](QR Code)\n",
       "\n",
       " หน่วย\n",
       " วสท.สปท.  โทรศัพท์ \n",
       "    \n",
       " ๐ ๒๒๗๗ ๓๖๗๕   \n",
       "\n",
       " ผู้เขียนข่าว\n",
       " น.อ.  วรชาติ สิตยเลขา \n",
       "    \n",
       " ผอ.กพผ.วสท.สปท.ปฏิบัติ   \n",
       "\n",
       " นายทหารอนุมัติข่าว\n",
       " พล.ต.   \n",
       "    \n",
       " รอง ผบ.วสท.สปท. การแทน   </div>\n",
       "        </details>\n",
       "        "
      ],
      "text/plain": [
       "<IPython.core.display.HTML object>"
      ]
     },
     "metadata": {},
     "output_type": "display_data"
    },
    {
     "data": {
      "text/html": [
       "\n",
       "        <details>\n",
       "            <summary>คลิกเพื่อดู Ground Truth Text</summary>\n",
       "            <div style=\"background-color:#e6ffed; border:1px solid #b7e1cd; padding:10px; margin-top:5px; white-space: pre-wrap; word-wrap: break-word;\">กระดาษเขียนข่าวร่วม (ทท.)\n",
       "\n",
       "ลำดับความเร่งด่วน: -\n",
       "ชั้นความลับ: -\n",
       "หมู่ - วัน - เวลา: ๑๑๑๐๐๐ ส.ค. ๖๗\n",
       "หน้าที่: ๑ ของ ๑ หน้า\n",
       "ที่ของผู้ให้ข่าว: กห ๐๓๑๗.๓/๑๐๘๘\n",
       "จาก: วสท.สปท.\n",
       "ถึง ผู้รับปฏิบัติ: ส่วนราชการใน บก.ทท. และ คกนท.๖๗\n",
       "ผู้รับทราบ: สน.ผบ.วสท.สปท., สน.ผบ.สปท., สน.รอง ผบ.สปท., สน.เสธ.สปท.\n",
       "\n",
       "๑. ตามที่ วสท.สปท. เป็นหน่วยรับผิดชอบจัดการฝึกอบรมหลักสูตรเสนาธิการทหาร ได้กำหนดให้ นศ.สธท. จัดทำเอกสารวิจัย ซึ่งเป็นส่วนหนึ่งของหลักสูตรฯ เพื่อให้ผู้เข้ารับการฝึกอบรมมีความเข้าใจในกระบวนการทำวิจัยและฝึกฝนความคิดวิเคราะห์อย่างเป็นระบบตลอดจนนำความรู้ไปสู่การหาคำตอบ สำหรับการแก้ปัญหาและการพัฒนาองค์กรที่สามารถนำไปใช้ประโยชน์ต่อหน่วยงาน\n",
       "๒. ตามข้อ ๑ วสท.สปท. มีความประสงค์ขอรับทราบความคิดเห็นและข้อเสนอแนะจากส่วนราชการใน บก.ทท. เกี่ยวกับการเสนอเงื่อนไขหัวข้อเอกสารวิจัยสำหรับ นศ.สธท. รุ่นต่อไป ซึ่งเห็นว่าเหมาะสมและสามารถนำไปใช้เพื่อให้เกิดประโยชน์สูงสุดกับทางหน่วยงานและต่อทางราชการ\n",
       "๓. เพื่อให้การดำเนินการตามข้อ ๒ เป็นไปด้วยความเรียบร้อย จึงขอให้ส่วนราชการใน บก.ทท. ได้พิจารณากำหนดหัวข้อเรื่องที่เห็นว่ามีความสำคัญต่อหน่วยงานและเป็นประโยชน์ต่อ บก.ทท. หรือกองทัพไทย ที่ต้องการผ่านระบบออนไลน์ตาม QR Code ด้านล่างภายในวันที่ ๑๕ ส.ค. ๖๗ โดย วสท.สปท. จะนำข้อเสนอและประเด็นต่าง ๆ พิจารณาและนำไปเป็นหัวข้อในการจัดทำเอกสารวิจัยให้ นศ.สธท. จัดทำให้สอดคล้องความต้องการของหน่วยต่อไป\n",
       "๔. รายละเอียดเพิ่มเติมประสานได้ที่ น.อ.หญิง ศันสนีย์ นิโรจน์ รอง ผอ.กวว.วสท.สปท. โทร ๐๘ ๔๑๔๖ ๕๔๔๗ Line ID niroj1966\n",
       "\n",
       "ผู้เขียนข่าว: น.อ. (วรชาติ สัตยเลขา) ผอ.กพผ.วสท.สปท.ปฏิบัติหน้าที่ ผอ.กวว.วสท.สปท.\n",
       "นายทหารอนุมัติข่าว: พล.ต. (เทอดไทย ทัพธานี) รอง ผบ.วสท.สปท. ทำการแทน ผบ.วสท.สปท.</div>\n",
       "        </details>\n",
       "        "
      ],
      "text/plain": [
       "<IPython.core.display.HTML object>"
      ]
     },
     "metadata": {},
     "output_type": "display_data"
    },
    {
     "data": {
      "text/markdown": [
       "---"
      ],
      "text/plain": [
       "<IPython.core.display.Markdown object>"
      ]
     },
     "metadata": {},
     "output_type": "display_data"
    },
    {
     "data": {
      "text/markdown": [
       "#### 📄 **ไฟล์:** `017-2.pdf`"
      ],
      "text/plain": [
       "<IPython.core.display.Markdown object>"
      ]
     },
     "metadata": {},
     "output_type": "display_data"
    },
    {
     "data": {
      "text/html": [
       "\n",
       "        <details>\n",
       "            <summary>คลิกเพื่อดูผลลัพธ์ OCR (Processed Text)</summary>\n",
       "            <div style=\"background-color:#f7f7f7; border:1px solid #ddd; padding:10px; margin-top:10px; white-space: pre-wrap; word-wrap: break-word;\"> กระดาษเขียนข่าวร่วม (ทท.)\n",
       "\n",
       " ลำดับความเร่งด่วนจากสปท.\n",
       "\n",
       " ชั้นความลับ\n",
       "\n",
       " หมู่วันเวลา\n",
       "๒๔๓๗ ก.ค. ๖๗\n",
       "\n",
       " หน้าที่ ๑ ของ ๑ หน้า\n",
       "ที่ของผู้ให้ข่าว\n",
       "ที่ กห ๐๓๑๗/๒๕๖\n",
       "\n",
       " ถึง ผู้รับปฏิบัติ\n",
       "กพ.ทหาร, ยก.ทหาร, สส.ทหาร, สปช.ทหาร, ศรภ., กง.ทหาร, รธ.แผนที่ พท.ทหาร,\n",
       "ศช.ทหาร, นทพ., รธ.ตท.สปท., รธ.ซท.สปท., สศท.สปท. และ สภท.บก.สปท.\n",
       "\n",
       " ผู้รับทราบ\n",
       "สน.ผู้บังคับบัญชา สปท.\n",
       "\n",
       " QR Code\n",
       "(๑)\n",
       "\n",
       " QR Code\n",
       "(๒)\n",
       "\n",
       " รายละเอียด\n",
       " QR code  หน่วยงาน \n",
       "    \n",
       " ![QR Code]()  กมศ.บก.สปท. \n",
       " ![QR Code]()  โทรศพท์ \n",
       "\n",
       " ผู้เขียนข่าว\n",
       " หน่วยงาน  ผู้เขียนข่าว \n",
       "    \n",
       " กมศ.บก.สปท.  น.อ.หญิง \n",
       " โทรศพท์  (สุธาสินี บุญวัฒน์) \n",
       "\n",
       " นายทหารอนุมัติข่าว\n",
       " หน่วยงาน  นายทหารอนุมัติข่าว \n",
       "    \n",
       " กมศ.บก.สปท.  พล.ต. \n",
       " โทรศพท์  (ระวี โรจนวงศ์) \n",
       "\n",
       " แหล่งที่มา\n",
       "Vittayathana@gmail.com</div>\n",
       "        </details>\n",
       "        "
      ],
      "text/plain": [
       "<IPython.core.display.HTML object>"
      ]
     },
     "metadata": {},
     "output_type": "display_data"
    },
    {
     "data": {
      "text/html": [
       "\n",
       "        <details>\n",
       "            <summary>คลิกเพื่อดู Ground Truth Text</summary>\n",
       "            <div style=\"background-color:#e6ffed; border:1px solid #b7e1cd; padding:10px; margin-top:5px; white-space: pre-wrap; word-wrap: break-word;\">กระดาษเขียนข่าวร่วม (ทท.)\n",
       "\n",
       "ลำดับความเร่งด่วน: -\n",
       "ชั้นความลับ: -\n",
       "หมู่ – วัน เวลา: ๒๕๑๐๓๐ ก.ค. ๖๗\n",
       "หน้าที่: ๑ ของ ๑ หน้า\n",
       "ที่ของผู้ให้ข่าว: ที่ กห ๐๓๑๗/๒๕๖๖\n",
       "จาก: สปท.\n",
       "ถึง ผู้รับปฏิบัติ: กพ.ทหาร, ยก.ทหาร, สส.ทหาร, สปช.ทหาร, ศรภ., กง.ทหาร, รร.แผนที่ ผท.ทหาร, ศซบ.ทหาร, นทพ., รร.ตท.สปท., รร.ชท.สปท., สศท.สปท. และ สภท.บก.สปท.\n",
       "ผู้รับทราบ: สน.ผู้บังคับบัญชา สปท.\n",
       "\n",
       "๑. สปท. กำหนดจัดการประชุม คทส.บก.ทท. ครั้งที่ ๔/๖๗ ใน ๑๓ ส.ค. ๖๗ เวลา ๐๙๐๐-๑๕๓๐ ณ ห้องเจ้าหมื่นไวยวรนารถ ชั้น ๖ บก.สปท. โดยมี รอง เสธ.สปท./ประธาน คทส.บก.ทท. เป็นประธาน ซึ่งการประชุมฯ ครั้งนี้มีวัตถุประสงค์เพื่อให้สถานศึกษาชี้แจงความคืบหน้าการดำเนินงานด้านวิทยฐานะ และอนุมัติผลการประเมินให้มีวิทยฐานะครูชำนาญการ และครูชำนาญการต้น ระเบียบวาระการประชุมฯ ตาม QR Code (๑)\n",
       "๒. ในการนี้จึงขอเรียนเชิญ (รายชื่อตามที่แนบ) หรือผู้แทนเข้าร่วมการประชุมฯ ตามวัน เวลา และสถานที่ดังกล่าว โดยขอให้หน่วยกรุณาตอบยืนยันหรือส่งรายชื่อผู้แทนเข้าร่วมการประชุมฯ ลงในแบบตอบรับเข้าร่วมการประชุมฯ ตาม QR Code (๒) และกรุณาตรวจสอบ แก้ไขรายงานการประชุม คทส.บก.ทท. ครั้งที่ ๓/๖๗ รวมทั้งเสนอเรื่องเข้าวาระการประชุมฯ (ถ้ามี) ส่งให้ สปท. ภายใน ๓๑ ก.ค. ๖๗\n",
       "๓. สำหรับสถานศึกษาขอให้จัดทำความคืบหน้าการดำเนินงานด้านวิทยฐานะ ในรูปแบบ PowerPoint นำเสนอในการประชุมฯ\n",
       "๔. ทั้งนี้ มอบให้ พ.ท. ยงยุทธ นาสมชัย ตำแหน่ง หน.พัฒนามาตรฐานการฝึกศึกษา กมศ.บก.สปท. โทรศัพท์เคลื่อนที่ ๐๙ ๒๒๕๐ ๒๔๑๔ เป็นผู้ประสานในรายละเอียด\n",
       "\n",
       "ผู้เขียนข่าว: น.อ.หญิง (สุธาสินี บุญวัฒน์) ผอ.กมศ.บก.สปท.\n",
       "นายทหารอนุมัติข่าว: พล.ต. (ระวี โรจนวงศ์) รอง เสธ.สปท. ทำการแทน ผบ.สปท.\n",
       "สำเนาถูกต้อง: ร.อ.หญิง (กัญญาภัค วงศ์อนุ) ประจำแผนกตรวจสอบและประเมินวิทยฐานะ กมศ.บก.สปท.</div>\n",
       "        </details>\n",
       "        "
      ],
      "text/plain": [
       "<IPython.core.display.HTML object>"
      ]
     },
     "metadata": {},
     "output_type": "display_data"
    },
    {
     "data": {
      "text/markdown": [
       "---"
      ],
      "text/plain": [
       "<IPython.core.display.Markdown object>"
      ]
     },
     "metadata": {},
     "output_type": "display_data"
    },
    {
     "data": {
      "text/markdown": [
       "#### 📄 **ไฟล์:** `018-2.pdf`"
      ],
      "text/plain": [
       "<IPython.core.display.Markdown object>"
      ]
     },
     "metadata": {},
     "output_type": "display_data"
    },
    {
     "data": {
      "text/html": [
       "\n",
       "        <details>\n",
       "            <summary>คลิกเพื่อดูผลลัพธ์ OCR (Processed Text)</summary>\n",
       "            <div style=\"background-color:#f7f7f7; border:1px solid #ddd; padding:10px; margin-top:10px; white-space: pre-wrap; word-wrap: break-word;\"> กระดาษเขียนข่าวร่วม (ทท.)\n",
       "\n",
       " ลำดับความเร่งด่วนด่วนมาก\n",
       "\n",
       " ชั้นความลับ\n",
       "\n",
       " หมู่วันเวลา\n",
       "๒๓๐๘๐๐ ก.ค. ๖๗\n",
       "\n",
       " หน้าที่ ๑ ของ ๑ หน้า\n",
       "ที่ของผู้ให้ข่าว\n",
       "ที่ กห ๐๓๐๗/๒๑๗๓\n",
       "\n",
       " จาก\n",
       "สส.ทหาร\n",
       "\n",
       " ถึง ผู้รับปฏิบัติ\n",
       "ศปร., นทพ., สปท., กพ.ทหาร, ขว.ทหาร, ยก.ทหาร, กบ.ทหาร, กร.ทหาร, สปช.ทหาร, สน.บก.บท., สลก.บก.ทท., สจร.ทหาร, สตน.ทหาร, สธน.ทหาร, สสก.ทหาร, สยย.ทหาร, ศซบ.ทหาร, ศรภ., ศตก., สบ.ทหาร, กง.ทหาร, ผท.ทหาร, ยบ.ทหาร และ ชด.ทหาร\n",
       "\n",
       " ผู้รับทราบ\n",
       "จก.สส.ทหาร, รอง จก.สส.ทหาร (๑) และ รอง จก.สส.ทหาร (๒)\n",
       "\n",
       " QR Code/Email\n",
       "\n",
       " หน่วยสส.ทหาร\n",
       "\n",
       " โทรศัพท์โทร.ทหาร ๕๐๑๑๖๔๘โทร. ๐ ๒๕๗๒ ๒๐๒๙โทรสาร ๐ ๒๕๗๒ ๒๐๒๙\n",
       "\n",
       " ผู้เขียนข่าวพ.อ.(ทศพล จุลกรังคะ)ผอ.กนผ.สผอ.สส.ทหาร\n",
       "\n",
       " นายทหารอนุมัติข่าวพล.ต.(สรพล ผลพูล)ผอ.สผอ.สส.ทหาร ทำการแทน จก.สส.ทหาร</div>\n",
       "        </details>\n",
       "        "
      ],
      "text/plain": [
       "<IPython.core.display.HTML object>"
      ]
     },
     "metadata": {},
     "output_type": "display_data"
    },
    {
     "data": {
      "text/html": [
       "\n",
       "        <details>\n",
       "            <summary>คลิกเพื่อดู Ground Truth Text</summary>\n",
       "            <div style=\"background-color:#e6ffed; border:1px solid #b7e1cd; padding:10px; margin-top:5px; white-space: pre-wrap; word-wrap: break-word;\">กระดาษเขียนข่าวร่วม (ทท.)\n",
       "\n",
       "ลำดับความเร่งด่วน: ด่วนมาก\n",
       "ชั้นความลับ: -\n",
       "หมู่ - วัน - เวลา: ๒๓๐๘๐๐ ก.ค. ๖๗\n",
       "หน้าที่: ๑ ของ ๑ หน้า\n",
       "ที่ของผู้ให้ข่าว: ที่ กห ๐๓๐๗/๒๑๗๓\n",
       "จาก: สส.ทหาร\n",
       "ถึง ผู้รับปฏิบัติ: ศปร., นทพ., สปท., กพ.ทหาร, ขว.ทหาร, ยก.ทหาร, กบ.ทหาร, กร.ทหาร, สปช.ทหาร, สน.บก.บก.ทท., สลก.บก.ทท., สจร.ทหาร, สตน.ทหาร, สธน.ทหาร, สสก.ทหาร, สยย.ทหาร, ศซบ.ทหาร, ศรภ., ศตก., สบ.ทหาร, กง.ทหาร, ผท.ทหาร, ยบ.ทหาร และ ชด.ทหาร\n",
       "ผู้รับทราบ: จก.สส.ทหาร, รอง จก.สส.ทหาร (๑) และ รอง จก.สส.ทหาร (๒)\n",
       "\n",
       "๑. สส.ทหาร มีกำหนดจัดการเข้าศึกษาดูงาน ณ ศูนย์เทคโนโลยีอิเล็กทรอนิกส์และคอมพิวเตอร์แห่งชาติ หรือ NECTEC เพื่อเสริมสร้างความรู้เรื่องปัญญาประดิษฐ์ และมาประยุกต์ใช้ด้านความมั่นคง ในวันอังคารที่ ๓๐ ก.ค. ๖๗\n",
       "๒. เพื่อให้การดำเนินการตามข้อ ๑ เป็นไปด้วยความเรียบร้อย สส.ทหาร จึงขอเชิญผู้แทนหน่วย ชั้นยศ พ.ท./น.ท.-พ.อ./น.อ. ที่ปฏิบัติงานในด้านเทคโนโลยี หน่วยละ ๑ นาย (กพ.ทหาร, ขว.ทหาร, ยก.ทหาร, กบ.ทหาร, กร.ทหาร, สปช.ทหาร, ศปร., นทพ., และ สปท. หน่วยละ ๒ นาย) เข้าร่วมการศึกษาดูงานฯ โดยส่งข้อมูลรายชื่อ ตำแหน่ง หมายเลขโทรศัพท์ให้กับ สส.ทหาร ภายในวันพุธที่ ๒๔ ก.ค. ๖๗ (รายละเอียดกำหนดการฯ และแบบฟอร์มตอบรับตาม QR Code ที่แนบ)\n",
       "๓. รายละเอียดเพิ่มเติมกรุณาประสาน ร.อ. กัญจน์ สหสมโชค ประจำ กนผ.สผอ.สส.ทหาร โทร. ๐ ๒๕๓๒ ๒๐๒๙ โทร.ทหาร ๕๐๑๑๖๔๘ โทรศัพท์เคลื่อนที่ ๐๘ ๔๖๗๘ ๙๑๗๙\n",
       "\n",
       "ผู้เขียนข่าว: พ.อ. (ทศพล จุลกรังคะ) ผอ.กนผ.สผอ.สส.ทหาร\n",
       "นายทหารอนุมัติข่าว: พล.ต. (สุรพล ผลพูล) ผอ.สผอ.สส.ทหาร ทำการแทน จก.สส.ทหาร</div>\n",
       "        </details>\n",
       "        "
      ],
      "text/plain": [
       "<IPython.core.display.HTML object>"
      ]
     },
     "metadata": {},
     "output_type": "display_data"
    },
    {
     "data": {
      "text/markdown": [
       "---"
      ],
      "text/plain": [
       "<IPython.core.display.Markdown object>"
      ]
     },
     "metadata": {},
     "output_type": "display_data"
    },
    {
     "data": {
      "text/markdown": [
       "#### 📄 **ไฟล์:** `019-2.pdf`"
      ],
      "text/plain": [
       "<IPython.core.display.Markdown object>"
      ]
     },
     "metadata": {},
     "output_type": "display_data"
    },
    {
     "data": {
      "text/html": [
       "\n",
       "        <details>\n",
       "            <summary>คลิกเพื่อดูผลลัพธ์ OCR (Processed Text)</summary>\n",
       "            <div style=\"background-color:#f7f7f7; border:1px solid #ddd; padding:10px; margin-top:10px; white-space: pre-wrap; word-wrap: break-word;\"> กระดาษเชิญข้าวร่วม (ทท.)\n",
       "\n",
       " ลำดับความเร่งด่วนด่วนมาก\n",
       "\n",
       " ชั้นความลับ\n",
       "\n",
       " หมู่วันเวลา๑๒๕๐๖ ก.ค. ๖๗\n",
       "\n",
       " หน้าที่ ๑ ของ ๑ หน้าที่ของผู้ให้ข่าวที่ กท ๐๓๐๒/๔๒๗๓\n",
       "\n",
       " จากกพ.ทหาร\n",
       "\n",
       " ถึง ผู้รับปฏิบัติสบ.บก.กก.ทท. สสจ.ทหาร สตน.ทหาร สสบ.ทหาร สสย.ทหารศปน. ศช.ทหาร ขว.ทหาร ยก.ทหาร กบ.ทหาร กร.ทหาร สส.ทหาร สปช.ทหาร นทพ.ครภ. ศตก. สบ.ทหาร กง.ทหาร พท.ทหาร ยบ.ทหาร ชด.ทหาร และ สปท.\n",
       "\n",
       " ผู้รับทราบสน.พ.อ.ทหาร วปอ.สปท. วสส.สปท. ศคย.สปท. สจว.สปท. รธ.ตท.สปท. รธ.ซท.สปท.และ สศท.สปท.\n",
       "\n",
       " วิธีการดำเนินการ\n",
       "๑. กพ.ทหาร กำหนดจัดการประชุมเชิงปฏิบัติการ การวิเคราะห์อัตราของส่วนราชการใน กท.ทท. เพื่อร้องรับการบรรจุข้าราชการพลเรือนกลาโหมของ บก.ทท. ระหว่างวันที่ ๒๔-๒๖ ก.ค. ๖๗ ณ สมัชชาวาณิช กท.ทท. โดยมีระเบียบวาระการประชุม ดังนี้\n",
       "  ระเบียบวาระที่ ๑ ประธานกล่าวเปิดการประชุมเชิงปฏิบัติการฯ\n",
       "  ระเบียบวาระที่ ๒ การชี้แจงภาพรวมที่เกี่ยวข้องกับข้าราชการพลเรือนกลาโหมของ บก.ทท.\n",
       "  ระเบียบวาระที่ ๓ เรื่องเสนอเพื่อพิจารณา\n",
       "    วิเคราะห์อัตราของส่วนราชการใน บก.ทท. สำหรับรองรับการบรรจุข้าราชการพลเรือนกลาโหมฯ\n",
       "    พิจารณาลักษณะของกลุ่มงาน งาน และตำแหน่งที่สมควรจะบรรจุข้าราชการพลเรือนกลาโหมฯ\n",
       "    พิจารณาแนวทางการกำหนดอัตราเงินเดือน ค่าตอบแทนข้าราชการพลเรือนกลาโหม\n",
       "  ระเบียบวาระที่ ๔ เรื่องอื่น ๆ\n",
       "  ระเบียบวาระที่ ๕ ประธานกล่าวสรุปและปิดการประชุมเชิงปฏิบัติการฯ\n",
       "๒. เพื่อให้การดำเนินการตามข้อ ๑ เป็นไปด้วยความเรียบร้อย ขอให้ส่วนราชการจัดผู้แทนเข้าร่วมการประชุมเชิงปฏิบัติการฯ ดังนี้\n",
       "  ๒.๑ หน.สายวิทยาการ และนายทหารกำลังพลของหน่วย\n",
       "  ๒.๒ สายวิทยาการที่มีแผนในการปรับเปลี่ยนเป็นข้าราชการพลเรือนกลาโหม(สายวิทยาการตรวจสอบภายใน สายวิทยาการการเงิน และสายวิทยาการแพทย์)\n",
       "  ๓. ขอให้ส่งรายชื่อผู้เข้าร่วมประชุมเชิงปฏิบัติการฯ ให้ กพ.ทหาร ผ่านช่องทาง Kanyaraty@rnf.mti.th หรือโทรสาร ๐ ๒๕๗๕ ๖๐๑๕ ภายในวันพฤหัสบดีที่ ๑๙ ก.ค. ๖๗ ทั้งนี้ สามารถดาวน์โหลดแบบตอบรับ และกำหนดการประชุมเชิงปฏิบัติการฯ ตาม QR Code ด้านล่าง รายละเอียดเพิ่มเติมประสาน ร.ท. ภูภาวะ สำเร็จผล ร.น. ประจำแผนกนโยบายและแผน กน.สน.พ.กพ.ทหาร โทรศัพท์เคลื่อนที่ ๐๘ ๙๑๖๔ ๒๐๒๕ โทร.ทหาร ๕๗๒๑๑๑๘\n",
       "\n",
       " QR Code/Email\n",
       " QR Code  Email \n",
       "    \n",
       " ![QR Code]()  knp.สนพ.กพ.ทหาร \n",
       " ![QR Code]()  โทร.ทหาร ๐ ๒๕๗๕ ๖๐๑๕ \n",
       "\n",
       " หน่วยกน.สน.พ.กพ.ทหาร\n",
       "\n",
       " ผู้เยียนข่าวน.อ. สุทธิพันธ์ บุตรดีสุวรรณผอ.กน.สน.พ.กพ.ทหาร\n",
       "\n",
       " นายทหารอนุมัติข่าวพล.ต. (สัมพันธ์ รงค์จำเริญ)รอง จก.กพ.ทหาร ทำกำเนินจก.กพ.ทหาร</div>\n",
       "        </details>\n",
       "        "
      ],
      "text/plain": [
       "<IPython.core.display.HTML object>"
      ]
     },
     "metadata": {},
     "output_type": "display_data"
    },
    {
     "data": {
      "text/html": [
       "\n",
       "        <details>\n",
       "            <summary>คลิกเพื่อดู Ground Truth Text</summary>\n",
       "            <div style=\"background-color:#e6ffed; border:1px solid #b7e1cd; padding:10px; margin-top:5px; white-space: pre-wrap; word-wrap: break-word;\">กระดาษเขียนข่าวร่วม (ทท.)\n",
       "\n",
       "ลำดับความเร่งด่วน: ด่วนมาก\n",
       "ชั้นความลับ: -\n",
       "หมู่ - วัน - เวลา: ๒๖๑๕๐๖ ก.ค. ๖๗\n",
       "หน้าที่: ๑ ของ ๑ หน้า\n",
       "ที่ของผู้ให้ข่าว: ที่ กห ๐๓๐๒/๔๒๗๓\n",
       "จาก: กพ.ทหาร\n",
       "ถึง ผู้รับปฏิบัติ: สน.บก.บก.ทท. สลก.บก.ทท. สจร.ทหาร สตน.ทหาร สธน.ทหาร สสก.ทหาร สยย.ทหาร ศปร. ศซบ.ทหาร ขว.ทหาร ยก.ทหาร กบ.ทหาร กร.ทหาร สส.ทหาร สปช.ทหาร นทพ. ศรภ. ศตก. สบ.ทหาร กง.ทหาร ผท.ทหาร ยบ.ทหาร ชด.ทหาร และ สปท.\n",
       "ผู้รับทราบ: สนพ.ยบ.ทหาร วปอ.สปท. วสท.สปท. ศศย.สปท. สจว.สปท. รร.ตท.สปท. รร.ชท.สปท. และ สศท.สปท.\n",
       "\n",
       "๑. กพ.ทหาร กำหนดจัดการประชุมเชิงปฏิบัติการ การวิเคราะห์อัตราของส่วนราชการใน บก.ทท. เพื่อรองรับการบรรจุข้าราชการพลเรือนกลาโหมของ บก.ทท. ระหว่างวันที่ ๒๔-๒๖ ก.ค. ๖๗ ณ สโมสร บก.ทท. โดยมีระเบียบวาระการประชุม ดังนี้\n",
       "    ระเบียบวาระที่ ๑ ประธานกล่าวเปิดการประชุมเชิงปฏิบัติการฯ\n",
       "    ระเบียบวาระที่ ๒ การชี้แจงภาพรวมที่เกี่ยวข้องกับข้าราชการพลเรือนกลาโหมของ บก.ทท.\n",
       "    ระเบียบวาระที่ ๓ เรื่องเสนอเพื่อพิจารณา\n",
       "        - วิเคราะห์อัตราของส่วนราชการใน บก.ทท. สำหรับรองรับการบรรจุข้าราชการพลเรือนกลาโหมฯ\n",
       "        - พิจารณาลักษณะของกลุ่มงาน งาน และตำแหน่งที่สมควรจะบรรจุข้าราชการพลเรือนกลาโหมฯ\n",
       "        - พิจารณาแนวทางการกำหนดอัตราเงินเดือน ค่าตอบแทนข้าราชการพลเรือนกลาโหม\n",
       "    ระเบียบวาระที่ ๔ เรื่องอื่น ๆ\n",
       "    ระเบียบวาระที่ ๕ ประธานกล่าวสรุปและปิดการประชุมเชิงปฏิบัติการฯ\n",
       "๒. เพื่อให้การดำเนินการตามข้อ ๑ เป็นไปด้วยความเรียบร้อย ขอให้ส่วนราชการจัดผู้แทนเข้าร่วมการประชุมเชิงปฏิบัติการฯ ดังนี้\n",
       "    ๒.๑ หน.สายวิทยาการ และนายทหารกำลังพลของหน่วย\n",
       "    ๒.๒ สายวิทยาการที่มีแผนในการปรับเปลี่ยนเป็นข้าราชการพลเรือนกลาโหม (สายวิทยาการตรวจสอบภายใน สายวิทยาการการเงิน และสายวิทยาการแพทย์)\n",
       "๓. ขอให้ส่งรายชื่อผู้เข้าร่วมประชุมเชิงปฏิบัติการฯ ให้ กพ.ทหาร ผ่านช่องทาง Kanyarat.y@rtarf.mi.th หรือโทรสาร ๐ ๒๕๗๕ ๖๐๑๕ ภายในวันศุกร์ที่ ๑๙ ก.ค. ๖๗ ทั้งนี้ สามารถดาวน์โหลดแบบตอบรับ และกำหนดการประชุมเชิงปฏิบัติการฯ ตาม QR Code ด้านล่าง รายละเอียดเพิ่มเติมประสาน ร.ท. ภูภวะ สำเร็จผล ร.น. ประจำแผนกนโยบายและแผน กนผ.สนผพ.กพ.ทหาร โทรศัพท์เคลื่อนที่ ๐๘ ๙๑๖๔ ๒๐๒๕ โทร.ทหาร ๕๗๒๑๑๑๘\n",
       "\n",
       "ผู้เขียนข่าว: น.อ. (ฐิติพันธ์ บุตรดีสุวรรณ) ผอ.กนผ.สนผพ.กพ.ทหาร\n",
       "นายทหารอนุมัติข่าว: พล.ต. (สัมพันธ์ รงศ์จำเริญ) รอง จก.กพ.ทหาร ทำการแทน จก.กพ.ทหาร</div>\n",
       "        </details>\n",
       "        "
      ],
      "text/plain": [
       "<IPython.core.display.HTML object>"
      ]
     },
     "metadata": {},
     "output_type": "display_data"
    },
    {
     "data": {
      "text/markdown": [
       "---"
      ],
      "text/plain": [
       "<IPython.core.display.Markdown object>"
      ]
     },
     "metadata": {},
     "output_type": "display_data"
    },
    {
     "data": {
      "text/markdown": [
       "#### 📄 **ไฟล์:** `021-2.pdf`"
      ],
      "text/plain": [
       "<IPython.core.display.Markdown object>"
      ]
     },
     "metadata": {},
     "output_type": "display_data"
    },
    {
     "data": {
      "text/html": [
       "\n",
       "        <details>\n",
       "            <summary>คลิกเพื่อดูผลลัพธ์ OCR (Processed Text)</summary>\n",
       "            <div style=\"background-color:#f7f7f7; border:1px solid #ddd; padding:10px; margin-top:10px; white-space: pre-wrap; word-wrap: break-word;\"> กระดาษเขียนข่าวร่วม (ทท.)\n",
       "\n",
       " ลำดับความเร่งด่วนด่วนมาก\n",
       "\n",
       " ชั้นความลับ\n",
       "\n",
       " มู่วันเวลา๐๕๑๔ ก.ค. ๖๗\n",
       "\n",
       " หน้าที่ ๑ ของ ๑ หน้าที่ของผู้ให้ข่าวที่ ๓/๒๕๖๗\n",
       "\n",
       " จากคณะกรรมการจัดการความรู้ของ บก.ทท.\n",
       "\n",
       " ถึง ผู้รับปฏิบัติสพ.บก.บก.ท., สสก.บก.ท., สจร.ทหาร, สตน.ทหาร, สสก.ทหาร, สยย.ทหาร,ศปร., ศชป.ทหาร, สธน.ทหาร, ขว.ทหาร, ยก.ทหาร, กบ.ทหาร, กร.ทหาร, สส.ทหาร,สปช.ทหาร, นทพ., ครภ., ศตก., สบ.ทหาร, กง.ทหาร, ผท.ทหาร, ยบ.ทหาร,ชด.ทหาร, บก.สปท., วปอ.สปท., วสท.สปท., สจว.สปท., ศศย.สปท., สศท.สปท.,รร.ตท.สปท. และ รร.ชท.สปท.\n",
       "\n",
       " ผู้รับทราบ\n",
       "\n",
       " ข้อความสำคัญอ้างถึง ข่าว (ทท.) คณะกรรมการจัดการความรู้ของ บก.ทท. ที่ ๖/๒๕๖๗ ลง ๑๙ มิ.ย. ๖๗ตามข้อ ๑ กพ.ทหาร/ฝ่ายเลขานุการคณะกรรมการจัดการความรู้ของ บก.ทท. ขอให้หน่วยส่งผลงานการจัดการความรู้ฉบับสมบูรณ์ พร้อมทั้งรูปแบบไฟล์ PDF และสื่อประกอบการบรรยายและอธิบายรายละเอียดกระบวนการจัดการความรู้ ๗ ขั้นตอน สำหรับการประเมินผลการจัดการความรู้ฯ๓. กพ.ทหาร/ฝ่ายเลขานุการฯ กำหนดจัดการประชุมเชิงปฏิบัติการ การนำเสนอและคัดเลือกผลงานการจัดการความรู้ของส่วนราชการ บก.ทท. ประจำปีงบประมาณ พ.ศ. ๒๕๖๗ (รอบแรก)เพื่อรับการประเมินผลการจัดการความรู้ฯ ระหว่าง ๑๖-๑๙ ก.ค. ๖๗ ณ ห้องประชุม ๓ ขว.ทหาร ชั้น ๒ อาคาร ๓บก.ทท. (แจ้งวัฒนะ) กำหนดการตามแนบ ในกรณีนี้ ขอให้หน่วยกรุณาจัดผู้รับผิดชอบด้านการจัดการความรู้ของหน่วย เข้าร่วมการประชุมเชิงปฏิบัติการฯ โดยขอให้แจ้งรายชื่อผู้เข้าร่วมประชุมฯ ทาง QR Code ด้านล่างภายในวันที่ ๑๒ ก.ค. ๖๗ รายละเอียดเพิ่มเติมประสานได้ที่ ร.ต. คมสันต์ จุลบรมย์ ประจำแผนกแผนและโครงการ กพพ.กพ.ทหาร โทร. ๕๗๒๑๑๓๗ โทรศัพท์เคลื่อนที่ ๐๙ ๗๑๔๐ ๖๖๑๕\n",
       "\n",
       " QR Code/Email\n",
       "\n",
       " หน่วยกพ.ทหาร\n",
       "\n",
       " โทรศัพท์โทร.ทหาร ๕๗๒๑๑๓๘\n",
       "\n",
       " ผู้เขียนข่าวน.อ. วิทยาธีระรัตน์ผอ.กพพ.กพ.ทหาร/เลขานุการฯ\n",
       "\n",
       " นายทหารอนุมัติข่าวพล.ต. (สัมพันธ์ รงค์เจริญ)รอง จก.กพ.ทหาร ทำการแทน</div>\n",
       "        </details>\n",
       "        "
      ],
      "text/plain": [
       "<IPython.core.display.HTML object>"
      ]
     },
     "metadata": {},
     "output_type": "display_data"
    },
    {
     "data": {
      "text/html": [
       "\n",
       "        <details>\n",
       "            <summary>คลิกเพื่อดู Ground Truth Text</summary>\n",
       "            <div style=\"background-color:#e6ffed; border:1px solid #b7e1cd; padding:10px; margin-top:5px; white-space: pre-wrap; word-wrap: break-word;\">กระดาษเขียนข่าวร่วม (ทท.)\n",
       "\n",
       "ลำดับความเร่งด่วน: ด่วนมาก\n",
       "ชั้นความลับ: -\n",
       "หมู่ - วัน - เวลา: ๐๕๑๕๕๐ ก.ค. ๖๗\n",
       "หน้าที่: ๑ ของ ๑ หน้า\n",
       "ที่ของผู้ให้ข่าว: ที่ ๗/๒๕๖๗\n",
       "จาก: คณะกรรมการจัดการความรู้ของ บก.ทท.\n",
       "ถึง ผู้รับปฏิบัติ: สน.บก.บก.ทท., สลก.บก.ทท., สจร.ทหาร, สตน.ทหาร, สสก.ทหาร, สยย.ทหาร, ศปร., ศซบ.ทหาร, สธน.ทหาร, ขว.ทหาร, ยก.ทหาร, กบ.ทหาร, กร.ทหาร, สส.ทหาร, สปช.ทหาร, นทพ., ศรภ., ศตก., สบ.ทหาร, กง.ทหาร, ผท.ทหาร, ยบ.ทหาร, ชด.ทหาร, บก.สปท., วปอ.สปท., วสท.สปท., สจว.สปท., ศศย.สปท., สศท.สปท., รร.ตท.สปท. และ รร.ชท.สปท.\n",
       "ผู้รับทราบ: -\n",
       "\n",
       "๑. อ้างถึง ข่าว (ทท.) คณะกรรมการจัดการความรู้ของ บก.ทท. ที่ ๖/๒๕๖๗ ลง ๑๙ มิ.ย. ๖๗\n",
       "๒. ตามข้อ ๑ กพ.ทหาร/ฝ่ายเลขานุการคณะกรรมการจัดการความรู้ของ บก.ทท. ขอให้หน่วยส่งผลงานการจัดการความรู้ฉบับสมบูรณ์ พร้อมทั้งรูปแบบไฟล์ PDF และสื่อประกอบการบรรยายและอธิบายรายละเอียดกระบวนการจัดการความรู้ ๗ ขั้นตอน สำหรับการประเมิลผลการจัดการความรู้ฯ\n",
       "๓. กพ.ทหาร/ฝ่ายเลขานุการฯ กำหนดจัดการประชุมเชิงปฏิบัติการ การนำเสนอและคัดเลือกผลงานการจัดการความรู้ของส่วนราชการ บก.ทท. ประจำปีงบประมาณ พ.ศ. ๒๕๖๗ (รอบแรก) เพื่อรับการประเมินผลการจัดการความรู้ฯ ระหว่าง ๑๖-๑๙ ก.ค. ๖๗ ณ ห้องประชุม ๓ ขว.ทหาร ชั้น ๒ อาคาร ๓ บก.ทท. (แจ้งวัฒนะ) กำหนดการตามแนบ ในการนี้ ขอให้หน่วยกรุณาจัดผู้รับผิดชอบด้านการจัดการความรู้ของหน่วย เข้าร่วมการประชุมเชิงปฏิบัติการฯ โดยขอให้แจ้งรายชื่อผู้เข้าร่วมประชุมฯ ทาง QR Code ด้านล่าง ภายในวันที่ ๑๒ ก.ค. ๖๗ รายละเอียดเพิ่มเติมประสานได้ที่ ร.ต. คมสันต์ จุลบุรมย์ ประจำแผนกแผนและโครงการ กพพ.กพ.ทหาร โทร.ทหาร ๕๗๒๑๑๓๗ โทรศัพท์เคลื่อนที่ ๐๙ ๗๑๔๐ ๖๖๑๕\n",
       "\n",
       "ผู้เขียนข่าว: น.อ. (ณัฐพงศ์ วิทยาธีรรัตน์) ผอ.กพพ.กพ.ทหาร/เลขานุการฯ\n",
       "นายทหารอนุมัติข่าว: พล.ต. (สัมพันธ์ รงศ์จำเริญ) รอง จก.กพ.ทหาร ทำการแทน จก.กพ.ทหาร</div>\n",
       "        </details>\n",
       "        "
      ],
      "text/plain": [
       "<IPython.core.display.HTML object>"
      ]
     },
     "metadata": {},
     "output_type": "display_data"
    }
   ],
   "source": [
    "# Focus on Processed OCR-Public Board\n",
    "\n",
    "pdf_files = sorted(list(PDF_BOARD_DIR.glob(\"*.pdf\")))\n",
    "\n",
    "if not pdf_files:\n",
    "    display(Markdown(f\"<font color='red'>**ไม่พบไฟล์ PDF ในโฟลเดอร์ `{PDF_BOARD_DIR}` กรุณาตรวจสอบว่า Path ถูกต้อง**</font>\"))\n",
    "else:\n",
    "    display(Markdown(f\"### 🚀 เริ่มการทดสอบระบบ OCR กับไฟล์ทั้งหมด {len(pdf_files)} ไฟล์\"))\n",
    "    \n",
    "    results_list = []\n",
    "    \n",
    "    for pdf_path in tqdm(pdf_files, desc=\"กำลังประมวลผลไฟล์\"):\n",
    "\n",
    "        # run OCR\n",
    "        ocr_result, exec_time = run_typhoon_ocr(pdf_path)\n",
    "        raw_ocr_text = ocr_result.get(\"text\", \"\")\n",
    "        \n",
    "        # do Post-processing\n",
    "        processed_ocr_text = post_process_ocr(raw_ocr_text)\n",
    "        \n",
    "        # load Ground truth\n",
    "        pdf_stem = pdf_path.stem\n",
    "        gt_path = GROUND_TRUTH_DIR / f\"{pdf_stem}.txt\"\n",
    "        \n",
    "        ground_truth_text = \"\"\n",
    "        if gt_path.is_file(): \n",
    "            print(f\"   - ✅ พบไฟล์ Ground Truth!\")\n",
    "            try:\n",
    "                try:\n",
    "                    ground_truth_text = gt_path.read_text(encoding=\"utf-8\").strip()\n",
    "                except UnicodeDecodeError:\n",
    "                    print(\"     - WARNING: ไม่สามารถอ่านแบบ utf-8 ได้ ลองอ่านแบบ TIS-620\")\n",
    "                    ground_truth_text = gt_path.read_text(encoding=\"tis-620\").strip()\n",
    "\n",
    "                if ground_truth_text:\n",
    "                    print(f\"     - SUCCESS: อ่านเนื้อหาสำเร็จ มี {len(ground_truth_text)} ตัวอักษร\")\n",
    "                else:\n",
    "                    print(f\"     - WARNING: อ่านไฟล์สำเร็จ แต่ไฟล์ว่างเปล่า!\")\n",
    "            except Exception as e:\n",
    "                print(f\"     - ❌ ERROR: เกิดข้อผิดพลาดในการอ่านไฟล์: {e}\")\n",
    "        else:\n",
    "            print(f\"   - ❌ ไม่พบไฟล์ Ground Truth หรือไม่ใช่ไฟล์ปกติ (อาจเป็นโฟลเดอร์?)\")\n",
    "        \n",
    "        # Metrics calculation\n",
    "        metrics_before = calculate_metrics(raw_ocr_text, ground_truth_text)\n",
    "        metrics_after = calculate_metrics(processed_ocr_text, ground_truth_text)\n",
    "        \n",
    "        results_list.append({\n",
    "            \"File\": pdf_path.name,\n",
    "            \"Time (s)\": exec_time,\n",
    "            \"WER (Before)\": metrics_before['wer'],\n",
    "            \"CER (Before)\": metrics_before['cer'],\n",
    "            \"WER (After)\": metrics_after['wer'],\n",
    "            \"CER (After)\": metrics_after['cer'],\n",
    "            \"Raw OCR Text\": raw_ocr_text,\n",
    "            \"Processed OCR Text\": processed_ocr_text,\n",
    "            \"Ground Truth Text\": ground_truth_text\n",
    "        })\n",
    "        \n",
    "    df_results = pd.DataFrame(results_list)\n",
    "    display(Markdown(f\"<hr>\"))\n",
    "    display(Markdown(f\"### 📊 ตารางสรุปผลการทดสอบ\"))\n",
    "    df_results[\"WAcc (After)\"] = 1 - df_results[\"WER (After)\"].fillna(0)\n",
    "    df_results[\"CAcc (After)\"] = 1 - df_results[\"CER (After)\"].fillna(0)\n",
    "\n",
    "    display_cols = [\n",
    "        \"File\", \"Time (s)\", \n",
    "        \"CER (After)\", \"WER (After)\", \n",
    "        \"CAcc (After)\", \"WAcc (After)\"\n",
    "    ]\n",
    "\n",
    "    has_numeric_metrics = pd.to_numeric(df_results[\"CER (After)\"], errors='coerce').notna().any()\n",
    "\n",
    "    # Format Data \n",
    "    styler = df_results[display_cols].style.format({\n",
    "        \"Time (s)\": \"{:.2f}\",\n",
    "        \"CER (After)\": safe_percent_format,\n",
    "        \"WER (After)\": safe_percent_format,\n",
    "        \"CAcc (After)\": safe_percent_format, \n",
    "        \"WAcc (After)\": safe_percent_format, \n",
    "    }).background_gradient(\n",
    "        cmap='RdYlGn_r', \n",
    "        subset=[\"CER (After)\", \"WER (After)\"]\n",
    "    ).background_gradient(\n",
    "        cmap='YlGn', \n",
    "        subset=[\"CAcc (After)\", \"WAcc (After)\"]\n",
    "    ).set_properties(**{'text-align': 'left'}).set_table_styles(\n",
    "        [dict(selector='th', props=[('text-align', 'left')])]\n",
    "    )\n",
    "\n",
    "    display(styler)\n",
    "    display(Markdown(f\"### 📈 ค่าเฉลี่ยรวม\"))\n",
    "\n",
    "    avg_metrics = df_results[display_cols[1:]].mean() \n",
    "    display(Markdown(f\"- **เวลาประมวลผลเฉลี่ย:** `{avg_metrics['Time (s)']:.2f}` วินาที/ไฟล์\"))\n",
    "\n",
    "    if pd.notna(avg_metrics['CAcc (After)']):\n",
    "        display(Markdown(f\"- **Character Accuracy (CAcc) เฉลี่ย:** `{avg_metrics['CAcc (After)']:.2%}` (ความถูกต้องระดับตัวอักษร)\"))\n",
    "        display(Markdown(f\"- **Word Accuracy (WAcc) เฉลี่ย:** `{avg_metrics['WAcc (After)']:.2%}` (ความถูกต้องระดับคำ)\"))\n",
    "    else:\n",
    "        display(Markdown(f\"- **Accuracy:** `N/A (ไม่มีข้อมูล Ground Truth)`\"))\n",
    "        \n",
    "    # OCR Test Display\n",
    "    display(Markdown(f\"<hr>\"))\n",
    "    display(Markdown(f\"### 📝 ผลลัพธ์ OCR ฉบับเต็ม (เทียบก่อน-หลัง Post-processing)\"))\n",
    "\n",
    "    for index, row in df_results.iterrows():\n",
    "        display(Markdown(f\"---\"))\n",
    "        display(Markdown(f\"#### 📄 **ไฟล์:** `{row['File']}`\"))\n",
    "\n",
    "        # Expander for Raw OCR Text\n",
    "        html_raw = f\"\"\"\n",
    "        <details>\n",
    "            <summary>คลิกเพื่อดูผลลัพธ์ OCR (Processed Text)</summary>\n",
    "            <div style=\"background-color:#f7f7f7; border:1px solid #ddd; padding:10px; margin-top:10px; white-space: pre-wrap; word-wrap: break-word;\">{row['Processed OCR Text']}</div>\n",
    "        </details>\n",
    "        \"\"\"\n",
    "        display(HTML(html_raw))\n",
    "\n",
    "        # Expander for Processed Text\n",
    "        html_processed = f\"\"\"\n",
    "        <details>\n",
    "            <summary>คลิกเพื่อดู Ground Truth Text</summary>\n",
    "            <div style=\"background-color:#e6ffed; border:1px solid #b7e1cd; padding:10px; margin-top:5px; white-space: pre-wrap; word-wrap: break-word;\">{row['Ground Truth Text']}</div>\n",
    "        </details>\n",
    "        \"\"\"\n",
    "        display(HTML(html_processed))"
   ]
  }
 ],
 "metadata": {
  "kernelspec": {
   "display_name": "Python 3 (ipykernel)",
   "language": "python",
   "name": "python3"
  },
  "language_info": {
   "codemirror_mode": {
    "name": "ipython",
    "version": 3
   },
   "file_extension": ".py",
   "mimetype": "text/x-python",
   "name": "python",
   "nbconvert_exporter": "python",
   "pygments_lexer": "ipython3",
   "version": "3.9.23"
  }
 },
 "nbformat": 4,
 "nbformat_minor": 5
}
